{
  "nbformat": 4,
  "nbformat_minor": 0,
  "metadata": {
    "colab": {
      "provenance": [],
      "gpuType": "A100",
      "machine_shape": "hm",
      "authorship_tag": "ABX9TyNuL1GamJXzbUgR7xFbniNv",
      "include_colab_link": true
    },
    "kernelspec": {
      "name": "python3",
      "display_name": "Python 3"
    },
    "language_info": {
      "name": "python"
    },
    "accelerator": "GPU"
  },
  "cells": [
    {
      "cell_type": "markdown",
      "metadata": {
        "id": "view-in-github",
        "colab_type": "text"
      },
      "source": [
        "<a href=\"https://colab.research.google.com/github/REU2024/CyberFusion/blob/main/notebooks/CyberFusion.ipynb\" target=\"_parent\"><img src=\"https://colab.research.google.com/assets/colab-badge.svg\" alt=\"Open In Colab\"/></a>"
      ]
    },
    {
      "cell_type": "markdown",
      "source": [
        "## **Load the three tables (CSV or XLSX)**"
      ],
      "metadata": {
        "id": "0QqQTi01iJtL"
      }
    },
    {
      "cell_type": "code",
      "execution_count": null,
      "metadata": {
        "colab": {
          "base_uri": "https://localhost:8080/"
        },
        "id": "lDG8vBEZbDTV",
        "outputId": "af5b4569-6a92-4efd-8d12-1bdd2a52a855"
      },
      "outputs": [
        {
          "output_type": "stream",
          "name": "stdout",
          "text": [
            "benign cols: ['characteristics', 'compile_time', 'dll_characteristics', 'entry_point', 'error', 'exports', 'file_size', 'filename', 'filepath', 'image_base', 'imports', 'is_pe', 'linker_version', 'machine_type', 'md5']\n",
            "malware cols: ['filename', 'instructions', 'api_calls', 'json']\n",
            "ransom cols: ['filename', 'instructions', 'api_calls', 'json']\n"
          ]
        }
      ],
      "source": [
        "import pandas as pd\n",
        "import os\n",
        "\n",
        "def read_table(path):\n",
        "    ext = os.path.splitext(path)[1].lower()\n",
        "    if ext == \".csv\":\n",
        "        df = pd.read_csv(path)\n",
        "    elif ext in (\".xlsx\", \".xls\"):\n",
        "        # read first sheet\n",
        "        xls = pd.ExcelFile(path)\n",
        "        df = pd.read_excel(path, sheet_name=xls.sheet_names[0])\n",
        "    else:\n",
        "        raise ValueError(f\"Unsupported file type: {ext}\")\n",
        "    # normalize columns: lower + strip spaces\n",
        "    df.columns = [str(c).strip().lower() for c in df.columns]\n",
        "    return df\n",
        "\n",
        "ben_path  = \"/content/benign.xlsx\"      if os.path.exists(\"/content/benign.xlsx\")      else \"/content/benign.csv\"\n",
        "mal_path  = \"/content/malware.xlsx\"     if os.path.exists(\"/content/malware.xlsx\")     else \"/content/malware.csv\"\n",
        "ran_path  = \"/content/ransomware.xlsx\"  if os.path.exists(\"/content/ransomware.xlsx\")  else \"/content/ransomware.csv\"\n",
        "\n",
        "ben = read_table(ben_path)\n",
        "mal = read_table(mal_path)\n",
        "ran = read_table(ran_path)\n",
        "\n",
        "print(\"benign cols:\", list(ben.columns)[:15])\n",
        "print(\"malware cols:\", list(mal.columns)[:15])\n",
        "print(\"ransom cols:\", list(ran.columns)[:15])\n"
      ]
    },
    {
      "cell_type": "markdown",
      "source": [
        "## **3) Standardize columns and add labels**"
      ],
      "metadata": {
        "id": "f_ejV6gYjlj8"
      }
    },
    {
      "cell_type": "code",
      "source": [
        "def pick_first_existing(df, candidates):\n",
        "    for c in candidates:\n",
        "        if c in df.columns:\n",
        "            return c\n",
        "    return None\n",
        "\n",
        "def to_dataset(df, label_name):\n",
        "    # map to static_seq / dynamic_seq\n",
        "    instr_col = pick_first_existing(df, [\"instructions\", \"opcodes\", \"opcode_seq\", \"instr\"])\n",
        "    api_col   = pick_first_existing(df, [\"api_calls\", \"apis\", \"api_seq\"])\n",
        "    fname_col = pick_first_existing(df, [\"filename\", \"file_name\", \"name\"])\n",
        "    # fill missing safely\n",
        "    out = pd.DataFrame({\n",
        "        \"filename\": df[fname_col] if fname_col else [None]*len(df),\n",
        "        \"static_seq\": df[instr_col].astype(str) if instr_col else [\"\" for _ in range(len(df))],\n",
        "        \"dynamic_seq\": df[api_col].astype(str) if api_col else [\"\" for _ in range(len(df))],\n",
        "        \"label\": label_name\n",
        "    })\n",
        "    # has_dynamic flag\n",
        "    out[\"has_dynamic\"] = (out[\"dynamic_seq\"].str.len() > 0).astype(int)\n",
        "    return out\n",
        "\n",
        "ben_ds = to_dataset(ben, \"benign\")\n",
        "mal_ds = to_dataset(mal, \"malware\")\n",
        "ran_ds = to_dataset(ran, \"ransomware\")\n",
        "\n",
        "full = pd.concat([ben_ds, mal_ds, ran_ds], ignore_index=True).sample(frac=1.0, random_state=42).reset_index(drop=True)\n",
        "full.head()\n",
        "full[\"label\"].value_counts()\n",
        "full[\"has_dynamic\"].value_counts()\n"
      ],
      "metadata": {
        "colab": {
          "base_uri": "https://localhost:8080/",
          "height": 178
        },
        "id": "SvmoRZj_jseM",
        "outputId": "f0790c2a-46b9-41a1-b7f4-ce4d68abdcc8"
      },
      "execution_count": null,
      "outputs": [
        {
          "output_type": "execute_result",
          "data": {
            "text/plain": [
              "has_dynamic\n",
              "1    13484\n",
              "0     1930\n",
              "Name: count, dtype: int64"
            ],
            "text/html": [
              "<div>\n",
              "<style scoped>\n",
              "    .dataframe tbody tr th:only-of-type {\n",
              "        vertical-align: middle;\n",
              "    }\n",
              "\n",
              "    .dataframe tbody tr th {\n",
              "        vertical-align: top;\n",
              "    }\n",
              "\n",
              "    .dataframe thead th {\n",
              "        text-align: right;\n",
              "    }\n",
              "</style>\n",
              "<table border=\"1\" class=\"dataframe\">\n",
              "  <thead>\n",
              "    <tr style=\"text-align: right;\">\n",
              "      <th></th>\n",
              "      <th>count</th>\n",
              "    </tr>\n",
              "    <tr>\n",
              "      <th>has_dynamic</th>\n",
              "      <th></th>\n",
              "    </tr>\n",
              "  </thead>\n",
              "  <tbody>\n",
              "    <tr>\n",
              "      <th>1</th>\n",
              "      <td>13484</td>\n",
              "    </tr>\n",
              "    <tr>\n",
              "      <th>0</th>\n",
              "      <td>1930</td>\n",
              "    </tr>\n",
              "  </tbody>\n",
              "</table>\n",
              "</div><br><label><b>dtype:</b> int64</label>"
            ]
          },
          "metadata": {},
          "execution_count": 2
        }
      ]
    },
    {
      "cell_type": "markdown",
      "source": [
        "## **Step 1 (next): Split into train / val / test (stratified by label)**"
      ],
      "metadata": {
        "id": "3c8va-xzknuS"
      }
    },
    {
      "cell_type": "code",
      "source": [
        "from sklearn.model_selection import train_test_split\n",
        "\n",
        "# 70/15/15 split\n",
        "train_df, temp_df = train_test_split(\n",
        "    full, test_size=0.30, random_state=1337, stratify=full[\"label\"]\n",
        ")\n",
        "val_df, test_df = train_test_split(\n",
        "    temp_df, test_size=0.50, random_state=1337, stratify=temp_df[\"label\"]\n",
        ")\n",
        "\n",
        "print(\"Train:\", train_df[\"label\"].value_counts())\n",
        "print(\"Val  :\", val_df[\"label\"].value_counts())\n",
        "print(\"Test :\", test_df[\"label\"].value_counts())\n"
      ],
      "metadata": {
        "colab": {
          "base_uri": "https://localhost:8080/"
        },
        "id": "4mNwSybLkyza",
        "outputId": "c876645d-87d5-457c-fa18-aec346c37b81"
      },
      "execution_count": null,
      "outputs": [
        {
          "output_type": "stream",
          "name": "stdout",
          "text": [
            "Train: label\n",
            "malware       6112\n",
            "ransomware    3326\n",
            "benign        1351\n",
            "Name: count, dtype: int64\n",
            "Val  : label\n",
            "malware       1310\n",
            "ransomware     713\n",
            "benign         289\n",
            "Name: count, dtype: int64\n",
            "Test : label\n",
            "malware       1310\n",
            "ransomware     713\n",
            "benign         290\n",
            "Name: count, dtype: int64\n"
          ]
        }
      ]
    },
    {
      "cell_type": "markdown",
      "source": [
        "## **Step 2 (next): Vectorize static and dynamic sequences**"
      ],
      "metadata": {
        "id": "K0rObEtllF2B"
      }
    },
    {
      "cell_type": "code",
      "source": [
        "from sklearn.feature_extraction.text import TfidfVectorizer\n",
        "\n",
        "# TF-IDF vectorizers (can adjust ngram_range/max_features later)\n",
        "tfidf_static  = TfidfVectorizer(token_pattern=r\"[^,\\s]+\", ngram_range=(1,2), min_df=3, max_features=100_000)\n",
        "tfidf_dynamic = TfidfVectorizer(token_pattern=r\"[^,\\s]+\", ngram_range=(1,2), min_df=3, max_features=100_000)\n",
        "\n",
        "# Fit on training data only\n",
        "X_static_tr  = tfidf_static.fit_transform(train_df[\"static_seq\"])\n",
        "X_dynamic_tr = tfidf_dynamic.fit_transform(train_df[\"dynamic_seq\"])\n",
        "\n",
        "print(\"Static shape:\", X_static_tr.shape)\n",
        "print(\"Dynamic shape:\", X_dynamic_tr.shape)\n"
      ],
      "metadata": {
        "colab": {
          "base_uri": "https://localhost:8080/"
        },
        "id": "9ocBNGQ3lIdx",
        "outputId": "ff4f2e07-c6af-410b-83d8-a9443588f5f9"
      },
      "execution_count": null,
      "outputs": [
        {
          "output_type": "stream",
          "name": "stdout",
          "text": [
            "Static shape: (10789, 7645)\n",
            "Dynamic shape: (10789, 4712)\n"
          ]
        }
      ]
    },
    {
      "cell_type": "markdown",
      "source": [
        "## **Step 3 (next): Transform val/test and fuse static + dynamic**"
      ],
      "metadata": {
        "id": "hJstn7AVmjb3"
      }
    },
    {
      "cell_type": "code",
      "source": [
        "from scipy.sparse import hstack\n",
        "\n",
        "# Transform val/test with the TF-IDF models fitted on train\n",
        "X_static_val  = tfidf_static.transform(val_df[\"static_seq\"])\n",
        "X_dynamic_val = tfidf_dynamic.transform(val_df[\"dynamic_seq\"])\n",
        "\n",
        "X_static_te   = tfidf_static.transform(test_df[\"static_seq\"])\n",
        "X_dynamic_te  = tfidf_dynamic.transform(test_df[\"dynamic_seq\"])\n",
        "\n",
        "# Fuse (concatenate) static and dynamic features\n",
        "X_tr  = hstack([X_static_tr,  X_dynamic_tr],  format=\"csr\")\n",
        "X_val = hstack([X_static_val, X_dynamic_val], format=\"csr\")\n",
        "X_te  = hstack([X_static_te,  X_dynamic_te],  format=\"csr\")\n",
        "\n",
        "X_tr.shape, X_val.shape, X_te.shape\n"
      ],
      "metadata": {
        "colab": {
          "base_uri": "https://localhost:8080/"
        },
        "id": "E192hX0zmosn",
        "outputId": "dd42b859-e2bf-4d2b-cffb-8a8d081b6963"
      },
      "execution_count": null,
      "outputs": [
        {
          "output_type": "execute_result",
          "data": {
            "text/plain": [
              "((10789, 12357), (2312, 12357), (2313, 12357))"
            ]
          },
          "metadata": {},
          "execution_count": 5
        }
      ]
    },
    {
      "cell_type": "markdown",
      "source": [
        "## **Step 4 (next): Train the classifier and check validation performance**"
      ],
      "metadata": {
        "id": "v-klXD9DsCDm"
      }
    },
    {
      "cell_type": "code",
      "source": [
        "from sklearn.linear_model import LogisticRegression\n",
        "from sklearn.metrics import classification_report\n",
        "\n",
        "# Encode labels\n",
        "label_map = {\"benign\": 0, \"malware\": 1, \"ransomware\": 2}\n",
        "y_tr  = train_df[\"label\"].map(label_map).values\n",
        "y_val = val_df[\"label\"].map(label_map).values\n",
        "\n",
        "# Train a strong baseline\n",
        "clf = LogisticRegression(max_iter=2000, n_jobs=-1)\n",
        "clf.fit(X_tr, y_tr)\n",
        "\n",
        "# Validate\n",
        "val_pred = clf.predict(X_val)\n",
        "print(classification_report(y_val, val_pred, target_names=label_map.keys()))\n"
      ],
      "metadata": {
        "colab": {
          "base_uri": "https://localhost:8080/"
        },
        "id": "8uN3RVQ5sOId",
        "outputId": "569f8a44-e103-4b14-8b9e-63631d18425f"
      },
      "execution_count": null,
      "outputs": [
        {
          "output_type": "stream",
          "name": "stdout",
          "text": [
            "              precision    recall  f1-score   support\n",
            "\n",
            "      benign       0.99      1.00      0.99       289\n",
            "     malware       0.89      1.00      0.94      1310\n",
            "  ransomware       0.99      0.76      0.86       713\n",
            "\n",
            "    accuracy                           0.92      2312\n",
            "   macro avg       0.96      0.92      0.93      2312\n",
            "weighted avg       0.93      0.92      0.92      2312\n",
            "\n"
          ]
        }
      ]
    },
    {
      "cell_type": "markdown",
      "source": [
        "## **Step 5 (next): Evaluate on the held-out test set**"
      ],
      "metadata": {
        "id": "uXujZllbsf60"
      }
    },
    {
      "cell_type": "code",
      "source": [
        "from sklearn.metrics import confusion_matrix, ConfusionMatrixDisplay\n",
        "\n",
        "# Encode test labels\n",
        "y_te = test_df[\"label\"].map(label_map).values\n",
        "\n",
        "# Predict on test set\n",
        "test_pred = clf.predict(X_te)\n",
        "\n",
        "# Print classification report\n",
        "print(classification_report(y_te, test_pred, target_names=label_map.keys()))\n",
        "\n",
        "# Show confusion matrix\n",
        "cm = confusion_matrix(y_te, test_pred)\n",
        "disp = ConfusionMatrixDisplay(confusion_matrix=cm, display_labels=label_map.keys())\n",
        "disp.plot(cmap=\"Blues\", xticks_rotation=45)\n"
      ],
      "metadata": {
        "colab": {
          "base_uri": "https://localhost:8080/",
          "height": 697
        },
        "id": "OfU6ZuXssi0k",
        "outputId": "222bcbfc-e508-4feb-d7de-0c374daed979"
      },
      "execution_count": null,
      "outputs": [
        {
          "output_type": "stream",
          "name": "stdout",
          "text": [
            "              precision    recall  f1-score   support\n",
            "\n",
            "      benign       0.97      1.00      0.99       290\n",
            "     malware       0.89      0.99      0.94      1310\n",
            "  ransomware       1.00      0.76      0.87       713\n",
            "\n",
            "    accuracy                           0.92      2313\n",
            "   macro avg       0.95      0.92      0.93      2313\n",
            "weighted avg       0.93      0.92      0.92      2313\n",
            "\n"
          ]
        },
        {
          "output_type": "execute_result",
          "data": {
            "text/plain": [
              "<sklearn.metrics._plot.confusion_matrix.ConfusionMatrixDisplay at 0x7a65c6658470>"
            ]
          },
          "metadata": {},
          "execution_count": 7
        },
        {
          "output_type": "display_data",
          "data": {
            "text/plain": [
              "<Figure size 640x480 with 2 Axes>"
            ],
            "image/png": "[encoded data removed]"
          },
          "metadata": {}
        }
      ]
    },
    {
      "cell_type": "markdown",
      "source": [
        "## **Step 6 (next): Save your model & vectorizers**"
      ],
      "metadata": {
        "id": "RsfAsWp1szGM"
      }
    },
    {
      "cell_type": "code",
      "source": [
        "import joblib\n",
        "\n",
        "# Save model\n",
        "joblib.dump(clf, \"malware_ransomware_model.pkl\")\n",
        "\n",
        "# Save vectorizers\n",
        "joblib.dump(tfidf_static, \"tfidf_static.pkl\")\n",
        "joblib.dump(tfidf_dynamic, \"tfidf_dynamic.pkl\")\n"
      ],
      "metadata": {
        "colab": {
          "base_uri": "https://localhost:8080/"
        },
        "id": "59d71qQps1v7",
        "outputId": "d9b1de5b-2fbc-4ae6-a9a4-cc32b053b171"
      },
      "execution_count": null,
      "outputs": [
        {
          "output_type": "execute_result",
          "data": {
            "text/plain": [
              "['tfidf_dynamic.pkl']"
            ]
          },
          "metadata": {},
          "execution_count": 8
        }
      ]
    },
    {
      "cell_type": "code",
      "source": [
        "clf = joblib.load(\"malware_ransomware_model.pkl\")\n",
        "tfidf_static = joblib.load(\"tfidf_static.pkl\")\n",
        "tfidf_dynamic = joblib.load(\"tfidf_dynamic.pkl\")\n"
      ],
      "metadata": {
        "id": "lfoF9yDxs78U"
      },
      "execution_count": null,
      "outputs": []
    },
    {
      "cell_type": "markdown",
      "source": [
        "## **Step 7 (next): Try a stronger model**"
      ],
      "metadata": {
        "id": "IEEcpSP_t1OS"
      }
    },
    {
      "cell_type": "code",
      "source": [
        "from sklearn.ensemble import RandomForestClassifier\n",
        "from sklearn.metrics import classification_report\n",
        "\n",
        "# Train Random Forest\n",
        "rf_clf = RandomForestClassifier(\n",
        "    n_estimators=300,\n",
        "    max_depth=None,\n",
        "    class_weight=\"balanced\",\n",
        "    n_jobs=-1,\n",
        "    random_state=42\n",
        ")\n",
        "rf_clf.fit(X_tr, y_tr)\n",
        "\n",
        "# Validate\n",
        "rf_val_pred = rf_clf.predict(X_val)\n",
        "print(classification_report(y_val, rf_val_pred, target_names=label_map.keys()))\n"
      ],
      "metadata": {
        "colab": {
          "base_uri": "https://localhost:8080/"
        },
        "id": "xkBkSe_kt3bq",
        "outputId": "c3874e4d-e90b-4de8-e748-4a9d30b099b1"
      },
      "execution_count": null,
      "outputs": [
        {
          "output_type": "stream",
          "name": "stdout",
          "text": [
            "              precision    recall  f1-score   support\n",
            "\n",
            "      benign       1.00      1.00      1.00       289\n",
            "     malware       1.00      0.79      0.88      1310\n",
            "  ransomware       0.72      1.00      0.84       713\n",
            "\n",
            "    accuracy                           0.88      2312\n",
            "   macro avg       0.91      0.93      0.91      2312\n",
            "weighted avg       0.91      0.88      0.88      2312\n",
            "\n"
          ]
        }
      ]
    },
    {
      "cell_type": "markdown",
      "source": [
        "## **Step DL-1 (next): Tokenize sequences for a neural net**"
      ],
      "metadata": {
        "id": "iWMGjpzCuFXj"
      }
    },
    {
      "cell_type": "code",
      "source": [
        "# STEP DL-1: build tokenizers and convert to integer sequences\n",
        "import numpy as np\n",
        "from tensorflow.keras.preprocessing.text import Tokenizer\n",
        "from tensorflow.keras.preprocessing.sequence import pad_sequences\n",
        "\n",
        "# ----- hyperparams you can tweak later -----\n",
        "MAX_STATIC_TOKENS  = 4000   # vocab size for opcodes/instructions\n",
        "MAX_DYNAMIC_TOKENS = 4000   # vocab size for API names\n",
        "MAXLEN_STATIC      = 2000   # max opcode tokens per sample\n",
        "MAXLEN_DYNAMIC     = 800    # max API tokens per sample\n",
        "# ------------------------------------------\n",
        "\n",
        "# use whitespace/comma split; we already TF-IDF'd with token_pattern r\"[^,\\s]+\"\n",
        "def corpus(col):\n",
        "    return col.astype(str).tolist()\n",
        "\n",
        "# add a placeholder for \"no dynamic\"\n",
        "NO_API_TOKEN = \"<NO_API>\"\n",
        "train_dyn = train_df[\"dynamic_seq\"].replace({\"\": NO_API_TOKEN})\n",
        "val_dyn   = val_df[\"dynamic_seq\"].replace({\"\": NO_API_TOKEN})\n",
        "test_dyn  = test_df[\"dynamic_seq\"].replace({\"\": NO_API_TOKEN})\n",
        "\n",
        "# --- static tokenizer (opcodes) ---\n",
        "tok_static = Tokenizer(num_words=MAX_STATIC_TOKENS, filters=\"\", lower=False, split=\" \")\n",
        "tok_static.fit_on_texts(corpus(train_df[\"static_seq\"]))\n",
        "\n",
        "Xst_tr = tok_static.texts_to_sequences(train_df[\"static_seq\"])\n",
        "Xst_val= tok_static.texts_to_sequences(val_df[\"static_seq\"])\n",
        "Xst_te = tok_static.texts_to_sequences(test_df[\"static_seq\"])\n",
        "\n",
        "Xst_tr = pad_sequences(Xst_tr, maxlen=MAXLEN_STATIC, truncating=\"post\")\n",
        "Xst_val= pad_sequences(Xst_val, maxlen=MAXLEN_STATIC, truncating=\"post\")\n",
        "Xst_te = pad_sequences(Xst_te, maxlen=MAXLEN_STATIC, truncating=\"post\")\n",
        "\n",
        "# --- dynamic tokenizer (APIs) ---\n",
        "tok_dyn = Tokenizer(num_words=MAX_DYNAMIC_TOKENS, filters=\"\", lower=False, split=\" \")\n",
        "tok_dyn.fit_on_texts(corpus(train_dyn))\n",
        "\n",
        "Xdy_tr = tok_dyn.texts_to_sequences(train_dyn)\n",
        "Xdy_val= tok_dyn.texts_to_sequences(val_dyn)\n",
        "Xdy_te = tok_dyn.texts_to_sequences(test_dyn)\n",
        "\n",
        "Xdy_tr = pad_sequences(Xdy_tr, maxlen=MAXLEN_DYNAMIC, truncating=\"post\")\n",
        "Xdy_val= pad_sequences(Xdy_val, maxlen=MAXLEN_DYNAMIC, truncating=\"post\")\n",
        "Xdy_te = pad_sequences(Xdy_te, maxlen=MAXLEN_DYNAMIC, truncating=\"post\")\n",
        "\n",
        "print(\"Static seq shapes:\", Xst_tr.shape, Xst_val.shape, Xst_te.shape)\n",
        "print(\"Dynamic seq shapes:\", Xdy_tr.shape, Xdy_val.shape, Xdy_te.shape)\n",
        "\n",
        "# y labels for Keras (same mapping)\n",
        "import numpy as np\n",
        "label_map = {\"benign\":0,\"malware\":1,\"ransomware\":2}\n",
        "y_tr  = train_df[\"label\"].map(label_map).values\n",
        "y_val = val_df[\"label\"].map(label_map).values\n",
        "y_te  = test_df[\"label\"].map(label_map).values\n"
      ],
      "metadata": {
        "colab": {
          "base_uri": "https://localhost:8080/"
        },
        "id": "81YAnGatuLc5",
        "outputId": "150c2ca4-ee4d-4b74-c398-1b2fb4bbd919"
      },
      "execution_count": null,
      "outputs": [
        {
          "output_type": "stream",
          "name": "stdout",
          "text": [
            "Static seq shapes: (10789, 2000) (2312, 2000) (2313, 2000)\n",
            "Dynamic seq shapes: (10789, 800) (2312, 800) (2313, 800)\n"
          ]
        }
      ]
    },
    {
      "cell_type": "markdown",
      "source": [
        "## **Step DL-2 (next): Build the hybrid neural network (encoders + gated fusion + modality-dropout)**"
      ],
      "metadata": {
        "id": "Rsrfo5lVvHeX"
      }
    },
    {
      "cell_type": "code",
      "source": [
        "import tensorflow as tf\n",
        "from tensorflow.keras import layers\n",
        "\n",
        "# --- gated fusion (safe Keras version) ---\n",
        "gate_in = layers.Concatenate()([st, dy, hasdyn_in])\n",
        "g = layers.Dense(64, activation=\"relu\")(gate_in)\n",
        "g = layers.Dense(1, activation=\"sigmoid\", name=\"gate\")(g)   # in [0,1]\n",
        "\n",
        "# ones_like as a Keras layer (avoids KerasTensor -> TF op error)\n",
        "one = layers.Lambda(lambda x: tf.ones_like(x), name=\"ones_like\")(g)\n",
        "one_minus_g = layers.Subtract(name=\"one_minus_g\")([one, g])\n",
        "\n",
        "h_dyn = layers.Multiply(name=\"scale_dyn\")([g, dy])\n",
        "h_st  = layers.Multiply(name=\"scale_static\")([one_minus_g, st])\n",
        "h = layers.Add(name=\"fused\")([h_dyn, h_st])\n",
        "\n",
        "# classifier head (redefine these layers after fusion)\n",
        "h = layers.Dense(128, activation=\"relu\")(h)\n",
        "h = layers.Dropout(0.3)(h)\n",
        "out = layers.Dense(3, activation=\"softmax\", name=\"pred\")(h)\n",
        "\n",
        "model = tf.keras.Model(inputs=[static_in, dynamic_in, hasdyn_in], outputs=out)\n",
        "model.compile(optimizer=tf.keras.optimizers.Adam(1e-3),\n",
        "              loss=\"sparse_categorical_crossentropy\",\n",
        "              metrics=[\"accuracy\"])\n",
        "\n",
        "model.summary()\n"
      ],
      "metadata": {
        "colab": {
          "base_uri": "https://localhost:8080/",
          "height": 1000
        },
        "id": "dABofAbxvYG_",
        "outputId": "40dbfb7a-205c-4315-e47d-213a9b2d8f79"
      },
      "execution_count": null,
      "outputs": [
        {
          "output_type": "display_data",
          "data": {
            "text/plain": [
              "\u001b[1mModel: \"functional\"\u001b[0m\n"
            ],
            "text/html": [
              "<pre style=\"white-space:pre;overflow-x:auto;line-height:normal;font-family:Menlo,'DejaVu Sans Mono',consolas,'Courier New',monospace\"><span style=\"font-weight: bold\">Model: \"functional\"</span>\n",
              "</pre>\n"
            ]
          },
          "metadata": {}
        },
        {
          "output_type": "display_data",
          "data": {
            "text/plain": [
              "┏━━━━━━━━━━━━━━━━━━━━━┳━━━━━━━━━━━━━━━━━━━┳━━━━━━━━━━━━┳━━━━━━━━━━━━━━━━━━━┓\n",
              "┃\u001b[1m \u001b[0m\u001b[1mLayer (type)       \u001b[0m\u001b[1m \u001b[0m┃\u001b[1m \u001b[0m\u001b[1mOutput Shape     \u001b[0m\u001b[1m \u001b[0m┃\u001b[1m \u001b[0m\u001b[1m   Param #\u001b[0m\u001b[1m \u001b[0m┃\u001b[1m \u001b[0m\u001b[1mConnected to     \u001b[0m\u001b[1m \u001b[0m┃\n",
              "┡━━━━━━━━━━━━━━━━━━━━━╇━━━━━━━━━━━━━━━━━━━╇━━━━━━━━━━━━╇━━━━━━━━━━━━━━━━━━━┩\n",
              "│ dynamic_in          │ (\u001b[38;5;45mNone\u001b[0m, \u001b[38;5;34m800\u001b[0m)       │          \u001b[38;5;34m0\u001b[0m │ -                 │\n",
              "│ (\u001b[38;5;33mInputLayer\u001b[0m)        │                   │            │                   │\n",
              "├─────────────────────┼───────────────────┼────────────┼───────────────────┤\n",
              "│ emb_dynamic         │ (\u001b[38;5;45mNone\u001b[0m, \u001b[38;5;34m800\u001b[0m, \u001b[38;5;34m64\u001b[0m)   │     \u001b[38;5;34m19,136\u001b[0m │ dynamic_in[\u001b[38;5;34m0\u001b[0m][\u001b[38;5;34m0\u001b[0m]  │\n",
              "│ (\u001b[38;5;33mEmbedding\u001b[0m)         │                   │            │                   │\n",
              "├─────────────────────┼───────────────────┼────────────┼───────────────────┤\n",
              "│ not_equal_1         │ (\u001b[38;5;45mNone\u001b[0m, \u001b[38;5;34m800\u001b[0m)       │          \u001b[38;5;34m0\u001b[0m │ dynamic_in[\u001b[38;5;34m0\u001b[0m][\u001b[38;5;34m0\u001b[0m]  │\n",
              "│ (\u001b[38;5;33mNotEqual\u001b[0m)          │                   │            │                   │\n",
              "├─────────────────────┼───────────────────┼────────────┼───────────────────┤\n",
              "│ static_in           │ (\u001b[38;5;45mNone\u001b[0m, \u001b[38;5;34m2000\u001b[0m)      │          \u001b[38;5;34m0\u001b[0m │ -                 │\n",
              "│ (\u001b[38;5;33mInputLayer\u001b[0m)        │                   │            │                   │\n",
              "├─────────────────────┼───────────────────┼────────────┼───────────────────┤\n",
              "│ bidirectional       │ (\u001b[38;5;45mNone\u001b[0m, \u001b[38;5;34m800\u001b[0m, \u001b[38;5;34m128\u001b[0m)  │     \u001b[38;5;34m66,048\u001b[0m │ emb_dynamic[\u001b[38;5;34m0\u001b[0m][\u001b[38;5;34m0\u001b[0m… │\n",
              "│ (\u001b[38;5;33mBidirectional\u001b[0m)     │                   │            │ not_equal_1[\u001b[38;5;34m0\u001b[0m][\u001b[38;5;34m0\u001b[0m] │\n",
              "├─────────────────────┼───────────────────┼────────────┼───────────────────┤\n",
              "│ emb_static          │ (\u001b[38;5;45mNone\u001b[0m, \u001b[38;5;34m2000\u001b[0m, \u001b[38;5;34m64\u001b[0m)  │    \u001b[38;5;34m256,000\u001b[0m │ static_in[\u001b[38;5;34m0\u001b[0m][\u001b[38;5;34m0\u001b[0m]   │\n",
              "│ (\u001b[38;5;33mEmbedding\u001b[0m)         │                   │            │                   │\n",
              "├─────────────────────┼───────────────────┼────────────┼───────────────────┤\n",
              "│ global_max_pooling… │ (\u001b[38;5;45mNone\u001b[0m, \u001b[38;5;34m128\u001b[0m)       │          \u001b[38;5;34m0\u001b[0m │ bidirectional[\u001b[38;5;34m0\u001b[0m]… │\n",
              "│ (\u001b[38;5;33mGlobalMaxPooling1…\u001b[0m │                   │            │                   │\n",
              "├─────────────────────┼───────────────────┼────────────┼───────────────────┤\n",
              "│ conv1d (\u001b[38;5;33mConv1D\u001b[0m)     │ (\u001b[38;5;45mNone\u001b[0m, \u001b[38;5;34m2000\u001b[0m, \u001b[38;5;34m128\u001b[0m) │     \u001b[38;5;34m41,088\u001b[0m │ emb_static[\u001b[38;5;34m0\u001b[0m][\u001b[38;5;34m0\u001b[0m]  │\n",
              "├─────────────────────┼───────────────────┼────────────┼───────────────────┤\n",
              "│ dense_1 (\u001b[38;5;33mDense\u001b[0m)     │ (\u001b[38;5;45mNone\u001b[0m, \u001b[38;5;34m128\u001b[0m)       │     \u001b[38;5;34m16,512\u001b[0m │ global_max_pooli… │\n",
              "├─────────────────────┼───────────────────┼────────────┼───────────────────┤\n",
              "│ global_max_pooling… │ (\u001b[38;5;45mNone\u001b[0m, \u001b[38;5;34m128\u001b[0m)       │          \u001b[38;5;34m0\u001b[0m │ conv1d[\u001b[38;5;34m0\u001b[0m][\u001b[38;5;34m0\u001b[0m]      │\n",
              "│ (\u001b[38;5;33mGlobalMaxPooling1…\u001b[0m │                   │            │                   │\n",
              "├─────────────────────┼───────────────────┼────────────┼───────────────────┤\n",
              "│ dropout (\u001b[38;5;33mDropout\u001b[0m)   │ (\u001b[38;5;45mNone\u001b[0m, \u001b[38;5;34m128\u001b[0m)       │          \u001b[38;5;34m0\u001b[0m │ dense_1[\u001b[38;5;34m0\u001b[0m][\u001b[38;5;34m0\u001b[0m]     │\n",
              "├─────────────────────┼───────────────────┼────────────┼───────────────────┤\n",
              "│ hasdyn_in           │ (\u001b[38;5;45mNone\u001b[0m, \u001b[38;5;34m1\u001b[0m)         │          \u001b[38;5;34m0\u001b[0m │ -                 │\n",
              "│ (\u001b[38;5;33mInputLayer\u001b[0m)        │                   │            │                   │\n",
              "├─────────────────────┼───────────────────┼────────────┼───────────────────┤\n",
              "│ dense (\u001b[38;5;33mDense\u001b[0m)       │ (\u001b[38;5;45mNone\u001b[0m, \u001b[38;5;34m128\u001b[0m)       │     \u001b[38;5;34m16,512\u001b[0m │ global_max_pooli… │\n",
              "├─────────────────────┼───────────────────┼────────────┼───────────────────┤\n",
              "│ multiply (\u001b[38;5;33mMultiply\u001b[0m) │ (\u001b[38;5;45mNone\u001b[0m, \u001b[38;5;34m128\u001b[0m)       │          \u001b[38;5;34m0\u001b[0m │ dropout[\u001b[38;5;34m0\u001b[0m][\u001b[38;5;34m0\u001b[0m],    │\n",
              "│                     │                   │            │ hasdyn_in[\u001b[38;5;34m0\u001b[0m][\u001b[38;5;34m0\u001b[0m]   │\n",
              "├─────────────────────┼───────────────────┼────────────┼───────────────────┤\n",
              "│ concatenate_1       │ (\u001b[38;5;45mNone\u001b[0m, \u001b[38;5;34m257\u001b[0m)       │          \u001b[38;5;34m0\u001b[0m │ dense[\u001b[38;5;34m0\u001b[0m][\u001b[38;5;34m0\u001b[0m],      │\n",
              "│ (\u001b[38;5;33mConcatenate\u001b[0m)       │                   │            │ multiply[\u001b[38;5;34m0\u001b[0m][\u001b[38;5;34m0\u001b[0m],   │\n",
              "│                     │                   │            │ hasdyn_in[\u001b[38;5;34m0\u001b[0m][\u001b[38;5;34m0\u001b[0m]   │\n",
              "├─────────────────────┼───────────────────┼────────────┼───────────────────┤\n",
              "│ dense_3 (\u001b[38;5;33mDense\u001b[0m)     │ (\u001b[38;5;45mNone\u001b[0m, \u001b[38;5;34m64\u001b[0m)        │     \u001b[38;5;34m16,512\u001b[0m │ concatenate_1[\u001b[38;5;34m0\u001b[0m]… │\n",
              "├─────────────────────┼───────────────────┼────────────┼───────────────────┤\n",
              "│ gate (\u001b[38;5;33mDense\u001b[0m)        │ (\u001b[38;5;45mNone\u001b[0m, \u001b[38;5;34m1\u001b[0m)         │         \u001b[38;5;34m65\u001b[0m │ dense_3[\u001b[38;5;34m0\u001b[0m][\u001b[38;5;34m0\u001b[0m]     │\n",
              "├─────────────────────┼───────────────────┼────────────┼───────────────────┤\n",
              "│ ones_like (\u001b[38;5;33mLambda\u001b[0m)  │ (\u001b[38;5;45mNone\u001b[0m, \u001b[38;5;34m1\u001b[0m)         │          \u001b[38;5;34m0\u001b[0m │ gate[\u001b[38;5;34m0\u001b[0m][\u001b[38;5;34m0\u001b[0m]        │\n",
              "├─────────────────────┼───────────────────┼────────────┼───────────────────┤\n",
              "│ one_minus_g         │ (\u001b[38;5;45mNone\u001b[0m, \u001b[38;5;34m1\u001b[0m)         │          \u001b[38;5;34m0\u001b[0m │ ones_like[\u001b[38;5;34m0\u001b[0m][\u001b[38;5;34m0\u001b[0m],  │\n",
              "│ (\u001b[38;5;33mSubtract\u001b[0m)          │                   │            │ gate[\u001b[38;5;34m0\u001b[0m][\u001b[38;5;34m0\u001b[0m]        │\n",
              "├─────────────────────┼───────────────────┼────────────┼───────────────────┤\n",
              "│ scale_dyn           │ (\u001b[38;5;45mNone\u001b[0m, \u001b[38;5;34m128\u001b[0m)       │          \u001b[38;5;34m0\u001b[0m │ gate[\u001b[38;5;34m0\u001b[0m][\u001b[38;5;34m0\u001b[0m],       │\n",
              "│ (\u001b[38;5;33mMultiply\u001b[0m)          │                   │            │ multiply[\u001b[38;5;34m0\u001b[0m][\u001b[38;5;34m0\u001b[0m]    │\n",
              "├─────────────────────┼───────────────────┼────────────┼───────────────────┤\n",
              "│ scale_static        │ (\u001b[38;5;45mNone\u001b[0m, \u001b[38;5;34m128\u001b[0m)       │          \u001b[38;5;34m0\u001b[0m │ one_minus_g[\u001b[38;5;34m0\u001b[0m][\u001b[38;5;34m0\u001b[0m… │\n",
              "│ (\u001b[38;5;33mMultiply\u001b[0m)          │                   │            │ dense[\u001b[38;5;34m0\u001b[0m][\u001b[38;5;34m0\u001b[0m]       │\n",
              "├─────────────────────┼───────────────────┼────────────┼───────────────────┤\n",
              "│ fused (\u001b[38;5;33mAdd\u001b[0m)         │ (\u001b[38;5;45mNone\u001b[0m, \u001b[38;5;34m128\u001b[0m)       │          \u001b[38;5;34m0\u001b[0m │ scale_dyn[\u001b[38;5;34m0\u001b[0m][\u001b[38;5;34m0\u001b[0m],  │\n",
              "│                     │                   │            │ scale_static[\u001b[38;5;34m0\u001b[0m][\u001b[38;5;34m…\u001b[0m │\n",
              "├─────────────────────┼───────────────────┼────────────┼───────────────────┤\n",
              "│ dense_4 (\u001b[38;5;33mDense\u001b[0m)     │ (\u001b[38;5;45mNone\u001b[0m, \u001b[38;5;34m128\u001b[0m)       │     \u001b[38;5;34m16,512\u001b[0m │ fused[\u001b[38;5;34m0\u001b[0m][\u001b[38;5;34m0\u001b[0m]       │\n",
              "├─────────────────────┼───────────────────┼────────────┼───────────────────┤\n",
              "│ dropout_1 (\u001b[38;5;33mDropout\u001b[0m) │ (\u001b[38;5;45mNone\u001b[0m, \u001b[38;5;34m128\u001b[0m)       │          \u001b[38;5;34m0\u001b[0m │ dense_4[\u001b[38;5;34m0\u001b[0m][\u001b[38;5;34m0\u001b[0m]     │\n",
              "├─────────────────────┼───────────────────┼────────────┼───────────────────┤\n",
              "│ pred (\u001b[38;5;33mDense\u001b[0m)        │ (\u001b[38;5;45mNone\u001b[0m, \u001b[38;5;34m3\u001b[0m)         │        \u001b[38;5;34m387\u001b[0m │ dropout_1[\u001b[38;5;34m0\u001b[0m][\u001b[38;5;34m0\u001b[0m]   │\n",
              "└─────────────────────┴───────────────────┴────────────┴───────────────────┘\n"
            ],
            "text/html": [
              "<pre style=\"white-space:pre;overflow-x:auto;line-height:normal;font-family:Menlo,'DejaVu Sans Mono',consolas,'Courier New',monospace\">┏━━━━━━━━━━━━━━━━━━━━━┳━━━━━━━━━━━━━━━━━━━┳━━━━━━━━━━━━┳━━━━━━━━━━━━━━━━━━━┓\n",
              "┃<span style=\"font-weight: bold\"> Layer (type)        </span>┃<span style=\"font-weight: bold\"> Output Shape      </span>┃<span style=\"font-weight: bold\">    Param # </span>┃<span style=\"font-weight: bold\"> Connected to      </span>┃\n",
              "┡━━━━━━━━━━━━━━━━━━━━━╇━━━━━━━━━━━━━━━━━━━╇━━━━━━━━━━━━╇━━━━━━━━━━━━━━━━━━━┩\n",
              "│ dynamic_in          │ (<span style=\"color: #00d7ff; text-decoration-color: #00d7ff\">None</span>, <span style=\"color: #00af00; text-decoration-color: #00af00\">800</span>)       │          <span style=\"color: #00af00; text-decoration-color: #00af00\">0</span> │ -                 │\n",
              "│ (<span style=\"color: #0087ff; text-decoration-color: #0087ff\">InputLayer</span>)        │                   │            │                   │\n",
              "├─────────────────────┼───────────────────┼────────────┼───────────────────┤\n",
              "│ emb_dynamic         │ (<span style=\"color: #00d7ff; text-decoration-color: #00d7ff\">None</span>, <span style=\"color: #00af00; text-decoration-color: #00af00\">800</span>, <span style=\"color: #00af00; text-decoration-color: #00af00\">64</span>)   │     <span style=\"color: #00af00; text-decoration-color: #00af00\">19,136</span> │ dynamic_in[<span style=\"color: #00af00; text-decoration-color: #00af00\">0</span>][<span style=\"color: #00af00; text-decoration-color: #00af00\">0</span>]  │\n",
              "│ (<span style=\"color: #0087ff; text-decoration-color: #0087ff\">Embedding</span>)         │                   │            │                   │\n",
              "├─────────────────────┼───────────────────┼────────────┼───────────────────┤\n",
              "│ not_equal_1         │ (<span style=\"color: #00d7ff; text-decoration-color: #00d7ff\">None</span>, <span style=\"color: #00af00; text-decoration-color: #00af00\">800</span>)       │          <span style=\"color: #00af00; text-decoration-color: #00af00\">0</span> │ dynamic_in[<span style=\"color: #00af00; text-decoration-color: #00af00\">0</span>][<span style=\"color: #00af00; text-decoration-color: #00af00\">0</span>]  │\n",
              "│ (<span style=\"color: #0087ff; text-decoration-color: #0087ff\">NotEqual</span>)          │                   │            │                   │\n",
              "├─────────────────────┼───────────────────┼────────────┼───────────────────┤\n",
              "│ static_in           │ (<span style=\"color: #00d7ff; text-decoration-color: #00d7ff\">None</span>, <span style=\"color: #00af00; text-decoration-color: #00af00\">2000</span>)      │          <span style=\"color: #00af00; text-decoration-color: #00af00\">0</span> │ -                 │\n",
              "│ (<span style=\"color: #0087ff; text-decoration-color: #0087ff\">InputLayer</span>)        │                   │            │                   │\n",
              "├─────────────────────┼───────────────────┼────────────┼───────────────────┤\n",
              "│ bidirectional       │ (<span style=\"color: #00d7ff; text-decoration-color: #00d7ff\">None</span>, <span style=\"color: #00af00; text-decoration-color: #00af00\">800</span>, <span style=\"color: #00af00; text-decoration-color: #00af00\">128</span>)  │     <span style=\"color: #00af00; text-decoration-color: #00af00\">66,048</span> │ emb_dynamic[<span style=\"color: #00af00; text-decoration-color: #00af00\">0</span>][<span style=\"color: #00af00; text-decoration-color: #00af00\">0</span>… │\n",
              "│ (<span style=\"color: #0087ff; text-decoration-color: #0087ff\">Bidirectional</span>)     │                   │            │ not_equal_1[<span style=\"color: #00af00; text-decoration-color: #00af00\">0</span>][<span style=\"color: #00af00; text-decoration-color: #00af00\">0</span>] │\n",
              "├─────────────────────┼───────────────────┼────────────┼───────────────────┤\n",
              "│ emb_static          │ (<span style=\"color: #00d7ff; text-decoration-color: #00d7ff\">None</span>, <span style=\"color: #00af00; text-decoration-color: #00af00\">2000</span>, <span style=\"color: #00af00; text-decoration-color: #00af00\">64</span>)  │    <span style=\"color: #00af00; text-decoration-color: #00af00\">256,000</span> │ static_in[<span style=\"color: #00af00; text-decoration-color: #00af00\">0</span>][<span style=\"color: #00af00; text-decoration-color: #00af00\">0</span>]   │\n",
              "│ (<span style=\"color: #0087ff; text-decoration-color: #0087ff\">Embedding</span>)         │                   │            │                   │\n",
              "├─────────────────────┼───────────────────┼────────────┼───────────────────┤\n",
              "│ global_max_pooling… │ (<span style=\"color: #00d7ff; text-decoration-color: #00d7ff\">None</span>, <span style=\"color: #00af00; text-decoration-color: #00af00\">128</span>)       │          <span style=\"color: #00af00; text-decoration-color: #00af00\">0</span> │ bidirectional[<span style=\"color: #00af00; text-decoration-color: #00af00\">0</span>]… │\n",
              "│ (<span style=\"color: #0087ff; text-decoration-color: #0087ff\">GlobalMaxPooling1…</span> │                   │            │                   │\n",
              "├─────────────────────┼───────────────────┼────────────┼───────────────────┤\n",
              "│ conv1d (<span style=\"color: #0087ff; text-decoration-color: #0087ff\">Conv1D</span>)     │ (<span style=\"color: #00d7ff; text-decoration-color: #00d7ff\">None</span>, <span style=\"color: #00af00; text-decoration-color: #00af00\">2000</span>, <span style=\"color: #00af00; text-decoration-color: #00af00\">128</span>) │     <span style=\"color: #00af00; text-decoration-color: #00af00\">41,088</span> │ emb_static[<span style=\"color: #00af00; text-decoration-color: #00af00\">0</span>][<span style=\"color: #00af00; text-decoration-color: #00af00\">0</span>]  │\n",
              "├─────────────────────┼───────────────────┼────────────┼───────────────────┤\n",
              "│ dense_1 (<span style=\"color: #0087ff; text-decoration-color: #0087ff\">Dense</span>)     │ (<span style=\"color: #00d7ff; text-decoration-color: #00d7ff\">None</span>, <span style=\"color: #00af00; text-decoration-color: #00af00\">128</span>)       │     <span style=\"color: #00af00; text-decoration-color: #00af00\">16,512</span> │ global_max_pooli… │\n",
              "├─────────────────────┼───────────────────┼────────────┼───────────────────┤\n",
              "│ global_max_pooling… │ (<span style=\"color: #00d7ff; text-decoration-color: #00d7ff\">None</span>, <span style=\"color: #00af00; text-decoration-color: #00af00\">128</span>)       │          <span style=\"color: #00af00; text-decoration-color: #00af00\">0</span> │ conv1d[<span style=\"color: #00af00; text-decoration-color: #00af00\">0</span>][<span style=\"color: #00af00; text-decoration-color: #00af00\">0</span>]      │\n",
              "│ (<span style=\"color: #0087ff; text-decoration-color: #0087ff\">GlobalMaxPooling1…</span> │                   │            │                   │\n",
              "├─────────────────────┼───────────────────┼────────────┼───────────────────┤\n",
              "│ dropout (<span style=\"color: #0087ff; text-decoration-color: #0087ff\">Dropout</span>)   │ (<span style=\"color: #00d7ff; text-decoration-color: #00d7ff\">None</span>, <span style=\"color: #00af00; text-decoration-color: #00af00\">128</span>)       │          <span style=\"color: #00af00; text-decoration-color: #00af00\">0</span> │ dense_1[<span style=\"color: #00af00; text-decoration-color: #00af00\">0</span>][<span style=\"color: #00af00; text-decoration-color: #00af00\">0</span>]     │\n",
              "├─────────────────────┼───────────────────┼────────────┼───────────────────┤\n",
              "│ hasdyn_in           │ (<span style=\"color: #00d7ff; text-decoration-color: #00d7ff\">None</span>, <span style=\"color: #00af00; text-decoration-color: #00af00\">1</span>)         │          <span style=\"color: #00af00; text-decoration-color: #00af00\">0</span> │ -                 │\n",
              "│ (<span style=\"color: #0087ff; text-decoration-color: #0087ff\">InputLayer</span>)        │                   │            │                   │\n",
              "├─────────────────────┼───────────────────┼────────────┼───────────────────┤\n",
              "│ dense (<span style=\"color: #0087ff; text-decoration-color: #0087ff\">Dense</span>)       │ (<span style=\"color: #00d7ff; text-decoration-color: #00d7ff\">None</span>, <span style=\"color: #00af00; text-decoration-color: #00af00\">128</span>)       │     <span style=\"color: #00af00; text-decoration-color: #00af00\">16,512</span> │ global_max_pooli… │\n",
              "├─────────────────────┼───────────────────┼────────────┼───────────────────┤\n",
              "│ multiply (<span style=\"color: #0087ff; text-decoration-color: #0087ff\">Multiply</span>) │ (<span style=\"color: #00d7ff; text-decoration-color: #00d7ff\">None</span>, <span style=\"color: #00af00; text-decoration-color: #00af00\">128</span>)       │          <span style=\"color: #00af00; text-decoration-color: #00af00\">0</span> │ dropout[<span style=\"color: #00af00; text-decoration-color: #00af00\">0</span>][<span style=\"color: #00af00; text-decoration-color: #00af00\">0</span>],    │\n",
              "│                     │                   │            │ hasdyn_in[<span style=\"color: #00af00; text-decoration-color: #00af00\">0</span>][<span style=\"color: #00af00; text-decoration-color: #00af00\">0</span>]   │\n",
              "├─────────────────────┼───────────────────┼────────────┼───────────────────┤\n",
              "│ concatenate_1       │ (<span style=\"color: #00d7ff; text-decoration-color: #00d7ff\">None</span>, <span style=\"color: #00af00; text-decoration-color: #00af00\">257</span>)       │          <span style=\"color: #00af00; text-decoration-color: #00af00\">0</span> │ dense[<span style=\"color: #00af00; text-decoration-color: #00af00\">0</span>][<span style=\"color: #00af00; text-decoration-color: #00af00\">0</span>],      │\n",
              "│ (<span style=\"color: #0087ff; text-decoration-color: #0087ff\">Concatenate</span>)       │                   │            │ multiply[<span style=\"color: #00af00; text-decoration-color: #00af00\">0</span>][<span style=\"color: #00af00; text-decoration-color: #00af00\">0</span>],   │\n",
              "│                     │                   │            │ hasdyn_in[<span style=\"color: #00af00; text-decoration-color: #00af00\">0</span>][<span style=\"color: #00af00; text-decoration-color: #00af00\">0</span>]   │\n",
              "├─────────────────────┼───────────────────┼────────────┼───────────────────┤\n",
              "│ dense_3 (<span style=\"color: #0087ff; text-decoration-color: #0087ff\">Dense</span>)     │ (<span style=\"color: #00d7ff; text-decoration-color: #00d7ff\">None</span>, <span style=\"color: #00af00; text-decoration-color: #00af00\">64</span>)        │     <span style=\"color: #00af00; text-decoration-color: #00af00\">16,512</span> │ concatenate_1[<span style=\"color: #00af00; text-decoration-color: #00af00\">0</span>]… │\n",
              "├─────────────────────┼───────────────────┼────────────┼───────────────────┤\n",
              "│ gate (<span style=\"color: #0087ff; text-decoration-color: #0087ff\">Dense</span>)        │ (<span style=\"color: #00d7ff; text-decoration-color: #00d7ff\">None</span>, <span style=\"color: #00af00; text-decoration-color: #00af00\">1</span>)         │         <span style=\"color: #00af00; text-decoration-color: #00af00\">65</span> │ dense_3[<span style=\"color: #00af00; text-decoration-color: #00af00\">0</span>][<span style=\"color: #00af00; text-decoration-color: #00af00\">0</span>]     │\n",
              "├─────────────────────┼───────────────────┼────────────┼───────────────────┤\n",
              "│ ones_like (<span style=\"color: #0087ff; text-decoration-color: #0087ff\">Lambda</span>)  │ (<span style=\"color: #00d7ff; text-decoration-color: #00d7ff\">None</span>, <span style=\"color: #00af00; text-decoration-color: #00af00\">1</span>)         │          <span style=\"color: #00af00; text-decoration-color: #00af00\">0</span> │ gate[<span style=\"color: #00af00; text-decoration-color: #00af00\">0</span>][<span style=\"color: #00af00; text-decoration-color: #00af00\">0</span>]        │\n",
              "├─────────────────────┼───────────────────┼────────────┼───────────────────┤\n",
              "│ one_minus_g         │ (<span style=\"color: #00d7ff; text-decoration-color: #00d7ff\">None</span>, <span style=\"color: #00af00; text-decoration-color: #00af00\">1</span>)         │          <span style=\"color: #00af00; text-decoration-color: #00af00\">0</span> │ ones_like[<span style=\"color: #00af00; text-decoration-color: #00af00\">0</span>][<span style=\"color: #00af00; text-decoration-color: #00af00\">0</span>],  │\n",
              "│ (<span style=\"color: #0087ff; text-decoration-color: #0087ff\">Subtract</span>)          │                   │            │ gate[<span style=\"color: #00af00; text-decoration-color: #00af00\">0</span>][<span style=\"color: #00af00; text-decoration-color: #00af00\">0</span>]        │\n",
              "├─────────────────────┼───────────────────┼────────────┼───────────────────┤\n",
              "│ scale_dyn           │ (<span style=\"color: #00d7ff; text-decoration-color: #00d7ff\">None</span>, <span style=\"color: #00af00; text-decoration-color: #00af00\">128</span>)       │          <span style=\"color: #00af00; text-decoration-color: #00af00\">0</span> │ gate[<span style=\"color: #00af00; text-decoration-color: #00af00\">0</span>][<span style=\"color: #00af00; text-decoration-color: #00af00\">0</span>],       │\n",
              "│ (<span style=\"color: #0087ff; text-decoration-color: #0087ff\">Multiply</span>)          │                   │            │ multiply[<span style=\"color: #00af00; text-decoration-color: #00af00\">0</span>][<span style=\"color: #00af00; text-decoration-color: #00af00\">0</span>]    │\n",
              "├─────────────────────┼───────────────────┼────────────┼───────────────────┤\n",
              "│ scale_static        │ (<span style=\"color: #00d7ff; text-decoration-color: #00d7ff\">None</span>, <span style=\"color: #00af00; text-decoration-color: #00af00\">128</span>)       │          <span style=\"color: #00af00; text-decoration-color: #00af00\">0</span> │ one_minus_g[<span style=\"color: #00af00; text-decoration-color: #00af00\">0</span>][<span style=\"color: #00af00; text-decoration-color: #00af00\">0</span>… │\n",
              "│ (<span style=\"color: #0087ff; text-decoration-color: #0087ff\">Multiply</span>)          │                   │            │ dense[<span style=\"color: #00af00; text-decoration-color: #00af00\">0</span>][<span style=\"color: #00af00; text-decoration-color: #00af00\">0</span>]       │\n",
              "├─────────────────────┼───────────────────┼────────────┼───────────────────┤\n",
              "│ fused (<span style=\"color: #0087ff; text-decoration-color: #0087ff\">Add</span>)         │ (<span style=\"color: #00d7ff; text-decoration-color: #00d7ff\">None</span>, <span style=\"color: #00af00; text-decoration-color: #00af00\">128</span>)       │          <span style=\"color: #00af00; text-decoration-color: #00af00\">0</span> │ scale_dyn[<span style=\"color: #00af00; text-decoration-color: #00af00\">0</span>][<span style=\"color: #00af00; text-decoration-color: #00af00\">0</span>],  │\n",
              "│                     │                   │            │ scale_static[<span style=\"color: #00af00; text-decoration-color: #00af00\">0</span>][<span style=\"color: #00af00; text-decoration-color: #00af00\">…</span> │\n",
              "├─────────────────────┼───────────────────┼────────────┼───────────────────┤\n",
              "│ dense_4 (<span style=\"color: #0087ff; text-decoration-color: #0087ff\">Dense</span>)     │ (<span style=\"color: #00d7ff; text-decoration-color: #00d7ff\">None</span>, <span style=\"color: #00af00; text-decoration-color: #00af00\">128</span>)       │     <span style=\"color: #00af00; text-decoration-color: #00af00\">16,512</span> │ fused[<span style=\"color: #00af00; text-decoration-color: #00af00\">0</span>][<span style=\"color: #00af00; text-decoration-color: #00af00\">0</span>]       │\n",
              "├─────────────────────┼───────────────────┼────────────┼───────────────────┤\n",
              "│ dropout_1 (<span style=\"color: #0087ff; text-decoration-color: #0087ff\">Dropout</span>) │ (<span style=\"color: #00d7ff; text-decoration-color: #00d7ff\">None</span>, <span style=\"color: #00af00; text-decoration-color: #00af00\">128</span>)       │          <span style=\"color: #00af00; text-decoration-color: #00af00\">0</span> │ dense_4[<span style=\"color: #00af00; text-decoration-color: #00af00\">0</span>][<span style=\"color: #00af00; text-decoration-color: #00af00\">0</span>]     │\n",
              "├─────────────────────┼───────────────────┼────────────┼───────────────────┤\n",
              "│ pred (<span style=\"color: #0087ff; text-decoration-color: #0087ff\">Dense</span>)        │ (<span style=\"color: #00d7ff; text-decoration-color: #00d7ff\">None</span>, <span style=\"color: #00af00; text-decoration-color: #00af00\">3</span>)         │        <span style=\"color: #00af00; text-decoration-color: #00af00\">387</span> │ dropout_1[<span style=\"color: #00af00; text-decoration-color: #00af00\">0</span>][<span style=\"color: #00af00; text-decoration-color: #00af00\">0</span>]   │\n",
              "└─────────────────────┴───────────────────┴────────────┴───────────────────┘\n",
              "</pre>\n"
            ]
          },
          "metadata": {}
        },
        {
          "output_type": "display_data",
          "data": {
            "text/plain": [
              "\u001b[1m Total params: \u001b[0m\u001b[38;5;34m448,772\u001b[0m (1.71 MB)\n"
            ],
            "text/html": [
              "<pre style=\"white-space:pre;overflow-x:auto;line-height:normal;font-family:Menlo,'DejaVu Sans Mono',consolas,'Courier New',monospace\"><span style=\"font-weight: bold\"> Total params: </span><span style=\"color: #00af00; text-decoration-color: #00af00\">448,772</span> (1.71 MB)\n",
              "</pre>\n"
            ]
          },
          "metadata": {}
        },
        {
          "output_type": "display_data",
          "data": {
            "text/plain": [
              "\u001b[1m Trainable params: \u001b[0m\u001b[38;5;34m448,772\u001b[0m (1.71 MB)\n"
            ],
            "text/html": [
              "<pre style=\"white-space:pre;overflow-x:auto;line-height:normal;font-family:Menlo,'DejaVu Sans Mono',consolas,'Courier New',monospace\"><span style=\"font-weight: bold\"> Trainable params: </span><span style=\"color: #00af00; text-decoration-color: #00af00\">448,772</span> (1.71 MB)\n",
              "</pre>\n"
            ]
          },
          "metadata": {}
        },
        {
          "output_type": "display_data",
          "data": {
            "text/plain": [
              "\u001b[1m Non-trainable params: \u001b[0m\u001b[38;5;34m0\u001b[0m (0.00 B)\n"
            ],
            "text/html": [
              "<pre style=\"white-space:pre;overflow-x:auto;line-height:normal;font-family:Menlo,'DejaVu Sans Mono',consolas,'Courier New',monospace\"><span style=\"font-weight: bold\"> Non-trainable params: </span><span style=\"color: #00af00; text-decoration-color: #00af00\">0</span> (0.00 B)\n",
              "</pre>\n"
            ]
          },
          "metadata": {}
        }
      ]
    },
    {
      "cell_type": "markdown",
      "source": [
        "## **Step DL-2 (next): Train with early stopping & class weights**"
      ],
      "metadata": {
        "id": "12FNP-Cxv2p2"
      }
    },
    {
      "cell_type": "code",
      "source": [
        "from tensorflow.keras.callbacks import EarlyStopping\n",
        "import numpy as np\n",
        "\n",
        "# Class weights (inverse of frequency)\n",
        "classes, counts = np.unique(y_tr, return_counts=True)\n",
        "total = sum(counts)\n",
        "class_weights = {cls: total/(len(classes)*count) for cls, count in zip(classes, counts)}\n",
        "print(\"Class weights:\", class_weights)\n",
        "\n",
        "# Early stopping\n",
        "early_stop = EarlyStopping(monitor=\"val_loss\", patience=3, restore_best_weights=True)\n",
        "\n",
        "# Train\n",
        "history = model.fit(\n",
        "    [Xst_tr, Xdy_tr, train_df[\"has_dynamic\"].values],\n",
        "    y_tr,\n",
        "    validation_data=([Xst_val, Xdy_val, val_df[\"has_dynamic\"].values], y_val),\n",
        "    epochs=15,\n",
        "    batch_size=64,\n",
        "    class_weight=class_weights,\n",
        "    callbacks=[early_stop],\n",
        "    verbose=1\n",
        ")\n"
      ],
      "metadata": {
        "colab": {
          "base_uri": "https://localhost:8080/"
        },
        "id": "5PBRGfkjv5W-",
        "outputId": "d4e2de2e-5c13-4660-c94d-e74bd73d2efa"
      },
      "execution_count": null,
      "outputs": [
        {
          "output_type": "stream",
          "name": "stdout",
          "text": [
            "Class weights: {np.int64(0): np.float64(2.6619787811497657), np.int64(1): np.float64(0.5884053228621291), np.int64(2): np.float64(1.0812788133894569)}\n",
            "Epoch 1/15\n",
            "\u001b[1m169/169\u001b[0m \u001b[32m━━━━━━━━━━━━━━━━━━━━\u001b[0m\u001b[37m\u001b[0m \u001b[1m562s\u001b[0m 3s/step - accuracy: 0.7410 - loss: 0.5890 - val_accuracy: 0.8763 - val_loss: 0.2398\n",
            "Epoch 2/15\n",
            "\u001b[1m 40/169\u001b[0m \u001b[32m━━━━\u001b[0m\u001b[37m━━━━━━━━━━━━━━━━\u001b[0m \u001b[1m6:27\u001b[0m 3s/step - accuracy: 0.8975 - loss: 0.1351"
          ]
        }
      ]
    },
    {
      "cell_type": "markdown",
      "source": [
        "## **Switching Runtime to T4 GPU**"
      ],
      "metadata": {
        "id": "xiwmS6Thyr6B"
      }
    },
    {
      "cell_type": "code",
      "source": [
        "import tensorflow as tf\n",
        "print(\"GPU:\", tf.config.list_physical_devices(\"GPU\"))\n"
      ],
      "metadata": {
        "colab": {
          "base_uri": "https://localhost:8080/"
        },
        "id": "HohPzyZwyueJ",
        "outputId": "7842045d-0f83-4de4-834c-381356cb0c4a"
      },
      "execution_count": null,
      "outputs": [
        {
          "output_type": "stream",
          "name": "stdout",
          "text": [
            "GPU: [PhysicalDevice(name='/physical_device:GPU:0', device_type='GPU')]\n"
          ]
        }
      ]
    },
    {
      "cell_type": "code",
      "source": [
        "import pandas as pd\n",
        "import numpy as np\n",
        "from sklearn.model_selection import train_test_split\n",
        "from sklearn.feature_extraction.text import TfidfVectorizer\n",
        "from sklearn.metrics import classification_report, confusion_matrix\n",
        "import tensorflow as tf\n",
        "from tensorflow.keras.preprocessing.text import Tokenizer\n",
        "from tensorflow.keras.preprocessing.sequence import pad_sequences\n",
        "from tensorflow.keras import layers, models\n"
      ],
      "metadata": {
        "id": "ZuaOa_SYzBYA"
      },
      "execution_count": null,
      "outputs": []
    },
    {
      "cell_type": "code",
      "source": [
        "import pandas as pd\n",
        "\n",
        "# correct CSV paths (as shown in your left panel)\n",
        "ben = pd.read_csv(\"/content/benign.csv\")\n",
        "mal = pd.read_csv(\"/content/malware.csv\")\n",
        "ran = pd.read_csv(\"/content/ransomware.csv\")\n",
        "\n",
        "# sanity check\n",
        "print(\"benign shape:\", ben.shape)\n",
        "print(\"malware shape:\", mal.shape)\n",
        "print(\"ransom shape:\", ran.shape)\n",
        "print(\"\\nFirst benign columns:\", list(ben.columns)[:15])\n",
        "print(\"First malware columns:\", list(mal.columns)[:15])\n",
        "print(\"First ransomware columns:\", list(ran.columns)[:15])\n"
      ],
      "metadata": {
        "colab": {
          "base_uri": "https://localhost:8080/"
        },
        "id": "FBHV4J906Blm",
        "outputId": "e0c19316-5982-4636-e393-a159311fa539"
      },
      "execution_count": null,
      "outputs": [
        {
          "output_type": "stream",
          "name": "stdout",
          "text": [
            "benign shape: (1930, 28)\n",
            "malware shape: (8732, 4)\n",
            "ransom shape: (4752, 4)\n",
            "\n",
            "First benign columns: ['characteristics', 'compile_time', 'dll_characteristics', 'entry_point', 'error', 'exports', 'file_size', 'filename', 'filepath', 'image_base', 'imports', 'is_pe', 'linker_version', 'machine_type', 'md5']\n",
            "First malware columns: ['filename', 'instructions', 'api_calls', 'json']\n",
            "First ransomware columns: ['filename', 'instructions', 'api_calls', 'json']\n"
          ]
        }
      ]
    },
    {
      "cell_type": "markdown",
      "source": [
        "## **Standardize + Add Labels**"
      ],
      "metadata": {
        "id": "tP7eYIx67f-C"
      }
    },
    {
      "cell_type": "code",
      "source": [
        "def to_dataset(df, label_name):\n",
        "    instr_col = next((c for c in df.columns if c.lower() in [\"instructions\",\"opcodes\",\"opcode_seq\"]), None)\n",
        "    api_col   = next((c for c in df.columns if c.lower() in [\"api_calls\",\"apis\",\"api_seq\"]), None)\n",
        "    fname_col = next((c for c in df.columns if \"file\" in c.lower() or \"name\" in c.lower()), None)\n",
        "\n",
        "    out = pd.DataFrame({\n",
        "        \"filename\": df[fname_col] if fname_col else [None]*len(df),\n",
        "        \"static_seq\": df[instr_col].astype(str) if instr_col else [\"\" for _ in range(len(df))],\n",
        "        \"dynamic_seq\": df[api_col].astype(str) if api_col else [\"\" for _ in range(len(df))],\n",
        "        \"label\": label_name\n",
        "    })\n",
        "    out[\"has_dynamic\"] = (out[\"dynamic_seq\"].str.len() > 0).astype(int)\n",
        "    return out\n",
        "\n",
        "ben_ds = to_dataset(ben, \"benign\")\n",
        "mal_ds = to_dataset(mal, \"malware\")\n",
        "ran_ds = to_dataset(ran, \"ransomware\")\n",
        "\n",
        "# merge and shuffle\n",
        "full = pd.concat([ben_ds, mal_ds, ran_ds], ignore_index=True).sample(frac=1.0, random_state=42).reset_index(drop=True)\n",
        "\n",
        "print(full[\"label\"].value_counts())\n",
        "print(full[\"has_dynamic\"].value_counts())\n",
        "full.head()\n"
      ],
      "metadata": {
        "colab": {
          "base_uri": "https://localhost:8080/",
          "height": 362
        },
        "id": "_vXHYAvP7q9B",
        "outputId": "5ced0fa5-ede0-4d08-9071-d01b408040e5"
      },
      "execution_count": null,
      "outputs": [
        {
          "output_type": "stream",
          "name": "stdout",
          "text": [
            "label\n",
            "malware       8732\n",
            "ransomware    4752\n",
            "benign        1930\n",
            "Name: count, dtype: int64\n",
            "has_dynamic\n",
            "1    13484\n",
            "0     1930\n",
            "Name: count, dtype: int64\n"
          ]
        },
        {
          "output_type": "execute_result",
          "data": {
            "text/plain": [
              "                                            filename  \\\n",
              "0  c1bb6da6934f87f45429ba0c4804c56a33023f50b37bcc...   \n",
              "1  0f89afcaa627b82a4235fe79aaf2f3123fc9bd6435b9d5...   \n",
              "2  93389b4c64aa3a688c712f36f3c80aa898597af3aa99fe...   \n",
              "3  66e0cd9a43757292cc06bdc373665ea8e632c130bc77b4...   \n",
              "4                                              17920   \n",
              "\n",
              "                                          static_seq  \\\n",
              "0  mov:0x401000;push:0x401002;mov:0x401003;sub:0x...   \n",
              "1  jmp:0x401000;outsd:0x401002;and:0x401004;imul:...   \n",
              "2  inc:0x401000;salc:0x401001;nop:0x42e000;pushal...   \n",
              "3  mov:0x401000;add:0x401002;retf:0x401004;add:0x...   \n",
              "4                                                      \n",
              "\n",
              "                                         dynamic_seq       label  has_dynamic  \n",
              "0                                                nan     malware            1  \n",
              "1                                                nan  ransomware            1  \n",
              "2  NtOpenMutant; GetSystemDirectoryA; CopyFileA; ...  ransomware            1  \n",
              "3                                                nan     malware            1  \n",
              "4                                                         benign            0  "
            ],
            "text/html": [
              "\n",
              "  <div id=\"df-39c2bc7b-bf97-4e4f-8b04-10d7f496fe3a\" class=\"colab-df-container\">\n",
              "    <div>\n",
              "<style scoped>\n",
              "    .dataframe tbody tr th:only-of-type {\n",
              "        vertical-align: middle;\n",
              "    }\n",
              "\n",
              "    .dataframe tbody tr th {\n",
              "        vertical-align: top;\n",
              "    }\n",
              "\n",
              "    .dataframe thead th {\n",
              "        text-align: right;\n",
              "    }\n",
              "</style>\n",
              "<table border=\"1\" class=\"dataframe\">\n",
              "  <thead>\n",
              "    <tr style=\"text-align: right;\">\n",
              "      <th></th>\n",
              "      <th>filename</th>\n",
              "      <th>static_seq</th>\n",
              "      <th>dynamic_seq</th>\n",
              "      <th>label</th>\n",
              "      <th>has_dynamic</th>\n",
              "    </tr>\n",
              "  </thead>\n",
              "  <tbody>\n",
              "    <tr>\n",
              "      <th>0</th>\n",
              "      <td>c1bb6da6934f87f45429ba0c4804c56a33023f50b37bcc...</td>\n",
              "      <td>mov:0x401000;push:0x401002;mov:0x401003;sub:0x...</td>\n",
              "      <td>nan</td>\n",
              "      <td>malware</td>\n",
              "      <td>1</td>\n",
              "    </tr>\n",
              "    <tr>\n",
              "      <th>1</th>\n",
              "      <td>0f89afcaa627b82a4235fe79aaf2f3123fc9bd6435b9d5...</td>\n",
              "      <td>jmp:0x401000;outsd:0x401002;and:0x401004;imul:...</td>\n",
              "      <td>nan</td>\n",
              "      <td>ransomware</td>\n",
              "      <td>1</td>\n",
              "    </tr>\n",
              "    <tr>\n",
              "      <th>2</th>\n",
              "      <td>93389b4c64aa3a688c712f36f3c80aa898597af3aa99fe...</td>\n",
              "      <td>inc:0x401000;salc:0x401001;nop:0x42e000;pushal...</td>\n",
              "      <td>NtOpenMutant; GetSystemDirectoryA; CopyFileA; ...</td>\n",
              "      <td>ransomware</td>\n",
              "      <td>1</td>\n",
              "    </tr>\n",
              "    <tr>\n",
              "      <th>3</th>\n",
              "      <td>66e0cd9a43757292cc06bdc373665ea8e632c130bc77b4...</td>\n",
              "      <td>mov:0x401000;add:0x401002;retf:0x401004;add:0x...</td>\n",
              "      <td>nan</td>\n",
              "      <td>malware</td>\n",
              "      <td>1</td>\n",
              "    </tr>\n",
              "    <tr>\n",
              "      <th>4</th>\n",
              "      <td>17920</td>\n",
              "      <td></td>\n",
              "      <td></td>\n",
              "      <td>benign</td>\n",
              "      <td>0</td>\n",
              "    </tr>\n",
              "  </tbody>\n",
              "</table>\n",
              "</div>\n",
              "    <div class=\"colab-df-buttons\">\n",
              "\n",
              "  <div class=\"colab-df-container\">\n",
              "    <button class=\"colab-df-convert\" onclick=\"convertToInteractive('df-39c2bc7b-bf97-4e4f-8b04-10d7f496fe3a')\"\n",
              "            title=\"Convert this dataframe to an interactive table.\"\n",
              "            style=\"display:none;\">\n",
              "\n",
              "  <svg xmlns=\"http://www.w3.org/2000/svg\" height=\"24px\" viewBox=\"0 -960 960 960\">\n",
              "    <path d=\"M120-120v-720h720v720H120Zm60-500h600v-160H180v160Zm220 220h160v-160H400v160Zm0 220h160v-160H400v160ZM180-400h160v-160H180v160Zm440 0h160v-160H620v160ZM180-180h160v-160H180v160Zm440 0h160v-160H620v160Z\"/>\n",
              "  </svg>\n",
              "    </button>\n",
              "\n",
              "  <style>\n",
              "    .colab-df-container {\n",
              "      display:flex;\n",
              "      gap: 12px;\n",
              "    }\n",
              "\n",
              "    .colab-df-convert {\n",
              "      background-color: #E8F0FE;\n",
              "      border: none;\n",
              "      border-radius: 50%;\n",
              "      cursor: pointer;\n",
              "      display: none;\n",
              "      fill: #1967D2;\n",
              "      height: 32px;\n",
              "      padding: 0 0 0 0;\n",
              "      width: 32px;\n",
              "    }\n",
              "\n",
              "    .colab-df-convert:hover {\n",
              "      background-color: #E2EBFA;\n",
              "      box-shadow: 0px 1px 2px rgba(60, 64, 67, 0.3), 0px 1px 3px 1px rgba(60, 64, 67, 0.15);\n",
              "      fill: #174EA6;\n",
              "    }\n",
              "\n",
              "    .colab-df-buttons div {\n",
              "      margin-bottom: 4px;\n",
              "    }\n",
              "\n",
              "    [theme=dark] .colab-df-convert {\n",
              "      background-color: #3B4455;\n",
              "      fill: #D2E3FC;\n",
              "    }\n",
              "\n",
              "    [theme=dark] .colab-df-convert:hover {\n",
              "      background-color: #434B5C;\n",
              "      box-shadow: 0px 1px 3px 1px rgba(0, 0, 0, 0.15);\n",
              "      filter: drop-shadow(0px 1px 2px rgba(0, 0, 0, 0.3));\n",
              "      fill: #FFFFFF;\n",
              "    }\n",
              "  </style>\n",
              "\n",
              "    <script>\n",
              "      const buttonEl =\n",
              "        document.querySelector('#df-39c2bc7b-bf97-4e4f-8b04-10d7f496fe3a button.colab-df-convert');\n",
              "      buttonEl.style.display =\n",
              "        google.colab.kernel.accessAllowed ? 'block' : 'none';\n",
              "\n",
              "      async function convertToInteractive(key) {\n",
              "        const element = document.querySelector('#df-39c2bc7b-bf97-4e4f-8b04-10d7f496fe3a');\n",
              "        const dataTable =\n",
              "          await google.colab.kernel.invokeFunction('convertToInteractive',\n",
              "                                                    [key], {});\n",
              "        if (!dataTable) return;\n",
              "\n",
              "        const docLinkHtml = 'Like what you see? Visit the ' +\n",
              "          '<a target=\"_blank\" href=https://colab.research.google.com/notebooks/data_table.ipynb>data table notebook</a>'\n",
              "          + ' to learn more about interactive tables.';\n",
              "        element.innerHTML = '';\n",
              "        dataTable['output_type'] = 'display_data';\n",
              "        await google.colab.output.renderOutput(dataTable, element);\n",
              "        const docLink = document.createElement('div');\n",
              "        docLink.innerHTML = docLinkHtml;\n",
              "        element.appendChild(docLink);\n",
              "      }\n",
              "    </script>\n",
              "  </div>\n",
              "\n",
              "\n",
              "    <div id=\"df-363846ea-c622-4e28-834d-a0e6386d687b\">\n",
              "      <button class=\"colab-df-quickchart\" onclick=\"quickchart('df-363846ea-c622-4e28-834d-a0e6386d687b')\"\n",
              "                title=\"Suggest charts\"\n",
              "                style=\"display:none;\">\n",
              "\n",
              "<svg xmlns=\"http://www.w3.org/2000/svg\" height=\"24px\"viewBox=\"0 0 24 24\"\n",
              "     width=\"24px\">\n",
              "    <g>\n",
              "        <path d=\"M19 3H5c-1.1 0-2 .9-2 2v14c0 1.1.9 2 2 2h14c1.1 0 2-.9 2-2V5c0-1.1-.9-2-2-2zM9 17H7v-7h2v7zm4 0h-2V7h2v10zm4 0h-2v-4h2v4z\"/>\n",
              "    </g>\n",
              "</svg>\n",
              "      </button>\n",
              "\n",
              "<style>\n",
              "  .colab-df-quickchart {\n",
              "      --bg-color: #E8F0FE;\n",
              "      --fill-color: #1967D2;\n",
              "      --hover-bg-color: #E2EBFA;\n",
              "      --hover-fill-color: #174EA6;\n",
              "      --disabled-fill-color: #AAA;\n",
              "      --disabled-bg-color: #DDD;\n",
              "  }\n",
              "\n",
              "  [theme=dark] .colab-df-quickchart {\n",
              "      --bg-color: #3B4455;\n",
              "      --fill-color: #D2E3FC;\n",
              "      --hover-bg-color: #434B5C;\n",
              "      --hover-fill-color: #FFFFFF;\n",
              "      --disabled-bg-color: #3B4455;\n",
              "      --disabled-fill-color: #666;\n",
              "  }\n",
              "\n",
              "  .colab-df-quickchart {\n",
              "    background-color: var(--bg-color);\n",
              "    border: none;\n",
              "    border-radius: 50%;\n",
              "    cursor: pointer;\n",
              "    display: none;\n",
              "    fill: var(--fill-color);\n",
              "    height: 32px;\n",
              "    padding: 0;\n",
              "    width: 32px;\n",
              "  }\n",
              "\n",
              "  .colab-df-quickchart:hover {\n",
              "    background-color: var(--hover-bg-color);\n",
              "    box-shadow: 0 1px 2px rgba(60, 64, 67, 0.3), 0 1px 3px 1px rgba(60, 64, 67, 0.15);\n",
              "    fill: var(--button-hover-fill-color);\n",
              "  }\n",
              "\n",
              "  .colab-df-quickchart-complete:disabled,\n",
              "  .colab-df-quickchart-complete:disabled:hover {\n",
              "    background-color: var(--disabled-bg-color);\n",
              "    fill: var(--disabled-fill-color);\n",
              "    box-shadow: none;\n",
              "  }\n",
              "\n",
              "  .colab-df-spinner {\n",
              "    border: 2px solid var(--fill-color);\n",
              "    border-color: transparent;\n",
              "    border-bottom-color: var(--fill-color);\n",
              "    animation:\n",
              "      spin 1s steps(1) infinite;\n",
              "  }\n",
              "\n",
              "  @keyframes spin {\n",
              "    0% {\n",
              "      border-color: transparent;\n",
              "      border-bottom-color: var(--fill-color);\n",
              "      border-left-color: var(--fill-color);\n",
              "    }\n",
              "    20% {\n",
              "      border-color: transparent;\n",
              "      border-left-color: var(--fill-color);\n",
              "      border-top-color: var(--fill-color);\n",
              "    }\n",
              "    30% {\n",
              "      border-color: transparent;\n",
              "      border-left-color: var(--fill-color);\n",
              "      border-top-color: var(--fill-color);\n",
              "      border-right-color: var(--fill-color);\n",
              "    }\n",
              "    40% {\n",
              "      border-color: transparent;\n",
              "      border-right-color: var(--fill-color);\n",
              "      border-top-color: var(--fill-color);\n",
              "    }\n",
              "    60% {\n",
              "      border-color: transparent;\n",
              "      border-right-color: var(--fill-color);\n",
              "    }\n",
              "    80% {\n",
              "      border-color: transparent;\n",
              "      border-right-color: var(--fill-color);\n",
              "      border-bottom-color: var(--fill-color);\n",
              "    }\n",
              "    90% {\n",
              "      border-color: transparent;\n",
              "      border-bottom-color: var(--fill-color);\n",
              "    }\n",
              "  }\n",
              "</style>\n",
              "\n",
              "      <script>\n",
              "        async function quickchart(key) {\n",
              "          const quickchartButtonEl =\n",
              "            document.querySelector('#' + key + ' button');\n",
              "          quickchartButtonEl.disabled = true;  // To prevent multiple clicks.\n",
              "          quickchartButtonEl.classList.add('colab-df-spinner');\n",
              "          try {\n",
              "            const charts = await google.colab.kernel.invokeFunction(\n",
              "                'suggestCharts', [key], {});\n",
              "          } catch (error) {\n",
              "            console.error('Error during call to suggestCharts:', error);\n",
              "          }\n",
              "          quickchartButtonEl.classList.remove('colab-df-spinner');\n",
              "          quickchartButtonEl.classList.add('colab-df-quickchart-complete');\n",
              "        }\n",
              "        (() => {\n",
              "          let quickchartButtonEl =\n",
              "            document.querySelector('#df-363846ea-c622-4e28-834d-a0e6386d687b button');\n",
              "          quickchartButtonEl.style.display =\n",
              "            google.colab.kernel.accessAllowed ? 'block' : 'none';\n",
              "        })();\n",
              "      </script>\n",
              "    </div>\n",
              "\n",
              "    </div>\n",
              "  </div>\n"
            ],
            "application/vnd.google.colaboratory.intrinsic+json": {
              "type": "dataframe",
              "variable_name": "full",
              "summary": "{\n  \"name\": \"full\",\n  \"rows\": 15414,\n  \"fields\": [\n    {\n      \"column\": \"filename\",\n      \"properties\": {\n        \"dtype\": \"string\",\n        \"num_unique_values\": 14260,\n        \"samples\": [\n          \"dd5690dee2758530078461ea9eef3dccfd6af6263bdb19fe2ae484309fe6840c.exe\",\n          \"6725f8ee4487bbe742314f108c2a9095fec38f5e662e48101288e3fb805fddac\",\n          \"80935dce43265e78bc3c61495585d496c649b021c656a1501c21ee533a536a67\"\n        ],\n        \"semantic_type\": \"\",\n        \"description\": \"\"\n      }\n    },\n    {\n      \"column\": \"static_seq\",\n      \"properties\": {\n        \"dtype\": \"category\",\n        \"num_unique_values\": 4823,\n        \"samples\": [\n          \"push:0x401000;mov:0x401001;call:0x401003;mov:0x401008;push:0x40100d;call:0x40100e;add:0x401013;mov:0x401016;pop:0x40101b;ret:0x40101c;int3:0x40101d;int3:0x40101e;int3:0x40101f;push:0x401020;mov:0x401021;call:0x401023;mov:0x401028;push:0x40102d;call:0x40102e;add:0x401033;mov:0x401036;pop:0x40103b;ret:0x40103c;int3:0x40103d;int3:0x40103e;int3:0x40103f;push:0x401040;mov:0x401041;mov:0x401043;mov:0x401046;pop:0x401049;ret:0x40104a;int3:0x40104b;int3:0x40104c;int3:0x40104d;int3:0x40104e;int3:0x40104f;push:0x401050;mov:0x401051;sub:0x401053;mov:0x401056;mov:0x40105b;mov:0x40105e;mov:0x401065;mov:0x40106c;movzx:0x40106f;cmp:0x401072;je:0x401075;mov:0x401077;movzx:0x40107a;cmp:0x40107d;je:0x401083;mov:0x401085;movzx:0x401088;cmp:0x40108b;je:0x40108e;xor:0x401090;jmp:0x401092;mov:0x401094;mov:0x401099;mov:0x40109c;mov:0x40109f;mov:0x4010a4;mov:0x4010a7;mov:0x4010ab;mov:0x4010b0;mov:0x4010b3;mov:0x4010b7;mov:0x4010bc;mov:0x4010bf;mov:0x4010c3;mov:0x4010c8;mov:0x4010cb;mov:0x4010cf;mov:0x4010d5;lea:0x4010d8;push:0x4010db;mov:0x4010dc;push:0x4010df;push:0x4010e0;call:0x4010e5;test:0x4010e8;jne:0x4010ea;mov:0x4010ec;jmp:0x4010f1;jmp:0x4010f3;call:0x4010f5;xor:0x4010fa;mov:0x4010fc;pop:0x4010fe;ret:0x4010ff;push:0x401100;mov:0x401101;sub:0x401103;mov:0x401109;mov:0x401113;mov:0x40111d;jmp:0x401127;mov:0x401129;add:0x40112f;mov:0x401132;mov:0x401138;cmp:0x40113e;jae:0x401141;mov:0x401143;add:0x401149;mov:0x40114f;mov:0x401155;add:0x401158;mov:0x40115e;mov:0x401164;mov:0x40116a;add:0x40116c;mov:0x401172;mov:0x401178;mov:0x40117a;mov:0x401180;mov:0x401186;mov:0x40118c;xor:0x40118e;mov:0x401194;mov:0x40119a;jmp:0x40119c;mov:0x40119e;pop:0x4011a0;ret:0x4011a1;int3:0x4011a2;int3:0x4011a3;int3:0x4011a4;int3:0x4011a5;int3:0x4011a6;int3:0x4011a7;int3:0x4011a8;int3:0x4011a9;int3:0x4011aa;int3:0x4011ab;int3:0x4011ac;int3:0x4011ad;int3:0x4011ae;int3:0x4011af;push:0x4011b0;mov:0x4011b1;sub:0x4011b3;push:0x4011b9;push:0x4011ba;push:0x4011bb;mov:0x4011bc;mov:0x4011c6;pushal:0x4011cc;mov:0x4011cd;mov:0x4011d7;call:0x4011e1;test:0x4011e6;je:0x4011e8;call:0x4011ea;mov:0x4011ef;push:0x4011f4;call:0x4011f5;add:0x4011fa;mov:0x4011fd;mov:0x401202;push:0x401208;call:0x401209;add:0x40120e;mov:0x401211;mov:0x401216;mov:0x40121c;mov:0x401222;mov:0x40122c;mov:0x401236;mov:0x401240;mov:0x40124a;mov:0x401254;mov:0x40125e;cmp:0x401264;jae:0x40126a;mov:0x401270;push:0x401276;mov:0x401277;push:0x40127d;call:0x40127e;add:0x401283;mov:0x401286;call:0x40128c;mov:0x401291;push:0x401297;mov:0x401298;add:0x40129e;push:0x4012a4;mov:0x4012a5;add:0x4012ab;push:0x4012b1;call:0x4012b2;add:0x4012b7;mov:0x4012ba;add:0x4012c0;add:0x4012c6;mov:0x4012cc;mov:0x4012d2;add:0x4012d8;mov:0x4012de;mov:0x4012e4;sub:0x4012ea;mov:0x4012f0;jmp:0x4012f6;mov:0x4012fb;push:0x401300;mov:0x401301;push:0x401307;call:0x401308;add:0x40130d;mov:0x401310;mov:0x40131a;mov:0x401324;push:0x40132a;push:0x40132b;mov:0x40132d;push:0x401332;call:0x401333;add:0x401338;mov:0x40133b;mov:0x401341;mov:0x401347;cmp:0x40134d;jae:0x401353;mov:0x401359;push:0x40135f;mov:0x401360;push:0x401366;call:0x401367;add:0x40136c;mov:0x40136f;mov:0x401375;push:0x40137b;mov:0x40137c;add:0x401381;push:0x401387;mov:0x401388;add:0x40138e;push:0x401394;call:0x401395;add:0x40139a;mov:0x40139d;add:0x4013a3;add:0x4013a9;mov:0x4013af;mov:0x4013b5;add:0x4013bb;mov:0x4013c1;mov:0x4013c7;sub:0x4013cd;mov:0x4013d3;jmp:0x4013d9;mov:0x4013de;push:0x4013e4;mov:0x4013e5;push:0x4013ea;call:0x4013eb;add:0x4013f0;mov:0x4013f3;mov:0x4013fd;mov:0x401403;mov:0x401409;push:0x40140b;call:0x401410;add:0x401415;mov:0x401418;mov:0x40141d;add:0x401422;mov:0x401427;push:0x40142c;mov:0x401431;push:0x401437;mov:0x401438;push:0x40143e;call:0x40143f;add:0x401444;mov:0x401447;add:0x40144c;mov:0x401451;popal:0x401456;mov:0x401457;push:0x401459;mov:0x40145b;mov:0x401461;sub:0x401463;mov:0x401466;mov:0x40146b;ret:0x40146f;xor:0x401470;pop:0x401472;pop:0x401473;pop:0x401474;mov:0x401475;pop:0x401477;ret:0x401478;int3:0x401479;int3:0x40147a;int3:0x40147b;int3:0x40147c;int3:0x40147d;int3:0x40147e;int3:0x40147f;push:0x401480;mov:0x401481;call:0x401483;pop:0x401488;ret:0x401489;int3:0x40148a;int3:0x40148b;int3:0x40148c;int3:0x40148d;int3:0x40148e;int3:0x40148f;push:0x401490;mov:0x401491;mov:0x401493;sub:0x401498;shr:0x40149b;mov:0x40149d;pop:0x4014a2;ret:0x4014a3;int3:0x4014a4;int3:0x4014a5;int3:0x4014a6;int3:0x4014a7;int3:0x4014a8;int3:0x4014a9;int3:0x4014aa;int3:0x4014ab;int3:0x4014ac;int3:0x4014ad;int3:0x4014ae;int3:0x4014af;push:0x4014b0;mov:0x4014b1;pop:0x4014b3;ret:0x4014b4;int3:0x4014b7;int3:0x4014b8;int3:0x4014b9;int3:0x4014ba;int3:0x4014bb;int3:0x4014bc;int3:0x4014bd;int3:0x4014be;int3:0x4014bf;push:0x4014c0;mov:0x4014c1;pop:0x4014c3;ret:0x4014c4;int3:0x4014c7;int3:0x4014c8;int3:0x4014c9;int3:0x4014ca;int3:0x4014cb;int3:0x4014cc;int3:0x4014cd;int3:0x4014ce;int3:0x4014cf;push:0x4014d0;mov:0x4014d1;sub:0x4014d3;mov:0x4014d6;mov:0x4014dd;mov:0x4014e4;add:0x4014e7;mov:0x4014ea;mov:0x4014ed;mov:0x4014f0;mov:0x4014f3;mov:0x4014f6;mov:0x4014fc;pop:0x4014fe;ret:0x4014ff;push:0x401500;mov:0x401501;sub:0x401503;mov:0x401506;mov:0x40150d;add:0x401510;mov:0x401515;mov:0x40151a;mov:0x401520;mov:0x401523;pop:0x401525;ret:0x401526;int3:0x401527;int3:0x401528;int3:0x401529;int3:0x40152a;int3:0x40152b;int3:0x40152c;int3:0x40152d;int3:0x40152e;int3:0x40152f;push:0x401530;mov:0x401531;sub:0x401533;mov:0x401536;mov:0x40153d;mov:0x401544;mov:0x40154b;mov:0x401552;mov:0x401559;mov:0x401560;mov:0x401567;mov:0x40156e;mov:0x401575;mov:0x40157c;mov:0x401583;mov:0x40158a;mov:0x401591;mov:0x401598;mov:0x40159f;mov:0x4015a6;mov:0x4015ad;mov:0x4015b4;mov:0x4015bb;mov:0x4015c2;mov:0x4015c9;mov:0x4015d0;mov:0x4015d7;mov:0x4015de;mov:0x4015e5;mov:0x4015ec;mov:0x4015f3;mov:0x4015fa;mov:0x401601;mov:0x401608;mov:0x40160f;mov:0x401616;mov:0x40161d;mov:0x401624;mov:0x40162b;mov:0x401632;mov:0x401639;mov:0x401640;mov:0x401647;mov:0x40164e;mov:0x401655;mov:0x40165c;mov:0x401663;mov:0x40166a;mov:0x401671;mov:0x401678;mov:0x40167f;mov:0x401686;mov:0x40168d;mov:0x401694;mov:0x40169b;mov:0x4016a2;mov:0x4016a9;mov:0x4016b0;mov:0x4016b7;mov:0x4016be;mov:0x4016c5;mov:0x4016cc;mov:0x4016d3;mov:0x4016da;mov:0x4016e1;mov:0x4016e8;mov:0x4016ef;mov:0x4016f6;mov:0x4016fd;mov:0x401704;mov:0x40170b;mov:0x401712;mov:0x401719;mov:0x401720;mov:0x401727;mov:0x40172e;mov:0x401735;mov:0x40173c;mov:0x401743;mov:0x40174a;mov:0x401751;mov:0x401758;mov:0x40175f;jmp:0x401766;mov:0x401768;add:0x40176b;mov:0x40176e;mov:0x401771;cmp:0x401774;jae:0x40177a;mov:0x40177c;push:0x40177f;mov:0x401780;push:0x401785;call:0x401786;add:0x40178b;sar:0x40178e;cmp:0x401791;jne:0x401794;mov:0x401796;push:0x401799;mov:0x40179a;push:0x4017a0;call:0x4017a1;add:0x4017a6;and:0x4017a9;add:0x4017ae;mov:0x4017b3;mov:0x4017b6;mov:0x4017b9;add:0x4017bc;mov:0x4017be;mov:0x4017c1;add:0x4017c8;mov:0x4017cb;mov:0x4017ce;add:0x4017d1;mov:0x4017d3;mov:0x4017d6;jmp:0x4017dd;mov:0x4017df;pop:0x4017e1;ret:0x4017e2;int3:0x4017e3;int3:0x4017e4;int3:0x4017e5;int3:0x4017e6;int3:0x4017e7;int3:0x4017e8;int3:0x4017e9;int3:0x4017ea;int3:0x4017eb;int3:0x4017ec;int3:0x4017ed;int3:0x4017ee;int3:0x4017ef;push:0x4017f0;mov:0x4017f1;sub:0x4017f3;push:0x4017f9;lea:0x4017fe;push:0x401804;call:0x401805;mov:0x40180b;jmp:0x401815;mov:0x401817;add:0x40181d;mov:0x401820;mov:0x401826;cmp:0x40182c;jge:0x40182f;cmp:0x401835;jne:0x40183c;mov:0x401842;mov:0x40184c;mov:0x401851;mov:0x401857;mov:0x40185a;mov:0x40185f;mov:0x401865;mov:0x401869;mov:0x40186e;mov:0x401874;mov:0x401878;mov:0x40187d;mov:0x401883;mov:0x401887;mov:0x40188c;mov:0x401892;mov:0x401896;mov:0x40189b;mov:0x4018a1;mov:0x4018a5;mov:0x4018aa;mov:0x4018b0;mov:0x4018b4;mov:0x4018b9;mov:0x4018bf;mov:0x4018c3;push:0x4018c9;lea:0x4018ca;push:0x4018d0;call:0x4018d1;push:0x4018d7;push:0x4018d9;push:0x4018de;push:0x4018e0;push:0x4018e2;push:0x4018e4;lea:0x4018e6;push:0x4018ec;call:0x4018ed;mov:0x4018f3;cmp:0x4018f9;je:0x401900;cmp:0x401902;jne:0x401909;jmp:0x40190b;mov:0x40190d;add:0x401910;mov:0x401916;add:0x401919;mov:0x40191f;mov:0x401921;jmp:0x401923;mov:0x401928;cmp:0x40192b;jne:0x401931;mov:0x401933;sub:0x401939;push:0x40193f;mov:0x401940;push:0x401945;mov:0x401946;push:0x40194c;call:0x40194d;add:0x401952;mov:0x401955;push:0x40195b;call:0x40195c;mov:0x401962;pop:0x401964;ret:0x401965;int3:0x401966;int3:0x401967;int3:0x401968;int3:0x401969;int3:0x40196a;int3:0x40196b;int3:0x40196c;int3:0x40196d;int3:0x40196e;int3:0x40196f;push:0x401970;mov:0x401971;mov:0x401973;mov:0x401976;add:0x401979;mov:0x40197c;pop:0x40197e;ret:0x40197f;push:0x401980;mov:0x401981;sub:0x401983;mov:0x401989;mov:0x401990;mov:0x40199a;mov:0x4019a1;mov:0x4019ab;mov:0x4019b5;mov:0x4019ba;push:0x4019bf;lea:0x4019c4;push:0x4019ca;call:0x4019cb;mov:0x4019d1;mov:0x4019d7;mov:0x4019dd;mov:0x4019e2;mov:0x4019e7;push:0x4019ea;mov:0x4019eb;push:0x4019f1;mov:0x4019f2;push:0x4019f5;mov:0x4019f6;push:0x4019fc;push:0x4019fd;call:0x4019ff;mov:0x401a05;pop:0x401a07;ret:0x401a08;int3:0x401a09;int3:0x401a0a;int3:0x401a0b;int3:0x401a0c;int3:0x401a0d;int3:0x401a0e;int3:0x401a0f;push:0x401a10;mov:0x401a11;push:0x401a13;mov:0x401a14;mov:0x401a1b;mov:0x401a1d;mov:0x401a1f;mov:0x401a21;mov:0x401a23;mov:0x401a25;mov:0x401a27;mov:0x401a29;mov:0x401a2b;mov:0x401a31;mov:0x401a33;mov:0x401a35;mov:0x401a37;add:0x401a39;mov:0x401a3c;mov:0x401a3e;mov:0x401a40;mov:0x401a42;jmp:0x401a44;mov:0x401a4a;pop:0x401a4c;ret:0x401a4d;int3:0x401a4e;int3:0x401a4f;push:0x401a50;mov:0x401a51;sub:0x401a53;mov:0x401a56;mov:0x401a59;mov:0x401a5c;mov:0x401a5f;mov:0x401a62;mov:0x401a69;mov:0x401a6c;mov:0x401a72;mov:0x401a75;mov:0x401a7a;mov:0x401a80;mov:0x401a83;mov:0x401a89;mov:0x401a8c;mov:0x401a8f;lea:0x401a92;mov:0x401a95;mov:0x401a98;mov:0x401a9b;mov:0x401a9e;movzx:0x401aa1;mov:0x401aa4;mov:0x401aa7;mov:0x401aaa;pop:0x401aac;ret:0x401aad;int3:0x401aae;int3:0x401aaf;push:0x401ab0;mov:0x401ab1;sub:0x401ab3;mov:0x401ab6;mov:0x401ab9;mov:0x401abc;mov:0x401abf;mov:0x401ac2;mov:0x401ac9;cmp:0x401acc;jae:0x401acf;mov:0x401ad1;mov:0x401ad8;jmp:0x401adb;jmp:0x401add;mov:0x401adf;mov:0x401ae6;mov:0x401ae9;pop:0x401aeb;ret:0x401aec;int3:0x401aed;int3:0x401aee;int3:0x401aef;push:0x401af0;mov:0x401af1;sub:0x401af3;mov:0x401af6;cmp:0x401af9;je:0x401afd;mov:0x401aff;add:0x401b02;mov:0x401b05;mov:0x401b0b;mov:0x401b0e;mov:0x401b11;call:0x401b16;mov:0x401b1b;mov:0x401b1e;mov:0x401b24;push:0x401b27;mov:0x401b28;push:0x401b2b;push:0x401b2c;call:0x401b2e;add:0x401b33;mov:0x401b36;jmp:0x401b39;mov:0x401b3b;pop:0x401b3d;ret:0x401b3e;int3:0x401b3f;push:0x401b40;mov:0x401b41;cmp:0x401b43;jne:0x401b47;mov:0x401b49;mov:0x401b4e;mov:0x401b51;push:0x401b54;mov:0x401b55;push:0x401b58;mov:0x401b59;push:0x401b5c;call:0x401b5d;add:0x401b62;mov:0x401b65;push:0x401b68;call:0x401b69;add:0x401b6e;mov:0x401b71;mov:0x401b74;pop:0x401b77;ret:0x401b78;int3:0x401b79;int3:0x401b7a;int3:0x401b7b;int3:0x401b7c;int3:0x401b7d;int3:0x401b7e;int3:0x401b7f;push:0x401b80;mov:0x401b81;mov:0x401b83;mov:0x401b88;push:0x401b8d;push:0x401b92;call:0x401b97;push:0x401b9d;call:0x401b9e;mov:0x401ba4;pop:0x401ba9;ret:0x401baa;int3:0x401bab;add:0x401bac;add:0x401bae;add:0x401bb0;add:0x401bb2;add:0x401bb4;add:0x401bb6;add:0x401bb8;add:0x401bba;add:0x401bbc;add:0x401bbe;add:0x401bc0;add:0x401bc2;add:0x401bc4;add:0x401bc6;add:0x401bc8;add:0x401bca;add:0x401bcc;add:0x401bce;add:0x401bd0;add:0x401bd2;add:0x401bd4;add:0x401bd6;add:0x401bd8;add:0x401bda;add:0x401bdc;add:0x401bde;add:0x401be0;add:0x401be2;add:0x401be4;add:0x401be6;add:0x401be8;add:0x401bea;add:0x401bec;add:0x401bee;add:0x401bf0;add:0x401bf2;add:0x401bf4;add:0x401bf6;add:0x401bf8;add:0x401bfa;add:0x401bfc;add:0x401bfe;add:0x401c00;add:0x401c02;add:0x401c04;add:0x401c06;add:0x401c08;add:0x401c0a;add:0x401c0c;add:0x401c0e;add:0x401c10;add:0x401c12;add:0x401c14;add:0x401c16;add:0x401c18;add:0x401c1a;add:0x401c1c;add:0x401c1e;add:0x401c20;add:0x401c22;add:0x401c24;add:0x401c26;add:0x401c28;add:0x401c2a;add:0x401c2c;add:0x401c2e;add:0x401c30;add:0x401c32;add:0x401c34;add:0x401c36;add:0x401c38;add:0x401c3a;add:0x401c3c;add:0x401c3e;add:0x401c40;add:0x401c42;add:0x401c44;add:0x401c46;add:0x401c48;add:0x401c4a;add:0x401c4c;add:0x401c4e;add:0x401c50;add:0x401c52;add:0x401c54;add:0x401c56;add:0x401c58;add:0x401c5a;add:0x401c5c;add:0x401c5e;add:0x401c60;add:0x401c62;add:0x401c64;add:0x401c66;add:0x401c68;add:0x401c6a;add:0x401c6c;add:0x401c6e;add:0x401c70;add:0x401c72;add:0x401c74;add:0x401c76;add:0x401c78;add:0x401c7a;add:0x401c7c;add:0x401c7e;add:0x401c80;add:0x401c82;add:0x401c84;add:0x401c86;add:0x401c88;add:0x401c8a;add:0x401c8c;add:0x401c8e;add:0x401c90;add:0x401c92;add:0x401c94;add:0x401c96;add:0x401c98;add:0x401c9a;add:0x401c9c;add:0x401c9e;add:0x401ca0;add:0x401ca2;add:0x401ca4;add:0x401ca6;add:0x401ca8;add:0x401caa;add:0x401cac;add:0x401cae;add:0x401cb0;add:0x401cb2;add:0x401cb4;add:0x401cb6;add:0x401cb8;add:0x401cba;add:0x401cbc;add:0x401cbe;add:0x401cc0;add:0x401cc2;add:0x401cc4;add:0x401cc6;add:0x401cc8;add:0x401cca;add:0x401ccc;add:0x401cce;add:0x401cd0;add:0x401cd2;add:0x401cd4;add:0x401cd6;add:0x401cd8;add:0x401cda;add:0x401cdc;add:0x401cde;add:0x401ce0;add:0x401ce2;add:0x401ce4;add:0x401ce6;add:0x401ce8;add:0x401cea;add:0x401cec;add:0x401cee;add:0x401cf0;add:0x401cf2;add:0x401cf4;add:0x401cf6;add:0x401cf8;add:0x401cfa;add:0x401cfc;add:0x401cfe;add:0x401d00;add:0x401d02;add:0x401d04;add:0x401d06;add:0x401d08;add:0x401d0a;add:0x401d0c;add:0x401d0e;add:0x401d10;add:0x401d12;add:0x401d14;add:0x401d16;add:0x401d18;add:0x401d1a;add:0x401d1c;add:0x401d1e;add:0x401d20;add:0x401d22;add:0x401d24;add:0x401d26;add:0x401d28;add:0x401d2a;add:0x401d2c;add:0x401d2e;add:0x401d30;add:0x401d32;add:0x401d34;add:0x401d36;add:0x401d38;add:0x401d3a;add:0x401d3c;add:0x401d3e;add:0x401d40;add:0x401d42;add:0x401d44;add:0x401d46;add:0x401d48;add:0x401d4a;add:0x401d4c;add:0x401d4e;add:0x401d50;add:0x401d52;add:0x401d54;add:0x401d56;add:0x401d58;add:0x401d5a;add:0x401d5c;add:0x401d5e;add:0x401d60;add:0x401d62;add:0x401d64;add:0x401d66;add:0x401d68;add:0x401d6a;add:0x401d6c;add:0x401d6e;add:0x401d70;add:0x401d72;add:0x401d74;add:0x401d76;add:0x401d78;add:0x401d7a;add:0x401d7c;add:0x401d7e;add:0x401d80;add:0x401d82;add:0x401d84;add:0x401d86;add:0x401d88;add:0x401d8a;add:0x401d8c;add:0x401d8e;add:0x401d90;add:0x401d92;add:0x401d94;add:0x401d96;add:0x401d98;add:0x401d9a;add:0x401d9c;add:0x401d9e;add:0x401da0;add:0x401da2;add:0x401da4;add:0x401da6;add:0x401da8;add:0x401daa;add:0x401dac;add:0x401dae;add:0x401db0;add:0x401db2;add:0x401db4;add:0x401db6;add:0x401db8;add:0x401dba;add:0x401dbc;add:0x401dbe;add:0x401dc0;add:0x401dc2;add:0x401dc4;add:0x401dc6;add:0x401dc8;add:0x401dca;add:0x401dcc;add:0x401dce;add:0x401dd0;add:0x401dd2;add:0x401dd4;add:0x401dd6;add:0x401dd8;add:0x401dda;add:0x401ddc;add:0x401dde;add:0x401de0;add:0x401de2;add:0x401de4;add:0x401de6;add:0x401de8;add:0x401dea;add:0x401dec;add:0x401dee;add:0x401df0;add:0x401df2;add:0x401df4;add:0x401df6;add:0x401df8;add:0x401dfa;add:0x401dfc;add:0x401dfe;add:0x401e00;add:0x401e02;add:0x401e04;add:0x401e06;add:0x401e08;add:0x401e0a;add:0x401e0c;add:0x401e0e;add:0x401e10;add:0x401e12;add:0x401e14;add:0x401e16;add:0x401e18;add:0x401e1a;add:0x401e1c;add:0x401e1e;add:0x401e20;add:0x401e22;add:0x401e24;add:0x401e26;add:0x401e28;add:0x401e2a;add:0x401e2c;add:0x401e2e;add:0x401e30;add:0x401e32;add:0x401e34;add:0x401e36;add:0x401e38;add:0x401e3a;add:0x401e3c;add:0x401e3e;add:0x401e40;add:0x401e42;add:0x401e44;add:0x401e46;add:0x401e48;add:0x401e4a;add:0x401e4c;add:0x401e4e;add:0x401e50;add:0x401e52;add:0x401e54;add:0x401e56;add:0x401e58;add:0x401e5a;add:0x401e5c;add:0x401e5e;add:0x401e60;add:0x401e62;add:0x401e64;add:0x401e66;add:0x401e68;add:0x401e6a;add:0x401e6c;add:0x401e6e;add:0x401e70;add:0x401e72;add:0x401e74;add:0x401e76;add:0x401e78;add:0x401e7a;add:0x401e7c;add:0x401e7e;add:0x401e80;add:0x401e82;add:0x401e84;add:0x401e86;add:0x401e88;add:0x401e8a;add:0x401e8c;add:0x401e8e;add:0x401e90;add:0x401e92;add:0x401e94;add:0x401e96;add:0x401e98;add:0x401e9a;add:0x401e9c;add:0x401e9e;add:0x401ea0;add:0x401ea2;add:0x401ea4;add:0x401ea6;add:0x401ea8;add:0x401eaa;add:0x401eac;add:0x401eae;add:0x401eb0;add:0x401eb2;add:0x401eb4;add:0x401eb6;add:0x401eb8;add:0x401eba;add:0x401ebc;add:0x401ebe;add:0x401ec0;add:0x401ec2;add:0x401ec4;add:0x401ec6;add:0x401ec8;add:0x401eca;add:0x401ecc;add:0x401ece;add:0x401ed0;add:0x401ed2;add:0x401ed4;add:0x401ed6;add:0x401ed8;add:0x401eda;add:0x401edc;add:0x401ede;add:0x401ee0;add:0x401ee2;add:0x401ee4;add:0x401ee6;add:0x401ee8;add:0x401eea;add:0x401eec;add:0x401eee;add:0x401ef0;add:0x401ef2;add:0x401ef4;add:0x401ef6;add:0x401ef8;add:0x401efa;add:0x401efc;add:0x401efe;add:0x401f00;add:0x401f02;add:0x401f04;add:0x401f06;add:0x401f08;add:0x401f0a;add:0x401f0c;add:0x401f0e;add:0x401f10;add:0x401f12;add:0x401f14;add:0x401f16;add:0x401f18;add:0x401f1a;add:0x401f1c;add:0x401f1e;add:0x401f20;add:0x401f22;add:0x401f24;add:0x401f26;add:0x401f28;add:0x401f2a;add:0x401f2c;add:0x401f2e;add:0x401f30;add:0x401f32;add:0x401f34;add:0x401f36;add:0x401f38;add:0x401f3a;add:0x401f3c;add:0x401f3e;add:0x401f40;add:0x401f42;add:0x401f44;add:0x401f46;add:0x401f48;add:0x401f4a;add:0x401f4c;add:0x401f4e;add:0x401f50;add:0x401f52;add:0x401f54;add:0x401f56;add:0x401f58;add:0x401f5a;add:0x401f5c;add:0x401f5e;add:0x401f60;add:0x401f62;add:0x401f64;add:0x401f66;add:0x401f68;add:0x401f6a;add:0x401f6c;add:0x401f6e;add:0x401f70;add:0x401f72;add:0x401f74;add:0x401f76;add:0x401f78;add:0x401f7a;add:0x401f7c;add:0x401f7e;add:0x401f80;add:0x401f82;add:0x401f84;add:0x401f86;add:0x401f88;add:0x401f8a;add:0x401f8c;add:0x401f8e;add:0x401f90;add:0x401f92;add:0x401f94;add:0x401f96;add:0x401f98;add:0x401f9a;add:0x401f9c;add:0x401f9e;add:0x401fa0;add:0x401fa2;add:0x401fa4;add:0x401fa6;add:0x401fa8;add:0x401faa;add:0x401fac;add:0x401fae;add:0x401fb0;add:0x401fb2;add:0x401fb4;add:0x401fb6;add:0x401fb8;add:0x401fba;add:0x401fbc;add:0x401fbe;add:0x401fc0;add:0x401fc2;add:0x401fc4;add:0x401fc6;add:0x401fc8;add:0x401fca;add:0x401fcc;add:0x401fce;add:0x401fd0;add:0x401fd2;add:0x401fd4;add:0x401fd6;add:0x401fd8;add:0x401fda;add:0x401fdc;add:0x401fde;add:0x401fe0;add:0x401fe2;add:0x401fe4;add:0x401fe6;add:0x401fe8;add:0x401fea;add:0x401fec;add:0x401fee;add:0x401ff0;add:0x401ff2;add:0x401ff4;add:0x401ff6;add:0x401ff8;add:0x401ffa;add:0x401ffc;add:0x401ffe;add:0x402000;add:0x402002;add:0x402004;add:0x402006;add:0x402008;add:0x40200a;add:0x40200c;add:0x40200e;add:0x402010;add:0x402012;add:0x402014;add:0x402016;add:0x402018;add:0x40201a;add:0x40201c;add:0x40201e;add:0x402020;add:0x402022;add:0x402024;add:0x402026;add:0x402028;add:0x40202a;add:0x40202c;add:0x40202e;add:0x402030;add:0x402032;add:0x402034;add:0x402036;add:0x402038;add:0x40203a;add:0x40203c;add:0x40203e;add:0x402040;add:0x402042;add:0x402044;add:0x402046;add:0x402048;add:0x40204a;add:0x40204c;add:0x40204e;add:0x402050;add:0x402052;add:0x402054;add:0x402056;add:0x402058;add:0x40205a;add:0x40205c;add:0x40205e;add:0x402060;add:0x402062;add:0x402064;add:0x402066;add:0x402068;add:0x40206a;add:0x40206c;add:0x40206e;add:0x402070;add:0x402072;add:0x402074;add:0x402076;add:0x402078;add:0x40207a;add:0x40207c;add:0x40207e;add:0x402080;add:0x402082;add:0x402084;add:0x402086;add:0x402088;add:0x40208a;add:0x40208c;add:0x40208e;add:0x402090;add:0x402092;add:0x402094;add:0x402096;add:0x402098;add:0x40209a;add:0x40209c;add:0x40209e;add:0x4020a0;add:0x4020a2;add:0x4020a4;add:0x4020a6;add:0x4020a8;add:0x4020aa;add:0x4020ac;add:0x4020ae;add:0x4020b0;add:0x4020b2;add:0x4020b4;add:0x4020b6;add:0x4020b8;add:0x4020ba;add:0x4020bc;add:0x4020be;add:0x4020c0;add:0x4020c2;add:0x4020c4;add:0x4020c6;add:0x4020c8;add:0x4020ca;add:0x4020cc;add:0x4020ce;add:0x4020d0;add:0x4020d2;add:0x4020d4;add:0x4020d6;add:0x4020d8;add:0x4020da;add:0x4020dc;add:0x4020de;add:0x4020e0;add:0x4020e2;add:0x4020e4;add:0x4020e6;add:0x4020e8;add:0x4020ea;add:0x4020ec;add:0x4020ee;add:0x4020f0;add:0x4020f2;add:0x4020f4;add:0x4020f6;add:0x4020f8;add:0x4020fa;add:0x4020fc;add:0x4020fe;add:0x402100;add:0x402102;add:0x402104;add:0x402106;add:0x402108;add:0x40210a;add:0x40210c;add:0x40210e;add:0x402110;add:0x402112;add:0x402114;add:0x402116;add:0x402118;add:0x40211a;add:0x40211c;add:0x40211e;add:0x402120;add:0x402122;add:0x402124;add:0x402126;add:0x402128;add:0x40212a;add:0x40212c;add:0x40212e;add:0x402130;add:0x402132;add:0x402134;add:0x402136;add:0x402138;add:0x40213a;add:0x40213c;add:0x40213e;add:0x402140;add:0x402142;add:0x402144;add:0x402146;add:0x402148;add:0x40214a;add:0x40214c;add:0x40214e;add:0x402150;add:0x402152;add:0x402154;add:0x402156;add:0x402158;add:0x40215a;add:0x40215c;add:0x40215e;add:0x402160;add:0x402162;add:0x402164;add:0x402166;add:0x402168;add:0x40216a;add:0x40216c;add:0x40216e;add:0x402170;add:0x402172;add:0x402174;add:0x402176;add:0x402178;add:0x40217a;add:0x40217c;add:0x40217e;add:0x402180;add:0x402182;add:0x402184;add:0x402186;add:0x402188;add:0x40218a;add:0x40218c;add:0x40218e;add:0x402190;add:0x402192;add:0x402194;add:0x402196;add:0x402198;add:0x40219a;add:0x40219c;add:0x40219e;add:0x4021a0;add:0x4021a2;add:0x4021a4;add:0x4021a6;add:0x4021a8;add:0x4021aa;add:0x4021ac;add:0x4021ae;add:0x4021b0;add:0x4021b2;add:0x4021b4;add:0x4021b6;add:0x4021b8;add:0x4021ba;add:0x4021bc;add:0x4021be;add:0x4021c0;add:0x4021c2;add:0x4021c4;add:0x4021c6;add:0x4021c8;add:0x4021ca;add:0x4021cc;add:0x4021ce;add:0x4021d0;add:0x4021d2;add:0x4021d4;add:0x4021d6;add:0x4021d8;add:0x4021da;add:0x4021dc;add:0x4021de;add:0x4021e0;add:0x4021e2;add:0x4021e4;add:0x4021e6;add:0x4021e8;add:0x4021ea;add:0x4021ec;add:0x4021ee;add:0x4021f0;add:0x4021f2;add:0x4021f4;add:0x4021f6;add:0x4021f8;add:0x4021fa;add:0x4021fc;add:0x4021fe;add:0x402200;add:0x402202;add:0x402204;add:0x402206;add:0x402208;add:0x40220a;add:0x40220c;add:0x40220e;add:0x402210;add:0x402212;add:0x402214;add:0x402216;add:0x402218;add:0x40221a;add:0x40221c;add:0x40221e;add:0x402220;add:0x402222;add:0x402224;add:0x402226;add:0x402228;add:0x40222a;add:0x40222c;add:0x40222e;add:0x402230;add:0x402232;add:0x402234;add:0x402236;add:0x402238;add:0x40223a;add:0x40223c;add:0x40223e;add:0x402240;add:0x402242;add:0x402244;add:0x402246;add:0x402248;add:0x40224a;add:0x40224c;add:0x40224e;add:0x402250;add:0x402252;add:0x402254;add:0x402256;add:0x402258;add:0x40225a;add:0x40225c;add:0x40225e;add:0x402260;add:0x402262;add:0x402264;add:0x402266;add:0x402268;add:0x40226a;add:0x40226c;add:0x40226e;add:0x402270;add:0x402272;add:0x402274;add:0x402276;add:0x402278;add:0x40227a;add:0x40227c;add:0x40227e;add:0x402280;add:0x402282;add:0x402284;add:0x402286;add:0x402288;add:0x40228a;add:0x40228c;add:0x40228e;add:0x402290;add:0x402292;add:0x402294;add:0x402296;add:0x402298;add:0x40229a;add:0x40229c;add:0x40229e;add:0x4022a0;add:0x4022a2;add:0x4022a4;add:0x4022a6;add:0x4022a8;add:0x4022aa;add:0x4022ac;add:0x4022ae;add:0x4022b0;add:0x4022b2;add:0x4022b4;add:0x4022b6;add:0x4022b8;add:0x4022ba;add:0x4022bc;add:0x4022be;add:0x4022c0;add:0x4022c2;add:0x4022c4;add:0x4022c6;add:0x4022c8;add:0x4022ca;add:0x4022cc;add:0x4022ce;add:0x4022d0;add:0x4022d2;add:0x4022d4;add:0x4022d6;add:0x4022d8;add:0x4022da;add:0x4022dc;add:0x4022de;add:0x4022e0;add:0x4022e2;add:0x4022e4;add:0x4022e6;add:0x4022e8;add:0x4022ea;add:0x4022ec;add:0x4022ee;add:0x4022f0;add:0x4022f2;add:0x4022f4;add:0x4022f6;add:0x4022f8;add:0x4022fa;add:0x4022fc;add:0x4022fe;add:0x402300;add:0x402302;add:0x402304;add:0x402306;add:0x402308;add:0x40230a;add:0x40230c;add:0x40230e;add:0x402310;add:0x402312;add:0x402314;add:0x402316;add:0x402318;add:0x40231a;add:0x40231c;add:0x40231e;add:0x402320;add:0x402322;add:0x402324;add:0x402326;add:0x402328;add:0x40232a;add:0x40232c;add:0x40232e;add:0x402330;add:0x402332;add:0x402334;add:0x402336;add:0x402338;add:0x40233a;add:0x40233c;add:0x40233e;add:0x402340;add:0x402342;add:0x402344;add:0x402346;add:0x402348;add:0x40234a;add:0x40234c;add:0x40234e;add:0x402350;add:0x402352;add:0x402354;add:0x402356;add:0x402358;add:0x40235a;add:0x40235c;add:0x40235e;add:0x402360;add:0x402362;add:0x402364;add:0x402366;add:0x402368;add:0x40236a;add:0x40236c;add:0x40236e;add:0x402370;add:0x402372;add:0x402374;add:0x402376;add:0x402378;add:0x40237a;add:0x40237c;add:0x40237e;add:0x402380;add:0x402382;add:0x402384;add:0x402386;add:0x402388;add:0x40238a;add:0x40238c;add:0x40238e;add:0x402390;add:0x402392;add:0x402394;add:0x402396;add:0x402398;add:0x40239a;add:0x40239c;add:0x40239e;add:0x4023a0;add:0x4023a2;add:0x4023a4;add:0x4023a6;add:0x4023a8;add:0x4023aa;add:0x4023ac;add:0x4023ae;add:0x4023b0;add:0x4023b2;add:0x4023b4;add:0x4023b6;add:0x4023b8;add:0x4023ba;add:0x4023bc;add:0x4023be;add:0x4023c0;add:0x4023c2;add:0x4023c4;add:0x4023c6;add:0x4023c8;add:0x4023ca;add:0x4023cc;add:0x4023ce;add:0x4023d0;add:0x4023d2;add:0x4023d4;add:0x4023d6;add:0x4023d8;add:0x4023da;add:0x4023dc;add:0x4023de;add:0x4023e0;add:0x4023e2;add:0x4023e4;add:0x4023e6;add:0x4023e8;add:0x4023ea;add:0x4023ec;add:0x4023ee;add:0x4023f0;add:0x4023f2;add:0x4023f4;add:0x4023f6;add:0x4023f8;add:0x4023fa;add:0x4023fc;add:0x4023fe;add:0x402400;add:0x402402;add:0x402404;add:0x402406;add:0x402408;add:0x40240a;add:0x40240c;add:0x40240e;add:0x402410;add:0x402412;add:0x402414;add:0x402416;add:0x402418;add:0x40241a;add:0x40241c;add:0x40241e;add:0x402420;add:0x402422;add:0x402424;add:0x402426;add:0x402428;add:0x40242a;add:0x40242c;add:0x40242e;add:0x402430;add:0x402432;add:0x402434;add:0x402436;add:0x402438;add:0x40243a;add:0x40243c;add:0x40243e;add:0x402440;add:0x402442;add:0x402444;add:0x402446;add:0x402448;add:0x40244a;add:0x40244c;add:0x40244e;add:0x402450;add:0x402452;add:0x402454;add:0x402456;add:0x402458;add:0x40245a;add:0x40245c;add:0x40245e;add:0x402460;add:0x402462;add:0x402464;add:0x402466;add:0x402468;add:0x40246a;add:0x40246c;add:0x40246e;add:0x402470;add:0x402472;add:0x402474;add:0x402476;add:0x402478;add:0x40247a;add:0x40247c;add:0x40247e;add:0x402480;add:0x402482;add:0x402484;add:0x402486;add:0x402488;add:0x40248a;add:0x40248c;add:0x40248e;add:0x402490;add:0x402492;add:0x402494;add:0x402496;add:0x402498;add:0x40249a;add:0x40249c;add:0x40249e;add:0x4024a0;add:0x4024a2;add:0x4024a4;add:0x4024a6;add:0x4024a8;add:0x4024aa;add:0x4024ac;add:0x4024ae;add:0x4024b0;add:0x4024b2;add:0x4024b4;add:0x4024b6;add:0x4024b8;add:0x4024ba;add:0x4024bc;add:0x4024be;add:0x4024c0;add:0x4024c2;add:0x4024c4;add:0x4024c6;add:0x4024c8;add:0x4024ca;add:0x4024cc;add:0x4024ce;add:0x4024d0;add:0x4024d2;add:0x4024d4;add:0x4024d6;add:0x4024d8;add:0x4024da;add:0x4024dc;add:0x4024de;add:0x4024e0;add:0x4024e2;add:0x4024e4;add:0x4024e6;add:0x4024e8;add:0x4024ea;add:0x4024ec;add:0x4024ee;add:0x4024f0;add:0x4024f2;add:0x4024f4;add:0x4024f6;add:0x4024f8;add:0x4024fa;add:0x4024fc;add:0x4024fe;add:0x402500;add:0x402502;add:0x402504;add:0x402506;add:0x402508;add:0x40250a;add:0x40250c;add:0x40250e;add:0x402510;add:0x402512;add:0x402514;add:0x402516;add:0x402518;add:0x40251a;add:0x40251c;add:0x40251e;add:0x402520;add:0x402522;add:0x402524;add:0x402526;add:0x402528;add:0x40252a;add:0x40252c;add:0x40252e;add:0x402530;add:0x402532;add:0x402534;add:0x402536;add:0x402538;add:0x40253a;add:0x40253c;add:0x40253e;add:0x402540;add:0x402542;add:0x402544;add:0x402546;add:0x402548;add:0x40254a;add:0x40254c;add:0x40254e;add:0x402550;add:0x402552;add:0x402554;add:0x402556;add:0x402558;add:0x40255a;add:0x40255c;add:0x40255e;add:0x402560;add:0x402562;add:0x402564;add:0x402566;add:0x402568;add:0x40256a;add:0x40256c;add:0x40256e;add:0x402570;add:0x402572;add:0x402574;add:0x402576;add:0x402578;add:0x40257a;add:0x40257c;add:0x40257e;add:0x402580;add:0x402582;add:0x402584;add:0x402586;add:0x402588;add:0x40258a;add:0x40258c;add:0x40258e;add:0x402590;add:0x402592;add:0x402594;add:0x402596;add:0x402598;add:0x40259a;add:0x40259c;add:0x40259e;add:0x4025a0;add:0x4025a2;add:0x4025a4;add:0x4025a6;add:0x4025a8;add:0x4025aa;add:0x4025ac;add:0x4025ae;add:0x4025b0;add:0x4025b2;add:0x4025b4;add:0x4025b6;add:0x4025b8;add:0x4025ba;add:0x4025bc;add:0x4025be;add:0x4025c0;add:0x4025c2;add:0x4025c4;add:0x4025c6;add:0x4025c8;add:0x4025ca;add:0x4025cc;add:0x4025ce;add:0x4025d0;add:0x4025d2;add:0x4025d4;add:0x4025d6;add:0x4025d8;add:0x4025da;add:0x4025dc;add:0x4025de;add:0x4025e0;add:0x4025e2;add:0x4025e4;add:0x4025e6;add:0x4025e8;add:0x4025ea;add:0x4025ec;add:0x4025ee;add:0x4025f0;add:0x4025f2;add:0x4025f4;add:0x4025f6;add:0x4025f8;add:0x4025fa;add:0x4025fc;add:0x4025fe;add:0x402600;add:0x402602;add:0x402604;add:0x402606;add:0x402608;add:0x40260a;add:0x40260c;add:0x40260e;add:0x402610;add:0x402612;add:0x402614;add:0x402616;add:0x402618;add:0x40261a;add:0x40261c;add:0x40261e;add:0x402620;add:0x402622;add:0x402624;add:0x402626;add:0x402628;add:0x40262a;add:0x40262c;add:0x40262e;add:0x402630;add:0x402632;add:0x402634;add:0x402636;add:0x402638;add:0x40263a;add:0x40263c;add:0x40263e;add:0x402640;add:0x402642;add:0x402644;add:0x402646;add:0x402648;add:0x40264a;add:0x40264c;add:0x40264e;add:0x402650;add:0x402652;add:0x402654;add:0x402656;add:0x402658;add:0x40265a;add:0x40265c;add:0x40265e;add:0x402660;add:0x402662;add:0x402664;add:0x402666;add:0x402668;add:0x40266a;add:0x40266c;add:0x40266e;add:0x402670;add:0x402672;add:0x402674;add:0x402676;add:0x402678;add:0x40267a;add:0x40267c;add:0x40267e;add:0x402680;add:0x402682;add:0x402684;add:0x402686;add:0x402688;add:0x40268a;add:0x40268c;add:0x40268e;add:0x402690;add:0x402692;add:0x402694;add:0x402696;add:0x402698;add:0x40269a;add:0x40269c;add:0x40269e;add:0x4026a0;add:0x4026a2;add:0x4026a4;add:0x4026a6;add:0x4026a8;add:0x4026aa;add:0x4026ac;add:0x4026ae;add:0x4026b0;add:0x4026b2;add:0x4026b4;add:0x4026b6;add:0x4026b8;add:0x4026ba;add:0x4026bc;add:0x4026be;add:0x4026c0;add:0x4026c2;add:0x4026c4;add:0x4026c6;add:0x4026c8;add:0x4026ca;add:0x4026cc;add:0x4026ce;add:0x4026d0;add:0x4026d2;add:0x4026d4;add:0x4026d6;add:0x4026d8;add:0x4026da;add:0x4026dc;add:0x4026de;add:0x4026e0;add:0x4026e2;add:0x4026e4;add:0x4026e6;add:0x4026e8;add:0x4026ea;add:0x4026ec;add:0x4026ee;add:0x4026f0;add:0x4026f2;add:0x4026f4;add:0x4026f6;add:0x4026f8;add:0x4026fa;add:0x4026fc;add:0x4026fe;add:0x402700;add:0x402702;add:0x402704;add:0x402706;add:0x402708;add:0x40270a;add:0x40270c;add:0x40270e;add:0x402710;add:0x402712;add:0x402714;add:0x402716;add:0x402718;add:0x40271a;add:0x40271c;add:0x40271e;add:0x402720;add:0x402722;add:0x402724;add:0x402726;add:0x402728;add:0x40272a;add:0x40272c;add:0x40272e;add:0x402730;add:0x402732;add:0x402734;add:0x402736;add:0x402738;add:0x40273a;add:0x40273c;add:0x40273e;add:0x402740;add:0x402742;add:0x402744;add:0x402746;add:0x402748;add:0x40274a;add:0x40274c;add:0x40274e;add:0x402750;add:0x402752;add:0x402754;add:0x402756;add:0x402758;add:0x40275a;add:0x40275c;add:0x40275e;add:0x402760;add:0x402762;add:0x402764;add:0x402766;add:0x402768;add:0x40276a;add:0x40276c;add:0x40276e;add:0x402770;add:0x402772;add:0x402774;add:0x402776;add:0x402778;add:0x40277a;add:0x40277c;add:0x40277e;add:0x402780;add:0x402782;add:0x402784;add:0x402786;add:0x402788;add:0x40278a;add:0x40278c;add:0x40278e;add:0x402790;add:0x402792;add:0x402794;add:0x402796;add:0x402798;add:0x40279a;add:0x40279c;add:0x40279e;add:0x4027a0;add:0x4027a2;add:0x4027a4;add:0x4027a6;add:0x4027a8;add:0x4027aa;add:0x4027ac;add:0x4027ae;add:0x4027b0;add:0x4027b2;add:0x4027b4;add:0x4027b6;add:0x4027b8;add:0x4027ba;add:0x4027bc;add:0x4027be;add:0x4027c0;add:0x4027c2;add:0x4027c4;add:0x4027c6;add:0x4027c8;add:0x4027ca;add:0x4027cc;add:0x4027ce;add:0x4027d0;add:0x4027d2;add:0x4027d4;add:0x4027d6;add:0x4027d8;add:0x4027da;add:0x4027dc;add:0x4027de;add:0x4027e0;add:0x4027e2;add:0x4027e4;add:0x4027e6;add:0x4027e8;add:0x4027ea;add:0x4027ec;add:0x4027ee;add:0x4027f0;add:0x4027f2;add:0x4027f4;add:0x4027f6;add:0x4027f8;add:0x4027fa;add:0x4027fc;add:0x4027fe;add:0x402800;add:0x402802;add:0x402804;add:0x402806;add:0x402808;add:0x40280a;add:0x40280c;add:0x40280e;add:0x402810;add:0x402812;add:0x402814;add:0x402816;add:0x402818;add:0x40281a;add:0x40281c;add:0x40281e;add:0x402820;add:0x402822;add:0x402824;add:0x402826;add:0x402828;add:0x40282a;add:0x40282c;add:0x40282e;add:0x402830;add:0x402832;add:0x402834;add:0x402836;add:0x402838;add:0x40283a;add:0x40283c;add:0x40283e;add:0x402840;add:0x402842;add:0x402844;add:0x402846;add:0x402848;add:0x40284a;add:0x40284c;add:0x40284e;add:0x402850;add:0x402852;add:0x402854;add:0x402856;add:0x402858;add:0x40285a;add:0x40285c;add:0x40285e;add:0x402860;add:0x402862;add:0x402864;add:0x402866;add:0x402868;add:0x40286a;add:0x40286c;add:0x40286e;add:0x402870;add:0x402872;add:0x402874;add:0x402876;add:0x402878;add:0x40287a;add:0x40287c;add:0x40287e;add:0x402880;add:0x402882;add:0x402884;add:0x402886;add:0x402888;add:0x40288a;add:0x40288c;add:0x40288e;add:0x402890;add:0x402892;add:0x402894;add:0x402896;add:0x402898;add:0x40289a;add:0x40289c;add:0x40289e;add:0x4028a0;add:0x4028a2;add:0x4028a4;add:0x4028a6;add:0x4028a8;add:0x4028aa;add:0x4028ac;add:0x4028ae;add:0x4028b0;add:0x4028b2;add:0x4028b4;add:0x4028b6;add:0x4028b8;add:0x4028ba;add:0x4028bc;add:0x4028be;add:0x4028c0;add:0x4028c2;add:0x4028c4;add:0x4028c6;add:0x4028c8;add:0x4028ca;add:0x4028cc;add:0x4028ce;add:0x4028d0;add:0x4028d2;add:0x4028d4;add:0x4028d6;add:0x4028d8;add:0x4028da;add:0x4028dc;add:0x4028de;add:0x4028e0;add:0x4028e2;add:0x4028e4;add:0x4028e6;add:0x4028e8;add:0x4028ea;add:0x4028ec;add:0x4028ee;add:0x4028f0;add:0x4028f2;add:0x4028f4;add:0x4028f6;add:0x4028f8;add:0x4028fa;add:0x4028fc;add:0x4028fe;add:0x402900;add:0x402902;add:0x402904;add:0x402906;add:0x402908;add:0x40290a;add:0x40290c;add:0x40290e;add:0x402910;add:0x402912;add:0x402914;add:0x402916;add:0x402918;add:0x40291a;add:0x40291c;add:0x40291e;add:0x402920;add:0x402922;add:0x402924;add:0x402926;add:0x402928;add:0x40292a;add:0x40292c;add:0x40292e;add:0x402930;add:0x402932;add:0x402934;add:0x402936;add:0x402938;add:0x40293a;add:0x40293c;add:0x40293e;add:0x402940;add:0x402942;add:0x402944;add:0x402946;add:0x402948;add:0x40294a;add:0x40294c;add:0x40294e;add:0x402950;add:0x402952;add:0x402954;add:0x402956;add:0x402958;add:0x40295a;add:0x40295c;add:0x40295e;add:0x402960;add:0x402962;add:0x402964;add:0x402966;add:0x402968;add:0x40296a;add:0x40296c;add:0x40296e;add:0x402970;add:0x402972;add:0x402974;add:0x402976;add:0x402978;add:0x40297a;add:0x40297c;add:0x40297e;add:0x402980;add:0x402982;add:0x402984;add:0x402986;add:0x402988;add:0x40298a;add:0x40298c;add:0x40298e;add:0x402990;add:0x402992;add:0x402994;add:0x402996;add:0x402998;add:0x40299a;add:0x40299c;add:0x40299e;add:0x4029a0;add:0x4029a2;add:0x4029a4;add:0x4029a6;add:0x4029a8;add:0x4029aa;add:0x4029ac;add:0x4029ae;add:0x4029b0;add:0x4029b2;add:0x4029b4;add:0x4029b6;add:0x4029b8;add:0x4029ba;add:0x4029bc;add:0x4029be;add:0x4029c0;add:0x4029c2;add:0x4029c4;add:0x4029c6;add:0x4029c8;add:0x4029ca;add:0x4029cc;add:0x4029ce;add:0x4029d0;add:0x4029d2;add:0x4029d4;add:0x4029d6;add:0x4029d8;add:0x4029da;add:0x4029dc;add:0x4029de;add:0x4029e0;add:0x4029e2;add:0x4029e4;add:0x4029e6;add:0x4029e8;add:0x4029ea;add:0x4029ec;add:0x4029ee;add:0x4029f0;add:0x4029f2;add:0x4029f4;add:0x4029f6;add:0x4029f8;add:0x4029fa;add:0x4029fc;add:0x4029fe;add:0x402a00;add:0x402a02;add:0x402a04;add:0x402a06;add:0x402a08;add:0x402a0a;add:0x402a0c;add:0x402a0e;add:0x402a10;add:0x402a12;add:0x402a14;add:0x402a16;add:0x402a18;add:0x402a1a;add:0x402a1c;add:0x402a1e;add:0x402a20;add:0x402a22;add:0x402a24;add:0x402a26;add:0x402a28;add:0x402a2a;add:0x402a2c;add:0x402a2e;add:0x402a30;add:0x402a32;add:0x402a34;add:0x402a36;add:0x402a38;add:0x402a3a;add:0x402a3c;add:0x402a3e;add:0x402a40;add:0x402a42;add:0x402a44;add:0x402a46;add:0x402a48;add:0x402a4a;add:0x402a4c;add:0x402a4e;add:0x402a50;add:0x402a52;add:0x402a54;add:0x402a56;add:0x402a58;add:0x402a5a;add:0x402a5c;add:0x402a5e;add:0x402a60;add:0x402a62;add:0x402a64;add:0x402a66;add:0x402a68;add:0x402a6a;add:0x402a6c;add:0x402a6e;add:0x402a70;add:0x402a72;add:0x402a74;add:0x402a76;add:0x402a78;add:0x402a7a;add:0x402a7c;add:0x402a7e;add:0x402a80;add:0x402a82;add:0x402a84;add:0x402a86;add:0x402a88;add:0x402a8a;add:0x402a8c;add:0x402a8e;add:0x402a90;add:0x402a92;add:0x402a94;add:0x402a96;add:0x402a98;add:0x402a9a;add:0x402a9c;add:0x402a9e;add:0x402aa0;add:0x402aa2;add:0x402aa4;add:0x402aa6;add:0x402aa8;add:0x402aaa;add:0x402aac;add:0x402aae;add:0x402ab0;add:0x402ab2;add:0x402ab4;add:0x402ab6;add:0x402ab8;add:0x402aba;add:0x402abc;add:0x402abe;add:0x402ac0;add:0x402ac2;add:0x402ac4;add:0x402ac6;add:0x402ac8;add:0x402aca;add:0x402acc;add:0x402ace;add:0x402ad0;add:0x402ad2;add:0x402ad4;add:0x402ad6;add:0x402ad8;add:0x402ada;add:0x402adc;add:0x402ade;add:0x402ae0;add:0x402ae2;add:0x402ae4;add:0x402ae6;add:0x402ae8;add:0x402aea;add:0x402aec;add:0x402aee;add:0x402af0;add:0x402af2;add:0x402af4;add:0x402af6;add:0x402af8;add:0x402afa;add:0x402afc;add:0x402afe;add:0x402b00;add:0x402b02;add:0x402b04;add:0x402b06;add:0x402b08;add:0x402b0a;add:0x402b0c;add:0x402b0e;add:0x402b10;add:0x402b12;add:0x402b14;add:0x402b16;add:0x402b18;add:0x402b1a;add:0x402b1c;add:0x402b1e;add:0x402b20;add:0x402b22;add:0x402b24;add:0x402b26;add:0x402b28;add:0x402b2a;add:0x402b2c;add:0x402b2e;add:0x402b30;add:0x402b32;add:0x402b34;add:0x402b36;add:0x402b38;add:0x402b3a;add:0x402b3c;add:0x402b3e;add:0x402b40;add:0x402b42;add:0x402b44;add:0x402b46;add:0x402b48;add:0x402b4a;add:0x402b4c;add:0x402b4e;add:0x402b50;add:0x402b52;add:0x402b54;add:0x402b56;add:0x402b58;add:0x402b5a;add:0x402b5c;add:0x402b5e;add:0x402b60;add:0x402b62;add:0x402b64;add:0x402b66;add:0x402b68;add:0x402b6a;add:0x402b6c;add:0x402b6e;add:0x402b70;add:0x402b72;add:0x402b74;add:0x402b76;add:0x402b78;add:0x402b7a;add:0x402b7c;add:0x402b7e;add:0x402b80;add:0x402b82;add:0x402b84;add:0x402b86;add:0x402b88;add:0x402b8a;add:0x402b8c;add:0x402b8e;add:0x402b90;add:0x402b92;add:0x402b94;add:0x402b96;add:0x402b98;add:0x402b9a;add:0x402b9c;add:0x402b9e;add:0x402ba0;add:0x402ba2;add:0x402ba4;add:0x402ba6;add:0x402ba8;add:0x402baa;add:0x402bac;add:0x402bae;add:0x402bb0;add:0x402bb2;add:0x402bb4;add:0x402bb6;add:0x402bb8;add:0x402bba;add:0x402bbc;add:0x402bbe;add:0x402bc0;add:0x402bc2;add:0x402bc4;add:0x402bc6;add:0x402bc8;add:0x402bca;add:0x402bcc;add:0x402bce;add:0x402bd0;add:0x402bd2;add:0x402bd4;add:0x402bd6;add:0x402bd8;add:0x402bda;add:0x402bdc;add:0x402bde;add:0x402be0;add:0x402be2;add:0x402be4;add:0x402be6;add:0x402be8;add:0x402bea;add:0x402bec;add:0x402bee;add:0x402bf0;add:0x402bf2;add:0x402bf4;add:0x402bf6;add:0x402bf8;add:0x402bfa;add:0x402bfc;add:0x402bfe;add:0x402c00;add:0x402c02;add:0x402c04;add:0x402c06;add:0x402c08;add:0x402c0a;add:0x402c0c;add:0x402c0e;add:0x402c10;add:0x402c12;add:0x402c14;add:0x402c16;add:0x402c18;add:0x402c1a;add:0x402c1c;add:0x402c1e;add:0x402c20;add:0x402c22;add:0x402c24;add:0x402c26;add:0x402c28;add:0x402c2a;add:0x402c2c;add:0x402c2e;add:0x402c30;add:0x402c32;add:0x402c34;add:0x402c36;add:0x402c38;add:0x402c3a;add:0x402c3c;add:0x402c3e;add:0x402c40;add:0x402c42;add:0x402c44;add:0x402c46;add:0x402c48;add:0x402c4a;add:0x402c4c;add:0x402c4e;add:0x402c50;add:0x402c52;add:0x402c54;add:0x402c56;add:0x402c58;add:0x402c5a;add:0x402c5c;add:0x402c5e;add:0x402c60;add:0x402c62;add:0x402c64;add:0x402c66;add:0x402c68;add:0x402c6a;add:0x402c6c;add:0x402c6e;add:0x402c70;add:0x402c72;add:0x402c74;add:0x402c76;add:0x402c78;add:0x402c7a;add:0x402c7c;add:0x402c7e;add:0x402c80;add:0x402c82;add:0x402c84;add:0x402c86;add:0x402c88;add:0x402c8a;add:0x402c8c;add:0x402c8e;add:0x402c90;add:0x402c92;add:0x402c94;add:0x402c96;add:0x402c98;add:0x402c9a;add:0x402c9c;add:0x402c9e;add:0x402ca0;add:0x402ca2;add:0x402ca4;add:0x402ca6;add:0x402ca8;add:0x402caa;add:0x402cac;add:0x402cae;add:0x402cb0;add:0x402cb2;add:0x402cb4;add:0x402cb6;add:0x402cb8;add:0x402cba;add:0x402cbc;add:0x402cbe;add:0x402cc0;add:0x402cc2;add:0x402cc4;add:0x402cc6;add:0x402cc8;add:0x402cca;add:0x402ccc;add:0x402cce;add:0x402cd0;add:0x402cd2;add:0x402cd4;add:0x402cd6;add:0x402cd8;add:0x402cda;add:0x402cdc;add:0x402cde;add:0x402ce0;add:0x402ce2;add:0x402ce4;add:0x402ce6;add:0x402ce8;add:0x402cea;add:0x402cec;add:0x402cee;add:0x402cf0;add:0x402cf2;add:0x402cf4;add:0x402cf6;add:0x402cf8;add:0x402cfa;add:0x402cfc;add:0x402cfe;add:0x402d00;add:0x402d02;add:0x402d04;add:0x402d06;add:0x402d08;add:0x402d0a;add:0x402d0c;add:0x402d0e;add:0x402d10;add:0x402d12;add:0x402d14;add:0x402d16;add:0x402d18;add:0x402d1a;add:0x402d1c;add:0x402d1e;add:0x402d20;add:0x402d22;add:0x402d24;add:0x402d26;add:0x402d28;add:0x402d2a;add:0x402d2c;add:0x402d2e;add:0x402d30;add:0x402d32;add:0x402d34;add:0x402d36;add:0x402d38;add:0x402d3a;add:0x402d3c;add:0x402d3e;add:0x402d40;add:0x402d42;add:0x402d44;add:0x402d46;add:0x402d48;add:0x402d4a;add:0x402d4c;add:0x402d4e;add:0x402d50;add:0x402d52;add:0x402d54;add:0x402d56;add:0x402d58;add:0x402d5a;add:0x402d5c;add:0x402d5e;add:0x402d60;add:0x402d62;add:0x402d64;add:0x402d66;add:0x402d68;add:0x402d6a;add:0x402d6c;add:0x402d6e;add:0x402d70;add:0x402d72;add:0x402d74;add:0x402d76;add:0x402d78;add:0x402d7a;add:0x402d7c;add:0x402d7e;add:0x402d80;add:0x402d82;add:0x402d84;add:0x402d86;add:0x402d88;add:0x402d8a;add:0x402d8c;add:0x402d8e;add:0x402d90;add:0x402d92;add:0x402d94;add:0x402d96;add:0x402d98;add:0x402d9a;add:0x402d9c;add:0x402d9e;add:0x402da0;add:0x402da2;add:0x402da4;add:0x402da6;add:0x402da8;add:0x402daa;add:0x402dac;add:0x402dae;add:0x402db0;add:0x402db2;add:0x402db4;add:0x402db6;add:0x402db8;add:0x402dba;add:0x402dbc;add:0x402dbe;add:0x402dc0;add:0x402dc2;add:0x402dc4;add:0x402dc6;add:0x402dc8;add:0x402dca;add:0x402dcc;add:0x402dce;add:0x402dd0;add:0x402dd2;add:0x402dd4;add:0x402dd6;add:0x402dd8;add:0x402dda;add:0x402ddc;add:0x402dde;add:0x402de0;add:0x402de2;add:0x402de4;add:0x402de6;add:0x402de8;add:0x402dea;add:0x402dec;add:0x402dee;add:0x402df0;add:0x402df2;add:0x402df4;add:0x402df6;add:0x402df8;add:0x402dfa;add:0x402dfc;add:0x402dfe;add:0x402e00;add:0x402e02;add:0x402e04;add:0x402e06;add:0x402e08;add:0x402e0a;add:0x402e0c;add:0x402e0e;add:0x402e10;add:0x402e12;add:0x402e14;add:0x402e16;add:0x402e18;add:0x402e1a;add:0x402e1c;add:0x402e1e;add:0x402e20;add:0x402e22;add:0x402e24;add:0x402e26;add:0x402e28;add:0x402e2a;add:0x402e2c;add:0x402e2e;add:0x402e30;add:0x402e32;add:0x402e34;add:0x402e36;add:0x402e38;add:0x402e3a;add:0x402e3c;add:0x402e3e;add:0x402e40;add:0x402e42;add:0x402e44;add:0x402e46;add:0x402e48;add:0x402e4a;add:0x402e4c;add:0x402e4e;add:0x402e50;add:0x402e52;add:0x402e54;add:0x402e56;add:0x402e58;add:0x402e5a;add:0x402e5c;add:0x402e5e;add:0x402e60;add:0x402e62;add:0x402e64;add:0x402e66;add:0x402e68;add:0x402e6a;add:0x402e6c;add:0x402e6e;add:0x402e70;add:0x402e72;add:0x402e74;add:0x402e76;add:0x402e78;add:0x402e7a;add:0x402e7c;add:0x402e7e;add:0x402e80;add:0x402e82;add:0x402e84;add:0x402e86;add:0x402e88;add:0x402e8a;add:0x402e8c;add:0x402e8e;add:0x402e90;add:0x402e92;add:0x402e94;add:0x402e96;add:0x402e98;add:0x402e9a;add:0x402e9c;add:0x402e9e;add:0x402ea0;add:0x402ea2;add:0x402ea4;add:0x402ea6;add:0x402ea8;add:0x402eaa;add:0x402eac;add:0x402eae;add:0x402eb0;add:0x402eb2;add:0x402eb4;add:0x402eb6;add:0x402eb8;add:0x402eba;add:0x402ebc;add:0x402ebe;add:0x402ec0;add:0x402ec2;add:0x402ec4;add:0x402ec6;add:0x402ec8;add:0x402eca;add:0x402ecc;add:0x402ece;add:0x402ed0;add:0x402ed2;add:0x402ed4;add:0x402ed6;add:0x402ed8;add:0x402eda;add:0x402edc;add:0x402ede;add:0x402ee0;add:0x402ee2;add:0x402ee4;add:0x402ee6;add:0x402ee8;add:0x402eea;add:0x402eec;add:0x402eee;add:0x402ef0;add:0x402ef2;add:0x402ef4;add:0x402ef6;add:0x402ef8;add:0x402efa;add:0x402efc;add:0x402efe;add:0x402f00;add:0x402f02;add:0x402f04;add:0x402f06;add:0x402f08;add:0x402f0a;add:0x402f0c;add:0x402f0e;add:0x402f10;add:0x402f12;add:0x402f14;add:0x402f16;add:0x402f18;add:0x402f1a;add:0x402f1c;add:0x402f1e;add:0x402f20;add:0x402f22;add:0x402f24;add:0x402f26;add:0x402f28;add:0x402f2a;add:0x402f2c;add:0x402f2e;add:0x402f30;add:0x402f32;add:0x402f34;add:0x402f36;pop:0x402f38;add:0x402f3a;push:0x402f3c;pop:0x402f3d;add:0x402f3e;ret:0x402f40;xor:0x402f43;imul:0x402f45;xor:0x402f4f;cmp:0x402f51;add:0x402f53;add:0x402f56;pop:0x402f58;mov:0x402f59;shl:0x402f60;cmp:0x402f63;and:0x402f68;inc:0x402f6c;sub:0x402f6d;out:0x402f73;fnstsw:0x402f76;pop:0x402f78;add:0x402f79;sub:0x402f7c;add:0x402f7f;pop:0x402f81;add:0x402f82;add:0x402f84;xor:0x402f87;imul:0x402f89;push:0x402f8d;xor:0x402f8f;imul:0x402f91;xor:0x402f97;push:0x402f99;xor:0x402f9b;add:0x402f9d;add:0x402f9f;add:0x402fa1;add:0x402fa3;add:0x402fa5;add:0x402fa7;add:0x402fa9;add:0x402fab;add:0x402fad;add:0x402faf;add:0x402fb1;add:0x402fb3;add:0x402fb5;add:0x402fb7;add:0x402fb9;add:0x402fbb;add:0x402fbd;add:0x402fbf;add:0x402fc1;add:0x402fc3;add:0x402fc5;adc:0x402fc8;sbb:0x402fca;xor:0x402fcd;imul:0x402fcf;xor:0x402fd5;push:0x402fd7;mov:0x402fdc;stosd:0x402fde;cmpsb:0x402fdf;xor:0x402fe1;ljmp:0x402fe7;outsb:0x402fef;push:0x402ff0;xor:0x402ff1;outsd:0x402ff3;arpl:0x402ff4;outsd:0x402ff7;xor:0x402ff8;xchg:0x402ffc;xor:0x402ffd;outsb:0x402fff;sahf:0x403000;xor:0x403001;outsb:0x403003;mov:0x403004;xor:0x403009;outsb:0x40300b;out:0x40300c;jo:0x40300e;add:0x403010;or:0x403016;xor:0x403019;mov:0x40301e;insd:0x403023;aad:0x403024;pop:0x403026;imul:0x403027;add:0x40302d;add:0x40302f;add:0x403031;add:0x403033;add:0x403035;add:0x403037;add:0x403039;add:0x40303b;add:0x40303d;add:0x40303f;add:0x403041;add:0x403043;add:0x403045;add:0x403047;add:0x403049;add:0x40304b;add:0x40304d;add:0x40304f;add:0x403051;add:0x403053;imul:0x403055;dec:0x40305b;imul:0x40305d;sub:0x403067;jo:0x40306c;push:0x40306e;pop:0x40306f;imul:0x403071;mov:0x403078;imul:0x40307d;cmp:0x403083;aaa:0x403087;push:0x403088;push:0x403089;aaa:0x40308b;push:0x40308c;push:0x403091;aaa:0x403093;aaa:0x403094;push:0x403095;aaa:0x403097;mov:0x403098;push:0x40309d;aaa:0x40309f;sub:0x4030a0;push:0x4030a4;pop:0x4030a9;add:0x4030aa;pop:0x4030ac;add:0x4030ae;pop:0x4030b0;add:0x4030b2;pop:0x4030b4;add:0x4030b6;add:0x4030b8;add:0x4030ba;add:0x4030bc;add:0x4030be;add:0x4030c0;add:0x4030c2;add:0x4030c4;add:0x4030c6;add:0x4030c8;add:0x4030ca;add:0x4030cc;add:0x4030ce;add:0x4030d0;add:0x4030d2;add:0x4030d4;add:0x4030d6;add:0x4030d8;add:0x4030da;add:0x4030dc;add:0x4030de;add:0x4030e0;pop:0x4030e2;add:0x4030e4;pop:0x4030e6;add:0x4030e8;pop:0x4030ea;add:0x4030ec;pop:0x4030ee;add:0x4030f0;pop:0x4030f2;add:0x4030f4;pop:0x4030f6;add:0x4030f8;pop:0x4030fa;add:0x4030fc;pop:0x4030fe;add:0x403100;pop:0x403102;add:0x403104;pop:0x403106;add:0x403108;pop:0x40310a;add:0x40310c;pop:0x40310e;add:0x403110;pop:0x403112;add:0x403114;pop:0x403116;add:0x403118;pop:0x40311a;add:0x40311c;pop:0x40311e;add:0x403120;pop:0x403122;add:0x403124;pop:0x403126;add:0x403128;pop:0x40312a;add:0x40312c;pop:0x40312e;add:0x403130;pop:0x403132;add:0x403134;pop:0x403136;add:0x403138;pop:0x40313a;add:0x40313c;pop:0x40313e;add:0x403140;pop:0x403142;add:0x403144;add:0x403146;add:0x403148;add:0x40314a;add:0x40314c;add:0x40314e;add:0x403150;add:0x403152;add:0x403154;add:0x403156;add:0x403158;add:0x40315a;add:0x40315c;add:0x40315e;add:0x403160;add:0x403162;add:0x403164;add:0x403166;add:0x403168;add:0x40316a;add:0x40316c;add:0x40316e;pop:0x403170;add:0x403172;pop:0x403174;add:0x403176;pop:0x403178;add:0x40317a;pop:0x40317c;add:0x40317e;pop:0x403180;add:0x403182;pop:0x403184;add:0x403186;pop:0x403188;add:0x40318a;pop:0x40318c;add:0x40318e;pop:0x403190;add:0x403192;pop:0x403194;add:0x403196;pop:0x403198;add:0x40319a;pop:0x40319c;add:0x40319e;pop:0x4031a0;add:0x4031a2;pop:0x4031a4;add:0x4031a6;pop:0x4031a8;add:0x4031aa;pop:0x4031ac;add:0x4031ae;pop:0x4031b0;add:0x4031b2;pop:0x4031b4;add:0x4031b6;pop:0x4031b8;add:0x4031ba;pop:0x4031bc;add:0x4031be;pop:0x4031c0;add:0x4031c2;pop:0x4031c4;add:0x4031c6;pop:0x4031c8;add:0x4031ca;pop:0x4031cc;add:0x4031ce;pop:0x4031d0;add:0x4031d2;add:0x4031d4;add:0x4031d6;add:0x4031d8;add:0x4031da;add:0x4031dc;add:0x4031de;add:0x4031e0;add:0x4031e2;add:0x4031e4;add:0x4031e6;add:0x4031e8;add:0x4031ea;add:0x4031ec;add:0x4031ee;add:0x4031f0;add:0x4031f2;add:0x4031f4;add:0x4031f6;add:0x4031f8;add:0x4031fa;add:0x4031fc;pop:0x4031fe;add:0x403200;pop:0x403202;add:0x403204;pop:0x403206;add:0x403208;add:0x40320a;add:0x40320d;and:0x40320f;add:0x403212;je:0x403214;sub:0x403216;arpl:0x403218;aas:0x40321b;jb:0x40321c;sub:0x40321e;xor:0x403223;add:0x403225;bound:0x403228;sub:0x40322b;push:0x40322e;sbb:0x40322f;add:0x403231;xor:0x403233;add:0x403235;bound:0x403238;sub:0x40323b;out:0x40323e;add:0x403240;add:0x403242;je:0x403244;loope:0x403246;jne:0x403248;jecxz:0x40324a;popal:0x40324c;outsb:0x40324d;fidiv:0x40324e;inc:0x403250;pop:0x403252;add:0x403254;jge:0x403256;popal:0x403258;mov:0x40325a;inc:0x40325c;imul:0x40325d;cmp:0x403267;pop:0x40326b;add:0x40326c;jns:0x40326e;je:0x403270;add:0x403272;add:0x403274;add:0x403276;add:0x403278;add:0x40327a;add:0x40327c;add:0x40327e;add:0x403280;add:0x403282;add:0x403284;add:0x403286;add:0x403288;add:0x40328a;add:0x40328c;add:0x40328e;add:0x403290;add:0x403292;add:0x403294;add:0x403296;add:0x403298;add:0x40329a;xor:0x40329c;inc:0x4032a2;imul:0x4032a3;inc:0x4032ab;pop:0x4032ac;add:0x4032ae;jns:0x4032b0;je:0x4032b2;pop:0x4032b4;aas:0x4032b5;jne:0x4032b6;pop:0x4032b8;adc:0x4032b9;and:0x4032bc;push:0x4032be;pop:0x4032c0;add:0x4032c2;inc:0x4032c4;pop:0x4032c5;inc:0x4032c6;add:0x4032c7;inc:0x4032ca;add:0x4032cb;inc:0x4032ce;add:0x4032cf;inc:0x4032d2;add:0x4032d3;pop:0x4032d5;inc:0x4032d6;add:0x4032d7;pop:0x4032d9;inc:0x4032da;add:0x4032db;pop:0x4032dd;inc:0x4032de;add:0x4032df;pop:0x4032e1;inc:0x4032e2;add:0x4032e3;je:0x4032e5;in:0x4032e8;xor:0x4032e9;loop:0x4032ec;jb:0x4032ee;int:0x4032f0;add:0x4032f2;cli:0x4032f4;xor:0x4032f5;xor:0x4032f8;lahf:0x4032fc;sub:0x4032fd;add:0x403302;add:0x403304;add:0x403306;add:0x403308;add:0x40330a;add:0x40330c;add:0x40330e;add:0x403310;add:0x403312;add:0x403314;add:0x403316;add:0x403318;add:0x40331a;add:0x40331c;add:0x40331e;add:0x403320;add:0x403322;add:0x403324;add:0x403326;add:0x403328;mov:0x40332a;add:0x40332c;xchg:0x40332e;cmp:0x40332f;wait:0x403332;das:0x403333;xor:0x403334;push:0x403336;pop:0x40333b;add:0x40333c;wait:0x40333e;jbe:0x40333f;mov:0x403342;push:0x403344;add:0x403348;arpl:0x40334a;insd:0x40334c;jae:0x40334d;daa:0x40334f;add:0x403350;push:0x403352;jbe:0x403353;dec:0x403356;daa:0x403357;bound:0x403358;add:0x40335c;pop:0x40335e;cmp:0x40335f;dec:0x403362;and:0x403363;add:0x403365;xor:0x403367;je:0x403369;cmp:0x40336b;inc:0x40336d;sbb:0x40336e;outsd:0x403370;arpl:0x403371;pop:0x403373;add:0x403374;lock xor:0x403376;or:0x40337a;inc:0x40337d;sbb:0x40337e;outsd:0x403380;arpl:0x403381;pop:0x403383;add:0x403384;adc:0x403386;insd:0x403388;popal:0x403389;out:0x40338a;or:0x40338b;add:0x40338e;add:0x403390;add:0x403392;add:0x403394;add:0x403396;add:0x403398;add:0x40339a;add:0x40339c;add:0x40339e;add:0x4033a0;add:0x4033a2;add:0x4033a4;add:0x4033a6;add:0x4033a8;add:0x4033aa;add:0x4033ac;add:0x4033ae;add:0x4033b0;add:0x4033b2;add:0x4033b4;add:0x4033b6;int1:0x4033b8;adc:0x4033b9;xlatb:0x4033bc;add:0x4033bd;xor:0x4033c1;retf:0x4033c4;cmp:0x4033c5;xor:0x4033c9;add:0x4033cd;xchg:0x4033d0;popal:0x4033d2;jo:0x4033d3;das:0x4033d5;insb:0x4033d6;outsd:0x4033d7;popfd:0x4033d8;pop:0x4033d9;add:0x4033da;xchg:0x4033dc;cmp:0x4033dd;mov:0x4033e0;aaa:0x4033e5;insb:0x4033e6;insb:0x4033e7;pop:0x4033e8;add:0x4033ea;jns:0x4033ec;je:0x4033ee;insb:0x4033f0;xor:0x4033f1;insd:0x4033f4;dec:0x4033f5;pop:0x4033f7;sub:0x4033f9;add:0x4033fb;pop:0x4033fd;add:0x4033fe;neg:0x403401;mov:0x403404;add:0x403407;mov:0x403409;add:0x40340b;mov:0x40340d;add:0x403412;mov:0x403414;add:0x403417;je:0x403419;add:0x40341b;add:0x40341d;add:0x40341f;add:0x403421;add:0x403423;add:0x403425;add:0x403427;add:0x403429;add:0x40342b;add:0x40342d;add:0x40342f;add:0x403431;add:0x403433;add:0x403435;add:0x403437;add:0x403439;add:0x40343b;add:0x40343d;add:0x40343f;add:0x403441;add:0x403443;add:0x403445;mov:0x403447;add:0x403449;mov:0x40344b;add:0x40344d;mov:0x40344f;add:0x403451;mov:0x403453;add:0x403455;mov:0x403457;add:0x403459;mov:0x40345b;add:0x40345d;mov:0x40345f;add:0x403461;mov:0x403463;add:0x403465;xor:0x403467;add:0x403469;mov:0x40346b;scasd:0x403470;or:0x403471;mov:0x403474;push:0x403479;cmpsb:0x40347a;pop:0x40347b;ja:0x40347c;scasb:0x40347e;movsb:0x40347f;push:0x403480;lodsb:0x403482;xchg:0x403483;push:0x403484;outsb:0x403489;test:0x40348a;push:0x40348f;jbe:0x403490;cwde:0x403492;push:0x403493;insd:0x403494;outsb:0x403495;pop:0x403496;test:0x403497;xchg:0x40349b;push:0x40349c;pop:0x40349e;mov:0x40349f;int:0x4034a4;pop:0x4034a6;jmp:0x4034a8;add:0x4034ad;add:0x4034af;add:0x4034b1;add:0x4034b3;add:0x4034b5;add:0x4034b7;add:0x4034b9;add:0x4034bb;add:0x4034bd;add:0x4034bf;add:0x4034c1;add:0x4034c3;add:0x4034c5;add:0x4034c7;add:0x4034c9;add:0x4034cb;add:0x4034cd;add:0x4034cf;add:0x4034d1;add:0x4034d3;pop:0x4034d5;mov:0x4034d6;add:0x4034db;pop:0x4034dd\",\n          \"push:0x411000;mov:0x411001;sub:0x411003;push:0x411006;mov:0x411007;mov:0x41100e;mov:0x411015;mov:0x41101c;mov:0x411023;mov:0x41102a;mov:0x411031;mov:0x411038;mov:0x41103f;mov:0x411046;mov:0x41104d;mov:0x411054;mov:0x41105b;mov:0x411062;mov:0x411069;mov:0x411070;mov:0x411077;mov:0x41107e;mov:0x411085;mov:0x41108c;mov:0x411093;mov:0x41109a;push:0x41109d;call:0x41109e;mov:0x4110a4;push:0x4110a7;call:0x4110a8;cmp:0x4110ae;jne:0x4110b2;push:0x4110b4;mov:0x4110b6;push:0x4110b9;call:0x4110ba;mov:0x4110c0;add:0x4110c3;mov:0x4110c6;mov:0x4110c9;mov:0x4110cc;mov:0x4110cf;mov:0x4110d6;mov:0x4110dd;movzx:0x4110e4;cmp:0x4110e8;jne:0x4110eb;push:0x4110ed;call:0x4110ef;mov:0x4110f5;mov:0x4110fc;mov:0x411103;push:0x41110a;mov:0x41110c;push:0x41110f;call:0x411110;jmp:0x411116;push:0x411118;call:0x41111d;mov:0x411123;mov:0x41112a;push:0x411131;cmp:0x411137;je:0x41113b;cmp:0x41113d;jle:0x411141;push:0x411143;push:0x411144;push:0x411145;pop:0x41114b;mov:0x41114c;pop:0x41114f;push:0x411150;push:0x411153;mov:0x411158;add:0x41115b;nop:0x41115e;add:0x41115f;mov:0x411162;push:0x411164;mov:0x411165;push:0x41116a;mov:0x41116b;push:0x41116d;pop:0x41116e;push:0x41116f;pop:0x411170;call:0x411171;mov:0x411173;mov:0x411175;mov:0x411178;sub:0x41117b;mov:0x411181;cmp:0x411184;jne:0x411188;push:0x41118a;call:0x41118c;mov:0x411192;mov:0x411195;mov:0x411198;add:0x41119b;mov:0x41119e;mov:0x4111a1;mov:0x4111a3;push:0x4111a6;call:0x4111a7;mov:0x4111ad;add:0x4111b0;mov:0x4111b3;mov:0x4111b6;mov:0x4111bb;mov:0x4111be;add:0x4111c1;mov:0x4111c4;mov:0x4111c7;mov:0x4111ca;add:0x4111cd;mov:0x4111d0;call:0x4111d3;cmp:0x4111d9;jbe:0x4111dd;mov:0x4111df;push:0x4111e2;mov:0x4111e3;push:0x4111e6;mov:0x4111e7;add:0x4111ea;push:0x4111ed;mov:0x4111ee;push:0x4111f1;call:0x4111f2;add:0x4111f7;push:0x4111fa;push:0x4111fc;mov:0x4111fe;push:0x411201;call:0x411202;cmp:0x411207;je:0x41120b;mov:0x41120d;push:0x411210;push:0x411211;mov:0x411214;push:0x411217;pop:0x411218;push:0x411219;pop:0x41121a;mov:0x41121d;mov:0x411220;mov:0x411223;push:0x411226;push:0x411227;push:0x411228;mov:0x411229;xor:0x41122b;pop:0x41122d;mov:0x41122e;pop:0x411230;ret:0x411231;push:0x411232;mov:0x411233;pop:0x411235;ret:0x411236;push:0x411237;mov:0x411238;sub:0x41123a;mov:0x41123d;mov:0x411244;mov:0x41124b;mov:0x411252;mov:0x411259;mov:0x411260;mov:0x411267;push:0x41126e;push:0x411270;mov:0x411275;push:0x411278;call:0x411279;mov:0x41127f;mov:0x411286;push:0x41128d;push:0x41128f;call:0x411291;test:0x411297;jne:0x411299;xchg:0x41129b;jge:0x41129c;xchg:0x41129e;retf:0x41129f;fsub:0x4112a0;cmp:0x4112a2;cld:0x4112a8;pop:0x4112a9;jmp:0x4112aa;mov:0x4112ac;mov:0x4112b3;push:0x4112ba;call:0x4112bc;call:0x4112c2;mov:0x4112c7;cmp:0x4112ca;je:0x4112ce;mov:0x4112d0;mov:0x4112d3;mov:0x4112d6;mov:0x4112dd;push:0x4112e0;call:0x4112e1;add:0x4112e6;jmp:0x4112e9;mov:0x4112eb;call:0x4112f2;mov:0x4112f8;mov:0x4112fb;fild:0x411302;fdiv:0x411305;fstp:0x41130b;push:0x41130e;push:0x411313;call:0x411315;add:0x41131a;fmul:0x41131d;fstp:0x411320;xor:0x411323;mov:0x411325;pop:0x411327;ret:0x411328;push:0x411329;mov:0x41132a;sub:0x41132c;xor:0x41132f;mov:0x411331;pop:0x411333;ret:0x411334;push:0x411335;mov:0x411336;sub:0x411338;push:0x41133b;mov:0x41133c;mov:0x411343;mov:0x41134a;mov:0x411351;mov:0x411358;mov:0x41135f;mov:0x411366;mov:0x411369;mov:0x41136c;mov:0x411373;mov:0x41137a;mov:0x411381;sub:0x411384;mov:0x411387;mov:0x41138a;cmp:0x41138e;je:0x411392;mov:0x411398;mov:0x41139b;mov:0x41139e;mov:0x4113a5;add:0x4113a8;mov:0x4113ab;mov:0x4113ae;add:0x4113b1;mov:0x4113b4;mov:0x4113b7;mov:0x4113ba;add:0x4113bd;mov:0x4113c0;mov:0x4113c3;mov:0x4113c6;mov:0x4113c9;add:0x4113cc;mov:0x4113cf;mov:0x4113d2;mov:0x4113d4;add:0x4113d7;movzx:0x4113da;mov:0x4113dd;mov:0x4113e0;push:0x4113e3;pop:0x4113e6;mov:0x4113e7;add:0x4113e9;mov:0x4113eb;mov:0x4113ee;shl:0x4113f1;shr:0x4113f4;mov:0x4113f7;xor:0x4113fa;div:0x4113fc;mov:0x4113fe;mov:0x411401;sub:0x411406;mov:0x411409;mov:0x41140c;mov:0x41140f;mul:0x411412;push:0x411414;pop:0x411415;mov:0x411418;mov:0x41141a;push:0x41141f;pop:0x411420;mov:0x411421;add:0x411424;movzx:0x411427;mov:0x41142a;movzx:0x41142d;mov:0x411431;xor:0x411434;mov:0x411436;mov:0x411439;add:0x41143c;mov:0x41143f;mov:0x411442;mov:0x411444;sub:0x411447;mov:0x41144a;mov:0x41144d;add:0x411450;mov:0x411453;mov:0x411456;cmp:0x411459;jl:0x41145c;jmp:0x411462;push:0x411464;call:0x411466;push:0x41146c;lea:0x41146d;call:0x411470;lea:0x411475;call:0x411478;pop:0x41147d;mov:0x41147e;pop:0x411480;ret:0x411481;push:0x411482;mov:0x411483;sub:0x411485;mov:0x411488;mov:0x41148f;mov:0x411496;mov:0x41149d;mov:0x4114a4;mov:0x4114ab;push:0x4114ae;mov:0x4114af;push:0x4114b2;call:0x4114b3;mov:0x4114b9;push:0x4114bc;call:0x4114bd;push:0x4114c3;call:0x4114c5;mov:0x4114cb;push:0x4114ce;call:0x4114cf;mov:0x4114d5;push:0x4114d8;call:0x4114d9;add:0x4114de;call:0x4114e1;push:0x4114e6;mov:0x4114e8;push:0x4114eb;call:0x4114ec;push:0x4114f2;push:0x4114f4;push:0x4114f6;mov:0x4114f8;push:0x4114fb;call:0x4114fc;mov:0x411502;push:0x411505;call:0x411506;push:0x41150c;call:0x411511;add:0x411516;mov:0x411519;mov:0x41151c;mov:0x41151f;mov:0x411522;mov:0x411525;push:0x411528;mov:0x41152a;add:0x41152d;push:0x411530;mov:0x411531;push:0x411534;call:0x411535;add:0x41153a;cmp:0x41153d;je:0x411541;mov:0x411543;mov:0x411546;mov:0x411549;push:0x41154c;call:0x41154d;add:0x411552;xor:0x411555;mov:0x411557;pop:0x411559;ret:0x41155a;push:0x41155d;mov:0x41155e;sub:0x411560;mov:0x411563;mov:0x41156a;push:0x411571;push:0x411573;call:0x411575;call:0x41157b;mov:0x411581;cmp:0x411584;jne:0x411588;mov:0x41158a;push:0x411591;push:0x411593;push:0x411595;call:0x411597;mov:0x41159d;movzx:0x4115a0;cmp:0x4115a4;je:0x4115a7;cmp:0x4115a9;jne:0x4115b0;mov:0x4115b2;mov:0x4115b9;mov:0x4115bc;pop:0x4115be;ret:0x4115bf;push:0x4115c0;mov:0x4115c1;sub:0x4115c3;mov:0x4115c6;mov:0x4115c9;lea:0x4115d0;push:0x4115d3;mov:0x4115d4;push:0x4115d7;call:0x4115d8;mov:0x4115dd;mov:0x4115e0;mov:0x4115e3;push:0x4115e6;mov:0x4115e7;call:0x4115ea;mov:0x4115ef;mov:0x4115f2;pop:0x4115f4;ret:0x4115f5;int3:0x4115f8;int3:0x4115f9;int3:0x4115fa;int3:0x4115fb;int3:0x4115fc;int3:0x4115fd;int3:0x4115fe;int3:0x4115ff;push:0x411600;mov:0x411601;push:0x411603;mov:0x411604;mov:0x411607;mov:0x41160a;push:0x41160c;call:0x41160d;mov:0x411612;pop:0x411614;ret:0x411615;int3:0x411616;int3:0x411617;int3:0x411618;int3:0x411619;int3:0x41161a;int3:0x41161b;int3:0x41161c;int3:0x41161d;int3:0x41161e;int3:0x41161f;push:0x411620;mov:0x411621;push:0x411623;mov:0x411624;mov:0x411627;mov:0x41162a;mov:0x41162d;mov:0x41162f;pop:0x411631;ret:0x411632;int3:0x411635;jmp:0x411636;jmp:0x41163c;jmp:0x411642;int3:0x411648;int3:0x411649;int3:0x41164a;int3:0x41164b;int3:0x41164c;int3:0x41164d;int3:0x41164e;int3:0x41164f;sub:0x411650;fst:0x411653;call:0x411656;call:0x41165b;add:0x411660;ret:0x411663;lea:0x411664;call:0x411668;push:0x41166d;wait:0x41166e;fnstcw:0x41166f;mov:0x411672;je:0x411676;cmp:0x411678;je:0x41167e;call:0x411680;test:0x411685;jne:0x41168a;fsqrt:0x41168c;cmp:0x41168e;jne:0x411695;mov:0x41169b;lea:0x4116a0;jmp:0x4116a6;test:0x4116ab;jne:0x4116b0;test:0x4116b2;jne:0x4116b7;cmp:0x4116b9;jne:0x4116be;jmp:0x4116c0;call:0x4116c2;jmp:0x4116c7;test:0x4116c9;jne:0x4116ce;cmp:0x4116d0;jne:0x4116d5;and:0x4116d7;je:0x4116dc;fstp:0x4116de;fld:0x4116e0;mov:0x4116e6;cmp:0x4116eb;jne:0x4116f2;mov:0x4116f8;lea:0x4116fd;call:0x411703;pop:0x411708;ret:0x411709;ret:0x41170a;mov:0x41170b;mov:0x411710;mov:0x411715;mov:0x41171f;mov:0x411729;mov:0x411733;mov:0x41173d;ret:0x411742;call:0x411743;call:0x411748;mov:0x41174d;call:0x411752;fnclex:0x411757;ret:0x411759;jmp:0x41175a;int3:0x41175f;push:0x411760;mov:0x411761;push:0x411763;push:0x411764;mov:0x411765;mov:0x411768;mov:0x41176b;mov:0x41176e;mov:0x411770;add:0x411772;cmp:0x411774;jbe:0x411776;cmp:0x411778;jb:0x41177a;test:0x411780;jne:0x411786;shr:0x411788;and:0x41178b;cmp:0x41178e;jb:0x411791;rep movsd:0x411793;jmp:0x411795;mov:0x41179c;mov:0x41179e;sub:0x4117a3;jb:0x4117a6;and:0x4117a8;add:0x4117ab;jmp:0x4117ad;jmp:0x4117b4;nop:0x4117bb;jmp:0x4117bc;nop:0x4117c3;rcl:0x4117c4;inc:0x4117c6;add:0x4117c7;pop:0x4117c9;inc:0x4117ca;add:0x4117cb;sbb:0x4117cd;and:0x4117d0;mov:0x4117d2;mov:0x4117d4;mov:0x4117d6;mov:0x4117d9;mov:0x4117dc;shr:0x4117df;mov:0x4117e2;add:0x4117e5;add:0x4117e8;cmp:0x4117eb;jb:0x4117ee;rep movsd:0x4117f0;jmp:0x4117f2;lea:0x4117f9;and:0x4117fc;mov:0x4117fe;mov:0x411800;mov:0x411802;shr:0x411805;mov:0x411808;add:0x41180b;add:0x41180e;cmp:0x411811;jb:0x411814;rep movsd:0x411816;jmp:0x411818;nop:0x41181f;and:0x411820;mov:0x411822;mov:0x411824;add:0x411826;shr:0x411829;add:0x41182c;cmp:0x41182f;jb:0x411832;rep movsd:0x411834;jmp:0x411836;lea:0x41183d;mov:0x411840;sbb:0x411845;mov:0x411848;inc:0x41184a;add:0x41184b;sbb:0x411851;jo:0x411854;inc:0x411856;add:0x411857;inc:0x41185a;add:0x41185b;inc:0x41185e;add:0x41185f;inc:0x411865\",\n          \"mov:0x401000;push:0x401002;mov:0x401003;sub:0x401005;push:0x401008;push:0x401009;push:0x40100f;push:0x401015;call:0x401016;add:0x40101b;pop:0x40101e;push:0x40101f;push:0x401020;push:0x401022;pop:0x401027;call:0x401028;pop:0x40102b;push:0x40102c;push:0x40102d;push:0x40102f;pop:0x401034;call:0x401035;pop:0x401038;sub:0x401039;mov:0x40103c;add:0x40103f;ret:0x401042;add:0x401043;add:0x401045;add:0x401047;sub:0x40104d;push:0x401050;push:0x401051;mov:0x401056;push:0x40105b;mov:0x40105c;push:0x401061;push:0x401062;pop:0x401067;push:0x401068;sub:0x40106a;push:0x40106e;pop:0x401073;pop:0x401074;push:0x401076;pop:0x40107b;call:0x40107c;xchg:0x40107f;mov:0x401082;pop:0x401084;mov:0x401085;mov:0x40108b;lea:0x401091;sub:0x401093;dec:0x401095;and:0x401096;mov:0x40109c;xor:0x4010a1;add:0x4010a3;test:0x4010a9;je:0x4010ab;add:0x4010ad;mov:0x4010b0;xor:0x4010b2;sub:0x4010b4;mov:0x4010b7;push:0x4010b9;mov:0x4010bb;sub:0x4010c0;sub:0x4010c2;pop:0x4010c4;bswap:0x4010c5;jmp:0x4010c7;push:0x4010c9;lea:0x4010ca;push:0x4010cc;push:0x4010cd;pop:0x4010d2;call:0x4010d3;test:0x4010d6;jne:0x4010d8;pop:0x4010da;sub:0x4010db;pop:0x4010de;ret:0x4010df;jb:0x4010e0;add:0x4010e6;add:0x4010e8;add:0x4010ea;add:0x4010ec;add:0x4010ee;mov:0x4010f0;pushal:0x4010f2;push:0x4010f3;mov:0x4010f4;sub:0x4010f6;push:0x4010f9;push:0x4010fa;push:0x4010fc;pop:0x401101;call:0x401102;pop:0x401105;test:0x401106;je:0x401108;ret:0x40110a;push:0x40110b;push:0x40110c;push:0x40110e;pop:0x401113;call:0x401114;pop:0x401117;push:0x401118;push:0x401119;push:0x40111f;push:0x401125;call:0x401126;add:0x40112b;pop:0x40112e;mov:0x40112f;mov:0x401134;push:0x401136;push:0x401137;pop:0x40113d;call:0x40113e;sub:0x401140;mov:0x401143;add:0x401146;ret:0x401149;add:0x40114a;mov:0x40114c;push:0x40114e;mov:0x40114f;sub:0x401151;push:0x401154;push:0x401155;pop:0x40115a;call:0x40115b;pop:0x40115e;push:0x40115f;push:0x401160;push:0x401161;push:0x401162;push:0x401163;call:0x401169;add:0x40116e;pop:0x401171;push:0x401172;lea:0x401173;push:0x401175;push:0x401176;pop:0x40117b;call:0x40117c;test:0x40117f;jne:0x401181;pop:0x401183;sub:0x401184;mov:0x401187;add:0x40118a;ret:0x40118d;add:0x40118e;mov:0x401190;push:0x401192;mov:0x401193;sub:0x401195;push:0x401198;push:0x401199;push:0x40119a;push:0x4011a0;push:0x4011a1;call:0x4011a7;add:0x4011ac;pop:0x4011af;push:0x4011b0;push:0x4011b1;push:0x4011b3;pop:0x4011b8;call:0x4011b9;pop:0x4011bc;push:0x4011bd;push:0x4011be;push:0x4011c0;pop:0x4011c5;call:0x4011c6;pop:0x4011c9;sub:0x4011ca;mov:0x4011cd;add:0x4011d0;ret:0x4011d3;mov:0x4011d4;push:0x4011d6;mov:0x4011d7;sub:0x4011d9;push:0x4011dc;mov:0x4011dd;push:0x4011e2;push:0x4011e3;pop:0x4011e8;call:0x4011e9;pop:0x4011ec;push:0x4011ed;push:0x4011ee;push:0x4011f1;call:0x4011f2;add:0x4011f7;pop:0x4011fa;push:0x4011fb;push:0x4011fc;push:0x4011fe;pop:0x401203;call:0x401204;pop:0x401207;sub:0x401208;mov:0x40120b;add:0x40120e;ret:0x401211;add:0x401212;mov:0x401214;push:0x401216;mov:0x401217;sub:0x401219;push:0x40121c;push:0x40121d;push:0x401223;call:0x401229;add:0x40122e;pop:0x401231;push:0x401232;push:0x401233;pop:0x401238;call:0x401239;pop:0x40123c;push:0x40123d;mov:0x40123e;push:0x401243;push:0x401244;pop:0x401249;call:0x40124a;pop:0x40124d;sub:0x40124e;mov:0x401251;add:0x401254;ret:0x401257;add:0x401258;add:0x40125a;mov:0x40125c;push:0x40125e;mov:0x40125f;sub:0x401261;push:0x401264;push:0x401265;push:0x401266;push:0x40126c;call:0x40126d;add:0x401272;pop:0x401275;push:0x401276;lea:0x401277;push:0x401279;push:0x40127a;pop:0x40127f;call:0x401280;test:0x401283;jne:0x401285;pop:0x401287;push:0x401288;push:0x401289;push:0x40128b;pop:0x401290;call:0x401291;pop:0x401294;sub:0x401295;mov:0x401298;add:0x40129b;ret:0x40129e;add:0x40129f;sub:0x4012a5;push:0x4012a8;push:0x4012a9;push:0x4012aa;push:0x4012ab;push:0x4012ac;call:0x4012b2;add:0x4012b7;pop:0x4012ba;push:0x4012bb;push:0x4012bc;push:0x4012be;pop:0x4012c3;call:0x4012c4;pop:0x4012c7;push:0x4012c8;mov:0x4012c9;push:0x4012ce;push:0x4012cf;pop:0x4012d4;call:0x4012d5;pop:0x4012d8;sub:0x4012d9;mov:0x4012dc;add:0x4012df;ret:0x4012e2;add:0x4012e3;sub:0x4012e9;push:0x4012ec;mov:0x4012ed;push:0x4012f2;push:0x4012f3;pop:0x4012f8;call:0x4012f9;pop:0x4012fc;push:0x4012fd;push:0x4012fe;push:0x4012ff;call:0x401305;add:0x40130a;pop:0x40130d;push:0x40130e;push:0x40130f;push:0x401311;pop:0x401316;call:0x401317;pop:0x40131a;sub:0x40131b;mov:0x40131e;add:0x401321;ret:0x401324;add:0x401325;add:0x401327;sub:0x40132d;push:0x401330;lea:0x401331;push:0x401333;push:0x401334;pop:0x401339;call:0x40133a;test:0x40133d;jne:0x40133f;pop:0x401341;push:0x401342;push:0x401343;push:0x401349;push:0x40134f;call:0x401355;add:0x40135a;pop:0x40135d;push:0x40135e;mov:0x40135f;push:0x401364;push:0x401365;pop:0x40136a;call:0x40136b;pop:0x40136e;sub:0x40136f;mov:0x401372;add:0x401375;ret:0x401378;add:0x401379;add:0x40137b;add:0x40137d;add:0x40137f;add:0x401381;add:0x401383;add:0x401385;add:0x401387;add:0x401389;add:0x40138b;add:0x40138d;add:0x40138f;add:0x401391;add:0x401393;add:0x401395;add:0x401397;sub:0x40139d;push:0x4013a0;push:0x4013a1;push:0x4013a2;call:0x4013a3;add:0x4013a8;pop:0x4013ab;push:0x4013ac;push:0x4013ad;push:0x4013af;pop:0x4013b4;call:0x4013b5;pop:0x4013b8;push:0x4013b9;lea:0x4013ba;push:0x4013bc;push:0x4013bd;pop:0x4013c2;call:0x4013c3;test:0x4013c6;jne:0x4013c8;pop:0x4013ca;sub:0x4013cb;mov:0x4013ce;add:0x4013d1;ret:0x4013d4;add:0x4013d5;add:0x4013d7;add:0x4013d9;add:0x4013db;sub:0x4013e1;push:0x4013e4;push:0x4013e5;push:0x4013e7;pop:0x4013ec;call:0x4013ed;pop:0x4013f0;push:0x4013f1;push:0x4013f2;push:0x4013f3;push:0x4013f4;call:0x4013f5;add:0x4013fa;pop:0x4013fd;push:0x4013fe;mov:0x4013ff;push:0x401404;push:0x401405;pop:0x40140a;call:0x40140b;pop:0x40140e;sub:0x40140f;mov:0x401412;add:0x401415;ret:0x401418;add:0x401419;add:0x40141b;sub:0x401421;push:0x401424;push:0x401425;push:0x401426;push:0x40142c;call:0x401432;add:0x401437;pop:0x40143a;push:0x40143b;push:0x40143c;pop:0x401441;call:0x401442;pop:0x401445;push:0x401446;push:0x401447;push:0x401449;pop:0x40144e;call:0x40144f;pop:0x401452;sub:0x401453;mov:0x401456;add:0x401459;ret:0x40145c;add:0x40145d;add:0x40145f;sub:0x401465;push:0x401468;push:0x401469;push:0x40146a;push:0x401470;call:0x401476;add:0x40147b;pop:0x40147e;push:0x40147f;mov:0x401480;push:0x401485;push:0x401486;pop:0x40148b;call:0x40148c;pop:0x40148f;push:0x401490;push:0x401491;pop:0x401496;call:0x401497;pop:0x40149a;sub:0x40149b;mov:0x40149e;add:0x4014a1;ret:0x4014a4;add:0x4014a5;add:0x4014a7;sub:0x4014ad;push:0x4014b0;push:0x4014b1;push:0x4014b3;pop:0x4014b8;call:0x4014b9;pop:0x4014bc;push:0x4014bd;push:0x4014be;push:0x4014bf;call:0x4014c5;add:0x4014ca;pop:0x4014cd;push:0x4014ce;lea:0x4014cf;push:0x4014d1;push:0x4014d2;pop:0x4014d7;call:0x4014d8;test:0x4014db;jne:0x4014dd;pop:0x4014df;sub:0x4014e0;mov:0x4014e3;add:0x4014e6;ret:0x4014e9;add:0x4014ea;mov:0x4014ec;push:0x4014ee;mov:0x4014ef;sub:0x4014f1;push:0x4014f4;mov:0x4014f5;push:0x4014fa;push:0x4014fb;pop:0x401500;call:0x401501;pop:0x401504;push:0x401505;push:0x401506;push:0x40150c;call:0x40150d;add:0x401512;pop:0x401515;push:0x401516;mov:0x401517;push:0x40151c;push:0x40151d;pop:0x401522;call:0x401523;pop:0x401526;sub:0x401527;mov:0x40152a;add:0x40152d;ret:0x401530;add:0x401531;add:0x401533;rol:0x401535;xor:0x40153c;or:0x40153e;and:0x401544;push:0x401548;pop:0x40154a;mov:0x40154b;push:0x40154d;add:0x40154f;pop:0x401552;xor:0x401553;push:0x401555;pop:0x401558;mov:0x401559;ror:0x40155d;xor:0x401560;or:0x401562;cmp:0x401564;pop:0x401566;ja:0x401567;nop:0x401569;nop:0x40156a;nop:0x40156b;nop:0x40156c;jmp:0x40156d;push:0x401572;pop:0x401574;sti:0x401575;sub:0x401576;call:0x401579;in:0x40157c;sub:0x40157d;push:0x401580;push:0x401581;push:0x401582;call:0x401585;add:0x40158a;pop:0x40158d;push:0x40158e;mov:0x40158f;push:0x401594;push:0x401595;pop:0x40159a;call:0x40159b;pop:0x40159e;push:0x40159f;push:0x4015a0;push:0x4015a2;pop:0x4015a7;call:0x4015a8;pop:0x4015ab;sub:0x4015ac;mov:0x4015af;add:0x4015b2;ret:0x4015b5;add:0x4015b6;add:0x4015b8;add:0x4015ba;mov:0x4015bc;push:0x4015be;mov:0x4015bf;sub:0x4015c1;push:0x4015c4;push:0x4015c5;push:0x4015c6;push:0x4015cc;call:0x4015d2;add:0x4015d7;pop:0x4015da;push:0x4015db;push:0x4015dc;pop:0x4015e1;call:0x4015e2;pop:0x4015e5;push:0x4015e6;mov:0x4015e7;push:0x4015ec;push:0x4015ed;pop:0x4015f2;call:0x4015f3;pop:0x4015f6;sub:0x4015f7;mov:0x4015fa;add:0x4015fd;ret:0x401600;add:0x401601;add:0x401603;sub:0x401609;push:0x40160c;mov:0x40160d;push:0x401612;push:0x401613;pop:0x401618;call:0x401619;pop:0x40161c;push:0x40161d;push:0x40161e;push:0x40161f;push:0x401620;call:0x401626;add:0x40162b;pop:0x40162e;push:0x40162f;mov:0x401630;push:0x401635;push:0x401636;pop:0x40163b;call:0x40163c;pop:0x40163f;sub:0x401640;mov:0x401643;add:0x401646;ret:0x401649;add:0x40164a;add:0x40164c;add:0x40164e;add:0x401650;add:0x401652;mov:0x401654;push:0x401656;mov:0x401657;sub:0x401659;push:0x40165c;mov:0x40165d;push:0x401662;push:0x401663;pop:0x401668;call:0x401669;pop:0x40166c;push:0x40166d;push:0x40166e;push:0x40166f;push:0x401675;push:0x40167b;call:0x40167c;add:0x401681;pop:0x401684;push:0x401685;mov:0x401686;push:0x40168b;push:0x40168c;pop:0x401691;call:0x401692;pop:0x401695;sub:0x401696;mov:0x401699;add:0x40169c;ret:0x40169f;add:0x4016a0;add:0x4016a2;mov:0x4016a4;push:0x4016a6;mov:0x4016a7;sub:0x4016a9;push:0x4016ac;mov:0x4016ad;push:0x4016b2;push:0x4016b3;pop:0x4016b8;call:0x4016b9;pop:0x4016bc;push:0x4016bd;push:0x4016be;push:0x4016c4;call:0x4016c5;add:0x4016ca;pop:0x4016cd;push:0x4016ce;push:0x4016cf;push:0x4016d1;pop:0x4016d6;call:0x4016d7;pop:0x4016da;sub:0x4016db;mov:0x4016de;add:0x4016e1;ret:0x4016e4;add:0x4016e5;add:0x4016e7;add:0x4016e9;add:0x4016eb;sub:0x4016f1;push:0x4016f4;push:0x4016f5;push:0x4016f7;pop:0x4016fc;call:0x4016fd;pop:0x401700;push:0x401701;push:0x401702;push:0x401708;call:0x40170e;add:0x401713;pop:0x401716;push:0x401717;mov:0x401718;push:0x40171d;push:0x40171e;pop:0x401723;call:0x401724;pop:0x401727;sub:0x401728;mov:0x40172b;add:0x40172e;ret:0x401731;add:0x401732;mov:0x401734;push:0x401736;mov:0x401737;sub:0x401739;push:0x40173c;push:0x40173d;push:0x401743;push:0x401744;push:0x40174a;call:0x401750;add:0x401755;pop:0x401758;push:0x401759;mov:0x40175a;push:0x40175f;push:0x401760;pop:0x401765;call:0x401766;pop:0x401769;push:0x40176a;push:0x40176b;push:0x40176d;pop:0x401772;call:0x401773;pop:0x401776;sub:0x401777;mov:0x40177a;add:0x40177d;ret:0x401780;add:0x401781;add:0x401783;add:0x401785;add:0x401787;sub:0x40178d;push:0x401790;push:0x401791;push:0x401793;pop:0x401798;call:0x401799;pop:0x40179c;push:0x40179d;push:0x40179e;push:0x40179f;push:0x4017a5;call:0x4017ab;add:0x4017b0;pop:0x4017b3;push:0x4017b4;push:0x4017b5;push:0x4017b7;pop:0x4017bc;call:0x4017bd;pop:0x4017c0;sub:0x4017c1;mov:0x4017c4;add:0x4017c7;ret:0x4017ca;add:0x4017cb;add:0x4017cd;add:0x4017cf;add:0x4017d1;add:0x4017d3;sub:0x4017d9;push:0x4017dc;push:0x4017dd;push:0x4017e3;call:0x4017e9;add:0x4017ee;pop:0x4017f1;push:0x4017f2;push:0x4017f3;push:0x4017f5;pop:0x4017fa;call:0x4017fb;pop:0x4017fe;push:0x4017ff;mov:0x401800;push:0x401805;push:0x401806;pop:0x40180b;call:0x40180c;pop:0x40180f;sub:0x401810;mov:0x401813;add:0x401816;ret:0x401819;add:0x40181a;mov:0x40181c;push:0x40181e;mov:0x40181f;sub:0x401821;push:0x401824;push:0x401825;push:0x401826;call:0x40182c;add:0x401831;pop:0x401834;push:0x401835;mov:0x401836;push:0x40183b;push:0x40183c;pop:0x401841;call:0x401842;pop:0x401845;push:0x401846;mov:0x401847;push:0x40184c;push:0x40184d;pop:0x401852;call:0x401853;pop:0x401856;sub:0x401857;mov:0x40185a;add:0x40185d;ret:0x401860;add:0x401861;add:0x401863;add:0x401865;add:0x401867;add:0x401869;add:0x40186b;sub:0x401871;push:0x401874;push:0x401875;push:0x401877;pop:0x40187c;call:0x40187d;pop:0x401880;push:0x401881;push:0x401882;push:0x401888;push:0x40188e;push:0x401891;call:0x401897;add:0x40189c;pop:0x40189f;push:0x4018a0;lea:0x4018a1;push:0x4018a3;push:0x4018a4;pop:0x4018a9;call:0x4018aa;test:0x4018ad;jne:0x4018af;pop:0x4018b1;sub:0x4018b2;mov:0x4018b5;add:0x4018b8;ret:0x4018bb;mov:0x4018bc;push:0x4018be;mov:0x4018bf;sub:0x4018c1;push:0x4018c4;push:0x4018c5;push:0x4018c6;push:0x4018c9;push:0x4018cc;call:0x4018d2;add:0x4018d7;pop:0x4018da;push:0x4018db;push:0x4018dc;push:0x4018de;pop:0x4018e3;call:0x4018e4;pop:0x4018e7;push:0x4018e8;mov:0x4018e9;push:0x4018ee;push:0x4018ef;pop:0x4018f4;call:0x4018f5;pop:0x4018f8;sub:0x4018f9;mov:0x4018fc;add:0x4018ff;ret:0x401902;add:0x401903;add:0x401905;add:0x401907;add:0x401909;add:0x40190b;add:0x40190d;add:0x40190f;sub:0x401915;push:0x401918;push:0x401919;push:0x40191a;push:0x40191b;push:0x40191c;call:0x40191d;add:0x401922;pop:0x401925;push:0x401926;mov:0x401927;push:0x40192c;push:0x40192d;pop:0x401932;call:0x401933;pop:0x401936;push:0x401937;mov:0x401938;push:0x40193d;push:0x40193e;pop:0x401943;call:0x401944;pop:0x401947;sub:0x401948;mov:0x40194b;add:0x40194e;ret:0x401951;add:0x401952;mov:0x401954;push:0x401956;mov:0x401957;sub:0x401959;push:0x40195c;mov:0x40195d;push:0x401962;push:0x401963;pop:0x401968;call:0x401969;pop:0x40196c;push:0x40196d;push:0x40196e;push:0x401974;call:0x401975;add:0x40197a;pop:0x40197d;push:0x40197e;lea:0x40197f;push:0x401981;push:0x401982;pop:0x401987;call:0x401988;test:0x40198b;jne:0x40198d;pop:0x40198f;sub:0x401990;mov:0x401993;add:0x401996;ret:0x401999;add:0x40199a;add:0x40199c;add:0x40199e;mov:0x4019a0;push:0x4019a2;mov:0x4019a3;sub:0x4019a5;push:0x4019a8;push:0x4019a9;push:0x4019af;push:0x4019b5;push:0x4019bb;call:0x4019c1;add:0x4019c6;pop:0x4019c9;push:0x4019ca;push:0x4019cb;push:0x4019cd;pop:0x4019d2;call:0x4019d3;pop:0x4019d6;push:0x4019d7;push:0x4019d8;pop:0x4019dd;call:0x4019de;pop:0x4019e1;sub:0x4019e2;mov:0x4019e5;add:0x4019e8;ret:0x4019eb;mov:0x4019ec;push:0x4019ee;mov:0x4019ef;sub:0x4019f1;push:0x4019f4;push:0x4019f5;push:0x4019f6;push:0x4019fc;call:0x4019fd;add:0x401a02;pop:0x401a05;push:0x401a06;mov:0x401a07;push:0x401a0c;push:0x401a0d;pop:0x401a12;call:0x401a13;pop:0x401a16;push:0x401a17;push:0x401a18;pop:0x401a1d;call:0x401a1e;pop:0x401a21;sub:0x401a22;mov:0x401a25;add:0x401a28;ret:0x401a2b;mov:0x401a2c;push:0x401a2e;mov:0x401a2f;sub:0x401a31;push:0x401a34;push:0x401a35;push:0x401a36;push:0x401a3c;push:0x401a42;call:0x401a48;add:0x401a4d;pop:0x401a50;push:0x401a51;push:0x401a52;pop:0x401a57;call:0x401a58;pop:0x401a5b;push:0x401a5c;push:0x401a5d;push:0x401a5f;pop:0x401a64;call:0x401a65;pop:0x401a68;sub:0x401a69;mov:0x401a6c;add:0x401a6f;ret:0x401a72;add:0x401a73;add:0x401a75;add:0x401a77;add:0x401a79;add:0x401a7b;add:0x401a7d;add:0x401a7f;sub:0x401a85;push:0x401a88;push:0x401a89;push:0x401a8f;push:0x401a95;call:0x401a9b;add:0x401aa0;pop:0x401aa3;push:0x401aa4;push:0x401aa5;pop:0x401aaa;call:0x401aab;pop:0x401aae;push:0x401aaf;mov:0x401ab0;push:0x401ab5;push:0x401ab6;pop:0x401abb;call:0x401abc;pop:0x401abf;sub:0x401ac0;mov:0x401ac3;add:0x401ac6;ret:0x401ac9;add:0x401aca;mov:0x401acc;push:0x401ace;mov:0x401acf;sub:0x401ad1;push:0x401ad4;push:0x401ad5;push:0x401ad7;pop:0x401adc;call:0x401add;pop:0x401ae0;push:0x401ae1;push:0x401ae2;push:0x401ae8;call:0x401aee;add:0x401af3;pop:0x401af6;push:0x401af7;push:0x401af8;pop:0x401afd;call:0x401afe;pop:0x401b01;sub:0x401b02;mov:0x401b05;add:0x401b08;ret:0x401b0b;mov:0x401b0c;push:0x401b0e;mov:0x401b0f;sub:0x401b11;push:0x401b14;push:0x401b15;push:0x401b16;push:0x401b1c;call:0x401b22;add:0x401b27;pop:0x401b2a;push:0x401b2b;mov:0x401b2c;push:0x401b31;push:0x401b32;pop:0x401b37;call:0x401b38;pop:0x401b3b;push:0x401b3c;push:0x401b3d;push:0x401b3f;pop:0x401b44;call:0x401b45;pop:0x401b48;sub:0x401b49;mov:0x401b4c;add:0x401b4f;ret:0x401b52;add:0x401b53;sub:0x401b59;push:0x401b5c;push:0x401b5d;push:0x401b5f;pop:0x401b64;call:0x401b65;pop:0x401b68;push:0x401b69;push:0x401b6a;push:0x401b70;push:0x401b71;call:0x401b72;add:0x401b77;pop:0x401b7a;push:0x401b7b;push:0x401b7c;push:0x401b7e;pop:0x401b83;call:0x401b84;pop:0x401b87;sub:0x401b88;mov:0x401b8b;add:0x401b8e;ret:0x401b91;add:0x401b92;mov:0x401b94;push:0x401b96;mov:0x401b97;sub:0x401b99;push:0x401b9c;push:0x401b9d;push:0x401b9f;pop:0x401ba4;call:0x401ba5;pop:0x401ba8;push:0x401ba9;push:0x401baa;push:0x401bab;call:0x401bb1;add:0x401bb6;pop:0x401bb9;push:0x401bba;mov:0x401bbb;push:0x401bc0;push:0x401bc1;pop:0x401bc6;call:0x401bc7;pop:0x401bca;sub:0x401bcb;mov:0x401bce;add:0x401bd1;ret:0x401bd4;add:0x401bd5;add:0x401bd7;sub:0x401bdd;push:0x401be0;mov:0x401be1;push:0x401be6;push:0x401be7;pop:0x401bec;call:0x401bed;pop:0x401bf0;push:0x401bf1;push:0x401bf2;push:0x401bf3;push:0x401bf9;push:0x401bfa;call:0x401bfb;add:0x401c00;pop:0x401c03;push:0x401c04;mov:0x401c05;push:0x401c0a;push:0x401c0b;pop:0x401c10;call:0x401c11;pop:0x401c14;sub:0x401c15;mov:0x401c18;add:0x401c1b;ret:0x401c1e;add:0x401c1f;add:0x401c21;add:0x401c23;add:0x401c25;add:0x401c27;sub:0x401c2d;push:0x401c30;push:0x401c31;push:0x401c33;pop:0x401c38;call:0x401c39;pop:0x401c3c;push:0x401c3d;push:0x401c3e;push:0x401c44;push:0x401c4a;call:0x401c4b;add:0x401c50;pop:0x401c53;push:0x401c54;mov:0x401c55;push:0x401c5a;push:0x401c5b;pop:0x401c60;call:0x401c61;pop:0x401c64;sub:0x401c65;mov:0x401c68;add:0x401c6b;ret:0x401c6e;add:0x401c6f;add:0x401c71;add:0x401c73;add:0x401c75;add:0x401c77;sub:0x401c7d;push:0x401c80;mov:0x401c81;push:0x401c86;push:0x401c87;pop:0x401c8c;call:0x401c8d;pop:0x401c90;push:0x401c91;push:0x401c92;push:0x401c93;call:0x401c99;add:0x401c9e;pop:0x401ca1;push:0x401ca2;push:0x401ca3;push:0x401ca5;pop:0x401caa;call:0x401cab;pop:0x401cae;sub:0x401caf;mov:0x401cb2;add:0x401cb5;ret:0x401cb8;add:0x401cb9;add:0x401cbb;add:0x401cbd;add:0x401cbf;sub:0x401cc5;push:0x401cc8;push:0x401cc9;push:0x401ccf;push:0x401cd1;push:0x401cd7;call:0x401cd8;add:0x401cdd;pop:0x401ce0;push:0x401ce1;mov:0x401ce2;push:0x401ce7;push:0x401ce8;pop:0x401ced;call:0x401cee;pop:0x401cf1;push:0x401cf2;lea:0x401cf3;push:0x401cf5;push:0x401cf6;pop:0x401cfb;call:0x401cfc;test:0x401cff;jne:0x401d01;pop:0x401d03;sub:0x401d04;mov:0x401d07;add:0x401d0a;ret:0x401d0d;add:0x401d0e;add:0x401d10;add:0x401d12;mov:0x401d14;push:0x401d16;mov:0x401d17;sub:0x401d19;push:0x401d1c;push:0x401d1d;push:0x401d1f;pop:0x401d24;call:0x401d25;pop:0x401d28;push:0x401d29;push:0x401d2a;push:0x401d30;call:0x401d36;add:0x401d3b;pop:0x401d3e;push:0x401d3f;push:0x401d40;pop:0x401d45;call:0x401d46;pop:0x401d49;sub:0x401d4a;mov:0x401d4d;add:0x401d50;ret:0x401d53;add:0x401d54;add:0x401d56;mov:0x401d58;push:0x401d5a;mov:0x401d5b;sub:0x401d5d;push:0x401d60;push:0x401d61;push:0x401d63;pop:0x401d68;call:0x401d69;pop:0x401d6c;push:0x401d6d;push:0x401d6e;push:0x401d74;push:0x401d75;push:0x401d7b;call:0x401d7c;add:0x401d81;pop:0x401d84;push:0x401d85;push:0x401d86;push:0x401d88;pop:0x401d8d;call:0x401d8e;pop:0x401d91;sub:0x401d92;mov:0x401d95;add:0x401d98;ret:0x401d9b;mov:0x401d9c;push:0x401d9e;mov:0x401d9f;sub:0x401da1;push:0x401da4;push:0x401da5;push:0x401dab;push:0x401dac;push:0x401dad;call:0x401db3;add:0x401db8;pop:0x401dbb;push:0x401dbc;mov:0x401dbd;push:0x401dc2;push:0x401dc3;pop:0x401dc8;call:0x401dc9;pop:0x401dcc;push:0x401dcd;mov:0x401dce;push:0x401dd3;push:0x401dd4;pop:0x401dd9;call:0x401dda;pop:0x401ddd;sub:0x401dde;mov:0x401de1;add:0x401de4;ret:0x401de7;mov:0x401de8;push:0x401dea;mov:0x401deb;sub:0x401ded;push:0x401df0;push:0x401df1;push:0x401df3;pop:0x401df8;call:0x401df9;pop:0x401dfc;push:0x401dfd;push:0x401dfe;push:0x401dff;push:0x401e00;call:0x401e01;add:0x401e06;pop:0x401e09;push:0x401e0a;push:0x401e0b;push:0x401e0d;pop:0x401e12;call:0x401e13;pop:0x401e16;sub:0x401e17;mov:0x401e1a;add:0x401e1d;ret:0x401e20;add:0x401e21;add:0x401e23;sub:0x401e29;push:0x401e2c;mov:0x401e2d;push:0x401e32;push:0x401e33;pop:0x401e38;call:0x401e39;pop:0x401e3c;push:0x401e3d;push:0x401e3e;push:0x401e44;call:0x401e4a;add:0x401e4f;pop:0x401e52;push:0x401e53;push:0x401e54;pop:0x401e59;call:0x401e5a;pop:0x401e5d;sub:0x401e5e;mov:0x401e61;add:0x401e64;ret:0x401e67;add:0x401e68;add:0x401e6a;mov:0x401e6c;push:0x401e6e;mov:0x401e6f;sub:0x401e71;push:0x401e74;mov:0x401e75;push:0x401e7a;push:0x401e7b;pop:0x401e80;call:0x401e81;pop:0x401e84;push:0x401e85;push:0x401e86;push:0x401e87;push:0x401e8a;push:0x401e8b;call:0x401e8c;add:0x401e91;pop:0x401e94;push:0x401e95;mov:0x401e96;push:0x401e9b;push:0x401e9c;pop:0x401ea1;call:0x401ea2;pop:0x401ea5;sub:0x401ea6;mov:0x401ea9;add:0x401eac;ret:0x401eaf;add:0x401eb0;add:0x401eb2;add:0x401eb4;add:0x401eb6;add:0x401eb8;add:0x401eba;and:0x401ebc;cmc:0x401ec3;jbe:0x401ec4;das:0x401ec6;xchg:0x401ec7;add:0x401ec8;jp:0x401eca;movsw:0x401ecc;or:0x401ece\"\n        ],\n        \"semantic_type\": \"\",\n        \"description\": \"\"\n      }\n    },\n    {\n      \"column\": \"dynamic_seq\",\n      \"properties\": {\n        \"dtype\": \"category\",\n        \"num_unique_values\": 3222,\n        \"samples\": [\n          \"NtAllocateVirtualMemory; NtFreeVirtualMemory; NtAllocateVirtualMemory; LdrGetDllHandle; LdrGetProcedureAddress; GetFileType; GetFileType; GetFileType; NtAllocateVirtualMemory; GetSystemTimeAsFileTime; NtProtectVirtualMemory; LdrGetDllHandle; LdrGetProcedureAddress; NtAllocateVirtualMemory; LdrGetDllHandle; LdrGetProcedureAddress; LdrGetProcedureAddress; LdrGetProcedureAddress; LdrGetProcedureAddress; NtAllocateVirtualMemory; NtProtectVirtualMemory; NtFreeVirtualMemory; LdrGetDllHandle; LdrGetProcedureAddress; LdrGetProcedureAddress; LdrGetProcedureAddress; LdrGetProcedureAddress; LdrGetDllHandle; LdrGetDllHandle; NtQuerySystemInformation; NtProtectVirtualMemory; NtProtectVirtualMemory; NtProtectVirtualMemory; GetSystemDirectoryW; LdrGetDllHandle; LdrGetDllHandle; LdrLoadDll; GetSystemDirectoryW; LdrGetDllHandle; NtOpenKey; NtQueryValueKey; NtClose; LdrGetDllHandle; LdrGetProcedureAddress; LdrGetProcedureAddress; LdrGetProcedureAddress; LdrGetProcedureAddress; NtOpenKey; NtQueryValueKey; NtQueryValueKey; NtOpenKey; NtQueryValueKey; NtClose; NtOpenKey; NtEnumerateKey; NtOpenKey; NtQueryValueKey; NtQueryValueKey; NtClose; NtEnumerateKey; NtClose; NtOpenKey; NtOpenKey; NtClose; NtOpenKey; NtOpenKey; NtOpenKey; NtEnumerateValueKey; NtClose; NtClose; NtOpenKey; NtClose; NtOpenKey; NtOpenKey; NtOpenKey; NtEnumerateValueKey; NtClose; NtClose; NtOpenKey; NtClose; NtOpenKey; NtOpenKey; NtOpenKey; NtQueryValueKey; NtClose; NtClose; NtOpenKey; NtClose; NtOpenKey; NtOpenKey; NtQueryValueKey; NtQueryValueKey; NtClose; NtClose; NtClose; NtClose; RegOpenKeyExW; RegQueryValueExW; RegCloseKey; LdrLoadDll; LdrGetProcedureAddress; GetSystemTimeAsFileTime; NtAllocateVirtualMemory; NtFreeVirtualMemory; NtAllocateVirtualMemory; LdrGetDllHandle; LdrGetProcedureAddress; LdrGetProcedureAddress; LdrGetProcedureAddress; LdrGetProcedureAddress; LdrGetDllHandle; LdrGetProcedureAddress; LdrGetDllHandle; LdrGetProcedureAddress; LdrGetDllHandle; LdrGetProcedureAddress; LdrGetDllHandle; LdrGetProcedureAddress; LdrGetDllHandle; LdrGetProcedureAddress; LdrGetDllHandle; LdrGetProcedureAddress; LdrGetDllHandle; LdrGetProcedureAddress; LdrGetDllHandle; LdrGetProcedureAddress; LdrGetDllHandle; LdrGetProcedureAddress; LdrGetDllHandle; LdrGetProcedureAddress; LdrGetDllHandle; LdrGetProcedureAddress; LdrGetDllHandle; LdrGetProcedureAddress; LdrGetDllHandle; LdrGetProcedureAddress; LdrGetDllHandle; LdrGetProcedureAddress; LdrGetDllHandle; LdrGetProcedureAddress; LdrGetDllHandle; LdrGetProcedureAddress; LdrGetDllHandle; LdrGetProcedureAddress; LdrGetDllHandle; LdrGetProcedureAddress; LdrGetDllHandle; LdrGetProcedureAddress; LdrGetDllHandle; LdrGetProcedureAddress; LdrGetDllHandle; LdrGetProcedureAddress; LdrGetDllHandle; LdrGetProcedureAddress; LdrGetDllHandle; LdrGetProcedureAddress; LdrGetDllHandle; LdrGetProcedureAddress; LdrGetDllHandle; LdrGetProcedureAddress; LdrGetDllHandle; LdrGetProcedureAddress; LdrGetProcedureAddress; NtAllocateVirtualMemory; NtAllocateVirtualMemory; LdrGetDllHandle; LdrGetDllHandle; LdrGetProcedureAddress; NtOpenProcess; NtClose; GetSystemMetrics; GetSystemMetrics; GetSystemMetrics; GetSystemMetrics; GetSystemMetrics; GetSystemMetrics; NtClose; NtOpenKey; GetSystemMetrics; GetSystemMetrics; GetSystemMetrics; GetSystemMetrics; GetSystemMetrics; GetSystemMetrics; GetSystemMetrics; GetSystemMetrics; GetSystemMetrics; GetSystemMetrics; RegCloseKey; GetSystemMetrics; GetSystemMetrics; GetSystemMetrics; LdrLoadDll; LdrGetProcedureAddress; LdrGetProcedureAddress; LdrGetProcedureAddress; LdrGetProcedureAddress; LdrGetProcedureAddress; LdrGetProcedureAddress; LdrGetProcedureAddress; LdrGetProcedureAddress; LdrGetProcedureAddress; LdrGetProcedureAddress; LdrGetProcedureAddress; LdrLoadDll; LdrGetProcedureAddress; LdrGetDllHandle; LdrGetDllHandle; GetSystemTimeAsFileTime; LdrLoadDll; LdrGetProcedureAddress; LdrGetDllHandle; LdrGetDllHandle; LdrLoadDll; LdrGetProcedureAddress; LdrGetDllHandle; LdrGetDllHandle; GetSystemTimeAsFileTime; LdrLoadDll; LdrGetProcedureAddress; LdrGetDllHandle; LdrGetDllHandle; GetSystemTimeAsFileTime; RegOpenKeyExA; RegQueryValueExA; RegCloseKey; RegOpenKeyExA; RegQueryValueExA; RegCloseKey; RegOpenKeyExW; RegQueryValueExW; RegCloseKey; NtClose; NtClose; LdrLoadDll; LdrGetProcedureAddress; LdrGetDllHandle; LdrGetProcedureAddress; LdrGetDllHandle; LdrGetProcedureAddress; LdrGetDllHandle; LdrGetDllHandle; GetSystemMetrics; GetSystemMetrics; GetSystemMetrics; GetSystemMetrics; GetSystemMetrics; GetSystemMetrics; GetSystemMetrics; LdrLoadDll; LdrGetProcedureAddress; LdrGetDllHandle; LdrGetProcedureAddress; LdrGetDllHandle; LdrGetProcedureAddress; LdrGetDllHandle; LdrGetProcedureAddress; LdrGetDllHandle; LdrGetProcedureAddress; LdrGetProcedureAddress; LdrGetDllHandle; LdrGetProcedureAddress; __exception__; NtAllocateVirtualMemory; LdrLoadDll; LdrGetProcedureAddress; LdrGetProcedureAddress; LdrGetProcedureAddress; LdrGetProcedureAddress; LdrGetProcedureAddress; LdrLoadDll; LdrGetProcedureAddress; LdrGetProcedureAddress; NtAllocateVirtualMemory; NtAllocateVirtualMemory; NtFreeVirtualMemory; LdrGetDllHandle; LdrGetProcedureAddress; LdrGetProcedureAddress; LdrGetProcedureAddress; LdrGetProcedureAddress; LdrGetProcedureAddress; LdrGetDllHandle; LdrGetProcedureAddress; LdrGetDllHandle; LdrGetProcedureAddress; LdrGetProcedureAddress; LdrGetProcedureAddress; LdrGetDllHandle; LdrGetProcedureAddress; LdrGetDllHandle; LdrGetProcedureAddress; LdrGetProcedureAddress; LdrGetProcedureAddress; LdrGetProcedureAddress; LdrGetProcedureAddress; LdrGetProcedureAddress; LdrGetProcedureAddress; LdrGetProcedureAddress; LdrGetProcedureAddress; LdrGetDllHandle; LdrGetProcedureAddress; LdrGetProcedureAddress; LdrGetProcedureAddress; LdrGetProcedureAddress; LdrGetProcedureAddress; LdrGetProcedureAddress; LdrGetProcedureAddress; LdrGetProcedureAddress; LdrGetProcedureAddress; LdrGetProcedureAddress; LdrGetProcedureAddress; LdrGetProcedureAddress; LdrGetProcedureAddress; LdrGetProcedureAddress; LdrGetProcedureAddress; LdrGetProcedureAddress; LdrGetProcedureAddress; LdrGetProcedureAddress; LdrGetProcedureAddress; LdrGetProcedureAddress; LdrGetProcedureAddress; LdrGetProcedureAddress; LdrGetProcedureAddress; LdrGetProcedureAddress; LdrGetProcedureAddress; LdrGetProcedureAddress; LdrGetProcedureAddress; LdrGetProcedureAddress; LdrGetProcedureAddress; LdrGetProcedureAddress; LdrGetProcedureAddress; LdrGetProcedureAddress; LdrGetProcedureAddress; LdrGetProcedureAddress; LdrGetProcedureAddress; LdrGetProcedureAddress; LdrGetProcedureAddress; LdrGetProcedureAddress; LdrGetProcedureAddress; LdrGetProcedureAddress; LdrGetProcedureAddress; LdrGetProcedureAddress; LdrGetProcedureAddress; LdrGetProcedureAddress; LdrGetProcedureAddress; LdrGetProcedureAddress; LdrGetProcedureAddress; LdrGetProcedureAddress; LdrGetProcedureAddress; LdrGetProcedureAddress; LdrGetProcedureAddress; LdrGetProcedureAddress; LdrGetProcedureAddress; LdrGetProcedureAddress; LdrGetProcedureAddress; LdrGetProcedureAddress; LdrGetProcedureAddress; LdrGetProcedureAddress; LdrGetProcedureAddress; LdrGetProcedureAddress; LdrGetProcedureAddress; LdrGetProcedureAddress; LdrGetProcedureAddress; LdrGetProcedureAddress; LdrGetProcedureAddress; LdrGetProcedureAddress; LdrGetProcedureAddress; LdrGetProcedureAddress; LdrGetProcedureAddress; LdrGetProcedureAddress; LdrGetProcedureAddress; LdrGetProcedureAddress; LdrGetProcedureAddress; LdrGetProcedureAddress; LdrGetProcedureAddress; LdrGetProcedureAddress; LdrGetProcedureAddress; LdrGetProcedureAddress; LdrGetProcedureAddress; LdrGetProcedureAddress; LdrGetProcedureAddress; LdrGetProcedureAddress; LdrGetProcedureAddress; LdrGetProcedureAddress; LdrGetProcedureAddress; LdrGetProcedureAddress; LdrGetProcedureAddress; LdrGetProcedureAddress; LdrGetProcedureAddress; LdrGetProcedureAddress; LdrGetProcedureAddress; LdrGetProcedureAddress; LdrGetProcedureAddress; LdrGetProcedureAddress; LdrGetProcedureAddress; LdrGetProcedureAddress; LdrGetProcedureAddress; LdrGetProcedureAddress; LdrGetProcedureAddress; LdrGetProcedureAddress; LdrGetProcedureAddress; LdrGetProcedureAddress; LdrGetProcedureAddress; LdrGetProcedureAddress; LdrGetProcedureAddress; LdrGetProcedureAddress; LdrGetProcedureAddress; LdrGetProcedureAddress; LdrGetProcedureAddress; LdrGetProcedureAddress; LdrGetProcedureAddress; LdrGetProcedureAddress; LdrGetProcedureAddress; LdrGetProcedureAddress; LdrGetProcedureAddress; LdrGetProcedureAddress; LdrGetProcedureAddress; LdrGetProcedureAddress; LdrGetProcedureAddress; LdrGetProcedureAddress; LdrGetProcedureAddress; LdrGetProcedureAddress; LdrGetProcedureAddress; LdrGetProcedureAddress; LdrGetProcedureAddress; LdrGetProcedureAddress; LdrGetProcedureAddress; LdrGetProcedureAddress; LdrGetDllHandle; LdrGetProcedureAddress; LdrGetProcedureAddress; LdrGetProcedureAddress; LdrGetProcedureAddress; LdrGetProcedureAddress; LdrGetProcedureAddress; LdrGetProcedureAddress; LdrGetProcedureAddress; LdrGetProcedureAddress; LdrGetProcedureAddress; LdrGetProcedureAddress; LdrGetProcedureAddress; LdrGetProcedureAddress; LdrGetProcedureAddress; LdrGetProcedureAddress; LdrGetProcedureAddress; LdrGetProcedureAddress; LdrGetProcedureAddress; LdrGetProcedureAddress; LdrGetProcedureAddress; LdrGetProcedureAddress; LdrGetProcedureAddress; LdrGetProcedureAddress; LdrGetProcedureAddress; LdrGetProcedureAddress; LdrGetProcedureAddress; LdrGetProcedureAddress; LdrGetProcedureAddress; LdrGetProcedureAddress; LdrGetProcedureAddress; LdrGetProcedureAddress; LdrGetProcedureAddress; LdrGetProcedureAddress; LdrGetProcedureAddress; LdrGetProcedureAddress; LdrGetProcedureAddress; LdrGetProcedureAddress; LdrGetProcedureAddress; LdrGetProcedureAddress; LdrGetProcedureAddress; LdrGetProcedureAddress; LdrGetProcedureAddress; LdrGetProcedureAddress; LdrGetProcedureAddress; LdrGetProcedureAddress; LdrGetProcedureAddress; LdrGetProcedureAddress; LdrGetProcedureAddress; LdrGetProcedureAddress; LdrGetProcedureAddress; LdrGetProcedureAddress; LdrGetProcedureAddress; LdrGetProcedureAddress; LdrGetProcedureAddress; LdrGetProcedureAddress; LdrGetProcedureAddress; LdrGetProcedureAddress; LdrGetProcedureAddress; LdrGetProcedureAddress; LdrGetProcedureAddress; LdrGetProcedureAddress; LdrGetProcedureAddress; LdrGetProcedureAddress; LdrGetProcedureAddress; LdrGetProcedureAddress; LdrGetProcedureAddress; LdrGetProcedureAddress; LdrGetProcedureAddress; LdrGetProcedureAddress; LdrGetProcedureAddress; LdrGetProcedureAddress; LdrGetProcedureAddress; LdrGetProcedureAddress; LdrGetProcedureAddress; LdrGetProcedureAddress; LdrGetProcedureAddress; LdrGetProcedureAddress; LdrGetProcedureAddress; LdrGetProcedureAddress; LdrGetProcedureAddress; LdrGetProcedureAddress; LdrGetProcedureAddress; LdrGetProcedureAddress; LdrGetProcedureAddress; LdrGetProcedureAddress; LdrGetProcedureAddress; LdrGetProcedureAddress; LdrGetProcedureAddress; LdrGetProcedureAddress; LdrGetDllHandle; LdrGetProcedureAddress; LdrGetProcedureAddress; LdrGetProcedureAddress; LdrGetProcedureAddress; LdrGetProcedureAddress; LdrGetProcedureAddress; LdrGetProcedureAddress; LdrGetProcedureAddress; LdrGetProcedureAddress; LdrGetProcedureAddress; LdrGetProcedureAddress; LdrGetProcedureAddress; LdrGetProcedureAddress; LdrGetProcedureAddress; LdrGetProcedureAddress; LdrGetProcedureAddress; LdrGetProcedureAddress; LdrGetProcedureAddress; LdrGetProcedureAddress; LdrGetProcedureAddress; LdrGetProcedureAddress; LdrGetProcedureAddress; LdrGetProcedureAddress; LdrGetProcedureAddress; LdrGetProcedureAddress; LdrGetProcedureAddress; LdrGetProcedureAddress; LdrGetProcedureAddress; LdrGetProcedureAddress; LdrGetProcedureAddress; LdrGetProcedureAddress; LdrGetProcedureAddress; LdrGetProcedureAddress; LdrGetProcedureAddress; LdrGetProcedureAddress; LdrGetDllHandle; LdrGetProcedureAddress; LdrGetDllHandle; LdrGetProcedureAddress; LdrGetProcedureAddress; LdrGetProcedureAddress; LdrGetProcedureAddress; LdrGetProcedureAddress; LdrGetProcedureAddress; LdrGetProcedureAddress; LdrGetProcedureAddress; LdrGetProcedureAddress; LdrGetProcedureAddress; LdrGetProcedureAddress; LdrGetProcedureAddress; LdrGetProcedureAddress; LdrGetProcedureAddress; LdrGetProcedureAddress; LdrGetProcedureAddress; LdrGetProcedureAddress; LdrGetDllHandle; LdrGetProcedureAddress; LdrGetProcedureAddress; LdrGetProcedureAddress; LdrGetProcedureAddress; LdrGetProcedureAddress; LdrGetProcedureAddress; LdrGetProcedureAddress; LdrGetProcedureAddress; LdrGetProcedureAddress; LdrGetDllHandle; LdrGetProcedureAddress; LdrGetProcedureAddress; LdrGetProcedureAddress; LdrGetProcedureAddress; LdrGetProcedureAddress; LdrGetDllHandle; LdrGetProcedureAddress; LdrGetProcedureAddress; LdrGetProcedureAddress; LdrGetProcedureAddress; LdrGetProcedureAddress; LdrGetProcedureAddress; LdrGetProcedureAddress; LdrGetProcedureAddress; NtProtectVirtualMemory; NtProtectVirtualMemory; NtProtectVirtualMemory; NtProtectVirtualMemory; NtFreeVirtualMemory; GetSystemTimeAsFileTime; NtAllocateVirtualMemory; NtFreeVirtualMemory; NtAllocateVirtualMemory; LdrGetDllHandle; LdrGetProcedureAddress; LdrGetProcedureAddress; LdrGetProcedureAddress; LdrGetProcedureAddress; LdrGetDllHandle; NtAllocateVirtualMemory; NtAllocateVirtualMemory; SetUnhandledExceptionFilter; LdrLoadDll; LdrGetProcedureAddress; LdrUnloadDll; NtAllocateVirtualMemory; NtFreeVirtualMemory; NtAllocateVirtualMemory; LdrGetDllHandle; LdrGetProcedureAddress; NtProtectVirtualMemory; NtProtectVirtualMemory; NtAllocateVirtualMemory; NtFreeVirtualMemory; NtAllocateVirtualMemory; NtProtectVirtualMemory; NtProtectVirtualMemory; CoInitializeEx; SetErrorMode; LdrLoadDll; LdrGetProcedureAddress; LdrUnloadDll; NtAllocateVirtualMemory; NtAllocateVirtualMemory; ReadProcessMemory; ReadProcessMemory; ReadProcessMemory; ReadProcessMemory; ReadProcessMemory; GetTempPathW; NtOpenFile; NtClose; NtCreateFile; SetFilePointer; SetFilePointer; NtClose; LdrLoadDll; LdrGetProcedureAddress; LdrGetProcedureAddress; LdrGetProcedureAddress; LdrGetProcedureAddress; LdrGetProcedureAddress; LdrGetProcedureAddress; LdrGetProcedureAddress; LdrLoadDll; LdrGetProcedureAddress; LdrGetProcedureAddress; LdrLoadDll; LdrGetProcedureAddress; LdrGetProcedureAddress; NtAllocateVirtualMemory; NtAllocateVirtualMemory; NtAllocateVirtualMemory; NtAllocateVirtualMemory; NtAllocateVirtualMemory; NtAllocateVirtualMemory; NtAllocateVirtualMemory; NtAllocateVirtualMemory; NtAllocateVirtualMemory; NtAllocateVirtualMemory; NtAllocateVirtualMemory; NtAllocateVirtualMemory; NtAllocateVirtualMemory; NtAllocateVirtualMemory; NtAllocateVirtualMemory; NtAllocateVirtualMemory; NtAllocateVirtualMemory; NtAllocateVirtualMemory; NtAllocateVirtualMemory; NtAllocateVirtualMemory; NtAllocateVirtualMemory; NtAllocateVirtualMemory; NtAllocateVirtualMemory; NtAllocateVirtualMemory; NtAllocateVirtualMemory; NtAllocateVirtualMemory; NtAllocateVirtualMemory; NtAllocateVirtualMemory; NtAllocateVirtualMemory; NtAllocateVirtualMemory; NtAllocateVirtualMemory; NtAllocateVirtualMemory; NtAllocateVirtualMemory; NtAllocateVirtualMemory; NtAllocateVirtualMemory; NtAllocateVirtualMemory; NtAllocateVirtualMemory; NtAllocateVirtualMemory; NtAllocateVirtualMemory; NtAllocateVirtualMemory; NtAllocateVirtualMemory; NtAllocateVirtualMemory; NtAllocateVirtualMemory; NtAllocateVirtualMemory; NtAllocateVirtualMemory; NtAllocateVirtualMemory; __exception__; __exception__; __exception__; CreateThread; NtResumeThread; GetForegroundWindow; CreateToolhelp32Snapshot; Process32FirstW; NtOpenProcess; Process32NextW; NtOpenProcess; Process32NextW; SHGetFolderPathW; NtOpenProcess; Process32NextW; NtOpenProcess; FindFirstFileExW; Process32NextW; NtOpenProcess; Process32NextW; NtOpenProcess; Process32NextW; NtOpenProcess; Process32NextW; NtOpenProcess; NtQueryDirectoryFile; Process32NextW; NtOpenProcess; Process32NextW; NtOpenProcess; NtQueryDirectoryFile; NtClose; Process32NextW; NtOpenProcess; Process32NextW; NtOpenProcess; Process32NextW; NtOpenProcess; Process32NextW; NtOpenProcess; NtCreateFile; Process32NextW; GetFileSize; NtOpenProcess; NtAllocateVirtualMemory; Process32NextW; NtOpenProcess; Process32NextW; NtOpenProcess; Process32NextW; NtOpenProcess; Process32NextW; NtOpenProcess; Process32NextW; NtOpenProcess; Process32NextW; NtOpenProcess; Process32NextW; NtOpenProcess; NtClose; NtReadFile; NtFreeVirtualMemory; NtClose; GetComputerNameA; NtOpenKey; GetUserNameA; NtQueryValueKey; GetSystemInfo; NtClose; NtCreateMutant; GetComputerNameA; GetUserNameA; GetSystemInfo; NtOpenKey; GetForegroundWindow; SHGetFolderPathW; NtQueryValueKey; NtClose; LdrLoadDll; NtDuplicateObject; LdrGetProcedureAddress; NtCreateThreadEx; NtDuplicateObject; LdrGetProcedureAddress; NtResumeThread; NtDuplicateObject; GetSystemWindowsDirectoryW; NtCreateFile; NtCreateSection; NtMapViewOfSection; NtClose; NtClose; CreateDirectoryW; NtClose; Process32NextW; NtOpenProcess; NtClose; Process32NextW; NtOpenProcess; NtClose; Process32NextW; NtOpenProcess; Process32NextW; NtOpenProcess; NtClose; Process32NextW; NtOpenProcess; Process32NextW; NtOpenProcess; NtCreateFile; Process32NextW; NtOpenProcess; NtClose; Process32NextW; NtOpenProcess; NtClose; Process32NextW; NtOpenProcess; NtClose; Process32NextW; NtOpenProcess; NtClose; Process32NextW; NtOpenProcess; Process32NextW; NtOpenProcess; Process32NextW; NtOpenProcess; Process32NextW; NtOpenProcess; Process32NextW; NtOpenProcess; Process32NextW; NtOpenProcess; Process32NextW; NtOpenProcess; Process32NextW; NtOpenProcess; NtClose; Process32NextW; NtOpenProcess; NtClose; Process32NextW; NtOpenProcess; Process32NextW; NtOpenProcess; Process32NextW; NtOpenProcess; NtClose; NtCreateFile; Process32NextW; NtReadFile; NtClose; NtWriteFile; NtReadFile; NtWriteFile; NtReadFile; NtWriteFile; NtReadFile; NtWriteFile; NtReadFile; NtWriteFile; NtReadFile; NtWriteFile; NtReadFile; NtWriteFile; NtReadFile; NtWriteFile; NtReadFile; NtWriteFile; NtReadFile; NtWriteFile; NtReadFile; NtWriteFile; NtReadFile; NtWriteFile; NtReadFile; NtWriteFile; NtReadFile; NtWriteFile; NtReadFile; NtWriteFile; NtReadFile; NtWriteFile; NtReadFile; NtWriteFile; NtReadFile; NtWriteFile; NtReadFile; NtWriteFile; NtReadFile; NtWriteFile; NtReadFile; NtWriteFile; NtReadFile; NtWriteFile; NtReadFile; NtWriteFile; NtReadFile; NtWriteFile; NtReadFile; NtWriteFile; NtReadFile; NtWriteFile; NtReadFile; NtWriteFile; NtReadFile; NtWriteFile; NtReadFile; NtWriteFile; NtReadFile; NtWriteFile; NtReadFile; NtWriteFile; NtReadFile; NtWriteFile; NtReadFile; NtWriteFile; NtReadFile; NtWriteFile; NtReadFile; NtWriteFile; NtReadFile; NtWriteFile; NtReadFile; NtWriteFile; NtReadFile; NtWriteFile; NtReadFile; NtWriteFile; NtReadFile; NtWriteFile; NtReadFile; NtWriteFile; NtReadFile; NtWriteFile; NtReadFile; NtWriteFile; NtReadFile; NtWriteFile; NtReadFile; NtWriteFile; NtReadFile; NtWriteFile; NtReadFile; NtWriteFile; NtReadFile; NtWriteFile; NtReadFile; NtWriteFile; NtReadFile; NtWriteFile; NtReadFile; NtWriteFile; NtReadFile; NtWriteFile; NtReadFile; NtWriteFile; NtReadFile; NtWriteFile; NtReadFile; NtWriteFile; NtReadFile; NtWriteFile; NtReadFile; NtWriteFile; NtReadFile; NtWriteFile; NtReadFile; NtWriteFile; NtReadFile; NtWriteFile; NtReadFile; NtWriteFile; NtReadFile; NtWriteFile; NtReadFile; NtWriteFile; NtReadFile; NtWriteFile; NtReadFile; NtWriteFile; NtReadFile; NtWriteFile; NtReadFile; NtWriteFile; NtReadFile; NtWriteFile; NtReadFile; NtWriteFile; NtReadFile; NtWriteFile; NtReadFile; NtWriteFile; NtReadFile; NtWriteFile; NtReadFile; NtWriteFile; NtReadFile; NtWriteFile; NtReadFile; NtWriteFile; NtReadFile; NtWriteFile; NtReadFile; NtWriteFile; NtReadFile; NtWriteFile; NtReadFile; NtWriteFile; NtReadFile; NtWriteFile; NtReadFile; NtWriteFile; NtReadFile; NtWriteFile; NtReadFile; NtWriteFile; NtReadFile; NtWriteFile; NtReadFile; NtWriteFile; NtReadFile; NtWriteFile; NtReadFile; NtWriteFile; NtReadFile; NtWriteFile; NtReadFile; NtWriteFile; NtReadFile; NtWriteFile; NtReadFile; NtWriteFile; NtReadFile; NtWriteFile; NtReadFile; NtWriteFile; NtReadFile; NtWriteFile; NtReadFile; NtWriteFile; NtReadFile; NtWriteFile; NtReadFile; NtWriteFile; NtReadFile; NtWriteFile; NtReadFile; NtWriteFile; NtReadFile; NtWriteFile; NtReadFile; NtWriteFile; NtReadFile; NtWriteFile; NtReadFile; NtWriteFile; NtReadFile; NtWriteFile; NtReadFile; NtWriteFile; NtReadFile; NtWriteFile; NtReadFile; NtWriteFile; NtReadFile; NtWriteFile; NtReadFile; NtWriteFile; NtReadFile; NtWriteFile; NtReadFile; NtWriteFile; NtReadFile; NtWriteFile; NtReadFile; NtWriteFile; NtReadFile; NtWriteFile; NtReadFile; NtWriteFile; NtReadFile; NtWriteFile; NtReadFile; NtWriteFile; NtReadFile; NtWriteFile; NtReadFile; NtWriteFile; NtReadFile; NtWriteFile; NtReadFile; NtWriteFile; NtReadFile; NtWriteFile; NtReadFile; NtWriteFile; NtReadFile; NtWriteFile; NtReadFile; NtWriteFile; NtReadFile; NtWriteFile; NtReadFile; NtWriteFile; NtReadFile; NtWriteFile; NtReadFile; NtWriteFile; NtReadFile; NtWriteFile; NtReadFile; NtWriteFile; NtReadFile; NtWriteFile; NtReadFile; NtWriteFile; NtReadFile; NtWriteFile; NtReadFile; NtWriteFile; NtReadFile; NtWriteFile; NtReadFile; NtWriteFile; NtReadFile; NtWriteFile; NtReadFile; NtWriteFile; NtReadFile; NtWriteFile; NtReadFile; NtWriteFile; NtReadFile; NtWriteFile; NtReadFile; NtWriteFile; NtReadFile; NtWriteFile; NtReadFile; NtWriteFile; NtReadFile; NtWriteFile; NtReadFile; NtWriteFile; NtReadFile; NtWriteFile; NtReadFile; NtWriteFile; NtReadFile; NtWriteFile; NtReadFile; NtWriteFile; NtReadFile; NtWriteFile; NtReadFile; NtWriteFile; NtReadFile; NtWriteFile; NtReadFile; NtWriteFile; NtReadFile; NtWriteFile; NtReadFile; NtWriteFile; NtReadFile; NtWriteFile; NtReadFile; NtWriteFile; NtReadFile; NtWriteFile; NtReadFile; NtWriteFile; NtReadFile; NtWriteFile; NtReadFile; NtWriteFile; NtReadFile; NtWriteFile; NtReadFile; NtWriteFile; NtReadFile; NtWriteFile; NtReadFile; NtWriteFile; NtReadFile; NtWriteFile; NtReadFile; NtWriteFile; NtReadFile; NtWriteFile; NtReadFile; NtWriteFile; NtReadFile; NtWriteFile; NtReadFile; NtWriteFile; NtReadFile; NtWriteFile; NtReadFile; NtWriteFile; NtReadFile; NtWriteFile; NtReadFile; NtWriteFile; NtReadFile; NtWriteFile; NtReadFile; NtWriteFile; NtReadFile; NtWriteFile; NtReadFile; NtWriteFile; NtReadFile; NtWriteFile; NtReadFile; NtWriteFile; NtReadFile; NtWriteFile; NtReadFile; NtWriteFile; NtReadFile; NtWriteFile; NtReadFile; NtWriteFile; NtReadFile; NtWriteFile; NtReadFile; NtWriteFile; NtReadFile; NtWriteFile; NtReadFile; NtWriteFile; NtReadFile; NtWriteFile; NtReadFile; NtWriteFile; NtReadFile; NtWriteFile; NtReadFile; NtWriteFile; NtReadFile; NtWriteFile; NtReadFile; NtWriteFile; NtReadFile; NtWriteFile; NtReadFile; NtWriteFile; NtReadFile; NtWriteFile; NtReadFile; NtWriteFile; NtReadFile; NtWriteFile; NtReadFile; NtWriteFile; NtReadFile; NtWriteFile; NtReadFile; NtWriteFile; NtReadFile; NtWriteFile; NtReadFile; NtWriteFile; NtReadFile; NtWriteFile; NtReadFile; NtWriteFile; NtReadFile; NtWriteFile; NtReadFile; NtWriteFile; NtReadFile; NtWriteFile; NtReadFile; NtWriteFile; NtReadFile; NtWriteFile; NtReadFile; NtWriteFile; NtReadFile; NtWriteFile; NtReadFile; NtWriteFile; NtReadFile; NtWriteFile; NtReadFile; NtWriteFile; NtReadFile; NtWriteFile; NtReadFile; NtWriteFile; NtReadFile; NtWriteFile; NtReadFile; NtWriteFile; NtReadFile; NtWriteFile; NtReadFile; NtWriteFile; NtReadFile; NtWriteFile; NtReadFile; NtWriteFile; NtReadFile; NtWriteFile; NtReadFile; NtWriteFile; NtReadFile; NtWriteFile; NtReadFile; NtWriteFile; NtReadFile; NtWriteFile; NtReadFile; NtWriteFile; NtReadFile; NtWriteFile; NtReadFile; NtWriteFile; NtReadFile; NtWriteFile; NtReadFile; NtWriteFile; NtReadFile; NtWriteFile; NtReadFile; NtWriteFile; NtReadFile; NtWriteFile; NtReadFile; NtWriteFile; NtReadFile; NtWriteFile; NtReadFile; NtWriteFile; NtReadFile; NtWriteFile; NtReadFile; NtWriteFile; NtReadFile; NtWriteFile; NtReadFile; NtWriteFile; NtReadFile; NtWriteFile; NtReadFile; NtWriteFile; NtReadFile; NtWriteFile; NtReadFile; NtWriteFile; NtReadFile; NtWriteFile; NtReadFile; NtWriteFile; NtReadFile; NtWriteFile; NtReadFile; NtWriteFile; NtReadFile; NtWriteFile; NtReadFile; NtWriteFile; NtReadFile; NtWriteFile; NtReadFile; NtWriteFile; NtReadFile; NtWriteFile; NtReadFile; NtWriteFile; NtReadFile; NtWriteFile; NtReadFile; NtWriteFile; NtReadFile; NtWriteFile; NtReadFile; NtWriteFile; NtReadFile; NtWriteFile; NtReadFile; NtWriteFile; NtReadFile; NtWriteFile; NtReadFile; NtWriteFile; NtReadFile; NtWriteFile; NtReadFile; NtWriteFile; NtReadFile; NtWriteFile; NtReadFile; NtWriteFile; NtReadFile; NtWriteFile; NtReadFile; NtWriteFile; NtReadFile; NtWriteFile; NtReadFile; NtWriteFile; NtReadFile; NtWriteFile; NtReadFile; NtWriteFile; NtReadFile; NtWriteFile; NtReadFile; NtWriteFile; NtReadFile; NtWriteFile; NtReadFile; NtWriteFile; NtReadFile; NtWriteFile; NtReadFile; NtWriteFile; NtReadFile; NtWriteFile; NtReadFile; NtWriteFile; NtReadFile; NtWriteFile; NtReadFile; NtWriteFile; NtReadFile; NtWriteFile; NtReadFile; NtWriteFile; NtReadFile; NtWriteFile; NtReadFile; NtWriteFile; NtReadFile; NtWriteFile; NtReadFile; NtWriteFile; NtReadFile; NtWriteFile; NtReadFile; NtWriteFile; NtReadFile; NtWriteFile; NtReadFile; NtWriteFile; NtReadFile; NtWriteFile; NtReadFile; NtWriteFile; NtReadFile; NtWriteFile; NtReadFile; NtWriteFile; NtReadFile; NtWriteFile; NtReadFile; NtWriteFile; NtReadFile; NtWriteFile; NtReadFile; NtWriteFile; NtReadFile; NtWriteFile; NtReadFile; NtWriteFile; NtReadFile; NtWriteFile; NtReadFile; NtWriteFile; NtReadFile; NtWriteFile; NtReadFile; NtWriteFile; NtReadFile; NtWriteFile; NtReadFile; NtWriteFile; NtReadFile; NtWriteFile; NtReadFile; NtWriteFile; NtReadFile; NtWriteFile; NtReadFile; NtWriteFile; NtReadFile; NtWriteFile; NtReadFile; NtWriteFile; NtReadFile; NtWriteFile; NtReadFile; NtWriteFile; NtReadFile; NtWriteFile; NtReadFile; NtWriteFile; NtReadFile; NtWriteFile; NtReadFile; NtWriteFile; NtReadFile; NtWriteFile; NtReadFile; NtWriteFile; NtReadFile; NtWriteFile; NtReadFile; NtWriteFile; NtReadFile; NtWriteFile; NtReadFile; NtWriteFile; NtReadFile; NtWriteFile; NtReadFile; NtWriteFile; NtReadFile; NtWriteFile; NtReadFile; NtWriteFile; NtReadFile; NtWriteFile; NtReadFile; NtWriteFile; NtReadFile; NtWriteFile; NtReadFile; NtWriteFile; NtReadFile; NtWriteFile; NtReadFile; NtWriteFile; NtReadFile; NtWriteFile; NtReadFile; NtWriteFile; NtReadFile; NtWriteFile; NtReadFile; NtWriteFile; NtReadFile; NtWriteFile; NtReadFile; NtWriteFile; NtReadFile; NtWriteFile; NtReadFile; NtWriteFile; NtReadFile; NtWriteFile; NtReadFile; NtWriteFile; NtReadFile; NtWriteFile; NtReadFile; NtWriteFile; NtReadFile; NtWriteFile; NtReadFile; NtWriteFile; NtReadFile; NtWriteFile; NtReadFile; NtWriteFile; NtReadFile; NtWriteFile; NtReadFile; NtWriteFile; NtReadFile; NtWriteFile; NtReadFile; NtWriteFile; NtReadFile; NtWriteFile; NtReadFile; NtWriteFile; NtReadFile; NtWriteFile; NtReadFile; NtWriteFile; NtReadFile; NtWriteFile; NtReadFile; NtWriteFile; NtReadFile; NtWriteFile; NtReadFile; NtWriteFile; NtReadFile; NtWriteFile; NtReadFile; NtWriteFile; NtReadFile; NtWriteFile; NtReadFile; NtWriteFile; NtReadFile; NtWriteFile; NtReadFile; NtWriteFile; NtReadFile; NtWriteFile; NtReadFile; NtWriteFile; NtReadFile; NtWriteFile; NtReadFile; NtWriteFile; NtReadFile; NtWriteFile; NtReadFile; NtWriteFile; NtReadFile; NtWriteFile; NtReadFile; NtWriteFile; NtReadFile; NtWriteFile; NtReadFile; NtWriteFile; NtReadFile; NtWriteFile; NtReadFile; NtWriteFile; NtReadFile; NtWriteFile; NtReadFile; NtWriteFile; NtReadFile; NtWriteFile; NtReadFile; NtWriteFile; NtReadFile; NtWriteFile; NtReadFile; NtWriteFile; NtReadFile; NtWriteFile; NtReadFile; NtWriteFile; NtReadFile; NtWriteFile; NtReadFile; NtWriteFile; NtReadFile; NtWriteFile; NtReadFile; NtWriteFile; NtReadFile; NtWriteFile; NtReadFile; NtWriteFile; NtReadFile; NtWriteFile; NtReadFile; NtWriteFile; NtReadFile; NtWriteFile; NtReadFile; NtWriteFile; NtReadFile; NtWriteFile; NtReadFile; NtClose; NtClose; CreateProcessInternalW; NtClose; NtClose; InternetOpenA; InternetConnectA; HttpOpenRequestA; LdrGetProcedureAddress; ReadProcessMemory; ReadProcessMemory; ReadProcessMemory; ReadProcessMemory; ReadProcessMemory; LdrLoadDll; LdrUnloadDll; LdrGetProcedureAddress; LdrLoadDll; LdrGetProcedureAddress; LdrGetProcedureAddress; LdrGetProcedureAddress; LdrGetProcedureAddress; LdrGetProcedureAddress; LdrGetProcedureAddress; LdrGetProcedureAddress; LdrGetProcedureAddress; LdrGetProcedureAddress; LdrGetProcedureAddress; LdrGetProcedureAddress; LdrGetProcedureAddress; LdrGetProcedureAddress; LdrGetProcedureAddress; LdrGetProcedureAddress; LdrGetProcedureAddress; LdrGetProcedureAddress; LdrGetProcedureAddress; LdrGetProcedureAddress; LdrGetProcedureAddress; LdrGetProcedureAddress; LdrGetProcedureAddress; LdrGetProcedureAddress; LdrGetProcedureAddress; LdrGetProcedureAddress; LdrGetProcedureAddress; LdrGetProcedureAddress; LdrGetProcedureAddress; LdrGetProcedureAddress; LdrGetProcedureAddress; LdrGetProcedureAddress; LdrGetProcedureAddress; LdrGetProcedureAddress; LdrGetProcedureAddress; LdrGetProcedureAddress; LdrGetProcedureAddress; LdrGetProcedureAddress; LdrGetProcedureAddress; LdrGetProcedureAddress; LdrGetProcedureAddress; LdrGetProcedureAddress; LdrGetProcedureAddress; LdrGetProcedureAddress; LdrGetProcedureAddress; LdrGetProcedureAddress; LdrGetProcedureAddress; LdrGetProcedureAddress; LdrGetProcedureAddress; LdrGetProcedureAddress; LdrGetProcedureAddress; LdrGetProcedureAddress; LdrGetProcedureAddress; LdrGetProcedureAddress; LdrGetProcedureAddress; LdrGetProcedureAddress; LdrGetProcedureAddress; LdrGetProcedureAddress; LdrGetProcedureAddress; LdrGetProcedureAddress; LdrGetProcedureAddress; LdrGetProcedureAddress; LdrGetProcedureAddress; LdrGetProcedureAddress; LdrGetProcedureAddress; LdrGetProcedureAddress; LdrGetProcedureAddress; LdrGetProcedureAddress; LdrGetProcedureAddress; LdrGetProcedureAddress; LdrGetProcedureAddress; LdrGetProcedureAddress; LdrGetProcedureAddress; LdrGetProcedureAddress; LdrGetProcedureAddress; LdrGetProcedureAddress; LdrGetProcedureAddress; LdrGetProcedureAddress; NtDuplicateObject; LdrGetProcedureAddress; NtAllocateVirtualMemory; LdrGetProcedureAddress; LdrGetProcedureAddress; LdrGetProcedureAddress; LdrGetProcedureAddress; LdrGetProcedureAddress; LdrGetProcedureAddress; LdrGetProcedureAddress; LdrGetProcedureAddress; LdrGetProcedureAddress; LdrGetProcedureAddress; LdrGetProcedureAddress; LdrGetProcedureAddress; LdrGetProcedureAddress; LdrGetProcedureAddress; LdrGetProcedureAddress; LdrGetProcedureAddress; LdrGetProcedureAddress; LdrGetProcedureAddress; LdrGetProcedureAddress; LdrGetProcedureAddress; LdrGetProcedureAddress; LdrGetProcedureAddress; LdrGetProcedureAddress; LdrGetProcedureAddress; LdrGetProcedureAddress; LdrGetProcedureAddress; LdrGetProcedureAddress; LdrGetProcedureAddress; LdrGetProcedureAddress; LdrGetProcedureAddress; LdrGetProcedureAddress; LdrLoadDll; LdrGetProcedureAddress; LdrGetProcedureAddress; LdrGetProcedureAddress; CoInitializeEx; ReadProcessMemory; ReadProcessMemory; ReadProcessMemory; CoInitializeEx; LdrGetDllHandle; ReadProcessMemory; ReadProcessMemory; LdrGetProcedureAddress; LdrGetProcedureAddress; LdrLoadDll; NtDuplicateObject; LdrGetProcedureAddress; RegOpenKeyExA; RegCreateKeyExA; RegCloseKey; RegCreateKeyExA; RegSetValueExA; RegSetValueExA; RegSetValueExA; LdrLoadDll; LdrGetProcedureAddress; LdrLoadDll; RegSetValueExA; LdrGetProcedureAddress; NtDuplicateObject; RegSetValueExA; RegSetValueExA; RegQueryValueExA; RegQueryValueExA; RegQueryValueExA; RegQueryValueExA; RegQueryValueExA; RegQueryValueExA; RegQueryValueExA; RegQueryValueExA; RegQueryValueExA; RegQueryValueExA; RegQueryValueExA; RegQueryValueExA; RegQueryValueExA; RegQueryValueExA; RegQueryValueExA; RegQueryValueExA; RegQueryValueExA; RegQueryValueExA; LdrLoadDll; LdrGetProcedureAddress; LdrGetProcedureAddress; LdrGetDllHandle; CreateThread; LdrLoadDll; LdrGetProcedureAddress; LdrLoadDll; LdrGetProcedureAddress; GetSystemInfo; LdrLoadDll; LdrGetProcedureAddress; LdrLoadDll; LdrGetProcedureAddress; RegCreateKeyExW; RegOpenKeyExW; RegOpenKeyExW; RegQueryValueExW; RegQueryValueExW; RegCloseKey; RegCloseKey; RegCreateKeyExW; RegOpenKeyExW; RegOpenKeyExW; RegQueryValueExW; RegQueryValueExW; RegCloseKey; RegCloseKey; RegCreateKeyExW; RegOpenKeyExW; RegOpenKeyExW; RegOpenKeyExW; RegQueryValueExW; OpenSCManagerA; LdrGetProcedureAddress; RegQueryValueExW; OpenServiceA; LdrGetProcedureAddress; NtDuplicateObject; NtAllocateVirtualMemory; NtClose; RegCloseKey; RegCloseKey; LdrLoadDll; LdrGetProcedureAddress; OpenSCManagerA; OpenServiceA; LdrLoadDll; LdrGetProcedureAddress; LdrGetProcedureAddress; LdrLoadDll; LdrGetProcedureAddress; LdrGetProcedureAddress; LdrGetProcedureAddress; RegCreateKeyExW; RegOpenKeyExW; RegOpenKeyExW; RegQueryValueExW; RegQueryValueExW; RegCloseKey; RegCloseKey; LdrGetProcedureAddress; LdrUnloadDll; LdrGetProcedureAddress; UuidCreate; NtOpenThread; LdrUnloadDll; LdrUnloadDll; NtClose; NtOpenThread; LdrUnloadDll; getaddrinfo; LdrGetProcedureAddress; CoCreateInstance; NtDuplicateObject; NtAllocateVirtualMemory; NtAllocateVirtualMemory; CoCreateInstance; NtOpenKey; NtClose; RegOpenKeyExW; RegCloseKey; RegOpenKeyExW; RegQueryValueExW; RegCloseKey; RegCloseKey; NtOpenKey; NtClose; RegOpenKeyExW; RegCloseKey; RegOpenKeyExW; RegQueryValueExW; RegCloseKey; RegCloseKey; LdrGetProcedureAddress; LdrLoadDll; LdrGetProcedureAddress; LdrGetProcedureAddress; NtOpenKey; NtClose; RegOpenKeyExW; RegCloseKey; RegOpenKeyExW; RegQueryValueExW; RegCloseKey; RegCloseKey; RegOpenKeyExW; RegOpenKeyExW; NtQueryKey; NtQueryKey; NtAllocateVirtualMemory; RegOpenKeyExW; RegOpenKeyExW; RegOpenKeyExW; RegCloseKey; RegQueryValueExW; RegQueryValueExW; RegOpenKeyExW; RegQueryValueExW; RegQueryValueExW; RegQueryValueExW; RegQueryValueExW; RegCloseKey; RegOpenKeyExW; RegOpenKeyExW; RegCloseKey; NtOpenKey; NtClose; RegOpenKeyExW; RegCloseKey; RegOpenKeyExW; RegCloseKey; LdrLoadDll; LdrGetProcedureAddress; LdrGetProcedureAddress; LdrLoadDll; LdrGetProcedureAddress; RegOpenKeyExW; LdrGetProcedureAddress; NtOpenKey; NtClose; RegOpenKeyExW; RegCloseKey; RegOpenKeyExW; RegQueryValueExW; RegCloseKey; RegCloseKey; NtOpenKey; NtClose; RegOpenKeyExW; RegCloseKey; RegOpenKeyExW; RegQueryValueExW; RegCloseKey; RegCloseKey; NtDeviceIoControlFile; NtClose; NtAllocateVirtualMemory; NtDeviceIoControlFile; NtClose; NtDeviceIoControlFile; NtClose; NtDeviceIoControlFile; NtClose; NtDeviceIoControlFile; NtClose; NtDeviceIoControlFile; NtClose; NtDeviceIoControlFile; NtClose; NtDeviceIoControlFile; NtClose; NtDeviceIoControlFile; NtClose; LdrGetProcedureAddress; LdrGetProcedureAddress; RegOpenKeyExA; RegOpenKeyExW; RegQueryValueExA; LdrLoadDll; SetErrorMode; LdrLoadDll; LdrGetProcedureAddress; SetErrorMode; SetErrorMode; LdrLoadDll; LdrGetProcedureAddress; SetErrorMode; GetAdaptersAddresses; GetAdaptersAddresses; LdrUnloadDll; LdrUnloadDll; getaddrinfo; LdrUnloadDll; NtClose; CoCreateInstance; CoCreateInstance; LdrLoadDll; LdrGetProcedureAddress; LdrGetProcedureAddress; RegCreateKeyExW; RegSetValueExA; RegSetValueExA; RegSetValueExA; RegSetValueExW; RegCloseKey; LdrGetProcedureAddress; NtCreateMutant; NtClose; RegOpenKeyExW; RegQueryValueExW; RegQueryValueExW; RegCloseKey; NtClose; RegOpenKeyExW; RegQueryValueExW; RegQueryValueExW; RegCloseKey; NtClose; NtClose; NtClose; NtClose; NtClose; NtClose; NtClose; RegOpenKeyExW; RegQueryValueExW; RegQueryValueExW; RegOpenKeyExW; RegQueryValueExW; RegQueryValueExW; RegCloseKey; RegCloseKey; NtClose; NtCreateFile; NtClose; FindFirstFileExW; NtClose; FindFirstFileExW; NtClose; NtCreateFile; GetFileType; NtReadFile; NtClose; FindFirstFileExW; FindFirstFileExW; FindFirstFileExW; RegOpenKeyExW; RegQueryValueExW; RegQueryValueExW; RegOpenKeyExW; RegQueryValueExW; RegQueryValueExW; RegCloseKey; RegCloseKey; NtClose; RegOpenKeyExW; RegQueryValueExW; RegQueryValueExW; RegOpenKeyExW; RegQueryValueExW; RegQueryValueExW; RegCloseKey; RegCloseKey; NtClose; RegOpenKeyExW; RegQueryValueExW; RegQueryValueExW; RegOpenKeyExW; RegQueryValueExW; RegQueryValueExW; RegCloseKey; RegCloseKey; NtClose; FindFirstFileExW; FindFirstFileExW; NtFreeVirtualMemory; NtFreeVirtualMemory; NtOpenSection; InternetQueryOptionA; RegCreateKeyExW; RegOpenKeyExW; RegOpenKeyExW; RegQueryValueExW; RegQueryValueExW; RegCloseKey; RegCloseKey; NtAllocateVirtualMemory; getaddrinfo; RegCreateKeyExA; RegQueryValueExA; RegQueryValueExA; RegCreateKeyExA; RegCloseKey; RegSetValueExA; RegCloseKey; RegSetValueExW; HttpSendRequestA; InternetCloseHandle; InternetCloseHandle; InternetCloseHandle; NtDelayExecution; NtTerminateProcess; NtTerminateProcess; NtClose; NtClose; NtClose; NtClose; NtClose; NtUnmapViewOfSection; NtClose; NtClose; NtFreeVirtualMemory; NtClose; NtClose; NtClose; NtClose; NtClose; NtClose; NtClose; NtClose; NtClose; NtClose; NtClose; NtClose; NtClose; NtClose; NtClose; NtClose; NtClose; NtClose; NtClose; NtClose; LdrGetProcedureAddress; NtClose; NtClose; NtClose; NtClose; NtUnmapViewOfSection; NtClose; NtClose; NtClose; NtClose; NtClose; NtClose; NtClose; NtClose; NtClose; NtClose; NtClose; NtClose; NtClose; NtClose; NtClose; NtClose; NtUnmapViewOfSection; NtClose; NtClose; NtClose; NtClose; RegCloseKey; RegCloseKey; RegCloseKey; RegCloseKey; RegCloseKey; RegCloseKey; RegCloseKey; RegCloseKey; RegCloseKey; RegCloseKey; RegCloseKey; NtClose; NtClose; LdrGetProcedureAddress; NtUnmapViewOfSection; NtClose; RegCloseKey; NtClose; NtClose; NtClose; LdrGetDllHandle; LdrGetProcedureAddress; LdrGetDllHandle; LdrGetProcedureAddress; LdrUnloadDll; NtOpenKey; NtQueryValueKey; NtClose; NtClose; NtClose; NtClose; NtClose; NtTerminateProcess; NtAllocateVirtualMemory; NtFreeVirtualMemory; NtAllocateVirtualMemory; LdrGetDllHandle; LdrGetProcedureAddress; GetFileType; GetFileType; GetFileType; NtAllocateVirtualMemory; NtAllocateVirtualMemory; GetSystemTimeAsFileTime; NtProtectVirtualMemory; LdrGetDllHandle; LdrGetProcedureAddress; NtAllocateVirtualMemory; LdrGetDllHandle; LdrGetProcedureAddress; LdrGetProcedureAddress; LdrGetProcedureAddress; LdrGetProcedureAddress; NtAllocateVirtualMemory; NtProtectVirtualMemory; NtFreeVirtualMemory; LdrGetDllHandle; LdrGetProcedureAddress; LdrGetProcedureAddress; LdrGetProcedureAddress; LdrGetProcedureAddress; LdrGetDllHandle; LdrGetDllHandle; NtQuerySystemInformation; NtProtectVirtualMemory; NtProtectVirtualMemory; NtProtectVirtualMemory; GetSystemDirectoryW; LdrGetDllHandle; LdrGetDllHandle; LdrLoadDll; GetSystemDirectoryW; LdrGetDllHandle; NtOpenKey; NtQueryValueKey; NtClose; LdrGetDllHandle; LdrGetProcedureAddress; LdrGetProcedureAddress; LdrGetProcedureAddress; LdrGetProcedureAddress; NtAllocateVirtualMemory; NtOpenKey; NtQueryValueKey; NtQueryValueKey; NtOpenKey; NtQueryValueKey; NtClose; NtOpenKey; NtEnumerateKey; NtOpenKey; NtQueryValueKey; NtQueryValueKey; NtClose; NtEnumerateKey; NtClose; NtOpenKey; NtOpenKey; NtClose; NtOpenKey; NtOpenKey; NtOpenKey; NtEnumerateValueKey; NtClose; NtClose; NtOpenKey; NtClose; NtOpenKey; NtOpenKey; NtOpenKey; NtEnumerateValueKey; NtClose; NtClose; NtOpenKey; NtClose; NtOpenKey; NtOpenKey; NtOpenKey; NtQueryValueKey; NtClose; NtClose; NtOpenKey; NtClose; NtOpenKey; NtOpenKey; NtQueryValueKey; NtQueryValueKey; NtClose; NtClose; NtClose; NtClose; RegOpenKeyExW; RegQueryValueExW; RegCloseKey; LdrLoadDll; LdrGetProcedureAddress; GetSystemTimeAsFileTime; NtAllocateVirtualMemory; NtFreeVirtualMemory; NtAllocateVirtualMemory; LdrGetDllHandle; LdrGetProcedureAddress; LdrGetProcedureAddress; LdrGetProcedureAddress; LdrGetProcedureAddress; LdrGetDllHandle; LdrGetProcedureAddress; LdrGetDllHandle; LdrGetProcedureAddress; LdrGetDllHandle; LdrGetProcedureAddress; LdrGetDllHandle; LdrGetProcedureAddress; LdrGetDllHandle; LdrGetProcedureAddress; LdrGetDllHandle; LdrGetProcedureAddress; LdrGetDllHandle; LdrGetProcedureAddress; LdrGetDllHandle; LdrGetProcedureAddress; LdrGetDllHandle; LdrGetProcedureAddress; LdrGetDllHandle; LdrGetProcedureAddress; LdrGetDllHandle; LdrGetProcedureAddress; LdrGetDllHandle; LdrGetProcedureAddress; LdrGetDllHandle; LdrGetProcedureAddress; LdrGetDllHandle; LdrGetProcedureAddress; LdrGetDllHandle; LdrGetProcedureAddress; LdrGetDllHandle; LdrGetProcedureAddress; LdrGetDllHandle; LdrGetProcedureAddress; LdrGetDllHandle; LdrGetProcedureAddress; LdrGetDllHandle; LdrGetProcedureAddress; LdrGetDllHandle; LdrGetProcedureAddress; LdrGetDllHandle; LdrGetProcedureAddress; LdrGetDllHandle; LdrGetProcedureAddress; LdrGetDllHandle; LdrGetProcedureAddress; LdrGetDllHandle; LdrGetProcedureAddress; LdrGetDllHandle; LdrGetProcedureAddress; LdrGetDllHandle; LdrGetProcedureAddress; LdrGetProcedureAddress; NtAllocateVirtualMemory; NtAllocateVirtualMemory; LdrGetDllHandle; LdrGetDllHandle; LdrGetProcedureAddress; NtOpenProcess; NtClose; GetSystemMetrics; GetSystemMetrics; GetSystemMetrics; GetSystemMetrics; GetSystemMetrics; GetSystemMetrics; NtClose; NtOpenKey; GetSystemMetrics; GetSystemMetrics; GetSystemMetrics; GetSystemMetrics; GetSystemMetrics; GetSystemMetrics; GetSystemMetrics; GetSystemMetrics; GetSystemMetrics; GetSystemMetrics; RegCloseKey; GetSystemMetrics; GetSystemMetrics; GetSystemMetrics; LdrLoadDll; LdrGetProcedureAddress; LdrGetProcedureAddress; LdrGetProcedureAddress; LdrGetProcedureAddress; LdrGetProcedureAddress; LdrGetProcedureAddress; LdrGetProcedureAddress; LdrGetProcedureAddress; LdrGetProcedureAddress; LdrGetProcedureAddress; LdrGetProcedureAddress; LdrLoadDll; LdrGetProcedureAddress; LdrGetDllHandle; LdrGetDllHandle; GetSystemTimeAsFileTime; LdrLoadDll; LdrGetProcedureAddress; LdrGetDllHandle; LdrGetDllHandle; LdrLoadDll; LdrGetProcedureAddress; LdrGetDllHandle; LdrGetDllHandle; GetSystemTimeAsFileTime; LdrLoadDll; LdrGetProcedureAddress; LdrGetDllHandle; LdrGetDllHandle; GetSystemTimeAsFileTime; RegOpenKeyExA; RegQueryValueExA; RegCloseKey; NtAllocateVirtualMemory; NtAllocateVirtualMemory; NtAllocateVirtualMemory; NtAllocateVirtualMemory; NtAllocateVirtualMemory; NtAllocateVirtualMemory; RegOpenKeyExA; RegQueryValueExA; RegCloseKey; RegOpenKeyExW; RegQueryValueExW; RegCloseKey; NtAllocateVirtualMemory; NtClose; NtClose; LdrLoadDll; LdrGetProcedureAddress; LdrGetDllHandle; LdrGetProcedureAddress; LdrGetDllHandle; LdrGetProcedureAddress; LdrGetDllHandle; LdrGetDllHandle; GetSystemMetrics; GetSystemMetrics; GetSystemMetrics; GetSystemMetrics; GetSystemMetrics; GetSystemMetrics; GetSystemMetrics; NtAllocateVirtualMemory; LdrLoadDll; LdrGetProcedureAddress; LdrGetDllHandle; LdrGetProcedureAddress; LdrGetDllHandle; LdrGetProcedureAddress; LdrGetDllHandle; LdrGetProcedureAddress; LdrGetDllHandle; LdrGetProcedureAddress; LdrGetProcedureAddress; LdrGetDllHandle; LdrGetProcedureAddress; __exception__; NtAllocateVirtualMemory; LdrLoadDll; LdrGetProcedureAddress; LdrGetProcedureAddress; LdrGetProcedureAddress; LdrGetProcedureAddress; LdrGetProcedureAddress; LdrLoadDll; LdrGetProcedureAddress; LdrGetProcedureAddress; NtAllocateVirtualMemory; NtAllocateVirtualMemory; NtFreeVirtualMemory; LdrGetDllHandle; LdrGetProcedureAddress; LdrGetProcedureAddress; LdrGetProcedureAddress; LdrGetProcedureAddress; LdrGetProcedureAddress; LdrGetDllHandle; LdrGetProcedureAddress; LdrGetDllHandle; LdrGetProcedureAddress; LdrGetProcedureAddress; LdrGetProcedureAddress; LdrGetDllHandle; LdrGetProcedureAddress; LdrGetDllHandle; LdrGetProcedureAddress; LdrGetProcedureAddress; LdrGetProcedureAddress; LdrGetProcedureAddress; LdrGetProcedureAddress; LdrGetProcedureAddress; LdrGetProcedureAddress; LdrGetProcedureAddress; LdrGetProcedureAddress; LdrGetDllHandle; LdrGetProcedureAddress; LdrGetProcedureAddress; LdrGetProcedureAddress; LdrGetProcedureAddress; LdrGetProcedureAddress; LdrGetProcedureAddress; LdrGetProcedureAddress; LdrGetProcedureAddress; LdrGetProcedureAddress; LdrGetProcedureAddress; LdrGetProcedureAddress; LdrGetProcedureAddress; LdrGetProcedureAddress; LdrGetProcedureAddress; LdrGetProcedureAddress; LdrGetProcedureAddress; LdrGetProcedureAddress; LdrGetProcedureAddress; LdrGetProcedureAddress; LdrGetProcedureAddress; LdrGetProcedureAddress; LdrGetProcedureAddress; LdrGetProcedureAddress; LdrGetProcedureAddress; LdrGetProcedureAddress; LdrGetProcedureAddress; LdrGetProcedureAddress; LdrGetProcedureAddress; LdrGetProcedureAddress; LdrGetProcedureAddress; LdrGetProcedureAddress; LdrGetProcedureAddress; LdrGetProcedureAddress; LdrGetProcedureAddress; LdrGetProcedureAddress; LdrGetProcedureAddress; LdrGetProcedureAddress; LdrGetProcedureAddress; LdrGetProcedureAddress; LdrGetProcedureAddress; LdrGetProcedureAddress; LdrGetProcedureAddress; LdrGetProcedureAddress; LdrGetProcedureAddress; LdrGetProcedureAddress; LdrGetProcedureAddress; LdrGetProcedureAddress; LdrGetProcedureAddress; LdrGetProcedureAddress; LdrGetProcedureAddress; LdrGetProcedureAddress; LdrGetProcedureAddress; LdrGetProcedureAddress; LdrGetProcedureAddress; LdrGetProcedureAddress; LdrGetProcedureAddress; LdrGetProcedureAddress; LdrGetProcedureAddress; LdrGetProcedureAddress; LdrGetProcedureAddress; LdrGetProcedureAddress; LdrGetProcedureAddress; LdrGetProcedureAddress; LdrGetProcedureAddress; LdrGetProcedureAddress; LdrGetProcedureAddress; LdrGetProcedureAddress; LdrGetProcedureAddress; LdrGetProcedureAddress; LdrGetProcedureAddress; LdrGetProcedureAddress; LdrGetProcedureAddress; LdrGetProcedureAddress; LdrGetProcedureAddress; LdrGetProcedureAddress; LdrGetProcedureAddress; LdrGetProcedureAddress; LdrGetProcedureAddress; LdrGetProcedureAddress; LdrGetProcedureAddress; LdrGetProcedureAddress; LdrGetProcedureAddress; LdrGetProcedureAddress; LdrGetProcedureAddress; LdrGetProcedureAddress; LdrGetProcedureAddress; LdrGetProcedureAddress; LdrGetProcedureAddress; LdrGetProcedureAddress; LdrGetProcedureAddress; LdrGetProcedureAddress; LdrGetProcedureAddress; LdrGetProcedureAddress; LdrGetProcedureAddress; LdrGetProcedureAddress; LdrGetProcedureAddress; LdrGetProcedureAddress; LdrGetProcedureAddress; LdrGetProcedureAddress; LdrGetProcedureAddress; LdrGetProcedureAddress; LdrGetProcedureAddress; LdrGetProcedureAddress; LdrGetProcedureAddress; LdrGetProcedureAddress; LdrGetProcedureAddress; LdrGetProcedureAddress; LdrGetProcedureAddress; LdrGetProcedureAddress; LdrGetProcedureAddress; LdrGetProcedureAddress; LdrGetProcedureAddress; LdrGetProcedureAddress; LdrGetProcedureAddress; LdrGetProcedureAddress; LdrGetProcedureAddress; LdrGetProcedureAddress; LdrGetProcedureAddress; LdrGetProcedureAddress; LdrGetProcedureAddress; LdrGetProcedureAddress; LdrGetProcedureAddress; LdrGetProcedureAddress; LdrGetProcedureAddress; LdrGetProcedureAddress; LdrGetProcedureAddress; LdrGetProcedureAddress; LdrGetProcedureAddress; LdrGetDllHandle; LdrGetProcedureAddress; LdrGetProcedureAddress; LdrGetProcedureAddress; LdrGetProcedureAddress; LdrGetProcedureAddress; LdrGetProcedureAddress; LdrGetProcedureAddress; LdrGetProcedureAddress; LdrGetProcedureAddress; LdrGetProcedureAddress; LdrGetProcedureAddress; LdrGetProcedureAddress; LdrGetProcedureAddress; LdrGetProcedureAddress; LdrGetProcedureAddress; LdrGetProcedureAddress; LdrGetProcedureAddress; LdrGetProcedureAddress; LdrGetProcedureAddress; LdrGetProcedureAddress; LdrGetProcedureAddress; LdrGetProcedureAddress; LdrGetProcedureAddress; LdrGetProcedureAddress; LdrGetProcedureAddress; LdrGetProcedureAddress; LdrGetProcedureAddress; LdrGetProcedureAddress; LdrGetProcedureAddress; LdrGetProcedureAddress; LdrGetProcedureAddress; LdrGetProcedureAddress; LdrGetProcedureAddress; LdrGetProcedureAddress; LdrGetProcedureAddress; LdrGetProcedureAddress; LdrGetProcedureAddress; LdrGetProcedureAddress; LdrGetProcedureAddress; LdrGetProcedureAddress; LdrGetProcedureAddress; LdrGetProcedureAddress; LdrGetProcedureAddress; LdrGetProcedureAddress; LdrGetProcedureAddress; LdrGetProcedureAddress; LdrGetProcedureAddress; LdrGetProcedureAddress; LdrGetProcedureAddress; LdrGetProcedureAddress; LdrGetProcedureAddress; LdrGetProcedureAddress; LdrGetProcedureAddress; LdrGetProcedureAddress; LdrGetProcedureAddress; LdrGetProcedureAddress; LdrGetProcedureAddress; LdrGetProcedureAddress; LdrGetProcedureAddress; LdrGetProcedureAddress; LdrGetProcedureAddress; LdrGetProcedureAddress; LdrGetProcedureAddress; LdrGetProcedureAddress; LdrGetProcedureAddress; LdrGetProcedureAddress; LdrGetProcedureAddress; LdrGetProcedureAddress; LdrGetProcedureAddress; LdrGetProcedureAddress; LdrGetProcedureAddress; LdrGetProcedureAddress; LdrGetProcedureAddress; LdrGetProcedureAddress; LdrGetProcedureAddress; LdrGetProcedureAddress; LdrGetProcedureAddress; LdrGetProcedureAddress; LdrGetProcedureAddress; LdrGetProcedureAddress; LdrGetProcedureAddress; LdrGetProcedureAddress; LdrGetProcedureAddress; LdrGetProcedureAddress; LdrGetProcedureAddress; LdrGetProcedureAddress; LdrGetProcedureAddress; LdrGetProcedureAddress; LdrGetProcedureAddress; LdrGetDllHandle; LdrGetProcedureAddress; LdrGetProcedureAddress; LdrGetProcedureAddress; LdrGetProcedureAddress; LdrGetProcedureAddress; LdrGetProcedureAddress; LdrGetProcedureAddress; LdrGetProcedureAddress; LdrGetProcedureAddress; LdrGetProcedureAddress; LdrGetProcedureAddress; LdrGetProcedureAddress; LdrGetProcedureAddress; LdrGetProcedureAddress; LdrGetProcedureAddress; LdrGetProcedureAddress; LdrGetProcedureAddress; LdrGetProcedureAddress; LdrGetProcedureAddress; LdrGetProcedureAddress; LdrGetProcedureAddress; LdrGetProcedureAddress; LdrGetProcedureAddress; LdrGetProcedureAddress; LdrGetProcedureAddress; LdrGetProcedureAddress; LdrGetProcedureAddress; LdrGetProcedureAddress; LdrGetProcedureAddress; LdrGetProcedureAddress; LdrGetProcedureAddress; LdrGetProcedureAddress; LdrGetProcedureAddress; LdrGetProcedureAddress; LdrGetProcedureAddress; LdrGetDllHandle; LdrGetProcedureAddress; LdrGetDllHandle; LdrGetProcedureAddress; LdrGetProcedureAddress; LdrGetProcedureAddress; LdrGetProcedureAddress; LdrGetProcedureAddress; LdrGetProcedureAddress; LdrGetProcedureAddress; LdrGetProcedureAddress; LdrGetProcedureAddress; LdrGetProcedureAddress; LdrGetProcedureAddress; LdrGetProcedureAddress; LdrGetProcedureAddress; LdrGetProcedureAddress; LdrGetProcedureAddress; LdrGetProcedureAddress; LdrGetProcedureAddress; LdrGetDllHandle; LdrGetProcedureAddress; LdrGetProcedureAddress; LdrGetProcedureAddress; LdrGetProcedureAddress; LdrGetProcedureAddress; LdrGetProcedureAddress; LdrGetProcedureAddress; LdrGetProcedureAddress; LdrGetProcedureAddress; LdrGetDllHandle; LdrGetProcedureAddress; LdrGetProcedureAddress; LdrGetProcedureAddress; LdrGetProcedureAddress; LdrGetProcedureAddress; LdrGetDllHandle; LdrGetProcedureAddress; LdrGetProcedureAddress; LdrGetProcedureAddress; LdrGetProcedureAddress; LdrGetProcedureAddress; LdrGetProcedureAddress; LdrGetProcedureAddress; LdrGetProcedureAddress; NtProtectVirtualMemory; NtProtectVirtualMemory; NtProtectVirtualMemory; NtProtectVirtualMemory; NtFreeVirtualMemory; GetSystemTimeAsFileTime; NtAllocateVirtualMemory; NtFreeVirtualMemory; NtAllocateVirtualMemory; LdrGetDllHandle; LdrGetProcedureAddress; LdrGetProcedureAddress; LdrGetProcedureAddress; LdrGetProcedureAddress; LdrGetDllHandle; NtAllocateVirtualMemory; NtAllocateVirtualMemory; NtAllocateVirtualMemory; SetUnhandledExceptionFilter; LdrLoadDll; LdrGetProcedureAddress; LdrUnloadDll; NtAllocateVirtualMemory; NtFreeVirtualMemory; NtAllocateVirtualMemory; LdrGetDllHandle; LdrGetProcedureAddress; NtProtectVirtualMemory; NtProtectVirtualMemory; NtAllocateVirtualMemory; NtFreeVirtualMemory; NtAllocateVirtualMemory; NtProtectVirtualMemory; NtProtectVirtualMemory; CoInitializeEx; SetErrorMode; LdrLoadDll; LdrGetProcedureAddress; LdrUnloadDll; NtAllocateVirtualMemory; NtAllocateVirtualMemory; ReadProcessMemory; ReadProcessMemory; ReadProcessMemory; ReadProcessMemory; ReadProcessMemory; GetTempPathW; NtOpenFile; NtClose; NtCreateFile; SetFilePointer; SetFilePointer; NtClose; LdrLoadDll; LdrGetProcedureAddress; LdrGetProcedureAddress; LdrGetProcedureAddress; LdrGetProcedureAddress; LdrGetProcedureAddress; LdrGetProcedureAddress; LdrGetProcedureAddress; LdrLoadDll; LdrGetProcedureAddress; LdrGetProcedureAddress; LdrLoadDll; LdrGetProcedureAddress; LdrGetProcedureAddress; NtAllocateVirtualMemory; NtAllocateVirtualMemory; NtAllocateVirtualMemory; NtAllocateVirtualMemory; NtAllocateVirtualMemory; NtAllocateVirtualMemory; NtAllocateVirtualMemory; NtAllocateVirtualMemory; NtAllocateVirtualMemory; NtAllocateVirtualMemory; NtAllocateVirtualMemory; NtAllocateVirtualMemory; NtAllocateVirtualMemory; NtAllocateVirtualMemory; NtAllocateVirtualMemory; NtAllocateVirtualMemory; NtAllocateVirtualMemory; NtAllocateVirtualMemory; NtAllocateVirtualMemory; NtAllocateVirtualMemory; NtAllocateVirtualMemory; NtAllocateVirtualMemory; NtAllocateVirtualMemory; NtAllocateVirtualMemory; NtAllocateVirtualMemory; NtAllocateVirtualMemory; NtAllocateVirtualMemory; NtAllocateVirtualMemory; NtAllocateVirtualMemory; NtAllocateVirtualMemory; NtAllocateVirtualMemory; NtAllocateVirtualMemory; NtAllocateVirtualMemory; NtAllocateVirtualMemory; NtAllocateVirtualMemory; NtAllocateVirtualMemory; NtAllocateVirtualMemory; NtAllocateVirtualMemory; NtAllocateVirtualMemory; NtAllocateVirtualMemory; NtAllocateVirtualMemory; NtAllocateVirtualMemory; NtAllocateVirtualMemory; NtAllocateVirtualMemory; NtAllocateVirtualMemory; NtAllocateVirtualMemory; __exception__; __exception__; __exception__; CreateThread; NtResumeThread; NtClose; NtOpenKey; NtQueryValueKey; NtClose; NtOpenKey; NtQueryValueKey; NtClose; LdrLoadDll; LdrGetProcedureAddress; CreateToolhelp32Snapshot; LdrGetProcedureAddress; Process32FirstW; GetSystemWindowsDirectoryW; NtOpenProcess; Process32NextW; NtOpenProcess; Process32NextW; NtCreateFile; NtOpenProcess; NtCreateSection; NtMapViewOfSection; NtClose; Process32NextW; NtClose; NtOpenProcess; Process32NextW; NtOpenProcess; Process32NextW; NtOpenProcess; Process32NextW; NtOpenProcess; Process32NextW; NtOpenProcess; Process32NextW; NtOpenProcess; Process32NextW; NtOpenProcess; Process32NextW; NtOpenProcess; Process32NextW; NtOpenProcess; Process32NextW; NtOpenProcess; CreateThread; NtResumeThread; GetForegroundWindow; Process32NextW; NtOpenProcess; Process32NextW; NtOpenProcess; Process32NextW; NtOpenProcess; Process32NextW; NtOpenProcess; Process32NextW; NtOpenProcess; Process32NextW; NtOpenProcess; Process32NextW; NtOpenProcess; Process32NextW; NtOpenProcess; Process32NextW; NtOpenProcess; NtClose; Process32NextW; NtOpenProcess; NtClose; Process32NextW; NtOpenProcess; NtClose; Process32NextW; NtOpenProcess; Process32NextW; NtOpenProcess; NtClose; Process32NextW; NtOpenProcess; Process32NextW; NtOpenProcess; Process32NextW; NtOpenProcess; NtClose; Process32NextW; NtOpenProcess; NtClose; Process32NextW; NtOpenProcess; NtClose; Process32NextW; NtOpenProcess; NtClose; Process32NextW; NtOpenProcess; SHGetFolderPathW; Process32NextW; NtOpenProcess; Process32NextW; NtOpenProcess; FindFirstFileExW; Process32NextW; NtOpenProcess; Process32NextW; NtOpenProcess; Process32NextW; NtOpenProcess; Process32NextW; NtOpenProcess; Process32NextW; NtOpenProcess; NtClose; Process32NextW; NtOpenProcess; NtClose; Process32NextW; NtOpenProcess; Process32NextW; NtOpenProcess; Process32NextW; NtOpenProcess; NtClose; Process32NextW; NtOpenProcess; NtClose; Process32NextW; NtClose; NtQueryDirectoryFile; GetComputerNameA; GetUserNameA; GetSystemInfo; FindFirstFileExW; GetComputerNameA; GetUserNameA; GetSystemInfo; GetComputerNameA; GetUserNameA; GetSystemInfo; GetForegroundWindow; SHGetFolderPathW; NtCreateFile; NtDuplicateObject; NtCreateThreadEx; NtDuplicateObject; NtResumeThread; NtDuplicateObject; GetComputerNameA; GetUserNameA; GetSystemInfo; NtCreateFile; NtWriteFile; NtClose; NtCreateFile; SetFilePointer; SetFilePointer; SetFilePointer; NtReadFile; NtClose; GetComputerNameA; GetUserNameA; GetSystemInfo; GetComputerNameA; GetUserNameA; GetSystemInfo; NtCreateMutant; NtCreateFile; GetFileSize; NtAllocateVirtualMemory; NtReadFile; NtFreeVirtualMemory; NtClose; RegOpenKeyExA; RegSetValueExA; RegCloseKey; NtCreateFile; NtWriteFile; NtClose; InternetOpenA; InternetConnectA; HttpOpenRequestA; LdrGetProcedureAddress; ReadProcessMemory; ReadProcessMemory; ReadProcessMemory; ReadProcessMemory; ReadProcessMemory; LdrLoadDll; LdrUnloadDll; LdrGetProcedureAddress; LdrLoadDll; LdrGetProcedureAddress; LdrGetProcedureAddress; LdrGetProcedureAddress; LdrGetProcedureAddress; LdrGetProcedureAddress; LdrGetProcedureAddress; LdrGetProcedureAddress; LdrGetProcedureAddress; LdrGetProcedureAddress; LdrGetProcedureAddress; LdrGetProcedureAddress; LdrGetProcedureAddress; LdrGetProcedureAddress; LdrGetProcedureAddress; LdrGetProcedureAddress; LdrGetProcedureAddress; LdrGetProcedureAddress; LdrGetProcedureAddress; LdrGetProcedureAddress; LdrGetProcedureAddress; LdrGetProcedureAddress; LdrGetProcedureAddress; LdrGetProcedureAddress; LdrGetProcedureAddress; LdrGetProcedureAddress; LdrGetProcedureAddress; LdrGetProcedureAddress; LdrGetProcedureAddress; LdrGetProcedureAddress; LdrGetProcedureAddress; LdrGetProcedureAddress; LdrGetProcedureAddress; LdrGetProcedureAddress; LdrGetProcedureAddress; LdrGetProcedureAddress; LdrGetProcedureAddress; LdrGetProcedureAddress; LdrGetProcedureAddress; LdrGetProcedureAddress; LdrGetProcedureAddress; LdrGetProcedureAddress; LdrGetProcedureAddress; LdrGetProcedureAddress; LdrGetProcedureAddress; LdrGetProcedureAddress; LdrGetProcedureAddress; LdrGetProcedureAddress; LdrGetProcedureAddress; LdrGetProcedureAddress; LdrGetProcedureAddress; LdrGetProcedureAddress; LdrGetProcedureAddress; LdrGetProcedureAddress; LdrGetProcedureAddress; LdrGetProcedureAddress; LdrGetProcedureAddress; LdrGetProcedureAddress; LdrGetProcedureAddress; LdrGetProcedureAddress; LdrGetProcedureAddress; LdrGetProcedureAddress; LdrGetProcedureAddress; LdrGetProcedureAddress; LdrGetProcedureAddress; LdrGetProcedureAddress; LdrGetProcedureAddress; LdrGetProcedureAddress; LdrGetProcedureAddress; LdrGetProcedureAddress; LdrGetProcedureAddress; LdrGetProcedureAddress; LdrGetProcedureAddress; LdrGetProcedureAddress; LdrGetProcedureAddress; LdrGetProcedureAddress; LdrGetProcedureAddress; LdrGetProcedureAddress; LdrGetProcedureAddress; LdrGetProcedureAddress; LdrGetProcedureAddress; LdrGetProcedureAddress; LdrGetProcedureAddress; LdrGetProcedureAddress; LdrGetProcedureAddress; LdrGetProcedureAddress; LdrGetProcedureAddress; LdrGetProcedureAddress; LdrGetProcedureAddress; LdrGetProcedureAddress; LdrGetProcedureAddress; LdrGetProcedureAddress; LdrGetProcedureAddress; LdrGetProcedureAddress; LdrGetProcedureAddress; LdrGetProcedureAddress; LdrGetProcedureAddress; LdrGetProcedureAddress; LdrGetProcedureAddress; LdrGetProcedureAddress; LdrGetProcedureAddress; LdrGetProcedureAddress; LdrGetProcedureAddress; LdrGetProcedureAddress; LdrGetProcedureAddress; LdrGetProcedureAddress; LdrGetProcedureAddress; LdrGetProcedureAddress; NtDuplicateObject; LdrGetProcedureAddress; LdrGetProcedureAddress; LdrGetProcedureAddress; LdrGetProcedureAddress; ReadProcessMemory; ReadProcessMemory; ReadProcessMemory; ReadProcessMemory; ReadProcessMemory; LdrLoadDll; LdrGetProcedureAddress; RegOpenKeyExA; RegCreateKeyExA; RegCloseKey; RegCreateKeyExA; LdrLoadDll; LdrGetProcedureAddress; CoInitializeEx; CoInitializeEx; LdrGetDllHandle; LdrGetProcedureAddress; RegSetValueExA; LdrGetProcedureAddress; NtDuplicateObject; RegSetValueExA; LdrLoadDll; LdrGetProcedureAddress; LdrLoadDll; LdrGetProcedureAddress; NtDuplicateObject; RegSetValueExA; LdrLoadDll; LdrGetProcedureAddress; LdrLoadDll; LdrGetProcedureAddress; RegSetValueExA; GetSystemInfo; LdrLoadDll; LdrGetProcedureAddress; RegSetValueExA; LdrLoadDll; LdrGetProcedureAddress; RegCreateKeyExW; RegOpenKeyExW; RegOpenKeyExW; RegSetValueExA; RegQueryValueExW; RegQueryValueExA; RegQueryValueExW; RegCloseKey; RegQueryValueExA; RegCloseKey; RegCreateKeyExW; RegOpenKeyExW; RegOpenKeyExW; RegQueryValueExA; RegQueryValueExW; RegQueryValueExA; RegQueryValueExW; RegCloseKey; RegCloseKey; RegQueryValueExA; RegCreateKeyExW; RegOpenKeyExW; RegOpenKeyExW; RegQueryValueExA; RegOpenKeyExW; RegQueryValueExW; RegQueryValueExA; RegQueryValueExW; RegCloseKey; RegCloseKey; RegQueryValueExA; LdrLoadDll; LdrGetProcedureAddress; LdrLoadDll; RegQueryValueExA; LdrGetProcedureAddress; LdrGetProcedureAddress; LdrGetProcedureAddress; RegCreateKeyExW; RegOpenKeyExW; RegOpenKeyExW; RegQueryValueExA; RegQueryValueExW; RegQueryValueExA; RegQueryValueExA; RegQueryValueExW; RegCloseKey; RegCloseKey; LdrGetProcedureAddress; RegQueryValueExA; RegQueryValueExA; RegQueryValueExA; RegQueryValueExA; RegQueryValueExA; RegQueryValueExA; getaddrinfo; LdrGetProcedureAddress; LdrGetProcedureAddress; LdrGetDllHandle; CreateThread; LdrLoadDll; LdrGetProcedureAddress; OpenSCManagerA; LdrGetProcedureAddress; OpenServiceA; LdrLoadDll; LdrGetProcedureAddress; LdrUnloadDll; CoCreateInstance; LdrGetProcedureAddress; OpenSCManagerA; OpenServiceA; LdrLoadDll; LdrGetProcedureAddress; LdrGetProcedureAddress; LdrUnloadDll; LdrGetProcedureAddress; UuidCreate; NtOpenThread; LdrUnloadDll; LdrUnloadDll; NtClose; NtOpenThread; LdrUnloadDll; CoCreateInstance; NtOpenKey; NtClose; RegOpenKeyExW; RegCloseKey; RegOpenKeyExW; RegQueryValueExW; RegCloseKey; RegCloseKey; NtOpenKey; NtClose; RegOpenKeyExW; RegCloseKey; RegOpenKeyExW; RegQueryValueExW; RegCloseKey; RegCloseKey; LdrGetProcedureAddress; LdrLoadDll; LdrGetProcedureAddress; LdrGetProcedureAddress; NtOpenKey; NtClose; RegOpenKeyExW; RegCloseKey; RegOpenKeyExW; RegQueryValueExW; RegCloseKey; RegCloseKey; RegOpenKeyExW; RegOpenKeyExW; NtQueryKey; NtQueryKey; RegOpenKeyExW; RegOpenKeyExW; RegOpenKeyExW; RegCloseKey; RegQueryValueExW; RegQueryValueExW; RegOpenKeyExW; RegQueryValueExW; RegQueryValueExW; RegQueryValueExW; RegQueryValueExW; RegCloseKey; RegOpenKeyExW; RegOpenKeyExW; RegCloseKey; NtOpenKey; NtClose; RegOpenKeyExW; RegCloseKey; RegOpenKeyExW; RegCloseKey; LdrLoadDll; LdrGetProcedureAddress; LdrGetProcedureAddress; LdrLoadDll; LdrGetProcedureAddress; RegOpenKeyExW; LdrGetProcedureAddress; NtOpenKey; NtClose; RegOpenKeyExW; RegCloseKey; RegOpenKeyExW; RegQueryValueExW; RegCloseKey; RegCloseKey; NtOpenKey; NtClose; RegOpenKeyExW; RegCloseKey; RegOpenKeyExW; RegQueryValueExW; RegCloseKey; RegCloseKey; NtDeviceIoControlFile; NtClose; NtAllocateVirtualMemory; NtDeviceIoControlFile; NtClose; NtDeviceIoControlFile; NtClose; NtDeviceIoControlFile; NtClose; NtDeviceIoControlFile; NtClose; NtDeviceIoControlFile; NtClose; NtDeviceIoControlFile; NtClose; NtDeviceIoControlFile; NtClose; NtDeviceIoControlFile; NtClose; LdrGetProcedureAddress; LdrGetProcedureAddress; RegOpenKeyExA; RegOpenKeyExW; RegQueryValueExA; LdrLoadDll; SetErrorMode; LdrLoadDll; LdrGetProcedureAddress; SetErrorMode; SetErrorMode; LdrLoadDll; LdrGetProcedureAddress; SetErrorMode; GetAdaptersAddresses; GetAdaptersAddresses; LdrUnloadDll; LdrUnloadDll; NtDelayExecution; DeleteFileW; NtDelayExecution; DeleteFileW; getaddrinfo; NtClose; LdrUnloadDll; CoCreateInstance; CoCreateInstance; LdrLoadDll; LdrGetProcedureAddress; LdrGetProcedureAddress; RegCreateKeyExW; RegSetValueExA; RegSetValueExA; RegSetValueExA; RegSetValueExW; RegEnumKeyExW; RegCloseKey; LdrGetProcedureAddress; NtCreateMutant; NtClose; RegOpenKeyExW; RegQueryValueExW; RegQueryValueExW; RegCloseKey; NtClose; RegOpenKeyExW; RegQueryValueExW; RegQueryValueExW; RegCloseKey; NtClose; NtClose; NtClose; NtClose; NtClose; NtClose; NtClose; RegOpenKeyExW; RegQueryValueExW; RegQueryValueExW; RegOpenKeyExW; RegQueryValueExW; RegQueryValueExW; RegCloseKey; RegCloseKey; NtClose; NtCreateFile; NtClose; FindFirstFileExW; NtClose; FindFirstFileExW; NtClose; NtCreateFile; GetFileType; NtAllocateVirtualMemory; NtReadFile; NtClose; NtAllocateVirtualMemory; FindFirstFileExW; FindFirstFileExW; FindFirstFileExW; RegOpenKeyExW; RegQueryValueExW; RegQueryValueExW; RegOpenKeyExW; RegQueryValueExW; RegQueryValueExW; RegCloseKey; RegCloseKey; NtClose; RegOpenKeyExW; RegQueryValueExW; RegQueryValueExW; RegOpenKeyExW; RegQueryValueExW; RegQueryValueExW; RegCloseKey; RegCloseKey; NtClose; RegOpenKeyExW; RegQueryValueExW; RegQueryValueExW; RegOpenKeyExW; RegQueryValueExW; RegQueryValueExW; RegCloseKey; RegCloseKey; NtClose; FindFirstFileExW; FindFirstFileExW; NtOpenSection; InternetQueryOptionA; RegCreateKeyExW; RegOpenKeyExW; RegOpenKeyExW; RegQueryValueExW; RegQueryValueExW; RegCloseKey; RegCloseKey; NtAllocateVirtualMemory; getaddrinfo; RegCreateKeyExA; RegQueryValueExA; RegQueryValueExA; RegCloseKey; HttpSendRequestA; InternetCloseHandle; InternetCloseHandle; InternetCloseHandle; NtDelayExecution; DeleteFileW; NtDelayExecution; CoInitializeEx; CoCreateInstance; NtOpenKey; NtClose; RegOpenKeyExW; RegCloseKey; RegOpenKeyExW; RegQueryValueExW; RegCloseKey; RegCloseKey; NtDuplicateObject; NtOpenKey; NtClose; RegOpenKeyExW; RegCloseKey; RegOpenKeyExW; RegQueryValueExW; RegCloseKey; RegCloseKey; NtClose; NtAllocateVirtualMemory; NtAllocateVirtualMemory; GetTimeZoneInformation; NtCreateFile; NtWriteFile; NtClose; NtAllocateVirtualMemory; NtClose; NtClose; NtClose; NtClose; RegOpenKeyExW; GetSystemDirectoryW; LdrLoadDll; LdrGetProcedureAddress; LdrGetProcedureAddress; CoInitializeEx; LdrGetProcedureAddress; LdrGetProcedureAddress; NtClose; NtClose; RegOpenKeyExW; RegQueryValueExW; RegCloseKey; NtClose; NtClose; NtClose; NtClose; NtClose; NtClose; GetSystemMetrics; NtOpenMutant; NtClose; NtOpenMutant; NtClose; NtAllocateVirtualMemory; NtAllocateVirtualMemory; RegOpenKeyExW; RegQueryValueExW; RegCloseKey; RegOpenKeyExW; LdrGetDllHandle; FindResourceExW; FindResourceExW; NtAllocateVirtualMemory; NtAllocateVirtualMemory; LdrGetDllHandle; LdrGetProcedureAddress; GetNativeSystemInfo; CreateThread; NtResumeThread; NtAllocateVirtualMemory; NtAllocateVirtualMemory; NtAllocateVirtualMemory; NtAllocateVirtualMemory; NtAllocateVirtualMemory; NtAllocateVirtualMemory; NtAllocateVirtualMemory; NtFreeVirtualMemory; NtFreeVirtualMemory; NtAllocateVirtualMemory; NtAllocateVirtualMemory; NtAllocateVirtualMemory; NtAllocateVirtualMemory; NtAllocateVirtualMemory; NtFreeVirtualMemory; NtAllocateVirtualMemory; NtAllocateVirtualMemory; NtAllocateVirtualMemory; NtOpenKey; NtOpenKey; NtOpenKey; NtQueryValueKey; NtQueryValueKey; NtAllocateVirtualMemory; NtAllocateVirtualMemory; NtOpenFile; NtQueryInformationFile; NtClose; NtAllocateVirtualMemory; GetSystemMetrics; GetSystemMetrics; GetSystemMetrics; NtAllocateVirtualMemory; LdrLoadDll; LdrGetProcedureAddress; GetSystemMetrics; GetSystemMetrics; GetSystemMetrics; GetSystemMetrics; GetSystemMetrics; GetSystemMetrics; NtClose; NtOpenKey; GetSystemMetrics; GetSystemMetrics; GetSystemMetrics; GetSystemMetrics; GetSystemMetrics; GetSystemMetrics; GetSystemMetrics; GetSystemMetrics; GetSystemMetrics; GetSystemMetrics; RegCloseKey; RegOpenKeyExW; RegQueryValueExW; RegCloseKey; RegOpenKeyExW; RegQueryValueExW; RegCloseKey; GetAsyncKeyState; GetAsyncKeyState; GetAsyncKeyState; GetAsyncKeyState; GetAsyncKeyState; RegOpenKeyExW; RegQueryValueExW; RegCloseKey; GetAsyncKeyState; GetAsyncKeyState; GetAsyncKeyState; GetAsyncKeyState; GetAsyncKeyState; CreateActCtxW; LdrLoadDll; NtUnmapViewOfSection; NtClose; LdrGetProcedureAddress; LdrGetProcedureAddress; LdrGetProcedureAddress; LdrGetProcedureAddress; LdrGetProcedureAddress; LdrGetProcedureAddress; LdrGetProcedureAddress; LdrGetProcedureAddress; LdrGetProcedureAddress; LdrGetProcedureAddress; LdrGetProcedureAddress; LdrGetProcedureAddress; LdrGetProcedureAddress; LdrGetProcedureAddress; LdrLoadDll; LdrGetProcedureAddress; GetSystemMetrics; LdrGetProcedureAddress; GetSystemMetrics; RegOpenKeyExW; RegQueryValueExW; RegCloseKey; RegOpenKeyExW; RegQueryValueExW; RegCloseKey; GetAsyncKeyState; GetAsyncKeyState; RegOpenKeyExW; RegQueryValueExW; RegCloseKey; RegOpenKeyExW; RegQueryValueExW; RegCloseKey; GetAsyncKeyState; RegOpenKeyExW; RegQueryValueExW; RegCloseKey; GetAsyncKeyState; GetAsyncKeyState; GetAsyncKeyState; GetAsyncKeyState; GetAsyncKeyState; GetAsyncKeyState; GetAsyncKeyState; LdrGetDllHandle; LdrGetProcedureAddress; GetAsyncKeyState; GetAsyncKeyState; GetAsyncKeyState; GetAsyncKeyState; GetAsyncKeyState; GetAsyncKeyState; GetAsyncKeyState; GetAsyncKeyState; GetAsyncKeyState; GetAsyncKeyState; GetAsyncKeyState; GetAsyncKeyState; GetAsyncKeyState; GetAsyncKeyState; GetAsyncKeyState; GetAsyncKeyState; GetAsyncKeyState; GetAsyncKeyState; GetAsyncKeyState; NtAllocateVirtualMemory; GetAsyncKeyState; GetAsyncKeyState; GetAsyncKeyState; GetAsyncKeyState; NtAllocateVirtualMemory; NtAllocateVirtualMemory; NtAllocateVirtualMemory; NtAllocateVirtualMemory; NtAllocateVirtualMemory; NtAllocateVirtualMemory; NtAllocateVirtualMemory; NtAllocateVirtualMemory; NtAllocateVirtualMemory; NtAllocateVirtualMemory; NtAllocateVirtualMemory; NtAllocateVirtualMemory; NtDelayExecution; NtDelayExecution; NtDelayExecution; NtDelayExecution; NtAllocateVirtualMemory; NtAllocateVirtualMemory; NtAllocateVirtualMemory; NtAllocateVirtualMemory; NtAllocateVirtualMemory; NtAllocateVirtualMemory; NtAllocateVirtualMemory; NtAllocateVirtualMemory; NtAllocateVirtualMemory; NtAllocateVirtualMemory; NtAllocateVirtualMemory; NtAllocateVirtualMemory; NtAllocateVirtualMemory; NtAllocateVirtualMemory; NtAllocateVirtualMemory; RegOpenKeyExW; NtAllocateVirtualMemory; NtAllocateVirtualMemory; NtAllocateVirtualMemory; NtAllocateVirtualMemory; RegOpenKeyExW; NtAllocateVirtualMemory; NtAllocateVirtualMemory; LdrLoadDll; LdrGetProcedureAddress; LdrUnloadDll; NtAllocateVirtualMemory; RegOpenKeyExW; NtAllocateVirtualMemory; NtAllocateVirtualMemory; NtAllocateVirtualMemory; LdrLoadDll; LdrGetProcedureAddress; LdrUnloadDll; OleInitialize; CoCreateInstance; NtAllocateVirtualMemory; NtAllocateVirtualMemory; SetWindowsHookExW; SetWindowsHookExW; NtOpenSection; NtMapViewOfSection; RegOpenKeyExW; NtAllocateVirtualMemory; NtAllocateVirtualMemory; NtOpenFile; NtQueryInformationFile; NtClose; RegOpenKeyExW; NtAllocateVirtualMemory; NtAllocateVirtualMemory; NtAllocateVirtualMemory; NtAllocateVirtualMemory; NtAllocateVirtualMemory; RegOpenKeyExW; NtAllocateVirtualMemory; NtAllocateVirtualMemory; NtAllocateVirtualMemory; RegOpenKeyExW; RegQueryValueExW; RegCloseKey; RegOpenKeyExW; RegQueryValueExW; RegCloseKey; GetAsyncKeyState; GetAsyncKeyState; GetAsyncKeyState; GetAsyncKeyState; GetAsyncKeyState; RegOpenKeyExW; RegQueryValueExW; RegCloseKey; GetAsyncKeyState; GetAsyncKeyState; GetAsyncKeyState; GetAsyncKeyState; GetAsyncKeyState; GetSystemMetrics; GetSystemMetrics; RegOpenKeyExW; RegQueryValueExW; RegCloseKey; RegOpenKeyExW; RegQueryValueExW; RegCloseKey; GetAsyncKeyState; GetAsyncKeyState; NtAllocateVirtualMemory; RegOpenKeyExW; RegQueryValueExW; RegCloseKey; RegOpenKeyExW; RegQueryValueExW; RegCloseKey; GetAsyncKeyState; RegOpenKeyExW; RegQueryValueExW; RegCloseKey; GetAsyncKeyState; GetAsyncKeyState; GetAsyncKeyState; GetAsyncKeyState; GetAsyncKeyState; GetAsyncKeyState; GetAsyncKeyState; GetAsyncKeyState; GetAsyncKeyState; GetAsyncKeyState; GetAsyncKeyState; GetAsyncKeyState; GetAsyncKeyState; GetAsyncKeyState; GetAsyncKeyState; GetAsyncKeyState; GetAsyncKeyState; GetAsyncKeyState; RegOpenKeyExW; NtAllocateVirtualMemory; NtAllocateVirtualMemory; NtAllocateVirtualMemory; NtAllocateVirtualMemory; FindWindowW; NtOpenProcess; NtClose; LdrLoadDll; LdrGetProcedureAddress; SetErrorMode; GetFileAttributesW; SetErrorMode; RegOpenKeyExW; RegOpenKeyExW; RegCloseKey; RegQueryValueExW; RegQueryValueExW; RegQueryValueExW; RegQueryValueExW; RegQueryValueExW; RegQueryValueExW; RegQueryValueExW; RegQueryValueExW; RegQueryValueExW; RegQueryValueExW; RegQueryValueExW; RegQueryValueExW; RegQueryValueExW; RegQueryValueExW; RegQueryValueExW; RegQueryValueExW; RegQueryValueExW; RegQueryValueExW; RegQueryValueExW; RegQueryValueExW; RegOpenKeyExW; RegCloseKey; NtAllocateVirtualMemory; RegOpenKeyExW; RegQueryValueExW; RegCloseKey; LdrGetProcedureAddress; LdrGetProcedureAddress; RegOpenKeyExW; RegOpenKeyExW; RegCloseKey; RegQueryValueExW; RegQueryValueExW; RegQueryValueExW; RegQueryValueExW; RegQueryValueExW; RegQueryValueExW; RegQueryValueExW; RegQueryValueExW; RegQueryValueExW; RegQueryValueExW; RegQueryValueExW; RegQueryValueExW; RegQueryValueExW; RegQueryValueExW; RegQueryValueExW; RegQueryValueExW; RegQueryValueExW; RegQueryValueExW; RegQueryValueExW; RegQueryValueExW; RegOpenKeyExW; RegCloseKey; GetSystemWindowsDirectoryW; RegOpenKeyExW; RegOpenKeyExW; RegCloseKey; RegQueryValueExW; RegQueryValueExW; RegQueryValueExW; RegQueryValueExW; RegQueryValueExW; RegQueryValueExW; RegQueryValueExW; RegQueryValueExW; RegQueryValueExW; RegQueryValueExW; RegQueryValueExW; RegQueryValueExW; RegQueryValueExW; RegQueryValueExW; RegQueryValueExW; RegQueryValueExW; RegQueryValueExW; RegQueryValueExW; RegQueryValueExW; RegQueryValueExW; RegOpenKeyExW; RegCloseKey; GetAsyncKeyState; GetAsyncKeyState; GetAsyncKeyState; GetAsyncKeyState; GetAsyncKeyState; GetAsyncKeyState; FindWindowW; NtCreateFile; NtAllocateVirtualMemory; NtDelayExecution; NtWriteFile; NtClose; NtAllocateVirtualMemory; FindWindowW; RegOpenKeyExA; RegSetValueExA; RegCloseKey; DeleteFileW; NtDelayExecution; NtDelayExecution\",\n          \"NtAllocateVirtualMemory; NtFreeVirtualMemory; NtAllocateVirtualMemory; LdrGetDllHandle; LdrGetProcedureAddress; GetFileType; GetFileType; GetFileType; NtAllocateVirtualMemory; LdrGetDllHandle; LdrGetProcedureAddress; GetSystemTimeAsFileTime; GetSystemDirectoryA; NtDelayExecution; NtDelayExecution; NtAllocateVirtualMemory; LdrGetDllHandle; LdrGetProcedureAddress; LdrGetProcedureAddress; LdrGetProcedureAddress; LdrGetProcedureAddress; NtAllocateVirtualMemory; NtProtectVirtualMemory; NtFreeVirtualMemory; LdrGetDllHandle; LdrGetProcedureAddress; LdrGetProcedureAddress; LdrGetProcedureAddress; LdrGetProcedureAddress; LdrGetDllHandle; LdrGetDllHandle; NtAllocateVirtualMemory; NtFreeVirtualMemory; NtAllocateVirtualMemory; LdrGetDllHandle; LdrGetProcedureAddress; LdrGetProcedureAddress; LdrGetProcedureAddress; LdrGetProcedureAddress; LdrGetDllHandle; LdrGetProcedureAddress; LdrGetDllHandle; LdrGetProcedureAddress; LdrGetDllHandle; LdrGetProcedureAddress; LdrGetDllHandle; LdrGetProcedureAddress; LdrGetDllHandle; LdrGetProcedureAddress; LdrGetDllHandle; LdrGetProcedureAddress; LdrGetDllHandle; LdrGetProcedureAddress; LdrGetDllHandle; LdrGetProcedureAddress; LdrGetDllHandle; LdrGetProcedureAddress; LdrGetDllHandle; LdrGetProcedureAddress; LdrGetDllHandle; LdrGetProcedureAddress; LdrGetDllHandle; LdrGetProcedureAddress; LdrGetDllHandle; LdrGetProcedureAddress; LdrGetDllHandle; LdrGetProcedureAddress; LdrGetDllHandle; LdrGetProcedureAddress; LdrGetDllHandle; LdrGetProcedureAddress; LdrGetDllHandle; LdrGetProcedureAddress; LdrGetDllHandle; LdrGetProcedureAddress; LdrGetDllHandle; LdrGetProcedureAddress; LdrGetDllHandle; LdrGetProcedureAddress; LdrGetDllHandle; LdrGetProcedureAddress; LdrGetDllHandle; LdrGetProcedureAddress; LdrGetDllHandle; LdrGetProcedureAddress; LdrGetDllHandle; LdrGetProcedureAddress; LdrGetDllHandle; LdrGetProcedureAddress; LdrGetDllHandle; LdrGetProcedureAddress; LdrGetProcedureAddress; NtAllocateVirtualMemory; NtAllocateVirtualMemory; LdrGetDllHandle; LdrGetDllHandle; LdrGetProcedureAddress; NtOpenProcess; NtClose; GetSystemMetrics; GetSystemMetrics; GetSystemMetrics; GetSystemMetrics; GetSystemMetrics; GetSystemMetrics; NtClose; NtOpenKey; GetSystemMetrics; GetSystemMetrics; GetSystemMetrics; GetSystemMetrics; GetSystemMetrics; GetSystemMetrics; GetSystemMetrics; GetSystemMetrics; GetSystemMetrics; GetSystemMetrics; RegCloseKey; GetSystemMetrics; GetSystemMetrics; GetSystemMetrics; LdrLoadDll; LdrGetProcedureAddress; LdrGetProcedureAddress; LdrGetProcedureAddress; LdrGetProcedureAddress; LdrGetProcedureAddress; LdrGetProcedureAddress; LdrGetProcedureAddress; LdrGetProcedureAddress; LdrGetProcedureAddress; LdrGetProcedureAddress; LdrGetProcedureAddress; LdrLoadDll; LdrGetProcedureAddress; LdrGetDllHandle; LdrGetProcedureAddress; LdrGetDllHandle; LdrGetDllHandle; LdrLoadDll; LdrGetProcedureAddress; LdrGetDllHandle; LdrGetDllHandle; GetSystemTimeAsFileTime; LdrLoadDll; LdrGetProcedureAddress; LdrGetDllHandle; LdrGetDllHandle; GetSystemTimeAsFileTime; RegOpenKeyExA; RegQueryValueExA; RegCloseKey; RegOpenKeyExA; RegQueryValueExA; RegCloseKey; RegOpenKeyExW; RegQueryValueExW; RegCloseKey; NtClose; NtClose; LdrLoadDll; LdrGetProcedureAddress; LdrGetDllHandle; LdrGetProcedureAddress; LdrGetDllHandle; LdrGetProcedureAddress; LdrGetDllHandle; LdrGetDllHandle; GetSystemMetrics; GetSystemMetrics; GetSystemMetrics; GetSystemMetrics; GetSystemMetrics; GetSystemMetrics; GetSystemMetrics; LdrLoadDll; LdrGetProcedureAddress; LdrGetDllHandle; LdrGetProcedureAddress; LdrGetDllHandle; LdrGetProcedureAddress; LdrGetDllHandle; LdrGetProcedureAddress; LdrGetDllHandle; LdrGetProcedureAddress; LdrGetProcedureAddress; LdrGetDllHandle; LdrGetProcedureAddress; __exception__; NtAllocateVirtualMemory; LdrLoadDll; LdrGetProcedureAddress; LdrGetProcedureAddress; LdrGetProcedureAddress; LdrGetProcedureAddress; LdrGetProcedureAddress; LdrLoadDll; LdrGetProcedureAddress; LdrGetProcedureAddress; NtAllocateVirtualMemory; NtAllocateVirtualMemory; NtFreeVirtualMemory; LdrGetDllHandle; LdrGetProcedureAddress; LdrGetProcedureAddress; LdrGetProcedureAddress; LdrGetProcedureAddress; LdrGetProcedureAddress; LdrGetDllHandle; LdrGetProcedureAddress; LdrGetDllHandle; LdrGetProcedureAddress; LdrGetProcedureAddress; LdrGetProcedureAddress; LdrGetDllHandle; LdrGetProcedureAddress; LdrGetDllHandle; LdrGetProcedureAddress; LdrGetProcedureAddress; LdrGetProcedureAddress; LdrGetProcedureAddress; LdrGetProcedureAddress; LdrGetProcedureAddress; LdrGetProcedureAddress; LdrGetProcedureAddress; LdrGetProcedureAddress; LdrGetDllHandle; LdrGetProcedureAddress; LdrGetProcedureAddress; LdrGetProcedureAddress; LdrGetProcedureAddress; LdrGetProcedureAddress; LdrGetProcedureAddress; LdrGetProcedureAddress; LdrGetProcedureAddress; LdrGetProcedureAddress; LdrGetProcedureAddress; LdrGetProcedureAddress; LdrGetProcedureAddress; LdrGetProcedureAddress; LdrGetProcedureAddress; LdrGetProcedureAddress; LdrGetProcedureAddress; LdrGetProcedureAddress; LdrGetProcedureAddress; LdrGetProcedureAddress; LdrGetProcedureAddress; LdrGetProcedureAddress; LdrGetProcedureAddress; LdrGetProcedureAddress; LdrGetProcedureAddress; LdrGetProcedureAddress; LdrGetProcedureAddress; LdrGetProcedureAddress; LdrGetProcedureAddress; LdrGetProcedureAddress; LdrGetProcedureAddress; LdrGetProcedureAddress; LdrGetProcedureAddress; LdrGetProcedureAddress; LdrGetProcedureAddress; LdrGetProcedureAddress; LdrGetProcedureAddress; LdrGetProcedureAddress; LdrGetProcedureAddress; LdrGetProcedureAddress; LdrGetProcedureAddress; LdrGetProcedureAddress; LdrGetProcedureAddress; LdrGetProcedureAddress; LdrGetProcedureAddress; LdrGetProcedureAddress; LdrGetProcedureAddress; LdrGetProcedureAddress; LdrGetProcedureAddress; LdrGetProcedureAddress; LdrGetProcedureAddress; LdrGetProcedureAddress; LdrGetProcedureAddress; LdrGetProcedureAddress; LdrGetProcedureAddress; LdrGetProcedureAddress; LdrGetProcedureAddress; LdrGetProcedureAddress; LdrGetProcedureAddress; LdrGetProcedureAddress; LdrGetProcedureAddress; LdrGetProcedureAddress; LdrGetProcedureAddress; LdrGetProcedureAddress; LdrGetProcedureAddress; LdrGetProcedureAddress; LdrGetProcedureAddress; LdrGetProcedureAddress; LdrGetProcedureAddress; LdrGetProcedureAddress; LdrGetProcedureAddress; LdrGetProcedureAddress; LdrGetProcedureAddress; LdrGetProcedureAddress; LdrGetProcedureAddress; LdrGetProcedureAddress; LdrGetProcedureAddress; LdrGetProcedureAddress; LdrGetProcedureAddress; LdrGetProcedureAddress; LdrGetProcedureAddress; LdrGetProcedureAddress; LdrGetProcedureAddress; LdrGetProcedureAddress; LdrGetProcedureAddress; LdrGetProcedureAddress; LdrGetProcedureAddress; LdrGetProcedureAddress; LdrGetProcedureAddress; LdrGetProcedureAddress; LdrGetProcedureAddress; LdrGetProcedureAddress; LdrGetProcedureAddress; LdrGetProcedureAddress; LdrGetProcedureAddress; LdrGetProcedureAddress; LdrGetProcedureAddress; LdrGetProcedureAddress; LdrGetProcedureAddress; LdrGetProcedureAddress; LdrGetProcedureAddress; LdrGetProcedureAddress; LdrGetProcedureAddress; LdrGetProcedureAddress; LdrGetProcedureAddress; LdrGetProcedureAddress; LdrGetProcedureAddress; LdrGetProcedureAddress; LdrGetProcedureAddress; LdrGetProcedureAddress; LdrGetProcedureAddress; LdrGetProcedureAddress; LdrGetProcedureAddress; LdrGetProcedureAddress; LdrGetProcedureAddress; LdrGetProcedureAddress; LdrGetProcedureAddress; LdrGetProcedureAddress; LdrGetProcedureAddress; LdrGetProcedureAddress; LdrGetProcedureAddress; LdrGetProcedureAddress; LdrGetProcedureAddress; LdrGetProcedureAddress; LdrGetProcedureAddress; LdrGetProcedureAddress; LdrGetProcedureAddress; LdrGetProcedureAddress; LdrGetProcedureAddress; LdrGetDllHandle; LdrGetProcedureAddress; LdrGetProcedureAddress; LdrGetProcedureAddress; LdrGetProcedureAddress; LdrGetProcedureAddress; LdrGetProcedureAddress; LdrGetProcedureAddress; LdrGetProcedureAddress; LdrGetProcedureAddress; LdrGetProcedureAddress; LdrGetProcedureAddress; LdrGetProcedureAddress; LdrGetProcedureAddress; LdrGetProcedureAddress; LdrGetProcedureAddress; LdrGetProcedureAddress; LdrGetProcedureAddress; LdrGetProcedureAddress; LdrGetProcedureAddress; LdrGetProcedureAddress; LdrGetProcedureAddress; LdrGetProcedureAddress; LdrGetProcedureAddress; LdrGetProcedureAddress; LdrGetProcedureAddress; LdrGetProcedureAddress; LdrGetProcedureAddress; LdrGetProcedureAddress; LdrGetProcedureAddress; LdrGetProcedureAddress; LdrGetProcedureAddress; LdrGetProcedureAddress; LdrGetProcedureAddress; LdrGetProcedureAddress; LdrGetProcedureAddress; LdrGetProcedureAddress; LdrGetProcedureAddress; LdrGetProcedureAddress; LdrGetProcedureAddress; LdrGetProcedureAddress; LdrGetProcedureAddress; LdrGetProcedureAddress; LdrGetProcedureAddress; LdrGetProcedureAddress; LdrGetProcedureAddress; LdrGetProcedureAddress; LdrGetProcedureAddress; LdrGetProcedureAddress; LdrGetProcedureAddress; LdrGetProcedureAddress; LdrGetProcedureAddress; LdrGetProcedureAddress; LdrGetProcedureAddress; LdrGetProcedureAddress; LdrGetProcedureAddress; LdrGetProcedureAddress; LdrGetProcedureAddress; LdrGetProcedureAddress; LdrGetProcedureAddress; LdrGetProcedureAddress; LdrGetProcedureAddress; LdrGetProcedureAddress; LdrGetProcedureAddress; LdrGetProcedureAddress; LdrGetProcedureAddress; LdrGetProcedureAddress; LdrGetProcedureAddress; LdrGetProcedureAddress; LdrGetProcedureAddress; LdrGetProcedureAddress; LdrGetProcedureAddress; LdrGetProcedureAddress; LdrGetProcedureAddress; LdrGetProcedureAddress; LdrGetProcedureAddress; LdrGetProcedureAddress; LdrGetProcedureAddress; LdrGetProcedureAddress; LdrGetProcedureAddress; LdrGetProcedureAddress; LdrGetProcedureAddress; LdrGetProcedureAddress; LdrGetProcedureAddress; LdrGetProcedureAddress; LdrGetProcedureAddress; LdrGetProcedureAddress; LdrGetProcedureAddress; LdrGetProcedureAddress; LdrGetProcedureAddress; LdrGetDllHandle; LdrGetProcedureAddress; LdrGetProcedureAddress; LdrGetProcedureAddress; LdrGetProcedureAddress; LdrGetProcedureAddress; LdrGetProcedureAddress; LdrGetProcedureAddress; LdrGetProcedureAddress; LdrGetProcedureAddress; LdrGetProcedureAddress; LdrGetProcedureAddress; LdrGetProcedureAddress; LdrGetProcedureAddress; LdrGetProcedureAddress; LdrGetProcedureAddress; LdrGetProcedureAddress; LdrGetProcedureAddress; LdrGetProcedureAddress; LdrGetProcedureAddress; LdrGetProcedureAddress; LdrGetProcedureAddress; LdrGetProcedureAddress; LdrGetProcedureAddress; LdrGetProcedureAddress; LdrGetProcedureAddress; LdrGetProcedureAddress; LdrGetProcedureAddress; LdrGetProcedureAddress; LdrGetProcedureAddress; LdrGetProcedureAddress; LdrGetProcedureAddress; LdrGetProcedureAddress; LdrGetProcedureAddress; LdrGetProcedureAddress; LdrGetProcedureAddress; LdrGetDllHandle; LdrGetProcedureAddress; LdrGetDllHandle; LdrGetProcedureAddress; LdrGetProcedureAddress; LdrGetProcedureAddress; LdrGetProcedureAddress; LdrGetProcedureAddress; LdrGetProcedureAddress; LdrGetProcedureAddress; LdrGetProcedureAddress; LdrGetProcedureAddress; LdrGetProcedureAddress; LdrGetProcedureAddress; LdrGetProcedureAddress; LdrGetProcedureAddress; LdrGetProcedureAddress; LdrGetProcedureAddress; LdrGetProcedureAddress; LdrGetProcedureAddress; LdrGetDllHandle; LdrGetProcedureAddress; LdrGetProcedureAddress; LdrGetProcedureAddress; LdrGetProcedureAddress; LdrGetProcedureAddress; LdrGetProcedureAddress; LdrGetProcedureAddress; LdrGetProcedureAddress; LdrGetProcedureAddress; LdrGetDllHandle; LdrGetProcedureAddress; LdrGetProcedureAddress; LdrGetProcedureAddress; LdrGetProcedureAddress; LdrGetProcedureAddress; LdrGetDllHandle; LdrGetProcedureAddress; LdrGetProcedureAddress; LdrGetProcedureAddress; LdrGetProcedureAddress; LdrGetProcedureAddress; LdrGetProcedureAddress; LdrGetProcedureAddress; LdrGetProcedureAddress; NtProtectVirtualMemory; NtProtectVirtualMemory; NtProtectVirtualMemory; NtProtectVirtualMemory; NtFreeVirtualMemory; GetSystemTimeAsFileTime; NtAllocateVirtualMemory; NtFreeVirtualMemory; NtAllocateVirtualMemory; LdrGetDllHandle; LdrGetProcedureAddress; LdrGetProcedureAddress; LdrGetProcedureAddress; LdrGetProcedureAddress; LdrGetDllHandle; NtAllocateVirtualMemory; NtAllocateVirtualMemory; SetUnhandledExceptionFilter; LdrLoadDll; LdrGetProcedureAddress; LdrUnloadDll; NtAllocateVirtualMemory; NtFreeVirtualMemory; NtAllocateVirtualMemory; LdrGetDllHandle; LdrGetProcedureAddress; NtProtectVirtualMemory; NtProtectVirtualMemory; NtAllocateVirtualMemory; NtFreeVirtualMemory; NtAllocateVirtualMemory; NtProtectVirtualMemory; NtProtectVirtualMemory; CoInitializeEx; SetErrorMode; LdrLoadDll; LdrGetProcedureAddress; LdrUnloadDll; NtAllocateVirtualMemory; NtAllocateVirtualMemory; ReadProcessMemory; ReadProcessMemory; ReadProcessMemory; ReadProcessMemory; ReadProcessMemory; GetTempPathW; NtOpenFile; NtCreateFile; SetFilePointer; SetFilePointer; NtClose; LdrLoadDll; LdrGetProcedureAddress; LdrGetProcedureAddress; LdrGetProcedureAddress; LdrGetProcedureAddress; LdrGetProcedureAddress; LdrGetProcedureAddress; LdrGetProcedureAddress; LdrLoadDll; LdrGetProcedureAddress; LdrGetProcedureAddress; LdrLoadDll; LdrGetProcedureAddress; LdrGetProcedureAddress; NtAllocateVirtualMemory; NtAllocateVirtualMemory; NtAllocateVirtualMemory; NtAllocateVirtualMemory; NtAllocateVirtualMemory; NtAllocateVirtualMemory; NtAllocateVirtualMemory; NtAllocateVirtualMemory; NtAllocateVirtualMemory; NtAllocateVirtualMemory; NtAllocateVirtualMemory; NtAllocateVirtualMemory; NtAllocateVirtualMemory; NtAllocateVirtualMemory; NtAllocateVirtualMemory; NtAllocateVirtualMemory; NtAllocateVirtualMemory; NtAllocateVirtualMemory; NtAllocateVirtualMemory; NtAllocateVirtualMemory; NtAllocateVirtualMemory; NtAllocateVirtualMemory; NtAllocateVirtualMemory; NtAllocateVirtualMemory; NtAllocateVirtualMemory; NtAllocateVirtualMemory; NtAllocateVirtualMemory; NtAllocateVirtualMemory; NtAllocateVirtualMemory; NtAllocateVirtualMemory; NtAllocateVirtualMemory; NtAllocateVirtualMemory; NtAllocateVirtualMemory; NtAllocateVirtualMemory; NtAllocateVirtualMemory; NtAllocateVirtualMemory; NtAllocateVirtualMemory; NtAllocateVirtualMemory; NtAllocateVirtualMemory; NtAllocateVirtualMemory; NtAllocateVirtualMemory; NtAllocateVirtualMemory; NtAllocateVirtualMemory; NtAllocateVirtualMemory; NtAllocateVirtualMemory; NtAllocateVirtualMemory; NtAllocateVirtualMemory; NtAllocateVirtualMemory; __exception__; __exception__; __exception__; CreateThread; NtResumeThread; GetForegroundWindow; SHGetFolderPathW; FindFirstFileExW; NtQueryDirectoryFile; NtQueryDirectoryFile; NtClose; NtCreateFile; GetFileSize; NtAllocateVirtualMemory; NtReadFile; NtFreeVirtualMemory; NtClose; GetComputerNameA; GetUserNameA; GetSystemInfo; NtCreateMutant; GetComputerNameA; CreateToolhelp32Snapshot; Process32FirstW; NtOpenProcess; Process32NextW; NtOpenProcess; Process32NextW; NtOpenProcess; Process32NextW; NtOpenProcess; Process32NextW; NtOpenProcess; Process32NextW; NtOpenProcess; Process32NextW; NtOpenProcess; Process32NextW; NtOpenProcess; Process32NextW; NtOpenProcess; Process32NextW; NtOpenProcess; Process32NextW; NtOpenProcess; Process32NextW; NtOpenProcess; Process32NextW; NtOpenProcess; Process32NextW; NtOpenProcess; Process32NextW; NtOpenProcess; Process32NextW; NtOpenProcess; Process32NextW; NtOpenProcess; Process32NextW; NtOpenProcess; Process32NextW; NtOpenProcess; GetUserNameA; GetSystemInfo; GetForegroundWindow; Process32NextW; NtOpenProcess; SHGetFolderPathW; Process32NextW; NtOpenProcess; Process32NextW; NtOpenProcess; NtClose; NtOpenKey; NtQueryValueKey; NtClose; NtOpenKey; NtQueryValueKey; NtClose; LdrLoadDll; LdrGetProcedureAddress; NtDuplicateObject; LdrGetProcedureAddress; GetSystemWindowsDirectoryW; NtCreateFile; NtCreateSection; NtMapViewOfSection; NtCreateThreadEx; NtDuplicateObject; NtResumeThread; NtDuplicateObject; NtClose; NtClose; NtClose; Process32NextW; NtOpenProcess; NtClose; Process32NextW; NtOpenProcess; NtClose; Process32NextW; NtOpenProcess; Process32NextW; NtOpenProcess; NtClose; Process32NextW; NtOpenProcess; Process32NextW; NtOpenProcess; Process32NextW; NtOpenProcess; NtClose; Process32NextW; NtOpenProcess; NtClose; Process32NextW; NtOpenProcess; NtClose; Process32NextW; NtOpenProcess; NtClose; Process32NextW; NtOpenProcess; Process32NextW; NtOpenProcess; Process32NextW; NtOpenProcess; Process32NextW; NtOpenProcess; Process32NextW; NtOpenProcess; Process32NextW; NtOpenProcess; Process32NextW; NtOpenProcess; Process32NextW; NtOpenProcess; Process32NextW; NtOpenProcess; NtClose; Process32NextW; NtOpenProcess; NtClose; Process32NextW; NtOpenProcess; Process32NextW; NtOpenProcess; Process32NextW; NtOpenProcess; NtClose; Process32NextW; NtClose; CreateDirectoryW; NtCreateFile; NtCreateFile; NtReadFile; NtWriteFile; NtReadFile; NtWriteFile; NtReadFile; NtWriteFile; NtReadFile; NtWriteFile; NtReadFile; NtWriteFile; NtReadFile; NtWriteFile; NtReadFile; NtWriteFile; NtReadFile; NtWriteFile; NtReadFile; NtWriteFile; NtReadFile; NtWriteFile; NtReadFile; NtWriteFile; NtReadFile; NtWriteFile; NtReadFile; NtWriteFile; NtReadFile; NtWriteFile; NtReadFile; NtWriteFile; NtReadFile; NtWriteFile; NtReadFile; NtWriteFile; NtReadFile; NtWriteFile; NtReadFile; NtWriteFile; NtReadFile; NtWriteFile; NtReadFile; NtWriteFile; NtReadFile; NtWriteFile; NtReadFile; NtWriteFile; NtReadFile; NtWriteFile; NtReadFile; NtWriteFile; NtReadFile; NtWriteFile; NtReadFile; NtWriteFile; NtReadFile; NtWriteFile; NtReadFile; NtWriteFile; NtReadFile; NtWriteFile; NtReadFile; NtWriteFile; NtReadFile; NtWriteFile; NtReadFile; NtWriteFile; NtReadFile; NtWriteFile; NtReadFile; NtWriteFile; NtReadFile; NtWriteFile; NtReadFile; NtWriteFile; NtReadFile; NtWriteFile; NtReadFile; NtWriteFile; NtReadFile; NtWriteFile; NtReadFile; NtWriteFile; NtReadFile; NtWriteFile; NtReadFile; NtWriteFile; NtReadFile; NtWriteFile; NtReadFile; NtWriteFile; NtReadFile; NtWriteFile; NtReadFile; NtWriteFile; NtReadFile; NtWriteFile; NtReadFile; NtWriteFile; NtReadFile; NtWriteFile; NtReadFile; NtWriteFile; NtReadFile; NtWriteFile; NtReadFile; NtWriteFile; NtReadFile; NtWriteFile; NtReadFile; NtWriteFile; NtReadFile; NtWriteFile; NtReadFile; NtWriteFile; NtReadFile; NtWriteFile; NtReadFile; NtWriteFile; NtReadFile; NtWriteFile; NtReadFile; NtWriteFile; NtReadFile; NtWriteFile; NtReadFile; NtWriteFile; NtReadFile; NtWriteFile; NtReadFile; NtWriteFile; NtReadFile; NtWriteFile; NtReadFile; NtWriteFile; NtReadFile; NtWriteFile; NtReadFile; NtWriteFile; NtReadFile; NtWriteFile; NtReadFile; NtWriteFile; NtReadFile; NtWriteFile; NtReadFile; NtWriteFile; NtReadFile; NtWriteFile; NtReadFile; NtWriteFile; NtReadFile; NtWriteFile; NtReadFile; NtWriteFile; NtReadFile; NtWriteFile; NtReadFile; NtWriteFile; NtReadFile; NtWriteFile; NtReadFile; NtWriteFile; NtReadFile; NtWriteFile; NtReadFile; NtWriteFile; NtReadFile; NtWriteFile; NtReadFile; NtWriteFile; NtReadFile; NtWriteFile; NtReadFile; NtWriteFile; NtReadFile; NtWriteFile; NtReadFile; NtWriteFile; NtReadFile; NtWriteFile; NtReadFile; NtWriteFile; NtReadFile; NtWriteFile; NtReadFile; NtWriteFile; NtReadFile; NtWriteFile; NtReadFile; NtWriteFile; NtReadFile; NtWriteFile; NtReadFile; NtWriteFile; NtReadFile; NtWriteFile; NtReadFile; NtWriteFile; NtReadFile; NtWriteFile; NtReadFile; NtWriteFile; NtReadFile; NtWriteFile; NtReadFile; NtWriteFile; NtReadFile; NtWriteFile; NtReadFile; NtWriteFile; NtReadFile; NtWriteFile; NtReadFile; NtWriteFile; NtReadFile; NtWriteFile; NtReadFile; NtWriteFile; NtReadFile; NtWriteFile; NtReadFile; NtWriteFile; NtReadFile; NtWriteFile; NtReadFile; NtWriteFile; NtReadFile; NtWriteFile; NtReadFile; NtWriteFile; NtReadFile; NtWriteFile; NtReadFile; NtWriteFile; NtReadFile; NtWriteFile; NtReadFile; NtWriteFile; NtReadFile; NtWriteFile; NtReadFile; NtWriteFile; NtReadFile; NtWriteFile; NtReadFile; NtWriteFile; NtReadFile; NtWriteFile; NtReadFile; NtWriteFile; NtReadFile; NtWriteFile; NtReadFile; NtWriteFile; NtReadFile; NtWriteFile; NtReadFile; NtWriteFile; NtReadFile; NtWriteFile; NtReadFile; NtWriteFile; NtReadFile; NtWriteFile; NtReadFile; NtWriteFile; NtReadFile; NtWriteFile; NtReadFile; NtWriteFile; NtReadFile; NtWriteFile; NtReadFile; NtWriteFile; NtReadFile; NtWriteFile; NtReadFile; NtWriteFile; NtReadFile; NtWriteFile; NtReadFile; NtWriteFile; NtReadFile; NtWriteFile; NtReadFile; NtWriteFile; NtReadFile; NtWriteFile; NtReadFile; NtWriteFile; NtReadFile; NtWriteFile; NtReadFile; NtWriteFile; NtReadFile; NtWriteFile; NtReadFile; NtWriteFile; NtReadFile; NtWriteFile; NtReadFile; NtWriteFile; NtReadFile; NtWriteFile; NtReadFile; NtWriteFile; NtReadFile; NtWriteFile; NtReadFile; NtWriteFile; NtReadFile; NtWriteFile; NtReadFile; NtWriteFile; NtReadFile; NtWriteFile; NtReadFile; NtWriteFile; NtReadFile; NtWriteFile; NtReadFile; NtWriteFile; NtReadFile; NtWriteFile; NtReadFile; NtWriteFile; NtReadFile; NtWriteFile; NtReadFile; NtWriteFile; NtReadFile; NtWriteFile; NtReadFile; NtWriteFile; NtReadFile; NtWriteFile; NtReadFile; NtWriteFile; NtReadFile; NtWriteFile; NtReadFile; NtWriteFile; NtReadFile; NtWriteFile; NtReadFile; NtWriteFile; NtReadFile; NtWriteFile; NtReadFile; NtWriteFile; NtReadFile; NtWriteFile; NtReadFile; NtWriteFile; NtReadFile; NtWriteFile; NtReadFile; NtWriteFile; NtReadFile; NtWriteFile; NtReadFile; NtWriteFile; NtReadFile; NtWriteFile; NtReadFile; NtWriteFile; NtReadFile; NtWriteFile; NtReadFile; NtWriteFile; NtReadFile; NtWriteFile; NtReadFile; NtWriteFile; NtReadFile; NtWriteFile; NtReadFile; NtWriteFile; NtReadFile; NtWriteFile; NtReadFile; NtWriteFile; NtReadFile; NtWriteFile; NtReadFile; NtWriteFile; NtReadFile; NtWriteFile; NtReadFile; NtWriteFile; NtReadFile; NtWriteFile; NtReadFile; NtWriteFile; NtReadFile; NtWriteFile; NtReadFile; NtWriteFile; NtReadFile; NtWriteFile; NtReadFile; NtWriteFile; NtReadFile; NtWriteFile; NtReadFile; NtWriteFile; NtReadFile; NtWriteFile; NtReadFile; NtWriteFile; NtReadFile; NtWriteFile; NtReadFile; NtWriteFile; NtReadFile; NtWriteFile; NtReadFile; NtWriteFile; NtReadFile; NtWriteFile; NtReadFile; NtWriteFile; NtReadFile; NtWriteFile; NtReadFile; NtWriteFile; NtReadFile; NtWriteFile; NtReadFile; NtWriteFile; NtReadFile; NtWriteFile; NtReadFile; NtWriteFile; NtReadFile; NtWriteFile; NtReadFile; NtWriteFile; NtReadFile; NtWriteFile; NtReadFile; NtWriteFile; NtReadFile; NtWriteFile; NtReadFile; NtWriteFile; NtReadFile; NtWriteFile; NtReadFile; NtWriteFile; NtReadFile; NtWriteFile; NtReadFile; NtWriteFile; NtReadFile; NtWriteFile; NtReadFile; NtWriteFile; NtReadFile; NtWriteFile; NtReadFile; NtWriteFile; NtReadFile; NtWriteFile; NtReadFile; NtWriteFile; NtReadFile; NtWriteFile; NtReadFile; NtWriteFile; NtReadFile; NtWriteFile; NtReadFile; NtWriteFile; NtReadFile; NtWriteFile; NtReadFile; NtWriteFile; NtReadFile; NtWriteFile; NtReadFile; NtWriteFile; NtReadFile; NtWriteFile; NtReadFile; NtWriteFile; NtReadFile; NtWriteFile; NtReadFile; NtWriteFile; NtReadFile; NtWriteFile; NtReadFile; NtWriteFile; NtReadFile; NtWriteFile; NtReadFile; NtWriteFile; NtReadFile; NtWriteFile; NtReadFile; NtWriteFile; NtReadFile; NtWriteFile; NtReadFile; NtWriteFile; NtReadFile; NtWriteFile; NtReadFile; NtWriteFile; NtReadFile; NtWriteFile; NtReadFile; NtWriteFile; NtReadFile; NtWriteFile; NtReadFile; NtWriteFile; NtReadFile; NtWriteFile; NtReadFile; NtWriteFile; NtReadFile; NtWriteFile; NtReadFile; NtWriteFile; NtReadFile; NtWriteFile; NtReadFile; NtWriteFile; NtReadFile; NtWriteFile; NtReadFile; NtWriteFile; NtReadFile; NtWriteFile; NtReadFile; NtWriteFile; NtReadFile; NtWriteFile; NtReadFile; NtWriteFile; NtReadFile; NtWriteFile; NtReadFile; NtWriteFile; NtReadFile; NtWriteFile; NtReadFile; NtWriteFile; NtReadFile; NtWriteFile; NtReadFile; NtWriteFile; NtReadFile; NtWriteFile; NtReadFile; NtWriteFile; NtReadFile; NtWriteFile; NtReadFile; NtWriteFile; NtReadFile; NtWriteFile; NtReadFile; NtWriteFile; NtReadFile; NtWriteFile; NtReadFile; NtWriteFile; NtReadFile; NtWriteFile; NtReadFile; NtWriteFile; NtReadFile; NtWriteFile; NtReadFile; NtWriteFile; NtReadFile; NtWriteFile; NtReadFile; NtWriteFile; NtReadFile; NtWriteFile; NtReadFile; NtWriteFile; NtReadFile; NtWriteFile; NtReadFile; NtWriteFile; NtReadFile; NtWriteFile; NtReadFile; NtWriteFile; NtReadFile; NtWriteFile; NtReadFile; NtWriteFile; NtReadFile; NtWriteFile; NtReadFile; NtWriteFile; NtReadFile; NtWriteFile; NtReadFile; NtWriteFile; NtReadFile; NtWriteFile; NtReadFile; NtWriteFile; NtReadFile; NtWriteFile; NtReadFile; NtWriteFile; NtReadFile; NtWriteFile; NtReadFile; NtWriteFile; NtReadFile; NtWriteFile; NtReadFile; NtWriteFile; NtReadFile; NtWriteFile; NtReadFile; NtWriteFile; NtReadFile; NtWriteFile; NtReadFile; NtWriteFile; NtReadFile; NtWriteFile; NtReadFile; NtWriteFile; NtReadFile; NtWriteFile; NtReadFile; NtWriteFile; NtReadFile; NtWriteFile; NtReadFile; NtWriteFile; NtReadFile; NtWriteFile; NtReadFile; NtWriteFile; NtReadFile; NtWriteFile; NtReadFile; NtWriteFile; NtReadFile; NtWriteFile; NtReadFile; NtWriteFile; NtReadFile; NtWriteFile; NtReadFile; NtWriteFile; NtReadFile; NtWriteFile; NtReadFile; NtWriteFile; NtReadFile; NtWriteFile; NtReadFile; NtWriteFile; NtReadFile; NtWriteFile; NtReadFile; NtWriteFile; NtReadFile; NtWriteFile; NtReadFile; NtWriteFile; NtReadFile; NtWriteFile; NtReadFile; NtWriteFile; NtReadFile; NtWriteFile; NtReadFile; NtWriteFile; NtReadFile; NtWriteFile; NtReadFile; NtWriteFile; NtReadFile; NtWriteFile; NtReadFile; NtWriteFile; NtReadFile; NtWriteFile; NtReadFile; NtWriteFile; NtReadFile; NtWriteFile; NtReadFile; NtWriteFile; NtReadFile; NtWriteFile; NtReadFile; NtWriteFile; NtReadFile; NtWriteFile; NtReadFile; NtWriteFile; NtReadFile; NtWriteFile; NtReadFile; NtWriteFile; NtReadFile; NtWriteFile; NtReadFile; NtWriteFile; NtReadFile; NtWriteFile; NtReadFile; NtWriteFile; NtReadFile; NtWriteFile; NtReadFile; NtWriteFile; NtReadFile; NtWriteFile; NtReadFile; NtWriteFile; NtReadFile; NtWriteFile; NtReadFile; NtWriteFile; NtReadFile; NtWriteFile; NtReadFile; NtWriteFile; NtReadFile; NtWriteFile; NtReadFile; NtWriteFile; NtReadFile; NtWriteFile; NtReadFile; NtWriteFile; NtReadFile; NtWriteFile; NtReadFile; NtWriteFile; NtReadFile; NtWriteFile; NtReadFile; NtWriteFile; NtReadFile; NtWriteFile; NtReadFile; NtWriteFile; NtReadFile; NtWriteFile; NtReadFile; NtWriteFile; NtReadFile; NtWriteFile; NtReadFile; NtWriteFile; NtReadFile; NtWriteFile; NtReadFile; NtWriteFile; NtReadFile; NtWriteFile; NtReadFile; NtWriteFile; NtReadFile; NtWriteFile; NtReadFile; NtWriteFile; NtReadFile; NtWriteFile; NtReadFile; NtWriteFile; NtReadFile; NtWriteFile; NtReadFile; NtWriteFile; NtReadFile; NtWriteFile; NtReadFile; NtWriteFile; NtReadFile; NtWriteFile; NtReadFile; NtWriteFile; NtReadFile; NtWriteFile; NtReadFile; NtWriteFile; NtReadFile; NtWriteFile; NtReadFile; NtWriteFile; NtReadFile; NtWriteFile; NtReadFile; NtWriteFile; NtReadFile; NtWriteFile; NtReadFile; NtWriteFile; NtReadFile; NtWriteFile; NtReadFile; NtWriteFile; NtReadFile; NtWriteFile; NtReadFile; NtWriteFile; NtReadFile; NtWriteFile; NtReadFile; NtWriteFile; NtReadFile; NtWriteFile; NtReadFile; NtWriteFile; NtReadFile; NtWriteFile; NtReadFile; NtWriteFile; NtReadFile; NtWriteFile; NtReadFile; NtWriteFile; NtReadFile; NtWriteFile; NtReadFile; NtWriteFile; NtReadFile; NtWriteFile; NtReadFile; NtWriteFile; NtReadFile; NtWriteFile; NtReadFile; NtWriteFile; NtReadFile; NtWriteFile; NtReadFile; NtWriteFile; NtReadFile; NtWriteFile; NtReadFile; NtWriteFile; NtReadFile; NtWriteFile; NtReadFile; NtWriteFile; NtReadFile; NtWriteFile; NtReadFile; NtWriteFile; NtReadFile; NtWriteFile; NtReadFile; NtWriteFile; NtReadFile; NtWriteFile; NtReadFile; NtWriteFile; NtReadFile; NtWriteFile; NtReadFile; NtWriteFile; NtReadFile; NtWriteFile; NtReadFile; NtWriteFile; NtReadFile; NtWriteFile; NtReadFile; NtWriteFile; NtReadFile; NtWriteFile; NtReadFile; NtWriteFile; NtReadFile; NtWriteFile; NtReadFile; NtWriteFile; NtReadFile; NtWriteFile; NtReadFile; NtWriteFile; NtReadFile; NtWriteFile; NtReadFile; NtWriteFile; NtReadFile; NtWriteFile; NtReadFile; NtWriteFile; NtReadFile; NtWriteFile; NtReadFile; NtWriteFile; NtReadFile; NtWriteFile; NtReadFile; NtWriteFile; NtReadFile; NtWriteFile; NtReadFile; NtWriteFile; NtReadFile; NtWriteFile; NtReadFile; NtWriteFile; NtReadFile; NtWriteFile; NtReadFile; NtWriteFile; NtReadFile; NtWriteFile; NtReadFile; NtWriteFile; NtReadFile; NtWriteFile; NtReadFile; NtWriteFile; NtReadFile; NtWriteFile; NtReadFile; NtWriteFile; NtReadFile; NtWriteFile; NtReadFile; NtWriteFile; NtReadFile; NtWriteFile; NtReadFile; NtClose; NtClose; CreateProcessInternalW; NtClose; NtClose; InternetOpenA; InternetConnectA; HttpOpenRequestA; LdrGetProcedureAddress; ReadProcessMemory; ReadProcessMemory; ReadProcessMemory; ReadProcessMemory; ReadProcessMemory; LdrLoadDll; LdrUnloadDll; LdrGetProcedureAddress; LdrLoadDll; LdrGetProcedureAddress; LdrGetProcedureAddress; LdrGetProcedureAddress; LdrGetProcedureAddress; LdrGetProcedureAddress; LdrGetProcedureAddress; LdrGetProcedureAddress; LdrGetProcedureAddress; LdrGetProcedureAddress; LdrGetProcedureAddress; LdrGetProcedureAddress; LdrGetProcedureAddress; LdrGetProcedureAddress; LdrGetProcedureAddress; LdrGetProcedureAddress; LdrGetProcedureAddress; LdrGetProcedureAddress; LdrGetProcedureAddress; LdrGetProcedureAddress; LdrGetProcedureAddress; LdrGetProcedureAddress; LdrGetProcedureAddress; LdrGetProcedureAddress; LdrGetProcedureAddress; LdrGetProcedureAddress; LdrGetProcedureAddress; LdrGetProcedureAddress; LdrGetProcedureAddress; LdrGetProcedureAddress; LdrGetProcedureAddress; LdrGetProcedureAddress; LdrGetProcedureAddress; LdrGetProcedureAddress; LdrGetProcedureAddress; LdrGetProcedureAddress; LdrGetProcedureAddress; LdrGetProcedureAddress; LdrGetProcedureAddress; LdrGetProcedureAddress; LdrGetProcedureAddress; LdrGetProcedureAddress; LdrGetProcedureAddress; LdrGetProcedureAddress; LdrGetProcedureAddress; LdrGetProcedureAddress; LdrGetProcedureAddress; LdrGetProcedureAddress; LdrGetProcedureAddress; LdrGetProcedureAddress; LdrGetProcedureAddress; LdrGetProcedureAddress; LdrGetProcedureAddress; LdrGetProcedureAddress; LdrGetProcedureAddress; LdrGetProcedureAddress; LdrGetProcedureAddress; LdrGetProcedureAddress; NtDuplicateObject; LdrGetProcedureAddress; LdrGetProcedureAddress; LdrGetProcedureAddress; LdrGetProcedureAddress; LdrGetProcedureAddress; LdrGetProcedureAddress; LdrGetProcedureAddress; LdrGetProcedureAddress; LdrGetProcedureAddress; LdrGetProcedureAddress; LdrGetProcedureAddress; LdrGetProcedureAddress; LdrGetProcedureAddress; LdrGetProcedureAddress; LdrGetProcedureAddress; LdrGetProcedureAddress; LdrGetProcedureAddress; LdrGetProcedureAddress; LdrGetProcedureAddress; LdrGetProcedureAddress; LdrGetProcedureAddress; LdrGetProcedureAddress; LdrGetProcedureAddress; LdrGetProcedureAddress; LdrGetProcedureAddress; LdrGetProcedureAddress; LdrGetProcedureAddress; LdrGetProcedureAddress; LdrGetProcedureAddress; LdrGetProcedureAddress; LdrGetProcedureAddress; LdrLoadDll; LdrGetProcedureAddress; LdrGetProcedureAddress; LdrGetProcedureAddress; CoInitializeEx; CoInitializeEx; LdrGetDllHandle; LdrGetProcedureAddress; LdrGetProcedureAddress; LdrGetProcedureAddress; LdrGetProcedureAddress; LdrGetProcedureAddress; NtDuplicateObject; LdrGetProcedureAddress; LdrGetProcedureAddress; LdrLoadDll; LdrGetProcedureAddress; LdrGetProcedureAddress; LdrGetProcedureAddress; LdrGetProcedureAddress; LdrGetProcedureAddress; LdrLoadDll; LdrGetProcedureAddress; NtDuplicateObject; LdrGetProcedureAddress; LdrGetProcedureAddress; LdrGetProcedureAddress; LdrGetProcedureAddress; LdrGetProcedureAddress; LdrGetProcedureAddress; LdrLoadDll; LdrGetProcedureAddress; LdrGetProcedureAddress; LdrGetProcedureAddress; LdrGetProcedureAddress; LdrGetProcedureAddress; LdrGetProcedureAddress; LdrGetProcedureAddress; ReadProcessMemory; ReadProcessMemory; ReadProcessMemory; ReadProcessMemory; ReadProcessMemory; LdrLoadDll; LdrGetProcedureAddress; RegOpenKeyExA; RegCreateKeyExA; RegCloseKey; RegCreateKeyExA; RegSetValueExA; RegSetValueExA; RegSetValueExA; RegSetValueExA; RegSetValueExA; RegSetValueExA; RegQueryValueExA; RegQueryValueExA; RegQueryValueExA; RegQueryValueExA; RegQueryValueExA; RegQueryValueExA; RegQueryValueExA; RegQueryValueExA; RegQueryValueExA; RegQueryValueExA; RegQueryValueExA; RegQueryValueExA; RegQueryValueExA; RegQueryValueExA; RegQueryValueExA; RegQueryValueExA; RegQueryValueExA; RegQueryValueExA; LdrGetProcedureAddress; LdrGetDllHandle; LdrLoadDll; CreateThread; LdrGetProcedureAddress; LdrLoadDll; GetSystemInfo; LdrLoadDll; LdrGetProcedureAddress; LdrGetProcedureAddress; LdrLoadDll; LdrGetProcedureAddress; OpenSCManagerA; OpenSCManagerA; RegCreateKeyExW; LdrGetProcedureAddress; RegOpenKeyExW; RegOpenKeyExW; RegQueryValueExW; OpenServiceA; OpenServiceA; LdrGetProcedureAddress; RegQueryValueExW; RegCloseKey; RegCloseKey; LdrLoadDll; LdrGetProcedureAddress; RegCreateKeyExW; LdrGetProcedureAddress; RegOpenKeyExW; LdrUnloadDll; RegOpenKeyExW; LdrGetProcedureAddress; UuidCreate; RegQueryValueExW; NtOpenThread; LdrUnloadDll; RegQueryValueExW; RegCloseKey; RegCloseKey; NtDuplicateObject; NtAllocateVirtualMemory; RegCreateKeyExW; RegOpenKeyExW; LdrUnloadDll; NtClose; RegOpenKeyExW; RegOpenKeyExW; NtOpenThread; LdrUnloadDll; RegQueryValueExW; RegQueryValueExW; RegCloseKey; RegCloseKey; LdrLoadDll; LdrGetProcedureAddress; LdrLoadDll; LdrGetProcedureAddress; LdrGetProcedureAddress; LdrGetProcedureAddress; RegCreateKeyExW; RegOpenKeyExW; RegOpenKeyExW; RegQueryValueExW; RegQueryValueExW; RegCloseKey; RegCloseKey; LdrGetProcedureAddress; getaddrinfo; LdrGetProcedureAddress; CoCreateInstance; CoCreateInstance; NtAllocateVirtualMemory; NtOpenKey; NtClose; RegOpenKeyExW; RegCloseKey; RegOpenKeyExW; RegQueryValueExW; RegCloseKey; RegCloseKey; NtOpenKey; NtClose; RegOpenKeyExW; RegCloseKey; RegOpenKeyExW; RegQueryValueExW; RegCloseKey; RegCloseKey; LdrGetProcedureAddress; LdrLoadDll; LdrGetProcedureAddress; LdrGetProcedureAddress; NtOpenKey; NtClose; RegOpenKeyExW; RegCloseKey; RegOpenKeyExW; RegQueryValueExW; RegCloseKey; RegCloseKey; RegOpenKeyExW; RegOpenKeyExW; NtQueryKey; NtQueryKey; RegOpenKeyExW; RegOpenKeyExW; RegOpenKeyExW; RegCloseKey; RegQueryValueExW; RegQueryValueExW; RegOpenKeyExW; RegQueryValueExW; RegQueryValueExW; RegQueryValueExW; RegQueryValueExW; RegCloseKey; RegOpenKeyExW; RegOpenKeyExW; RegCloseKey; NtOpenKey; NtClose; RegOpenKeyExW; RegCloseKey; RegOpenKeyExW; RegCloseKey; LdrLoadDll; LdrGetProcedureAddress; LdrGetProcedureAddress; LdrLoadDll; LdrGetProcedureAddress; RegOpenKeyExW; LdrGetProcedureAddress; NtOpenKey; NtClose; RegOpenKeyExW; RegCloseKey; RegOpenKeyExW; RegQueryValueExW; RegCloseKey; RegCloseKey; NtAllocateVirtualMemory; NtOpenKey; NtClose; RegOpenKeyExW; RegCloseKey; RegOpenKeyExW; RegQueryValueExW; RegCloseKey; RegCloseKey; NtDeviceIoControlFile; NtClose; NtAllocateVirtualMemory; NtDeviceIoControlFile; NtClose; NtDeviceIoControlFile; NtClose; NtDeviceIoControlFile; NtClose; NtDeviceIoControlFile; NtClose; NtDeviceIoControlFile; NtClose; NtDeviceIoControlFile; NtClose; NtDeviceIoControlFile; NtClose; NtDeviceIoControlFile; NtClose; LdrGetProcedureAddress; LdrGetProcedureAddress; RegOpenKeyExA; RegOpenKeyExW; RegQueryValueExA; LdrLoadDll; SetErrorMode; LdrLoadDll; LdrGetProcedureAddress; SetErrorMode; SetErrorMode; LdrLoadDll; LdrGetProcedureAddress; SetErrorMode; GetAdaptersAddresses; GetAdaptersAddresses; LdrUnloadDll; LdrUnloadDll; NtDuplicateObject; NtAllocateVirtualMemory; NtClose; NtClose; NtClose; getaddrinfo; LdrUnloadDll; NtClose; CoCreateInstance; CoCreateInstance; LdrLoadDll; LdrGetProcedureAddress; LdrGetProcedureAddress; RegCreateKeyExW; RegSetValueExA; RegSetValueExA; RegSetValueExA; RegSetValueExW; RegCloseKey; LdrGetProcedureAddress; NtCreateMutant; NtClose; RegOpenKeyExW; RegQueryValueExW; RegQueryValueExW; RegCloseKey; NtClose; RegOpenKeyExW; RegQueryValueExW; RegQueryValueExW; RegCloseKey; NtClose; NtClose; NtClose; NtClose; NtClose; NtClose; NtClose; RegOpenKeyExW; RegQueryValueExW; RegQueryValueExW; RegOpenKeyExW; RegQueryValueExW; RegQueryValueExW; RegCloseKey; RegCloseKey; NtClose; NtCreateFile; NtClose; FindFirstFileExW; NtClose; FindFirstFileExW; NtClose; NtCreateFile; GetFileType; NtReadFile; NtClose; FindFirstFileExW; FindFirstFileExW; FindFirstFileExW; RegOpenKeyExW; RegQueryValueExW; RegQueryValueExW; RegOpenKeyExW; RegQueryValueExW; RegQueryValueExW; RegCloseKey; RegCloseKey; NtClose; RegOpenKeyExW; RegQueryValueExW; RegQueryValueExW; RegOpenKeyExW; RegQueryValueExW; RegQueryValueExW; RegCloseKey; RegCloseKey; NtClose; RegOpenKeyExW; RegQueryValueExW; RegQueryValueExW; RegOpenKeyExW; RegQueryValueExW; RegQueryValueExW; RegCloseKey; RegCloseKey; NtClose; FindFirstFileExW; FindFirstFileExW; NtFreeVirtualMemory; NtFreeVirtualMemory; NtOpenSection; InternetQueryOptionA; RegCreateKeyExW; RegOpenKeyExW; RegOpenKeyExW; RegQueryValueExW; RegQueryValueExW; RegCloseKey; RegCloseKey; NtAllocateVirtualMemory; getaddrinfo; RegCreateKeyExA; RegQueryValueExA; RegQueryValueExA; RegCreateKeyExA; RegCloseKey; RegSetValueExA; RegCloseKey; RegSetValueExW; HttpSendRequestA; InternetCloseHandle; InternetCloseHandle; InternetCloseHandle; NtDelayExecution; NtTerminateProcess; NtTerminateProcess; NtClose; NtClose; NtClose; NtClose; NtClose; NtUnmapViewOfSection; NtClose; NtClose; NtFreeVirtualMemory; NtClose; NtClose; NtClose; NtClose; NtClose; NtClose; NtClose; NtClose; NtClose; NtClose; NtClose; NtClose; NtClose; NtClose; NtClose; NtClose; NtClose; NtClose; NtClose; NtClose; LdrGetProcedureAddress; NtClose; NtClose; NtClose; NtClose; NtUnmapViewOfSection; NtClose; NtClose; NtClose; NtClose; NtClose; NtClose; NtClose; NtClose; NtClose; NtClose; NtClose; NtClose; NtClose; NtClose; NtClose; NtFreeVirtualMemory; NtFreeVirtualMemory; NtFreeVirtualMemory; NtClose; NtUnmapViewOfSection; NtClose; NtAllocateVirtualMemory; NtClose; NtClose; NtClose; RegCloseKey; RegCloseKey; RegCloseKey; RegCloseKey; RegCloseKey; RegCloseKey; RegCloseKey; RegCloseKey; RegCloseKey; RegCloseKey; RegCloseKey; NtUnmapViewOfSection; NtClose; RegCloseKey; NtClose; NtClose; LdrGetDllHandle; LdrGetProcedureAddress; LdrGetDllHandle; LdrGetProcedureAddress; NtClose; NtClose; NtClose; NtClose; NtClose; LdrGetProcedureAddress; LdrUnloadDll; NtOpenKey; NtQueryValueKey; NtClose; NtClose; NtClose; NtClose; NtClose; NtTerminateProcess; NtAllocateVirtualMemory; NtFreeVirtualMemory; NtAllocateVirtualMemory; LdrGetDllHandle; LdrGetProcedureAddress; GetFileType; GetFileType; GetFileType; NtAllocateVirtualMemory; NtAllocateVirtualMemory; LdrGetDllHandle; LdrGetProcedureAddress; GetSystemTimeAsFileTime; GetSystemDirectoryA; NtDelayExecution; NtDelayExecution; NtAllocateVirtualMemory; LdrGetDllHandle; LdrGetProcedureAddress; LdrGetProcedureAddress; LdrGetProcedureAddress; LdrGetProcedureAddress; NtAllocateVirtualMemory; NtProtectVirtualMemory; NtFreeVirtualMemory; LdrGetDllHandle; LdrGetProcedureAddress; LdrGetProcedureAddress; LdrGetProcedureAddress; LdrGetProcedureAddress; LdrGetDllHandle; LdrGetDllHandle; NtAllocateVirtualMemory; NtFreeVirtualMemory; NtAllocateVirtualMemory; LdrGetDllHandle; LdrGetProcedureAddress; LdrGetProcedureAddress; LdrGetProcedureAddress; LdrGetProcedureAddress; LdrGetDllHandle; LdrGetProcedureAddress; LdrGetDllHandle; LdrGetProcedureAddress; LdrGetDllHandle; LdrGetProcedureAddress; LdrGetDllHandle; LdrGetProcedureAddress; LdrGetDllHandle; LdrGetProcedureAddress; LdrGetDllHandle; LdrGetProcedureAddress; LdrGetDllHandle; LdrGetProcedureAddress; LdrGetDllHandle; LdrGetProcedureAddress; LdrGetDllHandle; LdrGetProcedureAddress; LdrGetDllHandle; LdrGetProcedureAddress; LdrGetDllHandle; LdrGetProcedureAddress; LdrGetDllHandle; LdrGetProcedureAddress; LdrGetDllHandle; LdrGetProcedureAddress; LdrGetDllHandle; LdrGetProcedureAddress; LdrGetDllHandle; LdrGetProcedureAddress; LdrGetDllHandle; LdrGetProcedureAddress; LdrGetDllHandle; LdrGetProcedureAddress; LdrGetDllHandle; LdrGetProcedureAddress; LdrGetDllHandle; LdrGetProcedureAddress; LdrGetDllHandle; LdrGetProcedureAddress; LdrGetDllHandle; LdrGetProcedureAddress; LdrGetDllHandle; LdrGetProcedureAddress; LdrGetDllHandle; LdrGetProcedureAddress; LdrGetDllHandle; LdrGetProcedureAddress; LdrGetDllHandle; LdrGetProcedureAddress; LdrGetDllHandle; LdrGetProcedureAddress; LdrGetProcedureAddress; NtAllocateVirtualMemory; NtAllocateVirtualMemory; NtAllocateVirtualMemory; LdrGetDllHandle; LdrGetDllHandle; LdrGetProcedureAddress; NtOpenProcess; NtClose; GetSystemMetrics; GetSystemMetrics; GetSystemMetrics; GetSystemMetrics; GetSystemMetrics; GetSystemMetrics; NtClose; NtOpenKey; GetSystemMetrics; GetSystemMetrics; GetSystemMetrics; GetSystemMetrics; GetSystemMetrics; GetSystemMetrics; GetSystemMetrics; GetSystemMetrics; GetSystemMetrics; GetSystemMetrics; RegCloseKey; GetSystemMetrics; GetSystemMetrics; GetSystemMetrics; LdrLoadDll; LdrGetProcedureAddress; LdrGetProcedureAddress; LdrGetProcedureAddress; LdrGetProcedureAddress; LdrGetProcedureAddress; LdrGetProcedureAddress; LdrGetProcedureAddress; LdrGetProcedureAddress; LdrGetProcedureAddress; LdrGetProcedureAddress; LdrGetProcedureAddress; LdrLoadDll; LdrGetProcedureAddress; LdrGetDllHandle; LdrGetProcedureAddress; LdrGetDllHandle; LdrGetDllHandle; LdrLoadDll; LdrGetProcedureAddress; LdrGetDllHandle; LdrGetDllHandle; GetSystemTimeAsFileTime; LdrLoadDll; LdrGetProcedureAddress; LdrGetDllHandle; LdrGetDllHandle; GetSystemTimeAsFileTime; RegOpenKeyExA; RegQueryValueExA; RegCloseKey; NtAllocateVirtualMemory; NtAllocateVirtualMemory; NtAllocateVirtualMemory; NtAllocateVirtualMemory; NtAllocateVirtualMemory; RegOpenKeyExA; RegQueryValueExA; RegCloseKey; RegOpenKeyExW; RegQueryValueExW; RegCloseKey; NtAllocateVirtualMemory; NtClose; NtClose; LdrLoadDll; LdrGetProcedureAddress; LdrGetDllHandle; LdrGetProcedureAddress; LdrGetDllHandle; LdrGetProcedureAddress; LdrGetDllHandle; LdrGetDllHandle; NtAllocateVirtualMemory; GetSystemMetrics; GetSystemMetrics; GetSystemMetrics; GetSystemMetrics; GetSystemMetrics; GetSystemMetrics; GetSystemMetrics; LdrLoadDll; LdrGetProcedureAddress; LdrGetDllHandle; LdrGetProcedureAddress; LdrGetDllHandle; LdrGetProcedureAddress; LdrGetDllHandle; LdrGetProcedureAddress; LdrGetDllHandle; LdrGetProcedureAddress; LdrGetProcedureAddress; LdrGetDllHandle; LdrGetProcedureAddress; __exception__; NtAllocateVirtualMemory; LdrLoadDll; LdrGetProcedureAddress; LdrGetProcedureAddress; LdrGetProcedureAddress; LdrGetProcedureAddress; LdrGetProcedureAddress; LdrLoadDll; LdrGetProcedureAddress; LdrGetProcedureAddress; NtAllocateVirtualMemory; NtAllocateVirtualMemory; NtFreeVirtualMemory; LdrGetDllHandle; LdrGetProcedureAddress; LdrGetProcedureAddress; LdrGetProcedureAddress; LdrGetProcedureAddress; LdrGetProcedureAddress; LdrGetDllHandle; LdrGetProcedureAddress; LdrGetDllHandle; LdrGetProcedureAddress; LdrGetProcedureAddress; LdrGetProcedureAddress; LdrGetDllHandle; LdrGetProcedureAddress; LdrGetDllHandle; LdrGetProcedureAddress; LdrGetProcedureAddress; LdrGetProcedureAddress; LdrGetProcedureAddress; LdrGetProcedureAddress; LdrGetProcedureAddress; LdrGetProcedureAddress; LdrGetProcedureAddress; LdrGetProcedureAddress; LdrGetDllHandle; LdrGetProcedureAddress; LdrGetProcedureAddress; LdrGetProcedureAddress; LdrGetProcedureAddress; LdrGetProcedureAddress; LdrGetProcedureAddress; LdrGetProcedureAddress; LdrGetProcedureAddress; LdrGetProcedureAddress; LdrGetProcedureAddress; LdrGetProcedureAddress; LdrGetProcedureAddress; LdrGetProcedureAddress; LdrGetProcedureAddress; LdrGetProcedureAddress; LdrGetProcedureAddress; LdrGetProcedureAddress; LdrGetProcedureAddress; LdrGetProcedureAddress; LdrGetProcedureAddress; LdrGetProcedureAddress; LdrGetProcedureAddress; LdrGetProcedureAddress; LdrGetProcedureAddress; LdrGetProcedureAddress; LdrGetProcedureAddress; LdrGetProcedureAddress; LdrGetProcedureAddress; LdrGetProcedureAddress; LdrGetProcedureAddress; LdrGetProcedureAddress; LdrGetProcedureAddress; LdrGetProcedureAddress; LdrGetProcedureAddress; LdrGetProcedureAddress; LdrGetProcedureAddress; LdrGetProcedureAddress; LdrGetProcedureAddress; LdrGetProcedureAddress; LdrGetProcedureAddress; LdrGetProcedureAddress; LdrGetProcedureAddress; LdrGetProcedureAddress; LdrGetProcedureAddress; LdrGetProcedureAddress; LdrGetProcedureAddress; LdrGetProcedureAddress; LdrGetProcedureAddress; LdrGetProcedureAddress; LdrGetProcedureAddress; LdrGetProcedureAddress; LdrGetProcedureAddress; LdrGetProcedureAddress; LdrGetProcedureAddress; LdrGetProcedureAddress; LdrGetProcedureAddress; LdrGetProcedureAddress; LdrGetProcedureAddress; LdrGetProcedureAddress; LdrGetProcedureAddress; LdrGetProcedureAddress; LdrGetProcedureAddress; LdrGetProcedureAddress; LdrGetProcedureAddress; LdrGetProcedureAddress; LdrGetProcedureAddress; LdrGetProcedureAddress; LdrGetProcedureAddress; LdrGetProcedureAddress; LdrGetProcedureAddress; LdrGetProcedureAddress; LdrGetProcedureAddress; LdrGetProcedureAddress; LdrGetProcedureAddress; LdrGetProcedureAddress; LdrGetProcedureAddress; LdrGetProcedureAddress; LdrGetProcedureAddress; LdrGetProcedureAddress; LdrGetProcedureAddress; LdrGetProcedureAddress; LdrGetProcedureAddress; LdrGetProcedureAddress; LdrGetProcedureAddress; LdrGetProcedureAddress; LdrGetProcedureAddress; LdrGetProcedureAddress; LdrGetProcedureAddress; LdrGetProcedureAddress; LdrGetProcedureAddress; LdrGetProcedureAddress; LdrGetProcedureAddress; LdrGetProcedureAddress; LdrGetProcedureAddress; LdrGetProcedureAddress; LdrGetProcedureAddress; LdrGetProcedureAddress; LdrGetProcedureAddress; LdrGetProcedureAddress; LdrGetProcedureAddress; LdrGetProcedureAddress; LdrGetProcedureAddress; LdrGetProcedureAddress; LdrGetProcedureAddress; LdrGetProcedureAddress; LdrGetProcedureAddress; LdrGetProcedureAddress; LdrGetProcedureAddress; LdrGetProcedureAddress; LdrGetProcedureAddress; LdrGetProcedureAddress; LdrGetProcedureAddress; LdrGetProcedureAddress; LdrGetProcedureAddress; LdrGetProcedureAddress; LdrGetProcedureAddress; LdrGetProcedureAddress; LdrGetProcedureAddress; LdrGetProcedureAddress; LdrGetProcedureAddress; LdrGetProcedureAddress; LdrGetProcedureAddress; LdrGetProcedureAddress; LdrGetProcedureAddress; LdrGetProcedureAddress; LdrGetProcedureAddress; LdrGetProcedureAddress; LdrGetProcedureAddress; LdrGetDllHandle; LdrGetProcedureAddress; LdrGetProcedureAddress; LdrGetProcedureAddress; LdrGetProcedureAddress; LdrGetProcedureAddress; LdrGetProcedureAddress; LdrGetProcedureAddress; LdrGetProcedureAddress; LdrGetProcedureAddress; LdrGetProcedureAddress; LdrGetProcedureAddress; LdrGetProcedureAddress; LdrGetProcedureAddress; LdrGetProcedureAddress; LdrGetProcedureAddress; LdrGetProcedureAddress; LdrGetProcedureAddress; LdrGetProcedureAddress; LdrGetProcedureAddress; LdrGetProcedureAddress; LdrGetProcedureAddress; LdrGetProcedureAddress; LdrGetProcedureAddress; LdrGetProcedureAddress; LdrGetProcedureAddress; LdrGetProcedureAddress; LdrGetProcedureAddress; LdrGetProcedureAddress; LdrGetProcedureAddress; LdrGetProcedureAddress; LdrGetProcedureAddress; LdrGetProcedureAddress; LdrGetProcedureAddress; LdrGetProcedureAddress; LdrGetProcedureAddress; LdrGetProcedureAddress; LdrGetProcedureAddress; LdrGetProcedureAddress; LdrGetProcedureAddress; LdrGetProcedureAddress; LdrGetProcedureAddress; LdrGetProcedureAddress; LdrGetProcedureAddress; LdrGetProcedureAddress; LdrGetProcedureAddress; LdrGetProcedureAddress; LdrGetProcedureAddress; LdrGetProcedureAddress; LdrGetProcedureAddress; LdrGetProcedureAddress; LdrGetProcedureAddress; LdrGetProcedureAddress; LdrGetProcedureAddress; LdrGetProcedureAddress; LdrGetProcedureAddress; LdrGetProcedureAddress; LdrGetProcedureAddress; LdrGetProcedureAddress; LdrGetProcedureAddress; LdrGetProcedureAddress; LdrGetProcedureAddress; LdrGetProcedureAddress; LdrGetProcedureAddress; LdrGetProcedureAddress; LdrGetProcedureAddress; LdrGetProcedureAddress; LdrGetProcedureAddress; LdrGetProcedureAddress; LdrGetProcedureAddress; LdrGetProcedureAddress; LdrGetProcedureAddress; LdrGetProcedureAddress; LdrGetProcedureAddress; LdrGetProcedureAddress; LdrGetProcedureAddress; LdrGetProcedureAddress; LdrGetProcedureAddress; LdrGetProcedureAddress; LdrGetProcedureAddress; LdrGetProcedureAddress; LdrGetProcedureAddress; LdrGetProcedureAddress; LdrGetProcedureAddress; LdrGetProcedureAddress; LdrGetProcedureAddress; LdrGetProcedureAddress; LdrGetProcedureAddress; LdrGetProcedureAddress; LdrGetProcedureAddress; LdrGetDllHandle; LdrGetProcedureAddress; LdrGetProcedureAddress; LdrGetProcedureAddress; LdrGetProcedureAddress; LdrGetProcedureAddress; LdrGetProcedureAddress; LdrGetProcedureAddress; LdrGetProcedureAddress; LdrGetProcedureAddress; LdrGetProcedureAddress; LdrGetProcedureAddress; LdrGetProcedureAddress; LdrGetProcedureAddress; LdrGetProcedureAddress; LdrGetProcedureAddress; LdrGetProcedureAddress; LdrGetProcedureAddress; LdrGetProcedureAddress; LdrGetProcedureAddress; LdrGetProcedureAddress; LdrGetProcedureAddress; LdrGetProcedureAddress; LdrGetProcedureAddress; LdrGetProcedureAddress; LdrGetProcedureAddress; LdrGetProcedureAddress; LdrGetProcedureAddress; LdrGetProcedureAddress; LdrGetProcedureAddress; LdrGetProcedureAddress; LdrGetProcedureAddress; LdrGetProcedureAddress; LdrGetProcedureAddress; LdrGetProcedureAddress; LdrGetProcedureAddress; LdrGetDllHandle; LdrGetProcedureAddress; LdrGetDllHandle; LdrGetProcedureAddress; LdrGetProcedureAddress; LdrGetProcedureAddress; LdrGetProcedureAddress; LdrGetProcedureAddress; LdrGetProcedureAddress; LdrGetProcedureAddress; LdrGetProcedureAddress; LdrGetProcedureAddress; LdrGetProcedureAddress; LdrGetProcedureAddress; LdrGetProcedureAddress; LdrGetProcedureAddress; LdrGetProcedureAddress; LdrGetProcedureAddress; LdrGetProcedureAddress; LdrGetProcedureAddress; LdrGetDllHandle; LdrGetProcedureAddress; LdrGetProcedureAddress; LdrGetProcedureAddress; LdrGetProcedureAddress; LdrGetProcedureAddress; LdrGetProcedureAddress; LdrGetProcedureAddress; LdrGetProcedureAddress; LdrGetProcedureAddress; LdrGetDllHandle; LdrGetProcedureAddress; LdrGetProcedureAddress; LdrGetProcedureAddress; LdrGetProcedureAddress; LdrGetProcedureAddress; LdrGetDllHandle; LdrGetProcedureAddress; LdrGetProcedureAddress; LdrGetProcedureAddress; LdrGetProcedureAddress; LdrGetProcedureAddress; LdrGetProcedureAddress; LdrGetProcedureAddress; LdrGetProcedureAddress; NtProtectVirtualMemory; NtProtectVirtualMemory; NtProtectVirtualMemory; NtProtectVirtualMemory; NtFreeVirtualMemory; GetSystemTimeAsFileTime; NtAllocateVirtualMemory; NtFreeVirtualMemory; NtAllocateVirtualMemory; LdrGetDllHandle; LdrGetProcedureAddress; LdrGetProcedureAddress; LdrGetProcedureAddress; LdrGetProcedureAddress; LdrGetDllHandle; NtAllocateVirtualMemory; NtAllocateVirtualMemory; NtAllocateVirtualMemory; SetUnhandledExceptionFilter; LdrLoadDll; LdrGetProcedureAddress; LdrUnloadDll; NtAllocateVirtualMemory; NtFreeVirtualMemory; NtAllocateVirtualMemory; LdrGetDllHandle; LdrGetProcedureAddress; NtProtectVirtualMemory; NtProtectVirtualMemory; NtAllocateVirtualMemory; NtFreeVirtualMemory; NtAllocateVirtualMemory; NtProtectVirtualMemory; NtProtectVirtualMemory; CoInitializeEx; SetErrorMode; LdrLoadDll; LdrGetProcedureAddress; LdrUnloadDll; NtAllocateVirtualMemory; NtAllocateVirtualMemory; NtAllocateVirtualMemory; ReadProcessMemory; ReadProcessMemory; ReadProcessMemory; ReadProcessMemory; ReadProcessMemory; GetTempPathW; NtOpenFile; NtCreateFile; SetFilePointer; SetFilePointer; NtClose; LdrLoadDll; LdrGetProcedureAddress; LdrGetProcedureAddress; LdrGetProcedureAddress; LdrGetProcedureAddress; LdrGetProcedureAddress; LdrGetProcedureAddress; LdrGetProcedureAddress; LdrLoadDll; LdrGetProcedureAddress; LdrGetProcedureAddress; LdrLoadDll; LdrGetProcedureAddress; LdrGetProcedureAddress; NtAllocateVirtualMemory; NtAllocateVirtualMemory; NtAllocateVirtualMemory; NtAllocateVirtualMemory; NtAllocateVirtualMemory; NtAllocateVirtualMemory; NtAllocateVirtualMemory; NtAllocateVirtualMemory; NtAllocateVirtualMemory; NtAllocateVirtualMemory; NtAllocateVirtualMemory; NtAllocateVirtualMemory; NtAllocateVirtualMemory; NtAllocateVirtualMemory; NtAllocateVirtualMemory; NtAllocateVirtualMemory; NtAllocateVirtualMemory; NtAllocateVirtualMemory; NtAllocateVirtualMemory; NtAllocateVirtualMemory; NtAllocateVirtualMemory; NtAllocateVirtualMemory; NtAllocateVirtualMemory; NtAllocateVirtualMemory; NtAllocateVirtualMemory; NtAllocateVirtualMemory; NtAllocateVirtualMemory; NtAllocateVirtualMemory; NtAllocateVirtualMemory; NtAllocateVirtualMemory; NtAllocateVirtualMemory; NtAllocateVirtualMemory; NtAllocateVirtualMemory; NtAllocateVirtualMemory; NtAllocateVirtualMemory; NtAllocateVirtualMemory; NtAllocateVirtualMemory; NtAllocateVirtualMemory; NtAllocateVirtualMemory; NtAllocateVirtualMemory; NtAllocateVirtualMemory; NtAllocateVirtualMemory; NtAllocateVirtualMemory; NtAllocateVirtualMemory; NtAllocateVirtualMemory; NtAllocateVirtualMemory; NtAllocateVirtualMemory; NtAllocateVirtualMemory; __exception__; __exception__; __exception__; CreateThread; NtResumeThread; NtAllocateVirtualMemory; NtAllocateVirtualMemory; NtAllocateVirtualMemory; NtClose; NtOpenKey; CreateToolhelp32Snapshot; Process32FirstW; NtOpenProcess; Process32NextW; NtOpenProcess; NtQueryValueKey; NtClose; Process32NextW; NtOpenProcess; Process32NextW; NtOpenProcess; NtOpenKey; Process32NextW; NtOpenProcess; Process32NextW; NtOpenProcess; NtQueryValueKey; NtClose; Process32NextW; LdrLoadDll; NtOpenProcess; LdrGetProcedureAddress; Process32NextW; NtOpenProcess; LdrGetProcedureAddress; Process32NextW; NtOpenProcess; GetSystemWindowsDirectoryW; Process32NextW; NtOpenProcess; Process32NextW; NtOpenProcess; Process32NextW; NtOpenProcess; Process32NextW; NtCreateFile; NtOpenProcess; NtCreateSection; NtMapViewOfSection; Process32NextW; NtOpenProcess; NtClose; NtClose; Process32NextW; NtOpenProcess; CreateThread; Process32NextW; NtOpenProcess; NtResumeThread; GetForegroundWindow; Process32NextW; NtOpenProcess; Process32NextW; NtOpenProcess; Process32NextW; NtOpenProcess; Process32NextW; NtOpenProcess; Process32NextW; NtOpenProcess; Process32NextW; NtOpenProcess; NtClose; Process32NextW; NtOpenProcess; NtClose; Process32NextW; NtOpenProcess; NtClose; SHGetFolderPathW; Process32NextW; NtOpenProcess; FindFirstFileExW; Process32NextW; NtOpenProcess; NtClose; Process32NextW; NtOpenProcess; NtQueryDirectoryFile; Process32NextW; GetComputerNameA; NtOpenProcess; Process32NextW; NtOpenProcess; NtClose; Process32NextW; NtOpenProcess; NtClose; Process32NextW; NtOpenProcess; NtClose; GetUserNameA; GetSystemInfo; Process32NextW; NtOpenProcess; NtClose; Process32NextW; NtOpenProcess; FindFirstFileExW; Process32NextW; NtOpenProcess; Process32NextW; NtOpenProcess; GetComputerNameA; GetUserNameA; GetSystemInfo; Process32NextW; NtOpenProcess; Process32NextW; NtOpenProcess; Process32NextW; NtOpenProcess; Process32NextW; GetComputerNameA; NtOpenProcess; GetUserNameA; GetSystemInfo; Process32NextW; GetForegroundWindow; NtOpenProcess; Process32NextW; NtOpenProcess; SHGetFolderPathW; NtClose; Process32NextW; NtOpenProcess; NtClose; Process32NextW; NtOpenProcess; Process32NextW; NtOpenProcess; NtCreateFile; Process32NextW; NtOpenProcess; NtClose; Process32NextW; NtOpenProcess; NtClose; Process32NextW; NtClose; NtDuplicateObject; NtCreateThreadEx; NtDuplicateObject; NtResumeThread; NtDuplicateObject; GetComputerNameA; GetUserNameA; GetSystemInfo; NtCreateFile; NtWriteFile; NtClose; NtCreateFile; SetFilePointer; SetFilePointer; SetFilePointer; NtReadFile; NtClose; GetComputerNameA; GetUserNameA; GetSystemInfo; GetComputerNameA; GetUserNameA; GetSystemInfo; NtCreateMutant; NtCreateFile; GetFileSize; NtAllocateVirtualMemory; NtReadFile; NtFreeVirtualMemory; NtClose; RegOpenKeyExA; RegSetValueExA; RegCloseKey; NtCreateFile; NtWriteFile; NtClose; InternetOpenA; InternetConnectA; HttpOpenRequestA; LdrLoadDll; LdrUnloadDll; LdrGetProcedureAddress; ReadProcessMemory; ReadProcessMemory; ReadProcessMemory; ReadProcessMemory; ReadProcessMemory; LdrLoadDll; LdrGetProcedureAddress; LdrGetProcedureAddress; LdrGetProcedureAddress; LdrGetProcedureAddress; LdrGetProcedureAddress; LdrGetProcedureAddress; LdrGetProcedureAddress; LdrGetProcedureAddress; LdrGetProcedureAddress; LdrGetProcedureAddress; LdrGetProcedureAddress; LdrGetProcedureAddress; LdrGetProcedureAddress; LdrGetProcedureAddress; LdrGetProcedureAddress; LdrGetProcedureAddress; LdrGetProcedureAddress; LdrGetProcedureAddress; LdrGetProcedureAddress; LdrGetProcedureAddress; LdrGetProcedureAddress; LdrGetProcedureAddress; LdrGetProcedureAddress; LdrGetProcedureAddress; LdrGetProcedureAddress; LdrGetProcedureAddress; LdrGetProcedureAddress; LdrGetProcedureAddress; LdrGetProcedureAddress; LdrGetProcedureAddress; LdrGetProcedureAddress; LdrGetProcedureAddress; LdrGetProcedureAddress; LdrGetProcedureAddress; LdrGetProcedureAddress; LdrGetProcedureAddress; LdrGetProcedureAddress; LdrGetProcedureAddress; LdrGetProcedureAddress; LdrGetProcedureAddress; LdrGetProcedureAddress; LdrGetProcedureAddress; LdrGetProcedureAddress; LdrGetProcedureAddress; LdrGetProcedureAddress; LdrGetProcedureAddress; LdrGetProcedureAddress; LdrGetProcedureAddress; LdrGetProcedureAddress; LdrGetProcedureAddress; NtDuplicateObject; LdrGetProcedureAddress; LdrGetProcedureAddress; LdrGetProcedureAddress; LdrGetProcedureAddress; LdrGetProcedureAddress; LdrGetProcedureAddress; LdrGetProcedureAddress; LdrGetProcedureAddress; LdrGetProcedureAddress; LdrGetProcedureAddress; LdrGetProcedureAddress; LdrGetProcedureAddress; LdrGetProcedureAddress; LdrGetProcedureAddress; LdrGetProcedureAddress; LdrGetProcedureAddress; LdrGetProcedureAddress; LdrGetProcedureAddress; LdrGetProcedureAddress; LdrGetProcedureAddress; LdrGetProcedureAddress; LdrGetProcedureAddress; LdrGetProcedureAddress; LdrGetProcedureAddress; LdrGetProcedureAddress; LdrGetProcedureAddress; LdrGetProcedureAddress; LdrGetProcedureAddress; LdrGetProcedureAddress; LdrGetProcedureAddress; LdrGetProcedureAddress; LdrGetProcedureAddress; LdrGetProcedureAddress; LdrGetProcedureAddress; LdrGetProcedureAddress; LdrGetProcedureAddress; LdrGetProcedureAddress; LdrGetProcedureAddress; LdrGetProcedureAddress; LdrGetProcedureAddress; LdrGetProcedureAddress; LdrGetProcedureAddress; LdrGetProcedureAddress; LdrLoadDll; LdrGetProcedureAddress; LdrGetProcedureAddress; LdrGetProcedureAddress; CoInitializeEx; CoInitializeEx; LdrGetProcedureAddress; LdrGetDllHandle; LdrGetProcedureAddress; LdrGetProcedureAddress; LdrGetProcedureAddress; LdrGetProcedureAddress; NtDuplicateObject; LdrGetProcedureAddress; LdrLoadDll; LdrGetProcedureAddress; LdrGetProcedureAddress; LdrGetProcedureAddress; LdrGetProcedureAddress; LdrLoadDll; LdrGetProcedureAddress; LdrGetProcedureAddress; LdrGetProcedureAddress; LdrGetProcedureAddress; NtDuplicateObject; LdrGetProcedureAddress; LdrGetProcedureAddress; LdrGetProcedureAddress; LdrGetProcedureAddress; LdrGetProcedureAddress; LdrLoadDll; LdrGetProcedureAddress; ReadProcessMemory; LdrGetProcedureAddress; ReadProcessMemory; ReadProcessMemory; ReadProcessMemory; ReadProcessMemory; LdrLoadDll; LdrLoadDll; LdrGetProcedureAddress; LdrGetProcedureAddress; RegOpenKeyExA; RegCreateKeyExA; RegCloseKey; GetSystemInfo; LdrLoadDll; RegCreateKeyExA; LdrGetProcedureAddress; LdrLoadDll; LdrGetProcedureAddress; RegSetValueExA; RegCreateKeyExW; RegOpenKeyExW; RegOpenKeyExW; RegQueryValueExW; RegQueryValueExW; RegCloseKey; RegCloseKey; RegSetValueExA; RegCreateKeyExW; RegOpenKeyExW; RegOpenKeyExW; RegSetValueExA; RegQueryValueExW; RegQueryValueExW; RegCloseKey; RegCloseKey; RegSetValueExA; RegCreateKeyExW; RegOpenKeyExW; RegOpenKeyExW; RegOpenKeyExW; RegSetValueExA; RegQueryValueExW; RegQueryValueExW; RegCloseKey; RegCloseKey; LdrLoadDll; LdrGetProcedureAddress; LdrLoadDll; LdrGetProcedureAddress; LdrGetProcedureAddress; LdrGetProcedureAddress; RegSetValueExA; RegCreateKeyExW; RegOpenKeyExW; RegOpenKeyExW; RegQueryValueExA; RegQueryValueExW; RegQueryValueExA; RegQueryValueExW; RegCloseKey; RegCloseKey; LdrGetProcedureAddress; RegQueryValueExA; RegQueryValueExA; RegQueryValueExA; RegQueryValueExA; RegQueryValueExA; RegQueryValueExA; RegQueryValueExA; RegQueryValueExA; RegQueryValueExA; RegQueryValueExA; getaddrinfo; RegQueryValueExA; LdrGetProcedureAddress; RegQueryValueExA; RegQueryValueExA; RegQueryValueExA; RegQueryValueExA; RegQueryValueExA; LdrGetProcedureAddress; LdrGetDllHandle; CoCreateInstance; CreateThread; LdrLoadDll; LdrGetProcedureAddress; LdrLoadDll; LdrUnloadDll; OpenSCManagerA; LdrGetProcedureAddress; LdrGetProcedureAddress; OpenServiceA; OpenSCManagerA; OpenServiceA; LdrGetProcedureAddress; LdrLoadDll; LdrGetProcedureAddress; LdrGetProcedureAddress; LdrUnloadDll; LdrGetProcedureAddress; UuidCreate; NtOpenThread; LdrUnloadDll; LdrUnloadDll; NtClose; NtOpenThread; LdrUnloadDll; CoCreateInstance; NtOpenKey; NtClose; RegOpenKeyExW; RegCloseKey; RegOpenKeyExW; RegQueryValueExW; RegCloseKey; RegCloseKey; NtOpenKey; NtClose; RegOpenKeyExW; RegCloseKey; RegOpenKeyExW; RegQueryValueExW; RegCloseKey; RegCloseKey; LdrGetProcedureAddress; LdrLoadDll; LdrGetProcedureAddress; LdrGetProcedureAddress; NtOpenKey; NtClose; RegOpenKeyExW; RegCloseKey; RegOpenKeyExW; RegQueryValueExW; RegCloseKey; RegCloseKey; RegOpenKeyExW; RegOpenKeyExW; NtQueryKey; NtQueryKey; RegOpenKeyExW; RegOpenKeyExW; RegOpenKeyExW; RegCloseKey; RegQueryValueExW; RegQueryValueExW; RegOpenKeyExW; RegQueryValueExW; RegQueryValueExW; RegQueryValueExW; RegQueryValueExW; RegCloseKey; RegOpenKeyExW; RegOpenKeyExW; RegCloseKey; NtAllocateVirtualMemory; NtOpenKey; NtClose; RegOpenKeyExW; RegCloseKey; RegOpenKeyExW; RegCloseKey; LdrLoadDll; LdrGetProcedureAddress; LdrGetProcedureAddress; LdrLoadDll; LdrGetProcedureAddress; RegOpenKeyExW; LdrGetProcedureAddress; NtOpenKey; NtClose; RegOpenKeyExW; RegCloseKey; RegOpenKeyExW; RegQueryValueExW; RegCloseKey; RegCloseKey; NtOpenKey; NtClose; RegOpenKeyExW; RegCloseKey; RegOpenKeyExW; RegQueryValueExW; RegCloseKey; RegCloseKey; NtAllocateVirtualMemory; NtDeviceIoControlFile; NtClose; NtAllocateVirtualMemory; NtDeviceIoControlFile; NtClose; NtDeviceIoControlFile; NtClose; NtDeviceIoControlFile; NtClose; NtDeviceIoControlFile; NtClose; NtDeviceIoControlFile; NtClose; NtDeviceIoControlFile; NtClose; NtDeviceIoControlFile; NtClose; NtDeviceIoControlFile; NtClose; LdrGetProcedureAddress; LdrGetProcedureAddress; RegOpenKeyExA; RegOpenKeyExW; RegQueryValueExA; LdrLoadDll; SetErrorMode; LdrLoadDll; LdrGetProcedureAddress; SetErrorMode; SetErrorMode; LdrLoadDll; LdrGetProcedureAddress; SetErrorMode; GetAdaptersAddresses; GetAdaptersAddresses; LdrUnloadDll; LdrUnloadDll; NtDelayExecution; DeleteFileW; NtDuplicateObject; NtAllocateVirtualMemory; NtClose; NtDelayExecution; DeleteFileW; NtClose; NtClose; getaddrinfo; LdrUnloadDll; NtClose; CoCreateInstance; CoCreateInstance; LdrLoadDll; LdrGetProcedureAddress; LdrGetProcedureAddress; RegCreateKeyExW; RegSetValueExA; RegSetValueExA; RegSetValueExA; RegSetValueExW; RegEnumKeyExW; RegCloseKey; LdrGetProcedureAddress; NtCreateMutant; NtClose; RegOpenKeyExW; RegQueryValueExW; RegQueryValueExW; RegCloseKey; NtClose; RegOpenKeyExW; RegQueryValueExW; RegQueryValueExW; RegCloseKey; NtClose; NtClose; NtClose; NtClose; NtClose; NtClose; NtClose; RegOpenKeyExW; RegQueryValueExW; RegQueryValueExW; RegOpenKeyExW; RegQueryValueExW; RegQueryValueExW; RegCloseKey; RegCloseKey; NtClose; NtCreateFile; NtClose; FindFirstFileExW; NtClose; FindFirstFileExW; NtClose; NtCreateFile; GetFileType; NtReadFile; NtClose; FindFirstFileExW; FindFirstFileExW; FindFirstFileExW; RegOpenKeyExW; RegQueryValueExW; RegQueryValueExW; RegOpenKeyExW; RegQueryValueExW; RegQueryValueExW; RegCloseKey; RegCloseKey; NtClose; RegOpenKeyExW; RegQueryValueExW; RegQueryValueExW; RegOpenKeyExW; RegQueryValueExW; RegQueryValueExW; RegCloseKey; RegCloseKey; NtClose; RegOpenKeyExW; RegQueryValueExW; RegQueryValueExW; RegOpenKeyExW; RegQueryValueExW; RegQueryValueExW; RegCloseKey; RegCloseKey; NtClose; FindFirstFileExW; FindFirstFileExW; NtFreeVirtualMemory; NtFreeVirtualMemory; NtOpenSection; InternetQueryOptionA; RegCreateKeyExW; RegOpenKeyExW; RegOpenKeyExW; RegQueryValueExW; RegQueryValueExW; RegCloseKey; RegCloseKey; NtAllocateVirtualMemory; getaddrinfo; RegCreateKeyExA; RegQueryValueExA; RegQueryValueExA; RegCloseKey; HttpSendRequestA; InternetCloseHandle; InternetCloseHandle; InternetCloseHandle; NtDelayExecution; DeleteFileW; NtDelayExecution; CoInitializeEx; CoCreateInstance; NtDuplicateObject; NtOpenKey; NtClose; RegOpenKeyExW; RegCloseKey; RegOpenKeyExW; RegQueryValueExW; RegCloseKey; RegCloseKey; NtOpenKey; NtClose; RegOpenKeyExW; RegCloseKey; RegOpenKeyExW; RegQueryValueExW; RegCloseKey; RegCloseKey; NtClose; GetTimeZoneInformation; NtCreateFile; NtWriteFile; NtClose; NtAllocateVirtualMemory; NtClose; NtClose; NtClose; NtClose; RegOpenKeyExW; GetSystemDirectoryW; LdrLoadDll; LdrGetProcedureAddress; LdrGetProcedureAddress; CoInitializeEx; LdrGetProcedureAddress; LdrGetProcedureAddress; NtClose; NtClose; RegOpenKeyExW; RegQueryValueExW; RegCloseKey; NtClose; NtClose; NtClose; NtClose; NtClose; NtClose; GetSystemMetrics; NtOpenMutant; NtClose; NtOpenMutant; NtClose; NtAllocateVirtualMemory; NtAllocateVirtualMemory; RegOpenKeyExW; RegQueryValueExW; RegCloseKey; RegOpenKeyExW; LdrGetDllHandle; FindResourceExW; FindResourceExW; LdrGetDllHandle; LdrGetProcedureAddress; GetNativeSystemInfo; CreateThread; NtResumeThread; NtAllocateVirtualMemory; NtAllocateVirtualMemory; NtAllocateVirtualMemory; NtAllocateVirtualMemory; NtAllocateVirtualMemory; NtAllocateVirtualMemory; NtAllocateVirtualMemory; NtFreeVirtualMemory; NtFreeVirtualMemory; NtAllocateVirtualMemory; NtAllocateVirtualMemory; NtAllocateVirtualMemory; NtAllocateVirtualMemory; NtAllocateVirtualMemory; NtFreeVirtualMemory; NtAllocateVirtualMemory; NtAllocateVirtualMemory; NtAllocateVirtualMemory; NtOpenKey; NtOpenKey; NtOpenKey; NtQueryValueKey; NtQueryValueKey; NtAllocateVirtualMemory; NtAllocateVirtualMemory; NtOpenFile; NtQueryInformationFile; NtClose; NtAllocateVirtualMemory; GetSystemMetrics; GetSystemMetrics; GetSystemMetrics; NtAllocateVirtualMemory; LdrLoadDll; LdrGetProcedureAddress; GetSystemMetrics; GetSystemMetrics; GetSystemMetrics; GetSystemMetrics; GetSystemMetrics; GetSystemMetrics; NtClose; NtOpenKey; GetSystemMetrics; GetSystemMetrics; GetSystemMetrics; GetSystemMetrics; GetSystemMetrics; GetSystemMetrics; GetSystemMetrics; GetSystemMetrics; GetSystemMetrics; GetSystemMetrics; RegCloseKey; RegOpenKeyExW; RegQueryValueExW; RegCloseKey; RegOpenKeyExW; RegQueryValueExW; RegCloseKey; GetAsyncKeyState; GetAsyncKeyState; GetAsyncKeyState; GetAsyncKeyState; GetAsyncKeyState; RegOpenKeyExW; RegQueryValueExW; RegCloseKey; GetAsyncKeyState; GetAsyncKeyState; GetAsyncKeyState; GetAsyncKeyState; GetAsyncKeyState; CreateActCtxW; LdrLoadDll; NtUnmapViewOfSection; NtClose; LdrGetProcedureAddress; LdrGetProcedureAddress; LdrGetProcedureAddress; LdrGetProcedureAddress; LdrGetProcedureAddress; LdrGetProcedureAddress; LdrGetProcedureAddress; LdrGetProcedureAddress; LdrGetProcedureAddress; LdrGetProcedureAddress; LdrGetProcedureAddress; LdrGetProcedureAddress; LdrGetProcedureAddress; LdrGetProcedureAddress; LdrLoadDll; LdrGetProcedureAddress; GetSystemMetrics; LdrGetProcedureAddress; GetSystemMetrics; RegOpenKeyExW; RegQueryValueExW; RegCloseKey; RegOpenKeyExW; RegQueryValueExW; RegCloseKey; GetAsyncKeyState; GetAsyncKeyState; RegOpenKeyExW; RegQueryValueExW; RegCloseKey; RegOpenKeyExW; RegQueryValueExW; RegCloseKey; GetAsyncKeyState; RegOpenKeyExW; RegQueryValueExW; RegCloseKey; GetAsyncKeyState; GetAsyncKeyState; GetAsyncKeyState; GetAsyncKeyState; GetAsyncKeyState; GetAsyncKeyState; GetAsyncKeyState; LdrGetDllHandle; LdrGetProcedureAddress; GetAsyncKeyState; GetAsyncKeyState; GetAsyncKeyState; GetAsyncKeyState; NtAllocateVirtualMemory; GetAsyncKeyState; GetAsyncKeyState; GetAsyncKeyState; GetAsyncKeyState; GetAsyncKeyState; GetAsyncKeyState; GetAsyncKeyState; GetAsyncKeyState; GetAsyncKeyState; GetAsyncKeyState; GetAsyncKeyState; GetAsyncKeyState; GetAsyncKeyState; GetAsyncKeyState; GetAsyncKeyState; GetAsyncKeyState; GetAsyncKeyState; GetAsyncKeyState; GetAsyncKeyState; NtAllocateVirtualMemory; NtAllocateVirtualMemory; NtAllocateVirtualMemory; NtAllocateVirtualMemory; NtAllocateVirtualMemory; NtAllocateVirtualMemory; NtAllocateVirtualMemory; NtAllocateVirtualMemory; NtAllocateVirtualMemory; NtAllocateVirtualMemory; NtAllocateVirtualMemory; NtAllocateVirtualMemory; NtAllocateVirtualMemory; NtDelayExecution; NtDelayExecution; NtDelayExecution; NtDelayExecution; NtAllocateVirtualMemory; NtAllocateVirtualMemory; NtAllocateVirtualMemory; NtAllocateVirtualMemory; NtAllocateVirtualMemory; NtAllocateVirtualMemory; NtAllocateVirtualMemory; NtAllocateVirtualMemory; NtAllocateVirtualMemory; NtAllocateVirtualMemory; NtAllocateVirtualMemory; NtAllocateVirtualMemory; NtAllocateVirtualMemory; NtAllocateVirtualMemory; NtAllocateVirtualMemory; RegOpenKeyExW; NtAllocateVirtualMemory; RegOpenKeyExW; NtAllocateVirtualMemory; NtAllocateVirtualMemory; NtAllocateVirtualMemory; LdrLoadDll; LdrGetProcedureAddress; LdrUnloadDll; RegOpenKeyExW; NtAllocateVirtualMemory; NtAllocateVirtualMemory; NtAllocateVirtualMemory; LdrLoadDll; LdrGetProcedureAddress; LdrUnloadDll; OleInitialize; CoCreateInstance; NtAllocateVirtualMemory; SetWindowsHookExW; SetWindowsHookExW; NtAllocateVirtualMemory; NtOpenSection; NtMapViewOfSection; RegOpenKeyExW; NtAllocateVirtualMemory; NtAllocateVirtualMemory; NtOpenFile; NtQueryInformationFile; NtClose; RegOpenKeyExW; NtAllocateVirtualMemory; NtAllocateVirtualMemory; NtAllocateVirtualMemory; NtAllocateVirtualMemory; RegOpenKeyExW; NtAllocateVirtualMemory; NtAllocateVirtualMemory; NtAllocateVirtualMemory; NtAllocateVirtualMemory; RegOpenKeyExW; RegQueryValueExW; RegCloseKey; RegOpenKeyExW; RegQueryValueExW; RegCloseKey; GetAsyncKeyState; GetAsyncKeyState; GetAsyncKeyState; GetAsyncKeyState; GetAsyncKeyState; RegOpenKeyExW; RegQueryValueExW; RegCloseKey; GetAsyncKeyState; GetAsyncKeyState; GetAsyncKeyState; GetAsyncKeyState; GetAsyncKeyState; GetSystemMetrics; GetSystemMetrics; RegOpenKeyExW; RegQueryValueExW; RegCloseKey; RegOpenKeyExW; RegQueryValueExW; RegCloseKey; GetAsyncKeyState; GetAsyncKeyState; RegOpenKeyExW; RegQueryValueExW; RegCloseKey; RegOpenKeyExW; RegQueryValueExW; RegCloseKey; GetAsyncKeyState; RegOpenKeyExW; RegQueryValueExW; RegCloseKey; GetAsyncKeyState; GetAsyncKeyState; GetAsyncKeyState; GetAsyncKeyState; GetAsyncKeyState; GetAsyncKeyState; GetAsyncKeyState; GetAsyncKeyState; GetAsyncKeyState; GetAsyncKeyState; GetAsyncKeyState; GetAsyncKeyState; GetAsyncKeyState; GetAsyncKeyState; GetAsyncKeyState; GetAsyncKeyState; GetAsyncKeyState; GetAsyncKeyState; RegOpenKeyExW; NtAllocateVirtualMemory; NtAllocateVirtualMemory; NtAllocateVirtualMemory; NtAllocateVirtualMemory; NtAllocateVirtualMemory; FindWindowW; NtOpenProcess; NtClose; LdrLoadDll; LdrGetProcedureAddress; SetErrorMode; GetFileAttributesW; SetErrorMode; RegOpenKeyExW; RegOpenKeyExW; RegCloseKey; RegQueryValueExW; RegQueryValueExW; RegQueryValueExW; RegQueryValueExW; RegQueryValueExW; RegQueryValueExW; RegQueryValueExW; RegQueryValueExW; RegQueryValueExW; RegQueryValueExW; RegQueryValueExW; RegQueryValueExW; RegQueryValueExW; RegQueryValueExW; RegQueryValueExW; RegQueryValueExW; RegQueryValueExW; RegQueryValueExW; RegQueryValueExW; RegQueryValueExW; RegOpenKeyExW; RegCloseKey; RegOpenKeyExW; RegQueryValueExW; RegCloseKey; LdrGetProcedureAddress; LdrGetProcedureAddress; RegOpenKeyExW; RegOpenKeyExW; RegCloseKey; RegQueryValueExW; RegQueryValueExW; RegQueryValueExW; RegQueryValueExW; RegQueryValueExW; RegQueryValueExW; RegQueryValueExW; RegQueryValueExW; RegQueryValueExW; RegQueryValueExW; RegQueryValueExW; RegQueryValueExW; RegQueryValueExW; RegQueryValueExW; RegQueryValueExW; RegQueryValueExW; RegQueryValueExW; RegQueryValueExW; RegQueryValueExW; RegQueryValueExW; RegOpenKeyExW; RegCloseKey; GetSystemWindowsDirectoryW; RegOpenKeyExW; RegOpenKeyExW; RegCloseKey; RegQueryValueExW; RegQueryValueExW; RegQueryValueExW; RegQueryValueExW; RegQueryValueExW; RegQueryValueExW; RegQueryValueExW; RegQueryValueExW; RegQueryValueExW; RegQueryValueExW; RegQueryValueExW; RegQueryValueExW; RegQueryValueExW; RegQueryValueExW; RegQueryValueExW; RegQueryValueExW; RegQueryValueExW; RegQueryValueExW; RegQueryValueExW; RegQueryValueExW; RegOpenKeyExW; RegCloseKey; GetAsyncKeyState; GetAsyncKeyState; GetAsyncKeyState; GetAsyncKeyState; GetAsyncKeyState; GetAsyncKeyState; FindWindowW; NtCreateFile; NtWriteFile; NtClose; NtAllocateVirtualMemory; FindWindowW; RegOpenKeyExA; RegSetValueExA; RegCloseKey; NtDelayExecution; DeleteFileW; NtDelayExecution; NtDelayExecution\",\n          \"NtAllocateVirtualMemory; NtFreeVirtualMemory; NtAllocateVirtualMemory; NtAllocateVirtualMemory; NtAllocateVirtualMemory; NtAllocateVirtualMemory; GetFileType; GetFileType; GetFileType; FindResourceExW; FindResourceExW; NtAllocateVirtualMemory; LdrGetDllHandle; LdrGetProcedureAddress; LdrGetProcedureAddress; LdrGetProcedureAddress; LdrGetProcedureAddress; LdrLoadDll; LdrGetProcedureAddress; LdrGetProcedureAddress; LdrGetProcedureAddress; NtAllocateVirtualMemory; NtProtectVirtualMemory; NtFreeVirtualMemory; LdrGetDllHandle; LdrGetProcedureAddress; LdrGetProcedureAddress; LdrGetProcedureAddress; LdrGetProcedureAddress; LdrGetDllHandle; LdrGetProcedureAddress; LdrGetDllHandle; LdrGetProcedureAddress; LdrGetDllHandle; LdrGetDllHandle; GetSystemTimeAsFileTime; LdrLoadDll; LdrGetProcedureAddress; LdrGetDllHandle; LdrGetDllHandle; LdrLoadDll; LdrGetProcedureAddress; LdrGetDllHandle; LdrGetDllHandle; GetSystemTimeAsFileTime; LdrLoadDll; LdrGetProcedureAddress; LdrGetDllHandle; LdrGetProcedureAddress; LdrGetDllHandle; LdrGetProcedureAddress; LdrGetDllHandle; LdrGetDllHandle; GetSystemMetrics; GetSystemMetrics; GetSystemMetrics; GetSystemMetrics; GetSystemMetrics; GetSystemMetrics; GetSystemMetrics; LdrLoadDll; LdrGetProcedureAddress; LdrGetDllHandle; LdrGetProcedureAddress; LdrGetDllHandle; LdrGetProcedureAddress; LdrGetDllHandle; LdrGetDllHandle; RegOpenKeyExW; RegQueryValueExW; RegCloseKey; RegOpenKeyExW; RegQueryValueExW; RegCloseKey; GetSystemInfo; LdrGetDllHandle; LdrGetProcedureAddress; RegOpenKeyExW; NtOpenDirectoryObject; LdrLoadDll; LdrGetProcedureAddress; LdrGetDllHandle; LdrGetDllHandle; GetSystemDirectoryW; RegOpenKeyExA; RegOpenKeyExA; LdrLoadDll; LdrGetProcedureAddress; LdrGetDllHandle; LdrGetDllHandle; GetSystemInfo; LdrLoadDll; LdrGetProcedureAddress; LdrGetProcedureAddress; LdrGetDllHandle; LdrGetProcedureAddress; __exception__; NtAllocateVirtualMemory; LdrLoadDll; LdrGetProcedureAddress; LdrGetProcedureAddress; LdrGetProcedureAddress; LdrGetProcedureAddress; LdrGetProcedureAddress; LdrLoadDll; LdrGetProcedureAddress; LdrGetProcedureAddress; NtAllocateVirtualMemory; NtAllocateVirtualMemory; NtFreeVirtualMemory; LdrGetDllHandle; LdrGetProcedureAddress; LdrGetProcedureAddress; LdrGetProcedureAddress; LdrGetProcedureAddress; LdrGetDllHandle; LdrGetProcedureAddress; LdrGetProcedureAddress; LdrGetProcedureAddress; LdrGetProcedureAddress; LdrGetDllHandle; LdrGetProcedureAddress; LdrGetDllHandle; LdrGetProcedureAddress; LdrGetProcedureAddress; LdrGetProcedureAddress; LdrGetDllHandle; LdrGetProcedureAddress; LdrGetDllHandle; LdrGetProcedureAddress; LdrGetProcedureAddress; LdrGetProcedureAddress; LdrGetProcedureAddress; LdrGetProcedureAddress; LdrGetProcedureAddress; LdrGetProcedureAddress; LdrGetProcedureAddress; LdrGetProcedureAddress; LdrGetProcedureAddress; LdrGetProcedureAddress; LdrGetProcedureAddress; LdrGetProcedureAddress; LdrGetProcedureAddress; LdrGetProcedureAddress; LdrGetProcedureAddress; LdrGetProcedureAddress; LdrGetProcedureAddress; LdrGetProcedureAddress; LdrGetProcedureAddress; LdrGetProcedureAddress; LdrGetProcedureAddress; LdrGetProcedureAddress; LdrGetProcedureAddress; LdrGetProcedureAddress; LdrGetProcedureAddress; LdrGetProcedureAddress; LdrGetProcedureAddress; LdrGetProcedureAddress; LdrGetProcedureAddress; LdrGetProcedureAddress; LdrGetProcedureAddress; LdrGetProcedureAddress; LdrGetProcedureAddress; LdrGetProcedureAddress; LdrGetProcedureAddress; LdrGetProcedureAddress; LdrGetProcedureAddress; LdrGetProcedureAddress; LdrGetProcedureAddress; LdrGetProcedureAddress; LdrGetProcedureAddress; LdrGetProcedureAddress; LdrGetProcedureAddress; LdrGetProcedureAddress; LdrGetProcedureAddress; LdrGetProcedureAddress; LdrGetProcedureAddress; LdrGetProcedureAddress; LdrGetProcedureAddress; LdrGetProcedureAddress; LdrGetProcedureAddress; LdrGetProcedureAddress; LdrGetProcedureAddress; LdrGetProcedureAddress; LdrGetProcedureAddress; LdrGetProcedureAddress; LdrGetProcedureAddress; LdrGetProcedureAddress; LdrGetProcedureAddress; LdrGetProcedureAddress; LdrGetProcedureAddress; LdrGetProcedureAddress; LdrGetProcedureAddress; LdrGetProcedureAddress; LdrGetProcedureAddress; LdrGetProcedureAddress; LdrGetProcedureAddress; LdrGetProcedureAddress; LdrGetProcedureAddress; LdrGetProcedureAddress; LdrGetProcedureAddress; LdrGetProcedureAddress; LdrGetProcedureAddress; LdrGetProcedureAddress; LdrGetProcedureAddress; LdrGetProcedureAddress; LdrGetProcedureAddress; LdrGetProcedureAddress; LdrGetProcedureAddress; LdrGetProcedureAddress; LdrGetProcedureAddress; LdrGetProcedureAddress; LdrGetProcedureAddress; LdrGetProcedureAddress; LdrGetProcedureAddress; LdrGetProcedureAddress; LdrGetProcedureAddress; LdrGetProcedureAddress; LdrGetProcedureAddress; LdrGetProcedureAddress; LdrGetProcedureAddress; LdrGetProcedureAddress; LdrGetProcedureAddress; LdrGetProcedureAddress; LdrGetProcedureAddress; LdrGetProcedureAddress; LdrGetProcedureAddress; LdrGetProcedureAddress; LdrGetProcedureAddress; LdrGetProcedureAddress; LdrGetProcedureAddress; LdrGetProcedureAddress; LdrGetProcedureAddress; LdrGetProcedureAddress; LdrGetProcedureAddress; LdrGetProcedureAddress; LdrGetProcedureAddress; LdrGetProcedureAddress; LdrGetProcedureAddress; LdrGetProcedureAddress; LdrGetProcedureAddress; LdrGetProcedureAddress; LdrGetProcedureAddress; LdrGetProcedureAddress; LdrGetProcedureAddress; LdrGetProcedureAddress; LdrGetProcedureAddress; LdrGetProcedureAddress; LdrGetProcedureAddress; LdrGetProcedureAddress; LdrGetProcedureAddress; LdrGetProcedureAddress; LdrGetProcedureAddress; LdrGetProcedureAddress; LdrGetDllHandle; LdrGetProcedureAddress; LdrGetProcedureAddress; LdrGetProcedureAddress; LdrGetProcedureAddress; LdrGetProcedureAddress; LdrGetProcedureAddress; LdrGetProcedureAddress; LdrGetProcedureAddress; LdrGetProcedureAddress; LdrGetProcedureAddress; LdrGetProcedureAddress; LdrGetProcedureAddress; LdrGetProcedureAddress; LdrGetProcedureAddress; LdrGetProcedureAddress; LdrGetProcedureAddress; LdrGetProcedureAddress; LdrGetProcedureAddress; LdrGetProcedureAddress; LdrGetProcedureAddress; LdrGetProcedureAddress; LdrGetProcedureAddress; LdrGetProcedureAddress; LdrGetProcedureAddress; LdrGetProcedureAddress; LdrGetProcedureAddress; LdrGetProcedureAddress; LdrGetProcedureAddress; LdrGetProcedureAddress; LdrGetProcedureAddress; LdrGetProcedureAddress; LdrGetProcedureAddress; LdrGetProcedureAddress; LdrGetProcedureAddress; LdrGetProcedureAddress; LdrGetProcedureAddress; LdrGetProcedureAddress; LdrGetProcedureAddress; LdrGetProcedureAddress; LdrGetProcedureAddress; LdrGetProcedureAddress; LdrGetProcedureAddress; LdrGetProcedureAddress; LdrGetProcedureAddress; LdrGetProcedureAddress; LdrGetProcedureAddress; LdrGetProcedureAddress; LdrGetProcedureAddress; LdrGetProcedureAddress; LdrGetProcedureAddress; LdrGetProcedureAddress; LdrGetProcedureAddress; LdrGetProcedureAddress; LdrGetProcedureAddress; LdrGetProcedureAddress; LdrGetProcedureAddress; LdrGetProcedureAddress; LdrGetProcedureAddress; LdrGetProcedureAddress; LdrGetProcedureAddress; LdrGetProcedureAddress; LdrGetProcedureAddress; LdrGetProcedureAddress; LdrGetProcedureAddress; LdrGetProcedureAddress; LdrGetProcedureAddress; LdrGetProcedureAddress; LdrGetProcedureAddress; LdrGetProcedureAddress; LdrGetProcedureAddress; LdrGetDllHandle; LdrGetProcedureAddress; LdrGetProcedureAddress; LdrGetProcedureAddress; LdrGetProcedureAddress; LdrGetProcedureAddress; LdrGetProcedureAddress; LdrGetProcedureAddress; LdrGetProcedureAddress; LdrGetProcedureAddress; LdrGetProcedureAddress; LdrGetProcedureAddress; LdrGetProcedureAddress; LdrGetProcedureAddress; LdrGetProcedureAddress; LdrGetProcedureAddress; LdrGetProcedureAddress; LdrGetProcedureAddress; LdrGetProcedureAddress; LdrGetProcedureAddress; LdrGetProcedureAddress; LdrGetProcedureAddress; LdrGetProcedureAddress; LdrGetProcedureAddress; LdrGetProcedureAddress; LdrGetProcedureAddress; LdrGetProcedureAddress; LdrGetProcedureAddress; LdrGetProcedureAddress; LdrGetProcedureAddress; LdrGetProcedureAddress; LdrGetProcedureAddress; LdrGetProcedureAddress; LdrGetProcedureAddress; LdrGetProcedureAddress; LdrGetDllHandle; LdrGetProcedureAddress; LdrGetDllHandle; LdrGetProcedureAddress; LdrGetProcedureAddress; LdrGetProcedureAddress; LdrGetProcedureAddress; LdrGetProcedureAddress; LdrGetProcedureAddress; LdrGetProcedureAddress; LdrGetProcedureAddress; LdrGetProcedureAddress; LdrGetProcedureAddress; LdrGetProcedureAddress; LdrGetProcedureAddress; LdrGetProcedureAddress; LdrGetProcedureAddress; LdrGetProcedureAddress; LdrGetProcedureAddress; LdrGetDllHandle; LdrGetProcedureAddress; LdrGetProcedureAddress; LdrGetProcedureAddress; LdrGetProcedureAddress; LdrGetProcedureAddress; LdrGetProcedureAddress; LdrGetProcedureAddress; LdrGetProcedureAddress; LdrGetProcedureAddress; LdrGetDllHandle; LdrGetProcedureAddress; LdrGetProcedureAddress; LdrGetProcedureAddress; LdrGetProcedureAddress; LdrGetProcedureAddress; LdrGetDllHandle; LdrGetProcedureAddress; LdrGetProcedureAddress; LdrGetProcedureAddress; LdrGetProcedureAddress; LdrGetProcedureAddress; LdrGetProcedureAddress; LdrGetProcedureAddress; LdrGetProcedureAddress; LdrGetDllHandle; LdrGetProcedureAddress; LdrGetProcedureAddress; LdrGetProcedureAddress; LdrGetProcedureAddress; LdrGetProcedureAddress; LdrGetProcedureAddress; LdrGetProcedureAddress; LdrGetProcedureAddress; NtProtectVirtualMemory; NtProtectVirtualMemory; NtProtectVirtualMemory; NtProtectVirtualMemory; NtFreeVirtualMemory; NtAllocateVirtualMemory; NtFreeVirtualMemory; NtAllocateVirtualMemory; LdrGetDllHandle; LdrGetProcedureAddress; LdrGetProcedureAddress; LdrGetProcedureAddress; LdrGetProcedureAddress; LdrGetDllHandle; NtAllocateVirtualMemory; NtAllocateVirtualMemory; SetUnhandledExceptionFilter; LdrLoadDll; LdrGetProcedureAddress; NtProtectVirtualMemory; NtProtectVirtualMemory; NtProtectVirtualMemory; NtProtectVirtualMemory; LdrLoadDll; LdrGetProcedureAddress; LdrLoadDll; LdrGetProcedureAddress; LdrLoadDll; LdrGetProcedureAddress; LdrLoadDll; LdrGetProcedureAddress; LdrLoadDll; LdrGetProcedureAddress; LdrLoadDll; LdrGetProcedureAddress; LdrLoadDll; LdrGetProcedureAddress; LdrLoadDll; LdrGetProcedureAddress; LdrLoadDll; LdrGetProcedureAddress; LdrLoadDll; LdrGetProcedureAddress; LdrLoadDll; LdrGetProcedureAddress; LdrLoadDll; LdrGetProcedureAddress; LdrLoadDll; LdrGetProcedureAddress; CoInitializeEx; LdrLoadDll; LdrGetProcedureAddress; LdrLoadDll; LdrGetProcedureAddress; LdrLoadDll; LdrGetProcedureAddress; LdrLoadDll; LdrGetProcedureAddress; NtAllocateVirtualMemory; NtAllocateVirtualMemory; NtAllocateVirtualMemory; NtAllocateVirtualMemory; NtAllocateVirtualMemory; NtAllocateVirtualMemory; NtAllocateVirtualMemory; NtAllocateVirtualMemory; NtAllocateVirtualMemory; NtAllocateVirtualMemory; NtAllocateVirtualMemory; NtAllocateVirtualMemory; NtAllocateVirtualMemory; NtAllocateVirtualMemory; NtAllocateVirtualMemory; NtAllocateVirtualMemory; NtAllocateVirtualMemory; NtAllocateVirtualMemory; NtAllocateVirtualMemory; NtAllocateVirtualMemory; NtAllocateVirtualMemory; NtAllocateVirtualMemory; NtAllocateVirtualMemory; NtAllocateVirtualMemory; NtAllocateVirtualMemory; NtAllocateVirtualMemory; NtAllocateVirtualMemory; NtAllocateVirtualMemory; NtAllocateVirtualMemory; NtAllocateVirtualMemory; NtAllocateVirtualMemory; NtAllocateVirtualMemory; NtAllocateVirtualMemory; NtAllocateVirtualMemory; NtAllocateVirtualMemory; NtAllocateVirtualMemory; NtAllocateVirtualMemory; NtAllocateVirtualMemory; NtAllocateVirtualMemory; NtAllocateVirtualMemory; NtAllocateVirtualMemory; NtAllocateVirtualMemory; NtAllocateVirtualMemory; NtAllocateVirtualMemory; NtAllocateVirtualMemory; NtAllocateVirtualMemory; NtAllocateVirtualMemory; NtAllocateVirtualMemory; NtAllocateVirtualMemory; NtAllocateVirtualMemory; NtAllocateVirtualMemory; NtAllocateVirtualMemory; NtAllocateVirtualMemory; CreateThread; NtClose; GetComputerNameA; CreateThread; NtClose; CreateThread; NtClose; NtAllocateVirtualMemory; NtAllocateVirtualMemory; ReadProcessMemory; ReadProcessMemory; ReadProcessMemory; ReadProcessMemory; ReadProcessMemory; GetComputerNameA; GetUserNameA; GetUserNameA; GetNativeSystemInfo; GetNativeSystemInfo; LdrGetDllHandle; NtAllocateVirtualMemory; GetForegroundWindow; LookupPrivilegeValueW; NtClose; SHGetFolderPathW; CreateToolhelp32Snapshot; Process32FirstW; Process32NextW; Process32NextW; Process32NextW; Process32NextW; Process32NextW; Process32NextW; Process32NextW; Process32NextW; Process32NextW; Process32NextW; Process32NextW; Process32NextW; Process32NextW; Process32NextW; Process32NextW; Process32NextW; Process32NextW; Process32NextW; NtCreateFile; Process32NextW; GetComputerNameA; Process32NextW; GetUserNameA; GetNativeSystemInfo; Process32NextW; NtAllocateVirtualMemory; Process32NextW; Process32NextW; Process32NextW; Process32NextW; NtCreateFile; Process32NextW; Process32NextW; Process32NextW; Process32NextW; NtCreateFile; GetForegroundWindow; Process32NextW; Process32NextW; SHGetFolderPathW; FindFirstFileExW; Process32NextW; Process32NextW; Process32NextW; Process32NextW; Process32NextW; Process32NextW; NtQueryDirectoryFile; Process32NextW; Process32NextW; Process32NextW; Process32NextW; NtQueryDirectoryFile; Process32NextW; NtClose; Process32NextW; Process32NextW; Process32NextW; NtClose; NtCreateFile; GetFileSize; NtAllocateVirtualMemory; NtAllocateVirtualMemory; CreateToolhelp32Snapshot; Process32FirstW; Process32NextW; Process32NextW; Process32NextW; Process32NextW; Process32NextW; Process32NextW; Process32NextW; Process32NextW; Process32NextW; Process32NextW; Process32NextW; Process32NextW; Process32NextW; Process32NextW; Process32NextW; NtReadFile; NtClose; Process32NextW; Process32NextW; Process32NextW; Process32NextW; Process32NextW; Process32NextW; NtCreateFile; Process32NextW; GetComputerNameA; Process32NextW; Process32NextW; GetUserNameA; Process32NextW; Process32NextW; GetNativeSystemInfo; Process32NextW; NtCreateMutant; Process32NextW; Process32NextW; Process32NextW; NtAllocateVirtualMemory; Process32NextW; Process32NextW; Process32NextW; Process32NextW; Process32NextW; CreateThread; NtClose; Process32NextW; CreateThread; Process32NextW; NtClose; Process32NextW; CreateThread; Process32NextW; NtClose; LdrGetDllHandle; Process32NextW; CreateThread; Process32NextW; NtClose; Process32NextW; Process32NextW; CoInitializeEx; Process32NextW; Process32NextW; RegOpenKeyExA; NtClose; NtClose; NtClose; RegQueryValueExA; RegCloseKey; RegOpenKeyExA; RegQueryValueExA; RegCloseKey; LdrLoadDll; LdrGetProcedureAddress; LdrLoadDll; LdrGetProcedureAddress; LdrGetProcedureAddress; GetSystemWindowsDirectoryW; NtCreateFile; NtCreateSection; NtMapViewOfSection; NtClose; NtClose; RegOpenKeyExA; RegQueryValueExA; RegCloseKey; NtAllocateVirtualMemory; NtAllocateVirtualMemory; NtAllocateVirtualMemory; LdrLoadDll; LdrGetProcedureAddress; LdrLoadDll; GetSystemInfo; NtAllocateVirtualMemory; NtFreeVirtualMemory; NtAllocateVirtualMemory; LdrLoadDll; LdrGetProcedureAddress; WSAStartup; LdrGetDllHandle; LdrGetDllHandle; LdrGetProcedureAddress; LdrGetProcedureAddress; NtDuplicateObject; LdrGetProcedureAddress; LdrLoadDll; LdrGetProcedureAddress; WSAStartup; LdrGetDllHandle; LdrGetDllHandle; FindResourceExW; NtDuplicateObject; LoadResource; LdrLoadDll; LdrGetProcedureAddress; LdrUnloadDll; LdrLoadDll; LdrGetProcedureAddress; LdrGetProcedureAddress; WSAStartup; LdrGetProcedureAddress; RegOpenKeyExA; RegQueryValueExA; RegQueryValueExA; RegQueryValueExA; RegQueryValueExA; LdrLoadDll; LdrGetProcedureAddress; RegCloseKey; NtDuplicateObject; NtFreeVirtualMemory; NtFreeVirtualMemory; NtFreeVirtualMemory; NtFreeVirtualMemory; NtFreeVirtualMemory; NtFreeVirtualMemory; NtFreeVirtualMemory; NtFreeVirtualMemory; NtFreeVirtualMemory; RegOpenKeyExW; RegQueryValueExW; RegQueryValueExW; RegCloseKey; LdrLoadDll; RegOpenKeyExW; RegOpenKeyExW; RegQueryValueExW; RegQueryValueExW; RegQueryValueExW; RegQueryValueExW; RegQueryValueExW; CoCreateInstance; RegQueryValueExW; RegQueryValueExW; RegQueryValueExW; NtOpenKey; NtClose; RegQueryValueExW; RegCloseKey; RegCloseKey; RegOpenKeyExW; RegOpenKeyExW; RegCloseKey; RegEnumValueW; RegOpenKeyExW; RegEnumValueW; RegCloseKey; LdrUnloadDll; RegQueryValueExW; LdrLoadDll; RegCloseKey; LdrGetProcedureAddress; LdrGetProcedureAddress; RegCloseKey; LdrGetProcedureAddress; LdrGetProcedureAddress; LdrGetProcedureAddress; NtOpenKey; NtClose; LdrLoadDll; LdrGetProcedureAddress; RegOpenKeyExA; RegOpenKeyExW; RegCloseKey; RegQueryValueExA; RegQueryValueExA; RegCloseKey; RegOpenKeyExW; LdrGetProcedureAddress; GetSystemInfo; RegQueryValueExW; RegCloseKey; RegCloseKey; LdrLoadDll; LdrGetProcedureAddress; NtOpenKey; NtClose; NtOpenKey; NtQueryValueKey; NtClose; RegOpenKeyExW; GetTimeZoneInformation; RegQueryValueExW; NtAllocateVirtualMemory; NtFreeVirtualMemory; NtAllocateVirtualMemory; NtCreateFile; RegQueryValueExW; RegCloseKey; RegOpenKeyExW; RegQueryValueExW; RegQueryValueExW; RegCloseKey; RegOpenKeyExW; RegQueryValueExW; NtClose; NtClose; RegQueryValueExW; RegCloseKey; RegOpenKeyExW; RegOpenKeyExW; RegQueryValueExW; RegCloseKey; RegCloseKey; RegOpenKeyExW; RegQueryValueExW; RegQueryValueExW; RegQueryValueExW; RegQueryValueExW; LdrLoadDll; RegCloseKey; LdrGetProcedureAddress; LdrGetProcedureAddress; LdrGetProcedureAddress; LdrGetProcedureAddress; LdrGetProcedureAddress; LdrGetProcedureAddress; LdrGetProcedureAddress; LdrGetProcedureAddress; LdrGetProcedureAddress; LdrGetProcedureAddress; LdrGetProcedureAddress; LdrGetProcedureAddress; LdrGetProcedureAddress; NtClose; NtClose; RegOpenKeyExW; GetSystemDirectoryW; LdrLoadDll; LdrGetProcedureAddress; LdrGetProcedureAddress; NtAllocateVirtualMemory; NtFreeVirtualMemory; NtAllocateVirtualMemory; LdrLoadDll; LdrGetProcedureAddress; LdrGetProcedureAddress; CoInitializeEx; LdrLoadDll; LdrGetProcedureAddress; LdrGetProcedureAddress; LdrGetProcedureAddress; LdrGetProcedureAddress; NtClose; NtClose; LdrGetProcedureAddress; LdrGetProcedureAddress; LdrGetProcedureAddress; RegOpenKeyExW; LdrGetProcedureAddress; LdrGetProcedureAddress; LdrGetProcedureAddress; WSASocketW; LdrGetProcedureAddress; RegQueryValueExW; RegCloseKey; bind; LdrGetProcedureAddress; NtClose; setsockopt; NtClose; NtClose; NtSetInformationFile; NtClose; LdrGetProcedureAddress; NtClose; NtDeviceIoControlFile; LdrGetProcedureAddress; NtDuplicateObject; NtClose; GetSystemMetrics; NtOpenMutant; NtClose; LdrGetProcedureAddress; closesocket; NtClose; NtClose; LdrGetProcedureAddress; NtOpenMutant; LdrGetProcedureAddress; NtClose; NtClose; NtClose; RegOpenKeyExW; NtClose; NtClose; NtClose; RegQueryValueExW; RegCloseKey; RegOpenKeyExW; LdrGetDllHandle; FindResourceExW; FindResourceExW; NtAllocateVirtualMemory; NtAllocateVirtualMemory; NtAllocateVirtualMemory; NtAllocateVirtualMemory; NtFreeVirtualMemory; NtAllocateVirtualMemory; NtAllocateVirtualMemory; NtAllocateVirtualMemory; NtOpenKey; NtOpenKey; NtOpenKey; NtQueryValueKey; NtQueryValueKey; NtOpenFile; NtQueryInformationFile; NtClose; NtAllocateVirtualMemory; GetSystemMetrics; GetSystemMetrics; GetSystemMetrics; NtAllocateVirtualMemory; LdrLoadDll; LdrGetProcedureAddress; GetSystemMetrics; GetSystemMetrics; GetSystemMetrics; GetSystemMetrics; GetSystemMetrics; GetSystemMetrics; NtClose; NtOpenKey; GetSystemMetrics; GetSystemMetrics; GetSystemMetrics; GetSystemMetrics; GetSystemMetrics; GetSystemMetrics; GetSystemMetrics; GetSystemMetrics; GetSystemMetrics; GetSystemMetrics; RegCloseKey; RegOpenKeyExW; RegQueryValueExW; RegCloseKey; RegOpenKeyExW; RegQueryValueExW; RegCloseKey; GetAsyncKeyState; GetAsyncKeyState; GetAsyncKeyState; GetAsyncKeyState; GetAsyncKeyState; RegOpenKeyExW; RegQueryValueExW; RegCloseKey; GetAsyncKeyState; GetAsyncKeyState; GetAsyncKeyState; GetAsyncKeyState; GetAsyncKeyState; CreateActCtxW; GetSystemWindowsDirectoryW; CreateActCtxW; LdrGetDllHandle; LdrGetProcedureAddress; LdrLoadDll; LdrGetProcedureAddress; LdrGetProcedureAddress; LdrGetProcedureAddress; LdrGetProcedureAddress; LdrGetProcedureAddress; LdrGetProcedureAddress; LdrGetProcedureAddress; LdrGetProcedureAddress; LdrGetProcedureAddress; LdrGetProcedureAddress; LdrGetProcedureAddress; LdrGetProcedureAddress; LdrGetProcedureAddress; LdrGetProcedureAddress; LdrLoadDll; LdrGetProcedureAddress; GetSystemMetrics; LdrGetProcedureAddress; GetSystemMetrics; RegOpenKeyExW; RegQueryValueExW; RegCloseKey; RegOpenKeyExW; RegQueryValueExW; RegCloseKey; GetAsyncKeyState; GetAsyncKeyState; RegOpenKeyExW; RegQueryValueExW; RegCloseKey; RegOpenKeyExW; RegQueryValueExW; RegCloseKey; GetAsyncKeyState; RegOpenKeyExW; RegQueryValueExW; RegCloseKey; GetAsyncKeyState; GetAsyncKeyState; GetAsyncKeyState; GetAsyncKeyState; GetAsyncKeyState; GetAsyncKeyState; GetAsyncKeyState; LdrGetDllHandle; LdrGetProcedureAddress; GetAsyncKeyState; GetAsyncKeyState; GetAsyncKeyState; GetAsyncKeyState; GetAsyncKeyState; GetAsyncKeyState; GetAsyncKeyState; GetAsyncKeyState; GetAsyncKeyState; GetAsyncKeyState; GetAsyncKeyState; GetAsyncKeyState; GetAsyncKeyState; GetAsyncKeyState; GetAsyncKeyState; GetAsyncKeyState; GetAsyncKeyState; GetAsyncKeyState; GetAsyncKeyState; GetAsyncKeyState; GetAsyncKeyState; GetAsyncKeyState; GetAsyncKeyState; NtAllocateVirtualMemory; NtAllocateVirtualMemory; NtDelayExecution; NtDelayExecution; NtDelayExecution; NtDelayExecution; NtAllocateVirtualMemory; NtAllocateVirtualMemory; NtAllocateVirtualMemory; NtAllocateVirtualMemory; NtAllocateVirtualMemory; NtAllocateVirtualMemory; NtAllocateVirtualMemory; NtAllocateVirtualMemory; NtAllocateVirtualMemory; NtAllocateVirtualMemory; NtAllocateVirtualMemory; NtAllocateVirtualMemory; NtAllocateVirtualMemory; NtAllocateVirtualMemory; NtAllocateVirtualMemory; RegOpenKeyExW; NtAllocateVirtualMemory; NtAllocateVirtualMemory; NtAllocateVirtualMemory; RegOpenKeyExW; NtAllocateVirtualMemory; NtAllocateVirtualMemory; RegOpenKeyExW; NtAllocateVirtualMemory; NtAllocateVirtualMemory; NtAllocateVirtualMemory; NtAllocateVirtualMemory; OleInitialize; CoCreateInstance; NtAllocateVirtualMemory; SetWindowsHookExW; SetWindowsHookExW; NtAllocateVirtualMemory; NtOpenSection; NtMapViewOfSection; NtAllocateVirtualMemory; NtAllocateVirtualMemory; RegOpenKeyExW; NtAllocateVirtualMemory; NtAllocateVirtualMemory; NtOpenFile; NtQueryInformationFile; NtClose; NtAllocateVirtualMemory; NtAllocateVirtualMemory; RegOpenKeyExW; NtAllocateVirtualMemory; NtAllocateVirtualMemory; RegOpenKeyExW; NtAllocateVirtualMemory; NtAllocateVirtualMemory; NtAllocateVirtualMemory; RegOpenKeyExW; RegQueryValueExW; RegCloseKey; RegOpenKeyExW; RegQueryValueExW; RegCloseKey; GetAsyncKeyState; GetAsyncKeyState; GetAsyncKeyState; GetAsyncKeyState; GetAsyncKeyState; RegOpenKeyExW; RegQueryValueExW; RegCloseKey; GetAsyncKeyState; GetAsyncKeyState; GetAsyncKeyState; GetAsyncKeyState; GetAsyncKeyState; GetSystemMetrics; GetSystemMetrics; RegOpenKeyExW; RegQueryValueExW; RegCloseKey; RegOpenKeyExW; RegQueryValueExW; RegCloseKey; GetAsyncKeyState; GetAsyncKeyState; RegOpenKeyExW; RegQueryValueExW; RegCloseKey; RegOpenKeyExW; RegQueryValueExW; RegCloseKey; GetAsyncKeyState; RegOpenKeyExW; RegQueryValueExW; RegCloseKey; GetAsyncKeyState; GetAsyncKeyState; GetAsyncKeyState; GetAsyncKeyState; GetAsyncKeyState; GetAsyncKeyState; GetAsyncKeyState; GetAsyncKeyState; GetAsyncKeyState; GetAsyncKeyState; GetAsyncKeyState; GetAsyncKeyState; GetAsyncKeyState; GetAsyncKeyState; GetAsyncKeyState; GetAsyncKeyState; GetAsyncKeyState; GetAsyncKeyState; RegOpenKeyExW; NtAllocateVirtualMemory; NtAllocateVirtualMemory; GetAsyncKeyState; GetAsyncKeyState; GetAsyncKeyState; GetAsyncKeyState; GetAsyncKeyState; GetAsyncKeyState; FindWindowW; NtCreateFile; FindWindowW; GetComputerNameA; GetUserNameA; GetNativeSystemInfo; RegCreateKeyExA; RegSetValueExA; RegCloseKey; NtDelayExecution; DeleteFileW; NtDelayExecution; DeleteFileW; NtDelayExecution; DeleteFileW; NtDelayExecution; DeleteFileW; NtDelayExecution; DeleteFileW; NtDelayExecution; NtDelayExecution; DeleteFileW; NtDelayExecution; DeleteFileW; NtDelayExecution; DeleteFileW; NtDelayExecution; DeleteFileW; NtDelayExecution; DeleteFileW; NtDelayExecution; DeleteFileW; NtDelayExecution; NtDelayExecution; DeleteFileW; NtDelayExecution; DeleteFileW; NtDelayExecution; DeleteFileW; NtDelayExecution; DeleteFileW; NtDelayExecution; DeleteFileW; NtDelayExecution; DeleteFileW; NtDelayExecution; NtDelayExecution; DeleteFileW; NtDelayExecution; DeleteFileW; NtDelayExecution; NtDelayExecution; NtDelayExecution; DeleteFileW; NtDelayExecution; DeleteFileW; NtDelayExecution; DeleteFileW; NtDelayExecution; DeleteFileW; NtDelayExecution; NtDelayExecution; DeleteFileW; NtDelayExecution; DeleteFileW; NtDelayExecution; DeleteFileW; NtDelayExecution; DeleteFileW; NtDelayExecution; DeleteFileW; NtDelayExecution; DeleteFileW; NtDelayExecution; NtDelayExecution; DeleteFileW; NtDelayExecution; DeleteFileW; NtDelayExecution; DeleteFileW; NtDelayExecution; DeleteFileW; NtDelayExecution\"\n        ],\n        \"semantic_type\": \"\",\n        \"description\": \"\"\n      }\n    },\n    {\n      \"column\": \"label\",\n      \"properties\": {\n        \"dtype\": \"category\",\n        \"num_unique_values\": 3,\n        \"samples\": [\n          \"malware\",\n          \"ransomware\",\n          \"benign\"\n        ],\n        \"semantic_type\": \"\",\n        \"description\": \"\"\n      }\n    },\n    {\n      \"column\": \"has_dynamic\",\n      \"properties\": {\n        \"dtype\": \"number\",\n        \"std\": 0,\n        \"min\": 0,\n        \"max\": 1,\n        \"num_unique_values\": 2,\n        \"samples\": [\n          0,\n          1\n        ],\n        \"semantic_type\": \"\",\n        \"description\": \"\"\n      }\n    }\n  ]\n}"
            }
          },
          "metadata": {},
          "execution_count": 6
        }
      ]
    },
    {
      "cell_type": "markdown",
      "source": [
        "## **Clean text columns and make the stratified split**"
      ],
      "metadata": {
        "id": "VxQvYOE88UZA"
      }
    },
    {
      "cell_type": "code",
      "source": [
        "from sklearn.model_selection import train_test_split\n",
        "\n",
        "# 1) Clean NaNs → empty strings, ensure string dtype\n",
        "for col in [\"static_seq\", \"dynamic_seq\", \"filename\"]:\n",
        "    full[col] = full[col].fillna(\"\").astype(str)\n",
        "\n",
        "# (re)compute has_dynamic after cleaning\n",
        "full[\"has_dynamic\"] = (full[\"dynamic_seq\"].str.len() > 0).astype(int)\n",
        "\n",
        "# 2) Stratified 70/15/15 split by label\n",
        "train_df, temp_df = train_test_split(\n",
        "    full, test_size=0.30, random_state=1337, stratify=full[\"label\"]\n",
        ")\n",
        "val_df, test_df = train_test_split(\n",
        "    temp_df, test_size=0.50, random_state=1337, stratify=temp_df[\"label\"]\n",
        ")\n",
        "\n",
        "print(\"Train:\", train_df[\"label\"].value_counts().to_dict())\n",
        "print(\"Val  :\", val_df[\"label\"].value_counts().to_dict())\n",
        "print(\"Test :\", test_df[\"label\"].value_counts().to_dict())\n"
      ],
      "metadata": {
        "colab": {
          "base_uri": "https://localhost:8080/"
        },
        "id": "4fw8QG_K8WoQ",
        "outputId": "a801d5a3-f6db-4b03-ff12-7b3c50cfa455"
      },
      "execution_count": null,
      "outputs": [
        {
          "output_type": "stream",
          "name": "stdout",
          "text": [
            "Train: {'malware': 6112, 'ransomware': 3326, 'benign': 1351}\n",
            "Val  : {'malware': 1310, 'ransomware': 713, 'benign': 289}\n",
            "Test : {'malware': 1310, 'ransomware': 713, 'benign': 290}\n"
          ]
        }
      ]
    },
    {
      "cell_type": "markdown",
      "source": [
        "## **turn text → numbers (TF-IDF) for both columns**"
      ],
      "metadata": {
        "id": "qH_B2Oe69Cmf"
      }
    },
    {
      "cell_type": "code",
      "source": [
        "from sklearn.feature_extraction.text import TfidfVectorizer\n",
        "from scipy.sparse import hstack\n",
        "\n",
        "# Treat tokens as comma/space separated; use unigrams + bigrams\n",
        "tfidf_static  = TfidfVectorizer(token_pattern=r\"[^,\\s]+\", ngram_range=(1,2),\n",
        "                                min_df=3, max_features=100_000)\n",
        "tfidf_dynamic = TfidfVectorizer(token_pattern=r\"[^,\\s]+\", ngram_range=(1,2),\n",
        "                                min_df=3, max_features=100_000)\n",
        "\n",
        "# Fit on TRAIN only\n",
        "Xst_tr  = tfidf_static.fit_transform(train_df[\"static_seq\"])\n",
        "Xdy_tr  = tfidf_dynamic.fit_transform(train_df[\"dynamic_seq\"])\n",
        "\n",
        "# Transform VAL/TEST with the same vectorizers\n",
        "Xst_val = tfidf_static.transform(val_df[\"static_seq\"])\n",
        "Xdy_val = tfidf_dynamic.transform(val_df[\"dynamic_seq\"])\n",
        "Xst_te  = tfidf_static.transform(test_df[\"static_seq\"])\n",
        "Xdy_te  = tfidf_dynamic.transform(test_df[\"dynamic_seq\"])\n",
        "\n",
        "# Fuse static + dynamic (rows with empty dynamic just contribute zeros)\n",
        "X_tr  = hstack([Xst_tr,  Xdy_tr],  format=\"csr\")\n",
        "X_val = hstack([Xst_val, Xdy_val], format=\"csr\")\n",
        "X_te  = hstack([Xst_te,  Xdy_te],  format=\"csr\")\n",
        "\n",
        "print(\"Train shape:\", X_tr.shape)\n",
        "print(\"Val   shape:\", X_val.shape)\n",
        "print(\"Test  shape:\", X_te.shape)\n",
        "\n",
        "# Numeric labels for later\n",
        "label_map = {\"benign\":0, \"malware\":1, \"ransomware\":2}\n",
        "y_tr  = train_df[\"label\"].map(label_map).values\n",
        "y_val = val_df[\"label\"].map(label_map).values\n",
        "y_te  = test_df[\"label\"].map(label_map).values\n"
      ],
      "metadata": {
        "colab": {
          "base_uri": "https://localhost:8080/"
        },
        "id": "KWwZ0CbD9FUA",
        "outputId": "51722f3f-27b0-40ef-90cc-560ca123910c"
      },
      "execution_count": null,
      "outputs": [
        {
          "output_type": "stream",
          "name": "stdout",
          "text": [
            "Train shape: (10789, 12357)\n",
            "Val   shape: (2312, 12357)\n",
            "Test  shape: (2313, 12357)\n"
          ]
        }
      ]
    },
    {
      "cell_type": "markdown",
      "source": [
        "## **train a baseline model**"
      ],
      "metadata": {
        "id": "JsEINhuA-Cy1"
      }
    },
    {
      "cell_type": "code",
      "source": [
        "from sklearn.linear_model import LogisticRegression\n",
        "from sklearn.metrics import classification_report\n",
        "\n",
        "# Train Logistic Regression (baseline)\n",
        "clf = LogisticRegression(max_iter=2000, n_jobs=-1)\n",
        "clf.fit(X_tr, y_tr)\n",
        "\n",
        "# Validate\n",
        "val_pred = clf.predict(X_val)\n",
        "print(classification_report(y_val, val_pred, target_names=label_map.keys()))\n"
      ],
      "metadata": {
        "colab": {
          "base_uri": "https://localhost:8080/"
        },
        "id": "TyUKhDbb-FLl",
        "outputId": "00c84080-fd76-4047-d6b3-ca30a068f164"
      },
      "execution_count": null,
      "outputs": [
        {
          "output_type": "stream",
          "name": "stdout",
          "text": [
            "              precision    recall  f1-score   support\n",
            "\n",
            "      benign       0.99      1.00      0.99       289\n",
            "     malware       0.89      1.00      0.94      1310\n",
            "  ransomware       0.99      0.76      0.86       713\n",
            "\n",
            "    accuracy                           0.92      2312\n",
            "   macro avg       0.96      0.92      0.93      2312\n",
            "weighted avg       0.93      0.92      0.92      2312\n",
            "\n"
          ]
        }
      ]
    },
    {
      "cell_type": "code",
      "source": [
        "from sklearn.metrics import confusion_matrix, ConfusionMatrixDisplay\n",
        "import matplotlib.pyplot as plt\n",
        "\n",
        "# Compute confusion matrix\n",
        "cm = confusion_matrix(y_val, val_pred)\n",
        "\n",
        "# Plot confusion matrix\n",
        "disp = ConfusionMatrixDisplay(confusion_matrix=cm, display_labels=label_map.keys())\n",
        "disp.plot(cmap=\"Blues\", xticks_rotation=45)\n",
        "\n",
        "plt.title(\"Confusion Matrix - Logistic Regression Baseline\")\n",
        "plt.show()\n"
      ],
      "metadata": {
        "colab": {
          "base_uri": "https://localhost:8080/",
          "height": 529
        },
        "id": "d9ExAz6S-1WE",
        "outputId": "d19eb7fc-ee06-4907-f9f8-41c9c7037128"
      },
      "execution_count": null,
      "outputs": [
        {
          "output_type": "display_data",
          "data": {
            "text/plain": [
              "<Figure size 640x480 with 2 Axes>"
            ],
            "image/png": "[encoded data removed]"
          },
          "metadata": {}
        }
      ]
    },
    {
      "cell_type": "markdown",
      "source": [
        "## **Deep Learning Models**"
      ],
      "metadata": {
        "id": "a-cF87h3_Dqr"
      }
    },
    {
      "cell_type": "code",
      "source": [
        "import tensorflow as tf\n",
        "from tensorflow.keras import layers, models\n",
        "\n",
        "# Inputs\n",
        "static_in = layers.Input(shape=(2000,), name=\"static_in\")   # static opcode sequence\n",
        "dynamic_in = layers.Input(shape=(800,), name=\"dynamic_in\")  # dynamic API call sequence\n",
        "\n",
        "# Static branch (CNN)\n",
        "emb_static = layers.Embedding(input_dim=10000, output_dim=64, mask_zero=True)(static_in)\n",
        "conv1 = layers.Conv1D(128, kernel_size=5, activation=\"relu\")(emb_static)\n",
        "pool1 = layers.GlobalMaxPooling1D()(conv1)\n",
        "\n",
        "# Dynamic branch (BiLSTM)\n",
        "emb_dynamic = layers.Embedding(input_dim=5000, output_dim=64, mask_zero=True)(dynamic_in)\n",
        "bi_lstm = layers.Bidirectional(layers.LSTM(64, return_sequences=False))(emb_dynamic)\n",
        "\n",
        "# Fusion\n",
        "fused = layers.Concatenate()([pool1, bi_lstm])\n",
        "dense1 = layers.Dense(128, activation=\"relu\")(fused)\n",
        "drop1 = layers.Dropout(0.5)(dense1)\n",
        "\n",
        "# Output (3 classes)\n",
        "out = layers.Dense(3, activation=\"softmax\")(drop1)\n",
        "\n",
        "# Model\n",
        "model = models.Model(inputs=[static_in, dynamic_in], outputs=out)\n",
        "\n",
        "model.compile(optimizer=\"adam\", loss=\"sparse_categorical_crossentropy\", metrics=[\"accuracy\"])\n",
        "model.summary()\n"
      ],
      "metadata": {
        "colab": {
          "base_uri": "https://localhost:8080/",
          "height": 676
        },
        "id": "BM-vkYZ__H4D",
        "outputId": "a91ccc44-2c7b-403a-bbca-10ef0dc6d4fa"
      },
      "execution_count": null,
      "outputs": [
        {
          "output_type": "stream",
          "name": "stderr",
          "text": [
            "/usr/local/lib/python3.12/dist-packages/keras/src/layers/layer.py:965: UserWarning: Layer 'conv1d' (of type Conv1D) was passed an input with a mask attached to it. However, this layer does not support masking and will therefore destroy the mask information. Downstream layers will not see the mask.\n",
            "  warnings.warn(\n"
          ]
        },
        {
          "output_type": "display_data",
          "data": {
            "text/plain": [
              "\u001b[1mModel: \"functional\"\u001b[0m\n"
            ],
            "text/html": [
              "<pre style=\"white-space:pre;overflow-x:auto;line-height:normal;font-family:Menlo,'DejaVu Sans Mono',consolas,'Courier New',monospace\"><span style=\"font-weight: bold\">Model: \"functional\"</span>\n",
              "</pre>\n"
            ]
          },
          "metadata": {}
        },
        {
          "output_type": "display_data",
          "data": {
            "text/plain": [
              "┏━━━━━━━━━━━━━━━━━━━━━┳━━━━━━━━━━━━━━━━━━━┳━━━━━━━━━━━━┳━━━━━━━━━━━━━━━━━━━┓\n",
              "┃\u001b[1m \u001b[0m\u001b[1mLayer (type)       \u001b[0m\u001b[1m \u001b[0m┃\u001b[1m \u001b[0m\u001b[1mOutput Shape     \u001b[0m\u001b[1m \u001b[0m┃\u001b[1m \u001b[0m\u001b[1m   Param #\u001b[0m\u001b[1m \u001b[0m┃\u001b[1m \u001b[0m\u001b[1mConnected to     \u001b[0m\u001b[1m \u001b[0m┃\n",
              "┡━━━━━━━━━━━━━━━━━━━━━╇━━━━━━━━━━━━━━━━━━━╇━━━━━━━━━━━━╇━━━━━━━━━━━━━━━━━━━┩\n",
              "│ static_in           │ (\u001b[38;5;45mNone\u001b[0m, \u001b[38;5;34m2000\u001b[0m)      │          \u001b[38;5;34m0\u001b[0m │ -                 │\n",
              "│ (\u001b[38;5;33mInputLayer\u001b[0m)        │                   │            │                   │\n",
              "├─────────────────────┼───────────────────┼────────────┼───────────────────┤\n",
              "│ embedding           │ (\u001b[38;5;45mNone\u001b[0m, \u001b[38;5;34m2000\u001b[0m, \u001b[38;5;34m64\u001b[0m)  │    \u001b[38;5;34m640,000\u001b[0m │ static_in[\u001b[38;5;34m0\u001b[0m][\u001b[38;5;34m0\u001b[0m]   │\n",
              "│ (\u001b[38;5;33mEmbedding\u001b[0m)         │                   │            │                   │\n",
              "├─────────────────────┼───────────────────┼────────────┼───────────────────┤\n",
              "│ dynamic_in          │ (\u001b[38;5;45mNone\u001b[0m, \u001b[38;5;34m800\u001b[0m)       │          \u001b[38;5;34m0\u001b[0m │ -                 │\n",
              "│ (\u001b[38;5;33mInputLayer\u001b[0m)        │                   │            │                   │\n",
              "├─────────────────────┼───────────────────┼────────────┼───────────────────┤\n",
              "│ conv1d (\u001b[38;5;33mConv1D\u001b[0m)     │ (\u001b[38;5;45mNone\u001b[0m, \u001b[38;5;34m1996\u001b[0m, \u001b[38;5;34m128\u001b[0m) │     \u001b[38;5;34m41,088\u001b[0m │ embedding[\u001b[38;5;34m0\u001b[0m][\u001b[38;5;34m0\u001b[0m]   │\n",
              "├─────────────────────┼───────────────────┼────────────┼───────────────────┤\n",
              "│ embedding_1         │ (\u001b[38;5;45mNone\u001b[0m, \u001b[38;5;34m800\u001b[0m, \u001b[38;5;34m64\u001b[0m)   │    \u001b[38;5;34m320,000\u001b[0m │ dynamic_in[\u001b[38;5;34m0\u001b[0m][\u001b[38;5;34m0\u001b[0m]  │\n",
              "│ (\u001b[38;5;33mEmbedding\u001b[0m)         │                   │            │                   │\n",
              "├─────────────────────┼───────────────────┼────────────┼───────────────────┤\n",
              "│ not_equal_1         │ (\u001b[38;5;45mNone\u001b[0m, \u001b[38;5;34m800\u001b[0m)       │          \u001b[38;5;34m0\u001b[0m │ dynamic_in[\u001b[38;5;34m0\u001b[0m][\u001b[38;5;34m0\u001b[0m]  │\n",
              "│ (\u001b[38;5;33mNotEqual\u001b[0m)          │                   │            │                   │\n",
              "├─────────────────────┼───────────────────┼────────────┼───────────────────┤\n",
              "│ global_max_pooling… │ (\u001b[38;5;45mNone\u001b[0m, \u001b[38;5;34m128\u001b[0m)       │          \u001b[38;5;34m0\u001b[0m │ conv1d[\u001b[38;5;34m0\u001b[0m][\u001b[38;5;34m0\u001b[0m]      │\n",
              "│ (\u001b[38;5;33mGlobalMaxPooling1…\u001b[0m │                   │            │                   │\n",
              "├─────────────────────┼───────────────────┼────────────┼───────────────────┤\n",
              "│ bidirectional       │ (\u001b[38;5;45mNone\u001b[0m, \u001b[38;5;34m128\u001b[0m)       │     \u001b[38;5;34m66,048\u001b[0m │ embedding_1[\u001b[38;5;34m0\u001b[0m][\u001b[38;5;34m0\u001b[0m… │\n",
              "│ (\u001b[38;5;33mBidirectional\u001b[0m)     │                   │            │ not_equal_1[\u001b[38;5;34m0\u001b[0m][\u001b[38;5;34m0\u001b[0m] │\n",
              "├─────────────────────┼───────────────────┼────────────┼───────────────────┤\n",
              "│ concatenate         │ (\u001b[38;5;45mNone\u001b[0m, \u001b[38;5;34m256\u001b[0m)       │          \u001b[38;5;34m0\u001b[0m │ global_max_pooli… │\n",
              "│ (\u001b[38;5;33mConcatenate\u001b[0m)       │                   │            │ bidirectional[\u001b[38;5;34m0\u001b[0m]… │\n",
              "├─────────────────────┼───────────────────┼────────────┼───────────────────┤\n",
              "│ dense (\u001b[38;5;33mDense\u001b[0m)       │ (\u001b[38;5;45mNone\u001b[0m, \u001b[38;5;34m128\u001b[0m)       │     \u001b[38;5;34m32,896\u001b[0m │ concatenate[\u001b[38;5;34m0\u001b[0m][\u001b[38;5;34m0\u001b[0m] │\n",
              "├─────────────────────┼───────────────────┼────────────┼───────────────────┤\n",
              "│ dropout (\u001b[38;5;33mDropout\u001b[0m)   │ (\u001b[38;5;45mNone\u001b[0m, \u001b[38;5;34m128\u001b[0m)       │          \u001b[38;5;34m0\u001b[0m │ dense[\u001b[38;5;34m0\u001b[0m][\u001b[38;5;34m0\u001b[0m]       │\n",
              "├─────────────────────┼───────────────────┼────────────┼───────────────────┤\n",
              "│ dense_1 (\u001b[38;5;33mDense\u001b[0m)     │ (\u001b[38;5;45mNone\u001b[0m, \u001b[38;5;34m3\u001b[0m)         │        \u001b[38;5;34m387\u001b[0m │ dropout[\u001b[38;5;34m0\u001b[0m][\u001b[38;5;34m0\u001b[0m]     │\n",
              "└─────────────────────┴───────────────────┴────────────┴───────────────────┘\n"
            ],
            "text/html": [
              "<pre style=\"white-space:pre;overflow-x:auto;line-height:normal;font-family:Menlo,'DejaVu Sans Mono',consolas,'Courier New',monospace\">┏━━━━━━━━━━━━━━━━━━━━━┳━━━━━━━━━━━━━━━━━━━┳━━━━━━━━━━━━┳━━━━━━━━━━━━━━━━━━━┓\n",
              "┃<span style=\"font-weight: bold\"> Layer (type)        </span>┃<span style=\"font-weight: bold\"> Output Shape      </span>┃<span style=\"font-weight: bold\">    Param # </span>┃<span style=\"font-weight: bold\"> Connected to      </span>┃\n",
              "┡━━━━━━━━━━━━━━━━━━━━━╇━━━━━━━━━━━━━━━━━━━╇━━━━━━━━━━━━╇━━━━━━━━━━━━━━━━━━━┩\n",
              "│ static_in           │ (<span style=\"color: #00d7ff; text-decoration-color: #00d7ff\">None</span>, <span style=\"color: #00af00; text-decoration-color: #00af00\">2000</span>)      │          <span style=\"color: #00af00; text-decoration-color: #00af00\">0</span> │ -                 │\n",
              "│ (<span style=\"color: #0087ff; text-decoration-color: #0087ff\">InputLayer</span>)        │                   │            │                   │\n",
              "├─────────────────────┼───────────────────┼────────────┼───────────────────┤\n",
              "│ embedding           │ (<span style=\"color: #00d7ff; text-decoration-color: #00d7ff\">None</span>, <span style=\"color: #00af00; text-decoration-color: #00af00\">2000</span>, <span style=\"color: #00af00; text-decoration-color: #00af00\">64</span>)  │    <span style=\"color: #00af00; text-decoration-color: #00af00\">640,000</span> │ static_in[<span style=\"color: #00af00; text-decoration-color: #00af00\">0</span>][<span style=\"color: #00af00; text-decoration-color: #00af00\">0</span>]   │\n",
              "│ (<span style=\"color: #0087ff; text-decoration-color: #0087ff\">Embedding</span>)         │                   │            │                   │\n",
              "├─────────────────────┼───────────────────┼────────────┼───────────────────┤\n",
              "│ dynamic_in          │ (<span style=\"color: #00d7ff; text-decoration-color: #00d7ff\">None</span>, <span style=\"color: #00af00; text-decoration-color: #00af00\">800</span>)       │          <span style=\"color: #00af00; text-decoration-color: #00af00\">0</span> │ -                 │\n",
              "│ (<span style=\"color: #0087ff; text-decoration-color: #0087ff\">InputLayer</span>)        │                   │            │                   │\n",
              "├─────────────────────┼───────────────────┼────────────┼───────────────────┤\n",
              "│ conv1d (<span style=\"color: #0087ff; text-decoration-color: #0087ff\">Conv1D</span>)     │ (<span style=\"color: #00d7ff; text-decoration-color: #00d7ff\">None</span>, <span style=\"color: #00af00; text-decoration-color: #00af00\">1996</span>, <span style=\"color: #00af00; text-decoration-color: #00af00\">128</span>) │     <span style=\"color: #00af00; text-decoration-color: #00af00\">41,088</span> │ embedding[<span style=\"color: #00af00; text-decoration-color: #00af00\">0</span>][<span style=\"color: #00af00; text-decoration-color: #00af00\">0</span>]   │\n",
              "├─────────────────────┼───────────────────┼────────────┼───────────────────┤\n",
              "│ embedding_1         │ (<span style=\"color: #00d7ff; text-decoration-color: #00d7ff\">None</span>, <span style=\"color: #00af00; text-decoration-color: #00af00\">800</span>, <span style=\"color: #00af00; text-decoration-color: #00af00\">64</span>)   │    <span style=\"color: #00af00; text-decoration-color: #00af00\">320,000</span> │ dynamic_in[<span style=\"color: #00af00; text-decoration-color: #00af00\">0</span>][<span style=\"color: #00af00; text-decoration-color: #00af00\">0</span>]  │\n",
              "│ (<span style=\"color: #0087ff; text-decoration-color: #0087ff\">Embedding</span>)         │                   │            │                   │\n",
              "├─────────────────────┼───────────────────┼────────────┼───────────────────┤\n",
              "│ not_equal_1         │ (<span style=\"color: #00d7ff; text-decoration-color: #00d7ff\">None</span>, <span style=\"color: #00af00; text-decoration-color: #00af00\">800</span>)       │          <span style=\"color: #00af00; text-decoration-color: #00af00\">0</span> │ dynamic_in[<span style=\"color: #00af00; text-decoration-color: #00af00\">0</span>][<span style=\"color: #00af00; text-decoration-color: #00af00\">0</span>]  │\n",
              "│ (<span style=\"color: #0087ff; text-decoration-color: #0087ff\">NotEqual</span>)          │                   │            │                   │\n",
              "├─────────────────────┼───────────────────┼────────────┼───────────────────┤\n",
              "│ global_max_pooling… │ (<span style=\"color: #00d7ff; text-decoration-color: #00d7ff\">None</span>, <span style=\"color: #00af00; text-decoration-color: #00af00\">128</span>)       │          <span style=\"color: #00af00; text-decoration-color: #00af00\">0</span> │ conv1d[<span style=\"color: #00af00; text-decoration-color: #00af00\">0</span>][<span style=\"color: #00af00; text-decoration-color: #00af00\">0</span>]      │\n",
              "│ (<span style=\"color: #0087ff; text-decoration-color: #0087ff\">GlobalMaxPooling1…</span> │                   │            │                   │\n",
              "├─────────────────────┼───────────────────┼────────────┼───────────────────┤\n",
              "│ bidirectional       │ (<span style=\"color: #00d7ff; text-decoration-color: #00d7ff\">None</span>, <span style=\"color: #00af00; text-decoration-color: #00af00\">128</span>)       │     <span style=\"color: #00af00; text-decoration-color: #00af00\">66,048</span> │ embedding_1[<span style=\"color: #00af00; text-decoration-color: #00af00\">0</span>][<span style=\"color: #00af00; text-decoration-color: #00af00\">0</span>… │\n",
              "│ (<span style=\"color: #0087ff; text-decoration-color: #0087ff\">Bidirectional</span>)     │                   │            │ not_equal_1[<span style=\"color: #00af00; text-decoration-color: #00af00\">0</span>][<span style=\"color: #00af00; text-decoration-color: #00af00\">0</span>] │\n",
              "├─────────────────────┼───────────────────┼────────────┼───────────────────┤\n",
              "│ concatenate         │ (<span style=\"color: #00d7ff; text-decoration-color: #00d7ff\">None</span>, <span style=\"color: #00af00; text-decoration-color: #00af00\">256</span>)       │          <span style=\"color: #00af00; text-decoration-color: #00af00\">0</span> │ global_max_pooli… │\n",
              "│ (<span style=\"color: #0087ff; text-decoration-color: #0087ff\">Concatenate</span>)       │                   │            │ bidirectional[<span style=\"color: #00af00; text-decoration-color: #00af00\">0</span>]… │\n",
              "├─────────────────────┼───────────────────┼────────────┼───────────────────┤\n",
              "│ dense (<span style=\"color: #0087ff; text-decoration-color: #0087ff\">Dense</span>)       │ (<span style=\"color: #00d7ff; text-decoration-color: #00d7ff\">None</span>, <span style=\"color: #00af00; text-decoration-color: #00af00\">128</span>)       │     <span style=\"color: #00af00; text-decoration-color: #00af00\">32,896</span> │ concatenate[<span style=\"color: #00af00; text-decoration-color: #00af00\">0</span>][<span style=\"color: #00af00; text-decoration-color: #00af00\">0</span>] │\n",
              "├─────────────────────┼───────────────────┼────────────┼───────────────────┤\n",
              "│ dropout (<span style=\"color: #0087ff; text-decoration-color: #0087ff\">Dropout</span>)   │ (<span style=\"color: #00d7ff; text-decoration-color: #00d7ff\">None</span>, <span style=\"color: #00af00; text-decoration-color: #00af00\">128</span>)       │          <span style=\"color: #00af00; text-decoration-color: #00af00\">0</span> │ dense[<span style=\"color: #00af00; text-decoration-color: #00af00\">0</span>][<span style=\"color: #00af00; text-decoration-color: #00af00\">0</span>]       │\n",
              "├─────────────────────┼───────────────────┼────────────┼───────────────────┤\n",
              "│ dense_1 (<span style=\"color: #0087ff; text-decoration-color: #0087ff\">Dense</span>)     │ (<span style=\"color: #00d7ff; text-decoration-color: #00d7ff\">None</span>, <span style=\"color: #00af00; text-decoration-color: #00af00\">3</span>)         │        <span style=\"color: #00af00; text-decoration-color: #00af00\">387</span> │ dropout[<span style=\"color: #00af00; text-decoration-color: #00af00\">0</span>][<span style=\"color: #00af00; text-decoration-color: #00af00\">0</span>]     │\n",
              "└─────────────────────┴───────────────────┴────────────┴───────────────────┘\n",
              "</pre>\n"
            ]
          },
          "metadata": {}
        },
        {
          "output_type": "display_data",
          "data": {
            "text/plain": [
              "\u001b[1m Total params: \u001b[0m\u001b[38;5;34m1,100,419\u001b[0m (4.20 MB)\n"
            ],
            "text/html": [
              "<pre style=\"white-space:pre;overflow-x:auto;line-height:normal;font-family:Menlo,'DejaVu Sans Mono',consolas,'Courier New',monospace\"><span style=\"font-weight: bold\"> Total params: </span><span style=\"color: #00af00; text-decoration-color: #00af00\">1,100,419</span> (4.20 MB)\n",
              "</pre>\n"
            ]
          },
          "metadata": {}
        },
        {
          "output_type": "display_data",
          "data": {
            "text/plain": [
              "\u001b[1m Trainable params: \u001b[0m\u001b[38;5;34m1,100,419\u001b[0m (4.20 MB)\n"
            ],
            "text/html": [
              "<pre style=\"white-space:pre;overflow-x:auto;line-height:normal;font-family:Menlo,'DejaVu Sans Mono',consolas,'Courier New',monospace\"><span style=\"font-weight: bold\"> Trainable params: </span><span style=\"color: #00af00; text-decoration-color: #00af00\">1,100,419</span> (4.20 MB)\n",
              "</pre>\n"
            ]
          },
          "metadata": {}
        },
        {
          "output_type": "display_data",
          "data": {
            "text/plain": [
              "\u001b[1m Non-trainable params: \u001b[0m\u001b[38;5;34m0\u001b[0m (0.00 B)\n"
            ],
            "text/html": [
              "<pre style=\"white-space:pre;overflow-x:auto;line-height:normal;font-family:Menlo,'DejaVu Sans Mono',consolas,'Courier New',monospace\"><span style=\"font-weight: bold\"> Non-trainable params: </span><span style=\"color: #00af00; text-decoration-color: #00af00\">0</span> (0.00 B)\n",
              "</pre>\n"
            ]
          },
          "metadata": {}
        }
      ]
    },
    {
      "cell_type": "markdown",
      "source": [
        "## **Rebuild the dynamic branch to avoid cuDNN (mask-safe)**"
      ],
      "metadata": {
        "id": "KytQrRVS_maC"
      }
    },
    {
      "cell_type": "code",
      "source": [
        "import tensorflow as tf\n",
        "from tensorflow.keras import layers\n",
        "\n",
        "tf.keras.backend.clear_session()\n",
        "\n",
        "def build_model(static_vocab, dynamic_vocab, maxlen_static=2000, maxlen_dynamic=800):\n",
        "    static_in  = tf.keras.Input(shape=(maxlen_static,),  name=\"static_in\")\n",
        "    dynamic_in = tf.keras.Input(shape=(maxlen_dynamic,), name=\"dynamic_in\")\n",
        "\n",
        "    # --- static branch ---\n",
        "    emb_static = layers.Embedding(static_vocab, 64, mask_zero=True, name=\"emb_static\")(static_in)\n",
        "    x = layers.Conv1D(128, 5, activation=\"relu\", name=\"conv1\")(emb_static)\n",
        "    x = layers.GlobalMaxPool1D(name=\"gmp1\")(x)\n",
        "\n",
        "    # --- dynamic branch (NON-cuDNN, mask-safe) ---\n",
        "    emb_dynamic = layers.Embedding(dynamic_vocab, 64, mask_zero=True, name=\"emb_dynamic\")(dynamic_in)\n",
        "    bi = layers.Bidirectional(\n",
        "            layers.RNN(layers.LSTMCell(64), return_sequences=False),  # <- NOT LSTM(...)\n",
        "            name=\"bi_dyn\"\n",
        "        )(emb_dynamic)\n",
        "\n",
        "    # --- fuse ---\n",
        "    fused = layers.Concatenate(name=\"fused\")([x, bi])\n",
        "    z = layers.Dense(128, activation=\"relu\", name=\"dense1\")(fused)\n",
        "    z = layers.Dropout(0.5, name=\"drop1\")(z)\n",
        "    out = layers.Dense(3, activation=\"softmax\", name=\"pred\")(z)\n",
        "\n",
        "    model = tf.keras.Model(inputs=[static_in, dynamic_in], outputs=out)\n",
        "    model.compile(optimizer=tf.keras.optimizers.Adam(1e-3),\n",
        "                  loss=\"sparse_categorical_crossentropy\",\n",
        "                  metrics=[\"accuracy\"])\n",
        "    return model\n",
        "\n",
        "model = build_model(static_vocab, dynamic_vocab, Xt_tr.shape[1], Xdy_tr.shape[1])\n",
        "model.summary()  # Make sure you see RNN/LSTMCell in the summary, not LSTM\n"
      ],
      "metadata": {
        "colab": {
          "base_uri": "https://localhost:8080/",
          "height": 676
        },
        "id": "f--jyzLT_ov6",
        "outputId": "2369535a-ffb6-4b28-da08-ceaf5c71acff"
      },
      "execution_count": null,
      "outputs": [
        {
          "output_type": "stream",
          "name": "stderr",
          "text": [
            "/usr/local/lib/python3.12/dist-packages/keras/src/layers/layer.py:965: UserWarning: Layer 'conv1' (of type Conv1D) was passed an input with a mask attached to it. However, this layer does not support masking and will therefore destroy the mask information. Downstream layers will not see the mask.\n",
            "  warnings.warn(\n"
          ]
        },
        {
          "output_type": "display_data",
          "data": {
            "text/plain": [
              "\u001b[1mModel: \"functional\"\u001b[0m\n"
            ],
            "text/html": [
              "<pre style=\"white-space:pre;overflow-x:auto;line-height:normal;font-family:Menlo,'DejaVu Sans Mono',consolas,'Courier New',monospace\"><span style=\"font-weight: bold\">Model: \"functional\"</span>\n",
              "</pre>\n"
            ]
          },
          "metadata": {}
        },
        {
          "output_type": "display_data",
          "data": {
            "text/plain": [
              "┏━━━━━━━━━━━━━━━━━━━━━┳━━━━━━━━━━━━━━━━━━━┳━━━━━━━━━━━━┳━━━━━━━━━━━━━━━━━━━┓\n",
              "┃\u001b[1m \u001b[0m\u001b[1mLayer (type)       \u001b[0m\u001b[1m \u001b[0m┃\u001b[1m \u001b[0m\u001b[1mOutput Shape     \u001b[0m\u001b[1m \u001b[0m┃\u001b[1m \u001b[0m\u001b[1m   Param #\u001b[0m\u001b[1m \u001b[0m┃\u001b[1m \u001b[0m\u001b[1mConnected to     \u001b[0m\u001b[1m \u001b[0m┃\n",
              "┡━━━━━━━━━━━━━━━━━━━━━╇━━━━━━━━━━━━━━━━━━━╇━━━━━━━━━━━━╇━━━━━━━━━━━━━━━━━━━┩\n",
              "│ static_in           │ (\u001b[38;5;45mNone\u001b[0m, \u001b[38;5;34m2000\u001b[0m)      │          \u001b[38;5;34m0\u001b[0m │ -                 │\n",
              "│ (\u001b[38;5;33mInputLayer\u001b[0m)        │                   │            │                   │\n",
              "├─────────────────────┼───────────────────┼────────────┼───────────────────┤\n",
              "│ emb_static          │ (\u001b[38;5;45mNone\u001b[0m, \u001b[38;5;34m2000\u001b[0m, \u001b[38;5;34m64\u001b[0m)  │    \u001b[38;5;34m640,000\u001b[0m │ static_in[\u001b[38;5;34m0\u001b[0m][\u001b[38;5;34m0\u001b[0m]   │\n",
              "│ (\u001b[38;5;33mEmbedding\u001b[0m)         │                   │            │                   │\n",
              "├─────────────────────┼───────────────────┼────────────┼───────────────────┤\n",
              "│ dynamic_in          │ (\u001b[38;5;45mNone\u001b[0m, \u001b[38;5;34m800\u001b[0m)       │          \u001b[38;5;34m0\u001b[0m │ -                 │\n",
              "│ (\u001b[38;5;33mInputLayer\u001b[0m)        │                   │            │                   │\n",
              "├─────────────────────┼───────────────────┼────────────┼───────────────────┤\n",
              "│ conv1 (\u001b[38;5;33mConv1D\u001b[0m)      │ (\u001b[38;5;45mNone\u001b[0m, \u001b[38;5;34m1996\u001b[0m, \u001b[38;5;34m128\u001b[0m) │     \u001b[38;5;34m41,088\u001b[0m │ emb_static[\u001b[38;5;34m0\u001b[0m][\u001b[38;5;34m0\u001b[0m]  │\n",
              "├─────────────────────┼───────────────────┼────────────┼───────────────────┤\n",
              "│ emb_dynamic         │ (\u001b[38;5;45mNone\u001b[0m, \u001b[38;5;34m800\u001b[0m, \u001b[38;5;34m64\u001b[0m)   │     \u001b[38;5;34m19,072\u001b[0m │ dynamic_in[\u001b[38;5;34m0\u001b[0m][\u001b[38;5;34m0\u001b[0m]  │\n",
              "│ (\u001b[38;5;33mEmbedding\u001b[0m)         │                   │            │                   │\n",
              "├─────────────────────┼───────────────────┼────────────┼───────────────────┤\n",
              "│ not_equal_1         │ (\u001b[38;5;45mNone\u001b[0m, \u001b[38;5;34m800\u001b[0m)       │          \u001b[38;5;34m0\u001b[0m │ dynamic_in[\u001b[38;5;34m0\u001b[0m][\u001b[38;5;34m0\u001b[0m]  │\n",
              "│ (\u001b[38;5;33mNotEqual\u001b[0m)          │                   │            │                   │\n",
              "├─────────────────────┼───────────────────┼────────────┼───────────────────┤\n",
              "│ gmp1                │ (\u001b[38;5;45mNone\u001b[0m, \u001b[38;5;34m128\u001b[0m)       │          \u001b[38;5;34m0\u001b[0m │ conv1[\u001b[38;5;34m0\u001b[0m][\u001b[38;5;34m0\u001b[0m]       │\n",
              "│ (\u001b[38;5;33mGlobalMaxPooling1…\u001b[0m │                   │            │                   │\n",
              "├─────────────────────┼───────────────────┼────────────┼───────────────────┤\n",
              "│ bi_dyn              │ (\u001b[38;5;45mNone\u001b[0m, \u001b[38;5;34m128\u001b[0m)       │     \u001b[38;5;34m66,048\u001b[0m │ emb_dynamic[\u001b[38;5;34m0\u001b[0m][\u001b[38;5;34m0\u001b[0m… │\n",
              "│ (\u001b[38;5;33mBidirectional\u001b[0m)     │                   │            │ not_equal_1[\u001b[38;5;34m0\u001b[0m][\u001b[38;5;34m0\u001b[0m] │\n",
              "├─────────────────────┼───────────────────┼────────────┼───────────────────┤\n",
              "│ fused (\u001b[38;5;33mConcatenate\u001b[0m) │ (\u001b[38;5;45mNone\u001b[0m, \u001b[38;5;34m256\u001b[0m)       │          \u001b[38;5;34m0\u001b[0m │ gmp1[\u001b[38;5;34m0\u001b[0m][\u001b[38;5;34m0\u001b[0m],       │\n",
              "│                     │                   │            │ bi_dyn[\u001b[38;5;34m0\u001b[0m][\u001b[38;5;34m0\u001b[0m]      │\n",
              "├─────────────────────┼───────────────────┼────────────┼───────────────────┤\n",
              "│ dense1 (\u001b[38;5;33mDense\u001b[0m)      │ (\u001b[38;5;45mNone\u001b[0m, \u001b[38;5;34m128\u001b[0m)       │     \u001b[38;5;34m32,896\u001b[0m │ fused[\u001b[38;5;34m0\u001b[0m][\u001b[38;5;34m0\u001b[0m]       │\n",
              "├─────────────────────┼───────────────────┼────────────┼───────────────────┤\n",
              "│ drop1 (\u001b[38;5;33mDropout\u001b[0m)     │ (\u001b[38;5;45mNone\u001b[0m, \u001b[38;5;34m128\u001b[0m)       │          \u001b[38;5;34m0\u001b[0m │ dense1[\u001b[38;5;34m0\u001b[0m][\u001b[38;5;34m0\u001b[0m]      │\n",
              "├─────────────────────┼───────────────────┼────────────┼───────────────────┤\n",
              "│ pred (\u001b[38;5;33mDense\u001b[0m)        │ (\u001b[38;5;45mNone\u001b[0m, \u001b[38;5;34m3\u001b[0m)         │        \u001b[38;5;34m387\u001b[0m │ drop1[\u001b[38;5;34m0\u001b[0m][\u001b[38;5;34m0\u001b[0m]       │\n",
              "└─────────────────────┴───────────────────┴────────────┴───────────────────┘\n"
            ],
            "text/html": [
              "<pre style=\"white-space:pre;overflow-x:auto;line-height:normal;font-family:Menlo,'DejaVu Sans Mono',consolas,'Courier New',monospace\">┏━━━━━━━━━━━━━━━━━━━━━┳━━━━━━━━━━━━━━━━━━━┳━━━━━━━━━━━━┳━━━━━━━━━━━━━━━━━━━┓\n",
              "┃<span style=\"font-weight: bold\"> Layer (type)        </span>┃<span style=\"font-weight: bold\"> Output Shape      </span>┃<span style=\"font-weight: bold\">    Param # </span>┃<span style=\"font-weight: bold\"> Connected to      </span>┃\n",
              "┡━━━━━━━━━━━━━━━━━━━━━╇━━━━━━━━━━━━━━━━━━━╇━━━━━━━━━━━━╇━━━━━━━━━━━━━━━━━━━┩\n",
              "│ static_in           │ (<span style=\"color: #00d7ff; text-decoration-color: #00d7ff\">None</span>, <span style=\"color: #00af00; text-decoration-color: #00af00\">2000</span>)      │          <span style=\"color: #00af00; text-decoration-color: #00af00\">0</span> │ -                 │\n",
              "│ (<span style=\"color: #0087ff; text-decoration-color: #0087ff\">InputLayer</span>)        │                   │            │                   │\n",
              "├─────────────────────┼───────────────────┼────────────┼───────────────────┤\n",
              "│ emb_static          │ (<span style=\"color: #00d7ff; text-decoration-color: #00d7ff\">None</span>, <span style=\"color: #00af00; text-decoration-color: #00af00\">2000</span>, <span style=\"color: #00af00; text-decoration-color: #00af00\">64</span>)  │    <span style=\"color: #00af00; text-decoration-color: #00af00\">640,000</span> │ static_in[<span style=\"color: #00af00; text-decoration-color: #00af00\">0</span>][<span style=\"color: #00af00; text-decoration-color: #00af00\">0</span>]   │\n",
              "│ (<span style=\"color: #0087ff; text-decoration-color: #0087ff\">Embedding</span>)         │                   │            │                   │\n",
              "├─────────────────────┼───────────────────┼────────────┼───────────────────┤\n",
              "│ dynamic_in          │ (<span style=\"color: #00d7ff; text-decoration-color: #00d7ff\">None</span>, <span style=\"color: #00af00; text-decoration-color: #00af00\">800</span>)       │          <span style=\"color: #00af00; text-decoration-color: #00af00\">0</span> │ -                 │\n",
              "│ (<span style=\"color: #0087ff; text-decoration-color: #0087ff\">InputLayer</span>)        │                   │            │                   │\n",
              "├─────────────────────┼───────────────────┼────────────┼───────────────────┤\n",
              "│ conv1 (<span style=\"color: #0087ff; text-decoration-color: #0087ff\">Conv1D</span>)      │ (<span style=\"color: #00d7ff; text-decoration-color: #00d7ff\">None</span>, <span style=\"color: #00af00; text-decoration-color: #00af00\">1996</span>, <span style=\"color: #00af00; text-decoration-color: #00af00\">128</span>) │     <span style=\"color: #00af00; text-decoration-color: #00af00\">41,088</span> │ emb_static[<span style=\"color: #00af00; text-decoration-color: #00af00\">0</span>][<span style=\"color: #00af00; text-decoration-color: #00af00\">0</span>]  │\n",
              "├─────────────────────┼───────────────────┼────────────┼───────────────────┤\n",
              "│ emb_dynamic         │ (<span style=\"color: #00d7ff; text-decoration-color: #00d7ff\">None</span>, <span style=\"color: #00af00; text-decoration-color: #00af00\">800</span>, <span style=\"color: #00af00; text-decoration-color: #00af00\">64</span>)   │     <span style=\"color: #00af00; text-decoration-color: #00af00\">19,072</span> │ dynamic_in[<span style=\"color: #00af00; text-decoration-color: #00af00\">0</span>][<span style=\"color: #00af00; text-decoration-color: #00af00\">0</span>]  │\n",
              "│ (<span style=\"color: #0087ff; text-decoration-color: #0087ff\">Embedding</span>)         │                   │            │                   │\n",
              "├─────────────────────┼───────────────────┼────────────┼───────────────────┤\n",
              "│ not_equal_1         │ (<span style=\"color: #00d7ff; text-decoration-color: #00d7ff\">None</span>, <span style=\"color: #00af00; text-decoration-color: #00af00\">800</span>)       │          <span style=\"color: #00af00; text-decoration-color: #00af00\">0</span> │ dynamic_in[<span style=\"color: #00af00; text-decoration-color: #00af00\">0</span>][<span style=\"color: #00af00; text-decoration-color: #00af00\">0</span>]  │\n",
              "│ (<span style=\"color: #0087ff; text-decoration-color: #0087ff\">NotEqual</span>)          │                   │            │                   │\n",
              "├─────────────────────┼───────────────────┼────────────┼───────────────────┤\n",
              "│ gmp1                │ (<span style=\"color: #00d7ff; text-decoration-color: #00d7ff\">None</span>, <span style=\"color: #00af00; text-decoration-color: #00af00\">128</span>)       │          <span style=\"color: #00af00; text-decoration-color: #00af00\">0</span> │ conv1[<span style=\"color: #00af00; text-decoration-color: #00af00\">0</span>][<span style=\"color: #00af00; text-decoration-color: #00af00\">0</span>]       │\n",
              "│ (<span style=\"color: #0087ff; text-decoration-color: #0087ff\">GlobalMaxPooling1…</span> │                   │            │                   │\n",
              "├─────────────────────┼───────────────────┼────────────┼───────────────────┤\n",
              "│ bi_dyn              │ (<span style=\"color: #00d7ff; text-decoration-color: #00d7ff\">None</span>, <span style=\"color: #00af00; text-decoration-color: #00af00\">128</span>)       │     <span style=\"color: #00af00; text-decoration-color: #00af00\">66,048</span> │ emb_dynamic[<span style=\"color: #00af00; text-decoration-color: #00af00\">0</span>][<span style=\"color: #00af00; text-decoration-color: #00af00\">0</span>… │\n",
              "│ (<span style=\"color: #0087ff; text-decoration-color: #0087ff\">Bidirectional</span>)     │                   │            │ not_equal_1[<span style=\"color: #00af00; text-decoration-color: #00af00\">0</span>][<span style=\"color: #00af00; text-decoration-color: #00af00\">0</span>] │\n",
              "├─────────────────────┼───────────────────┼────────────┼───────────────────┤\n",
              "│ fused (<span style=\"color: #0087ff; text-decoration-color: #0087ff\">Concatenate</span>) │ (<span style=\"color: #00d7ff; text-decoration-color: #00d7ff\">None</span>, <span style=\"color: #00af00; text-decoration-color: #00af00\">256</span>)       │          <span style=\"color: #00af00; text-decoration-color: #00af00\">0</span> │ gmp1[<span style=\"color: #00af00; text-decoration-color: #00af00\">0</span>][<span style=\"color: #00af00; text-decoration-color: #00af00\">0</span>],       │\n",
              "│                     │                   │            │ bi_dyn[<span style=\"color: #00af00; text-decoration-color: #00af00\">0</span>][<span style=\"color: #00af00; text-decoration-color: #00af00\">0</span>]      │\n",
              "├─────────────────────┼───────────────────┼────────────┼───────────────────┤\n",
              "│ dense1 (<span style=\"color: #0087ff; text-decoration-color: #0087ff\">Dense</span>)      │ (<span style=\"color: #00d7ff; text-decoration-color: #00d7ff\">None</span>, <span style=\"color: #00af00; text-decoration-color: #00af00\">128</span>)       │     <span style=\"color: #00af00; text-decoration-color: #00af00\">32,896</span> │ fused[<span style=\"color: #00af00; text-decoration-color: #00af00\">0</span>][<span style=\"color: #00af00; text-decoration-color: #00af00\">0</span>]       │\n",
              "├─────────────────────┼───────────────────┼────────────┼───────────────────┤\n",
              "│ drop1 (<span style=\"color: #0087ff; text-decoration-color: #0087ff\">Dropout</span>)     │ (<span style=\"color: #00d7ff; text-decoration-color: #00d7ff\">None</span>, <span style=\"color: #00af00; text-decoration-color: #00af00\">128</span>)       │          <span style=\"color: #00af00; text-decoration-color: #00af00\">0</span> │ dense1[<span style=\"color: #00af00; text-decoration-color: #00af00\">0</span>][<span style=\"color: #00af00; text-decoration-color: #00af00\">0</span>]      │\n",
              "├─────────────────────┼───────────────────┼────────────┼───────────────────┤\n",
              "│ pred (<span style=\"color: #0087ff; text-decoration-color: #0087ff\">Dense</span>)        │ (<span style=\"color: #00d7ff; text-decoration-color: #00d7ff\">None</span>, <span style=\"color: #00af00; text-decoration-color: #00af00\">3</span>)         │        <span style=\"color: #00af00; text-decoration-color: #00af00\">387</span> │ drop1[<span style=\"color: #00af00; text-decoration-color: #00af00\">0</span>][<span style=\"color: #00af00; text-decoration-color: #00af00\">0</span>]       │\n",
              "└─────────────────────┴───────────────────┴────────────┴───────────────────┘\n",
              "</pre>\n"
            ]
          },
          "metadata": {}
        },
        {
          "output_type": "display_data",
          "data": {
            "text/plain": [
              "\u001b[1m Total params: \u001b[0m\u001b[38;5;34m799,491\u001b[0m (3.05 MB)\n"
            ],
            "text/html": [
              "<pre style=\"white-space:pre;overflow-x:auto;line-height:normal;font-family:Menlo,'DejaVu Sans Mono',consolas,'Courier New',monospace\"><span style=\"font-weight: bold\"> Total params: </span><span style=\"color: #00af00; text-decoration-color: #00af00\">799,491</span> (3.05 MB)\n",
              "</pre>\n"
            ]
          },
          "metadata": {}
        },
        {
          "output_type": "display_data",
          "data": {
            "text/plain": [
              "\u001b[1m Trainable params: \u001b[0m\u001b[38;5;34m799,491\u001b[0m (3.05 MB)\n"
            ],
            "text/html": [
              "<pre style=\"white-space:pre;overflow-x:auto;line-height:normal;font-family:Menlo,'DejaVu Sans Mono',consolas,'Courier New',monospace\"><span style=\"font-weight: bold\"> Trainable params: </span><span style=\"color: #00af00; text-decoration-color: #00af00\">799,491</span> (3.05 MB)\n",
              "</pre>\n"
            ]
          },
          "metadata": {}
        },
        {
          "output_type": "display_data",
          "data": {
            "text/plain": [
              "\u001b[1m Non-trainable params: \u001b[0m\u001b[38;5;34m0\u001b[0m (0.00 B)\n"
            ],
            "text/html": [
              "<pre style=\"white-space:pre;overflow-x:auto;line-height:normal;font-family:Menlo,'DejaVu Sans Mono',consolas,'Courier New',monospace\"><span style=\"font-weight: bold\"> Non-trainable params: </span><span style=\"color: #00af00; text-decoration-color: #00af00\">0</span> (0.00 B)\n",
              "</pre>\n"
            ]
          },
          "metadata": {}
        }
      ]
    },
    {
      "cell_type": "markdown",
      "source": [
        "## **Train the model**"
      ],
      "metadata": {
        "id": "fll75vlEEXns"
      }
    },
    {
      "cell_type": "code",
      "source": [
        "from tensorflow.keras.callbacks import EarlyStopping\n",
        "\n",
        "early_stop = EarlyStopping(\n",
        "    monitor=\"val_loss\", patience=3, restore_best_weights=True\n",
        ")\n",
        "\n",
        "history = model.fit(\n",
        "    [Xt_tr, Xdy_tr],  # [static, dynamic]\n",
        "    y_tr,\n",
        "    validation_data=([Xt_val, Xdy_val], y_val),\n",
        "    class_weight={0: 2.66, 1: 0.58, 2: 1.08},  # update if you recalculated\n",
        "    callbacks=[early_stop],\n",
        "    epochs=15,\n",
        "    batch_size=64,\n",
        "    verbose=1\n",
        ")\n"
      ],
      "metadata": {
        "colab": {
          "base_uri": "https://localhost:8080/"
        },
        "id": "Ar7NalLgEZ7K",
        "outputId": "3101254f-2460-4257-9acd-18bad43dc6af"
      },
      "execution_count": null,
      "outputs": [
        {
          "output_type": "stream",
          "name": "stdout",
          "text": [
            "Epoch 1/15\n",
            "\u001b[1m169/169\u001b[0m \u001b[32m━━━━━━━━━━━━━━━━━━━━\u001b[0m\u001b[37m\u001b[0m \u001b[1m43s\u001b[0m 209ms/step - accuracy: 0.7300 - loss: 0.5833 - val_accuracy: 0.9157 - val_loss: 0.1552\n",
            "Epoch 2/15\n",
            "\u001b[1m169/169\u001b[0m \u001b[32m━━━━━━━━━━━━━━━━━━━━\u001b[0m\u001b[37m\u001b[0m \u001b[1m28s\u001b[0m 158ms/step - accuracy: 0.9557 - loss: 0.0712 - val_accuracy: 0.9187 - val_loss: 0.1147\n",
            "Epoch 3/15\n",
            "\u001b[1m169/169\u001b[0m \u001b[32m━━━━━━━━━━━━━━━━━━━━\u001b[0m\u001b[37m\u001b[0m \u001b[1m42s\u001b[0m 159ms/step - accuracy: 0.9635 - loss: 0.0464 - val_accuracy: 0.9178 - val_loss: 0.1116\n",
            "Epoch 4/15\n",
            "\u001b[1m169/169\u001b[0m \u001b[32m━━━━━━━━━━━━━━━━━━━━\u001b[0m\u001b[37m\u001b[0m \u001b[1m40s\u001b[0m 158ms/step - accuracy: 0.9648 - loss: 0.0426 - val_accuracy: 0.9183 - val_loss: 0.1254\n",
            "Epoch 5/15\n",
            "\u001b[1m169/169\u001b[0m \u001b[32m━━━━━━━━━━━━━━━━━━━━\u001b[0m\u001b[37m\u001b[0m \u001b[1m42s\u001b[0m 162ms/step - accuracy: 0.9645 - loss: 0.0401 - val_accuracy: 0.9187 - val_loss: 0.1099\n",
            "Epoch 6/15\n",
            "\u001b[1m169/169\u001b[0m \u001b[32m━━━━━━━━━━━━━━━━━━━━\u001b[0m\u001b[37m\u001b[0m \u001b[1m40s\u001b[0m 158ms/step - accuracy: 0.9645 - loss: 0.0417 - val_accuracy: 0.9196 - val_loss: 0.1151\n",
            "Epoch 7/15\n",
            "\u001b[1m169/169\u001b[0m \u001b[32m━━━━━━━━━━━━━━━━━━━━\u001b[0m\u001b[37m\u001b[0m \u001b[1m41s\u001b[0m 156ms/step - accuracy: 0.9661 - loss: 0.0389 - val_accuracy: 0.9191 - val_loss: 0.1337\n",
            "Epoch 8/15\n",
            "\u001b[1m169/169\u001b[0m \u001b[32m━━━━━━━━━━━━━━━━━━━━\u001b[0m\u001b[37m\u001b[0m \u001b[1m41s\u001b[0m 159ms/step - accuracy: 0.9665 - loss: 0.0406 - val_accuracy: 0.9157 - val_loss: 0.1269\n"
          ]
        }
      ]
    },
    {
      "cell_type": "markdown",
      "source": [
        "## **Full Improved Model Code with Dropout:**"
      ],
      "metadata": {
        "id": "Dg6PFQQZH4OT"
      }
    },
    {
      "cell_type": "code",
      "source": [
        "from tensorflow.keras import layers, models\n",
        "import tensorflow as tf\n",
        "\n",
        "def build_model(static_vocab, dynamic_vocab, static_len, dynamic_len):\n",
        "    # --- Static branch: CNN ---\n",
        "    static_input = layers.Input(shape=(static_len,), name=\"static_input\")\n",
        "    x1 = layers.Embedding(static_vocab, 64, mask_zero=True, name=\"emb_static\")(static_input)\n",
        "    x1 = layers.Conv1D(128, 5, activation=\"relu\", name=\"conv1\")(x1)\n",
        "    x1 = layers.GlobalMaxPooling1D()(x1)\n",
        "    x1 = layers.Dense(64, activation=\"relu\", name=\"static_fc1\")(x1)\n",
        "    x1 = layers.Dropout(0.5, name=\"drop_static\")(x1)\n",
        "\n",
        "    # --- Dynamic branch: BiLSTM ---\n",
        "    dynamic_input = layers.Input(shape=(dynamic_len,), name=\"dynamic_input\")\n",
        "    x2 = layers.Embedding(dynamic_vocab, 64, mask_zero=True, name=\"emb_dynamic\")(dynamic_input)\n",
        "\n",
        "    # Manual mask handling using Lambda layer\n",
        "    mask = tf.cast(tf.not_equal(dynamic_input, 0), tf.float32)\n",
        "    mask = layers.Lambda(lambda t: tf.expand_dims(t, -1))(mask)\n",
        "    x2 = layers.Multiply(name=\"masked_embedding\")([x2, mask])\n",
        "\n",
        "    x2 = layers.Bidirectional(layers.LSTM(64, return_sequences=False), name=\"bi_lstm\")(x2)\n",
        "    x2 = layers.LayerNormalization()(x2)\n",
        "    x2 = layers.Dropout(0.5, name=\"drop_dynamic\")(x2)\n",
        "\n",
        "    # --- Fusion ---\n",
        "    fused = layers.Concatenate(name=\"fused\")([x1, x2])\n",
        "    fused = layers.Dense(128, activation=\"relu\", name=\"dense1\")(fused)\n",
        "    fused = layers.Dropout(0.4, name=\"drop1\")(fused)\n",
        "    fused = layers.Dense(64, activation=\"relu\", name=\"dense2\")(fused)\n",
        "    fused = layers.Dropout(0.3, name=\"drop2\")(fused)\n",
        "\n",
        "    output = layers.Dense(3, activation=\"softmax\", name=\"output\")(fused)\n",
        "\n",
        "    model = models.Model(inputs=[static_input, dynamic_input], outputs=output)\n",
        "\n",
        "    model.compile(\n",
        "        optimizer=tf.keras.optimizers.Adam(learning_rate=1e-3),\n",
        "        loss=\"sparse_categorical_crossentropy\",\n",
        "        metrics=[\"accuracy\"]\n",
        "    )\n",
        "\n",
        "    return model\n",
        "\n",
        "# Example usage (you should replace with your actual variables)\n",
        "# static_vocab = ...\n",
        "# dynamic_vocab = ...\n",
        "# static_len = Xt_tr.shape[1]\n",
        "# dynamic_len = Xdy_tr.shape[1]\n",
        "# model = build_model(static_vocab, dynamic_vocab, static_len, dynamic_len)\n",
        "# model.summary()\n"
      ],
      "metadata": {
        "id": "dw_7iKRhH6ez"
      },
      "execution_count": null,
      "outputs": []
    },
    {
      "cell_type": "markdown",
      "source": [
        "## **Step 2: Add a Learning Rate Scheduler (to Improve Accuracy Over Time)**"
      ],
      "metadata": {
        "id": "dbYw5DqBJQEZ"
      }
    },
    {
      "cell_type": "code",
      "source": [
        "from tensorflow.keras.callbacks import ReduceLROnPlateau\n",
        "\n",
        "lr_scheduler = ReduceLROnPlateau(\n",
        "    monitor='val_accuracy',   # monitor validation accuracy\n",
        "    factor=0.5,               # reduce by half\n",
        "    patience=3,               # after 3 epochs with no improvement\n",
        "    min_lr=1e-5,              # do not go lower than this\n",
        "    verbose=1\n",
        ")\n"
      ],
      "metadata": {
        "id": "VPd1XFThJSKx"
      },
      "execution_count": null,
      "outputs": []
    },
    {
      "cell_type": "code",
      "source": [
        "# Use what you already have: train_df, val_df, test_df\n",
        "\n",
        "# Static + Dynamic features\n",
        "Xt_tr = train_df[\"static_seq\"]\n",
        "Xdy_tr = train_df[\"dynamic_seq\"]\n",
        "y_tr = train_df[\"label\"].map(label_map).values\n",
        "\n",
        "Xt_val = val_df[\"static_seq\"]\n",
        "Xdy_val = val_df[\"dynamic_seq\"]\n",
        "y_val = val_df[\"label\"].map(label_map).values\n",
        "\n",
        "Xt_te = test_df[\"static_seq\"]\n",
        "Xdy_te = test_df[\"dynamic_seq\"]\n",
        "y_te = test_df[\"label\"].map(label_map).values\n"
      ],
      "metadata": {
        "id": "evj295L9JVmZ"
      },
      "execution_count": null,
      "outputs": []
    },
    {
      "cell_type": "markdown",
      "source": [
        "## **Tokenize static_seq and dynamic_seq, then pad**"
      ],
      "metadata": {
        "id": "HacLyPtRKphH"
      }
    },
    {
      "cell_type": "code",
      "source": [
        "from tensorflow.keras.preprocessing.text import Tokenizer\n",
        "from tensorflow.keras.preprocessing.sequence import pad_sequences\n",
        "import numpy as np\n",
        "\n",
        "# ---- hyperparams (you can tweak later) ----\n",
        "MAX_STATIC_TOKENS  = 30000   # vocab cap for opcodes/instructions\n",
        "MAX_DYNAMIC_TOKENS = 8000    # vocab cap for API names\n",
        "MAXLEN_STATIC      = 2000    # sequence length for static\n",
        "MAXLEN_DYNAMIC     = 800     # sequence length for dynamic\n",
        "NO_API_TOKEN       = \"<NO_API>\"  # used when dynamic is empty\n",
        "\n",
        "# 1) Clean up empties and ensure strings\n",
        "Xt_tr = Xt_tr.fillna(\"\").astype(str)\n",
        "Xt_val = Xt_val.fillna(\"\").astype(str)\n",
        "Xt_te = Xt_te.fillna(\"\").astype(str)\n",
        "\n",
        "Xdy_tr = Xdy_tr.fillna(\"\").astype(str).replace(\"\", NO_API_TOKEN)\n",
        "Xdy_val = Xdy_val.fillna(\"\").astype(str).replace(\"\", NO_API_TOKEN)\n",
        "Xdy_te = Xdy_te.fillna(\"\").astype(str).replace(\"\", NO_API_TOKEN)\n",
        "\n",
        "# 2) Fit tokenizers on TRAIN ONLY\n",
        "tok_static = Tokenizer(num_words=MAX_STATIC_TOKENS, filters=\"\", lower=False, split=\" \")\n",
        "tok_static.fit_on_texts(Xt_tr.tolist())\n",
        "\n",
        "tok_dynamic = Tokenizer(num_words=MAX_DYNAMIC_TOKENS, filters=\"\", lower=False, split=\";\")\n",
        "# many of your API logs are \"A; B; C\" — split on ';'\n",
        "tok_dynamic.fit_on_texts(Xdy_tr.tolist())\n",
        "\n",
        "# 3) Text -> integer sequences\n",
        "Xst_tr = tok_static.texts_to_sequences(Xt_tr.tolist())\n",
        "Xst_val = tok_static.texts_to_sequences(Xt_val.tolist())\n",
        "Xst_te  = tok_static.texts_to_sequences(Xt_te.tolist())\n",
        "\n",
        "Xdy_tr_seq = tok_dynamic.texts_to_sequences(Xdy_tr.tolist())\n",
        "Xdy_val_seq = tok_dynamic.texts_to_sequences(Xdy_val.tolist())\n",
        "Xdy_te_seq  = tok_dynamic.texts_to_sequences(Xdy_te.tolist())\n",
        "\n",
        "# 4) Pad to fixed length\n",
        "Xst_tr = pad_sequences(Xst_tr, maxlen=MAXLEN_STATIC, truncating=\"post\", padding=\"post\")\n",
        "Xst_val = pad_sequences(Xst_val, maxlen=MAXLEN_STATIC, truncating=\"post\", padding=\"post\")\n",
        "Xst_te  = pad_sequences(Xst_te,  maxlen=MAXLEN_STATIC, truncating=\"post\", padding=\"post\")\n",
        "\n",
        "Xdy_tr = pad_sequences(Xdy_tr_seq, maxlen=MAXLEN_DYNAMIC, truncating=\"post\", padding=\"post\")\n",
        "Xdy_val = pad_sequences(Xdy_val_seq, maxlen=MAXLEN_DYNAMIC, truncating=\"post\", padding=\"post\")\n",
        "Xdy_te  = pad_sequences(Xdy_te_seq,  maxlen=MAXLEN_DYNAMIC, truncating=\"post\", padding=\"post\")\n",
        "\n",
        "# 5) Vocab sizes for embeddings (add 1 for OOV/0)\n",
        "static_vocab  = min(MAX_STATIC_TOKENS,  len(tok_static.word_index) + 1)\n",
        "dynamic_vocab = min(MAX_DYNAMIC_TOKENS, len(tok_dynamic.word_index) + 1)\n",
        "\n",
        "# 6) Sanity prints\n",
        "print(\"Static shapes (train/val/test):\", Xst_tr.shape, Xst_val.shape, Xst_te.shape)\n",
        "print(\"Dynamic shapes (train/val/test):\", Xdy_tr.shape, Xdy_val.shape, Xdy_te.shape)\n",
        "print(\"Vocab sizes -> static:\", static_vocab, \" dynamic:\", dynamic_vocab)\n",
        "print(\"Seq lengths -> static:\", Xst_tr.shape[1], \" dynamic:\", Xdy_tr.shape[1])\n"
      ],
      "metadata": {
        "colab": {
          "base_uri": "https://localhost:8080/"
        },
        "id": "a4rSRPYXKsbm",
        "outputId": "44459e91-2020-485b-e299-1ec49b4794fb"
      },
      "execution_count": null,
      "outputs": [
        {
          "output_type": "stream",
          "name": "stdout",
          "text": [
            "Static shapes (train/val/test): (10789, 2000) (2312, 2000) (2313, 2000)\n",
            "Dynamic shapes (train/val/test): (10789, 800) (2312, 800) (2313, 800)\n",
            "Vocab sizes -> static: 15829  dynamic: 290\n",
            "Seq lengths -> static: 2000  dynamic: 800\n"
          ]
        }
      ]
    },
    {
      "cell_type": "markdown",
      "source": [
        "## **Build the hybrid deep model (CNN for static + masked BiLSTM for dynamic) and compile it**"
      ],
      "metadata": {
        "id": "-uIYhnGSLd19"
      }
    },
    {
      "cell_type": "code",
      "source": [
        "import tensorflow as tf\n",
        "from tensorflow.keras import layers, models\n",
        "\n",
        "def build_model(static_vocab, dynamic_vocab, static_len, dynamic_len):\n",
        "    # ----- Static branch (CNN) -----\n",
        "    static_in = layers.Input(shape=(static_len,), name=\"static_in\")\n",
        "    emb_s = layers.Embedding(static_vocab, 64, mask_zero=True, name=\"emb_static\")(static_in)\n",
        "    xs = layers.Conv1D(128, 5, activation=\"relu\", name=\"conv_static\")(emb_s)\n",
        "    xs = layers.GlobalMaxPooling1D(name=\"gmp_static\")(xs)\n",
        "    xs = layers.Dense(128, activation=\"relu\", name=\"dense_static\")(xs)\n",
        "    xs = layers.Dropout(0.3, name=\"drop_static\")(xs)\n",
        "\n",
        "    # ----- Dynamic branch (masked BiLSTM) -----\n",
        "    dyn_in = layers.Input(shape=(dynamic_len,), name=\"dyn_in\")\n",
        "    emb_d  = layers.Embedding(dynamic_vocab, 64, mask_zero=True, name=\"emb_dynamic\")(dyn_in)\n",
        "\n",
        "    # >>> Wrap all TF ops on dyn_in in a Lambda layer <<<\n",
        "    make_mask = layers.Lambda(\n",
        "        lambda t: tf.cast(tf.not_equal(t, 0), tf.float32)[..., tf.newaxis],\n",
        "        name=\"make_mask\"\n",
        "    )\n",
        "    mask = make_mask(dyn_in)                       # shape: (B, T, 1)\n",
        "    xd   = layers.Multiply(name=\"apply_mask\")([emb_d, mask])\n",
        "\n",
        "    xd = layers.Bidirectional(layers.LSTM(64, return_sequences=False), name=\"bi_lstm\")(xd)\n",
        "    xd = layers.Dropout(0.3, name=\"drop_dynamic\")(xd)\n",
        "\n",
        "    # ----- Fuse + classifier -----\n",
        "    fused = layers.Concatenate(name=\"fuse\")([xs, xd])\n",
        "    fused = layers.Dense(128, activation=\"relu\", name=\"dense_fused\")(fused)\n",
        "    fused = layers.Dropout(0.3, name=\"drop_fused\")(fused)\n",
        "    out   = layers.Dense(3, activation=\"softmax\", name=\"output\")(fused)\n",
        "\n",
        "    model = models.Model(inputs=[static_in, dyn_in], outputs=out)\n",
        "    model.compile(\n",
        "        optimizer=tf.keras.optimizers.Adam(1e-3),\n",
        "        loss=\"sparse_categorical_crossentropy\",\n",
        "        metrics=[\"accuracy\"],\n",
        "    )\n",
        "    return model\n",
        "\n",
        "# Rebuild with your sizes\n",
        "static_len  = Xst_tr.shape[1]\n",
        "dynamic_len = Xdy_tr.shape[1]\n",
        "model = build_model(static_vocab, dynamic_vocab, static_len, dynamic_len)\n",
        "model.summary()\n"
      ],
      "metadata": {
        "colab": {
          "base_uri": "https://localhost:8080/",
          "height": 833
        },
        "id": "5AFpLjNnLf99",
        "outputId": "a1332f20-7c2a-4d64-ea37-f337d5fcae5d"
      },
      "execution_count": null,
      "outputs": [
        {
          "output_type": "display_data",
          "data": {
            "text/plain": [
              "\u001b[1mModel: \"functional\"\u001b[0m\n"
            ],
            "text/html": [
              "<pre style=\"white-space:pre;overflow-x:auto;line-height:normal;font-family:Menlo,'DejaVu Sans Mono',consolas,'Courier New',monospace\"><span style=\"font-weight: bold\">Model: \"functional\"</span>\n",
              "</pre>\n"
            ]
          },
          "metadata": {}
        },
        {
          "output_type": "display_data",
          "data": {
            "text/plain": [
              "┏━━━━━━━━━━━━━━━━━━━━━┳━━━━━━━━━━━━━━━━━━━┳━━━━━━━━━━━━┳━━━━━━━━━━━━━━━━━━━┓\n",
              "┃\u001b[1m \u001b[0m\u001b[1mLayer (type)       \u001b[0m\u001b[1m \u001b[0m┃\u001b[1m \u001b[0m\u001b[1mOutput Shape     \u001b[0m\u001b[1m \u001b[0m┃\u001b[1m \u001b[0m\u001b[1m   Param #\u001b[0m\u001b[1m \u001b[0m┃\u001b[1m \u001b[0m\u001b[1mConnected to     \u001b[0m\u001b[1m \u001b[0m┃\n",
              "┡━━━━━━━━━━━━━━━━━━━━━╇━━━━━━━━━━━━━━━━━━━╇━━━━━━━━━━━━╇━━━━━━━━━━━━━━━━━━━┩\n",
              "│ static_in           │ (\u001b[38;5;45mNone\u001b[0m, \u001b[38;5;34m2000\u001b[0m)      │          \u001b[38;5;34m0\u001b[0m │ -                 │\n",
              "│ (\u001b[38;5;33mInputLayer\u001b[0m)        │                   │            │                   │\n",
              "├─────────────────────┼───────────────────┼────────────┼───────────────────┤\n",
              "│ emb_static          │ (\u001b[38;5;45mNone\u001b[0m, \u001b[38;5;34m2000\u001b[0m, \u001b[38;5;34m64\u001b[0m)  │  \u001b[38;5;34m1,013,056\u001b[0m │ static_in[\u001b[38;5;34m0\u001b[0m][\u001b[38;5;34m0\u001b[0m]   │\n",
              "│ (\u001b[38;5;33mEmbedding\u001b[0m)         │                   │            │                   │\n",
              "├─────────────────────┼───────────────────┼────────────┼───────────────────┤\n",
              "│ dyn_in (\u001b[38;5;33mInputLayer\u001b[0m) │ (\u001b[38;5;45mNone\u001b[0m, \u001b[38;5;34m800\u001b[0m)       │          \u001b[38;5;34m0\u001b[0m │ -                 │\n",
              "├─────────────────────┼───────────────────┼────────────┼───────────────────┤\n",
              "│ conv_static         │ (\u001b[38;5;45mNone\u001b[0m, \u001b[38;5;34m1996\u001b[0m, \u001b[38;5;34m128\u001b[0m) │     \u001b[38;5;34m41,088\u001b[0m │ emb_static[\u001b[38;5;34m0\u001b[0m][\u001b[38;5;34m0\u001b[0m]  │\n",
              "│ (\u001b[38;5;33mConv1D\u001b[0m)            │                   │            │                   │\n",
              "├─────────────────────┼───────────────────┼────────────┼───────────────────┤\n",
              "│ emb_dynamic         │ (\u001b[38;5;45mNone\u001b[0m, \u001b[38;5;34m800\u001b[0m, \u001b[38;5;34m64\u001b[0m)   │     \u001b[38;5;34m18,560\u001b[0m │ dyn_in[\u001b[38;5;34m0\u001b[0m][\u001b[38;5;34m0\u001b[0m]      │\n",
              "│ (\u001b[38;5;33mEmbedding\u001b[0m)         │                   │            │                   │\n",
              "├─────────────────────┼───────────────────┼────────────┼───────────────────┤\n",
              "│ make_mask (\u001b[38;5;33mLambda\u001b[0m)  │ (\u001b[38;5;45mNone\u001b[0m, \u001b[38;5;34m800\u001b[0m, \u001b[38;5;34m1\u001b[0m)    │          \u001b[38;5;34m0\u001b[0m │ dyn_in[\u001b[38;5;34m0\u001b[0m][\u001b[38;5;34m0\u001b[0m]      │\n",
              "├─────────────────────┼───────────────────┼────────────┼───────────────────┤\n",
              "│ gmp_static          │ (\u001b[38;5;45mNone\u001b[0m, \u001b[38;5;34m128\u001b[0m)       │          \u001b[38;5;34m0\u001b[0m │ conv_static[\u001b[38;5;34m0\u001b[0m][\u001b[38;5;34m0\u001b[0m] │\n",
              "│ (\u001b[38;5;33mGlobalMaxPooling1…\u001b[0m │                   │            │                   │\n",
              "├─────────────────────┼───────────────────┼────────────┼───────────────────┤\n",
              "│ apply_mask          │ (\u001b[38;5;45mNone\u001b[0m, \u001b[38;5;34m800\u001b[0m, \u001b[38;5;34m64\u001b[0m)   │          \u001b[38;5;34m0\u001b[0m │ emb_dynamic[\u001b[38;5;34m0\u001b[0m][\u001b[38;5;34m0\u001b[0m… │\n",
              "│ (\u001b[38;5;33mMultiply\u001b[0m)          │                   │            │ make_mask[\u001b[38;5;34m0\u001b[0m][\u001b[38;5;34m0\u001b[0m]   │\n",
              "├─────────────────────┼───────────────────┼────────────┼───────────────────┤\n",
              "│ dense_static        │ (\u001b[38;5;45mNone\u001b[0m, \u001b[38;5;34m128\u001b[0m)       │     \u001b[38;5;34m16,512\u001b[0m │ gmp_static[\u001b[38;5;34m0\u001b[0m][\u001b[38;5;34m0\u001b[0m]  │\n",
              "│ (\u001b[38;5;33mDense\u001b[0m)             │                   │            │                   │\n",
              "├─────────────────────┼───────────────────┼────────────┼───────────────────┤\n",
              "│ bi_lstm             │ (\u001b[38;5;45mNone\u001b[0m, \u001b[38;5;34m128\u001b[0m)       │     \u001b[38;5;34m66,048\u001b[0m │ apply_mask[\u001b[38;5;34m0\u001b[0m][\u001b[38;5;34m0\u001b[0m]  │\n",
              "│ (\u001b[38;5;33mBidirectional\u001b[0m)     │                   │            │                   │\n",
              "├─────────────────────┼───────────────────┼────────────┼───────────────────┤\n",
              "│ drop_static         │ (\u001b[38;5;45mNone\u001b[0m, \u001b[38;5;34m128\u001b[0m)       │          \u001b[38;5;34m0\u001b[0m │ dense_static[\u001b[38;5;34m0\u001b[0m][\u001b[38;5;34m…\u001b[0m │\n",
              "│ (\u001b[38;5;33mDropout\u001b[0m)           │                   │            │                   │\n",
              "├─────────────────────┼───────────────────┼────────────┼───────────────────┤\n",
              "│ drop_dynamic        │ (\u001b[38;5;45mNone\u001b[0m, \u001b[38;5;34m128\u001b[0m)       │          \u001b[38;5;34m0\u001b[0m │ bi_lstm[\u001b[38;5;34m0\u001b[0m][\u001b[38;5;34m0\u001b[0m]     │\n",
              "│ (\u001b[38;5;33mDropout\u001b[0m)           │                   │            │                   │\n",
              "├─────────────────────┼───────────────────┼────────────┼───────────────────┤\n",
              "│ fuse (\u001b[38;5;33mConcatenate\u001b[0m)  │ (\u001b[38;5;45mNone\u001b[0m, \u001b[38;5;34m256\u001b[0m)       │          \u001b[38;5;34m0\u001b[0m │ drop_static[\u001b[38;5;34m0\u001b[0m][\u001b[38;5;34m0\u001b[0m… │\n",
              "│                     │                   │            │ drop_dynamic[\u001b[38;5;34m0\u001b[0m][\u001b[38;5;34m…\u001b[0m │\n",
              "├─────────────────────┼───────────────────┼────────────┼───────────────────┤\n",
              "│ dense_fused (\u001b[38;5;33mDense\u001b[0m) │ (\u001b[38;5;45mNone\u001b[0m, \u001b[38;5;34m128\u001b[0m)       │     \u001b[38;5;34m32,896\u001b[0m │ fuse[\u001b[38;5;34m0\u001b[0m][\u001b[38;5;34m0\u001b[0m]        │\n",
              "├─────────────────────┼───────────────────┼────────────┼───────────────────┤\n",
              "│ drop_fused          │ (\u001b[38;5;45mNone\u001b[0m, \u001b[38;5;34m128\u001b[0m)       │          \u001b[38;5;34m0\u001b[0m │ dense_fused[\u001b[38;5;34m0\u001b[0m][\u001b[38;5;34m0\u001b[0m] │\n",
              "│ (\u001b[38;5;33mDropout\u001b[0m)           │                   │            │                   │\n",
              "├─────────────────────┼───────────────────┼────────────┼───────────────────┤\n",
              "│ output (\u001b[38;5;33mDense\u001b[0m)      │ (\u001b[38;5;45mNone\u001b[0m, \u001b[38;5;34m3\u001b[0m)         │        \u001b[38;5;34m387\u001b[0m │ drop_fused[\u001b[38;5;34m0\u001b[0m][\u001b[38;5;34m0\u001b[0m]  │\n",
              "└─────────────────────┴───────────────────┴────────────┴───────────────────┘\n"
            ],
            "text/html": [
              "<pre style=\"white-space:pre;overflow-x:auto;line-height:normal;font-family:Menlo,'DejaVu Sans Mono',consolas,'Courier New',monospace\">┏━━━━━━━━━━━━━━━━━━━━━┳━━━━━━━━━━━━━━━━━━━┳━━━━━━━━━━━━┳━━━━━━━━━━━━━━━━━━━┓\n",
              "┃<span style=\"font-weight: bold\"> Layer (type)        </span>┃<span style=\"font-weight: bold\"> Output Shape      </span>┃<span style=\"font-weight: bold\">    Param # </span>┃<span style=\"font-weight: bold\"> Connected to      </span>┃\n",
              "┡━━━━━━━━━━━━━━━━━━━━━╇━━━━━━━━━━━━━━━━━━━╇━━━━━━━━━━━━╇━━━━━━━━━━━━━━━━━━━┩\n",
              "│ static_in           │ (<span style=\"color: #00d7ff; text-decoration-color: #00d7ff\">None</span>, <span style=\"color: #00af00; text-decoration-color: #00af00\">2000</span>)      │          <span style=\"color: #00af00; text-decoration-color: #00af00\">0</span> │ -                 │\n",
              "│ (<span style=\"color: #0087ff; text-decoration-color: #0087ff\">InputLayer</span>)        │                   │            │                   │\n",
              "├─────────────────────┼───────────────────┼────────────┼───────────────────┤\n",
              "│ emb_static          │ (<span style=\"color: #00d7ff; text-decoration-color: #00d7ff\">None</span>, <span style=\"color: #00af00; text-decoration-color: #00af00\">2000</span>, <span style=\"color: #00af00; text-decoration-color: #00af00\">64</span>)  │  <span style=\"color: #00af00; text-decoration-color: #00af00\">1,013,056</span> │ static_in[<span style=\"color: #00af00; text-decoration-color: #00af00\">0</span>][<span style=\"color: #00af00; text-decoration-color: #00af00\">0</span>]   │\n",
              "│ (<span style=\"color: #0087ff; text-decoration-color: #0087ff\">Embedding</span>)         │                   │            │                   │\n",
              "├─────────────────────┼───────────────────┼────────────┼───────────────────┤\n",
              "│ dyn_in (<span style=\"color: #0087ff; text-decoration-color: #0087ff\">InputLayer</span>) │ (<span style=\"color: #00d7ff; text-decoration-color: #00d7ff\">None</span>, <span style=\"color: #00af00; text-decoration-color: #00af00\">800</span>)       │          <span style=\"color: #00af00; text-decoration-color: #00af00\">0</span> │ -                 │\n",
              "├─────────────────────┼───────────────────┼────────────┼───────────────────┤\n",
              "│ conv_static         │ (<span style=\"color: #00d7ff; text-decoration-color: #00d7ff\">None</span>, <span style=\"color: #00af00; text-decoration-color: #00af00\">1996</span>, <span style=\"color: #00af00; text-decoration-color: #00af00\">128</span>) │     <span style=\"color: #00af00; text-decoration-color: #00af00\">41,088</span> │ emb_static[<span style=\"color: #00af00; text-decoration-color: #00af00\">0</span>][<span style=\"color: #00af00; text-decoration-color: #00af00\">0</span>]  │\n",
              "│ (<span style=\"color: #0087ff; text-decoration-color: #0087ff\">Conv1D</span>)            │                   │            │                   │\n",
              "├─────────────────────┼───────────────────┼────────────┼───────────────────┤\n",
              "│ emb_dynamic         │ (<span style=\"color: #00d7ff; text-decoration-color: #00d7ff\">None</span>, <span style=\"color: #00af00; text-decoration-color: #00af00\">800</span>, <span style=\"color: #00af00; text-decoration-color: #00af00\">64</span>)   │     <span style=\"color: #00af00; text-decoration-color: #00af00\">18,560</span> │ dyn_in[<span style=\"color: #00af00; text-decoration-color: #00af00\">0</span>][<span style=\"color: #00af00; text-decoration-color: #00af00\">0</span>]      │\n",
              "│ (<span style=\"color: #0087ff; text-decoration-color: #0087ff\">Embedding</span>)         │                   │            │                   │\n",
              "├─────────────────────┼───────────────────┼────────────┼───────────────────┤\n",
              "│ make_mask (<span style=\"color: #0087ff; text-decoration-color: #0087ff\">Lambda</span>)  │ (<span style=\"color: #00d7ff; text-decoration-color: #00d7ff\">None</span>, <span style=\"color: #00af00; text-decoration-color: #00af00\">800</span>, <span style=\"color: #00af00; text-decoration-color: #00af00\">1</span>)    │          <span style=\"color: #00af00; text-decoration-color: #00af00\">0</span> │ dyn_in[<span style=\"color: #00af00; text-decoration-color: #00af00\">0</span>][<span style=\"color: #00af00; text-decoration-color: #00af00\">0</span>]      │\n",
              "├─────────────────────┼───────────────────┼────────────┼───────────────────┤\n",
              "│ gmp_static          │ (<span style=\"color: #00d7ff; text-decoration-color: #00d7ff\">None</span>, <span style=\"color: #00af00; text-decoration-color: #00af00\">128</span>)       │          <span style=\"color: #00af00; text-decoration-color: #00af00\">0</span> │ conv_static[<span style=\"color: #00af00; text-decoration-color: #00af00\">0</span>][<span style=\"color: #00af00; text-decoration-color: #00af00\">0</span>] │\n",
              "│ (<span style=\"color: #0087ff; text-decoration-color: #0087ff\">GlobalMaxPooling1…</span> │                   │            │                   │\n",
              "├─────────────────────┼───────────────────┼────────────┼───────────────────┤\n",
              "│ apply_mask          │ (<span style=\"color: #00d7ff; text-decoration-color: #00d7ff\">None</span>, <span style=\"color: #00af00; text-decoration-color: #00af00\">800</span>, <span style=\"color: #00af00; text-decoration-color: #00af00\">64</span>)   │          <span style=\"color: #00af00; text-decoration-color: #00af00\">0</span> │ emb_dynamic[<span style=\"color: #00af00; text-decoration-color: #00af00\">0</span>][<span style=\"color: #00af00; text-decoration-color: #00af00\">0</span>… │\n",
              "│ (<span style=\"color: #0087ff; text-decoration-color: #0087ff\">Multiply</span>)          │                   │            │ make_mask[<span style=\"color: #00af00; text-decoration-color: #00af00\">0</span>][<span style=\"color: #00af00; text-decoration-color: #00af00\">0</span>]   │\n",
              "├─────────────────────┼───────────────────┼────────────┼───────────────────┤\n",
              "│ dense_static        │ (<span style=\"color: #00d7ff; text-decoration-color: #00d7ff\">None</span>, <span style=\"color: #00af00; text-decoration-color: #00af00\">128</span>)       │     <span style=\"color: #00af00; text-decoration-color: #00af00\">16,512</span> │ gmp_static[<span style=\"color: #00af00; text-decoration-color: #00af00\">0</span>][<span style=\"color: #00af00; text-decoration-color: #00af00\">0</span>]  │\n",
              "│ (<span style=\"color: #0087ff; text-decoration-color: #0087ff\">Dense</span>)             │                   │            │                   │\n",
              "├─────────────────────┼───────────────────┼────────────┼───────────────────┤\n",
              "│ bi_lstm             │ (<span style=\"color: #00d7ff; text-decoration-color: #00d7ff\">None</span>, <span style=\"color: #00af00; text-decoration-color: #00af00\">128</span>)       │     <span style=\"color: #00af00; text-decoration-color: #00af00\">66,048</span> │ apply_mask[<span style=\"color: #00af00; text-decoration-color: #00af00\">0</span>][<span style=\"color: #00af00; text-decoration-color: #00af00\">0</span>]  │\n",
              "│ (<span style=\"color: #0087ff; text-decoration-color: #0087ff\">Bidirectional</span>)     │                   │            │                   │\n",
              "├─────────────────────┼───────────────────┼────────────┼───────────────────┤\n",
              "│ drop_static         │ (<span style=\"color: #00d7ff; text-decoration-color: #00d7ff\">None</span>, <span style=\"color: #00af00; text-decoration-color: #00af00\">128</span>)       │          <span style=\"color: #00af00; text-decoration-color: #00af00\">0</span> │ dense_static[<span style=\"color: #00af00; text-decoration-color: #00af00\">0</span>][<span style=\"color: #00af00; text-decoration-color: #00af00\">…</span> │\n",
              "│ (<span style=\"color: #0087ff; text-decoration-color: #0087ff\">Dropout</span>)           │                   │            │                   │\n",
              "├─────────────────────┼───────────────────┼────────────┼───────────────────┤\n",
              "│ drop_dynamic        │ (<span style=\"color: #00d7ff; text-decoration-color: #00d7ff\">None</span>, <span style=\"color: #00af00; text-decoration-color: #00af00\">128</span>)       │          <span style=\"color: #00af00; text-decoration-color: #00af00\">0</span> │ bi_lstm[<span style=\"color: #00af00; text-decoration-color: #00af00\">0</span>][<span style=\"color: #00af00; text-decoration-color: #00af00\">0</span>]     │\n",
              "│ (<span style=\"color: #0087ff; text-decoration-color: #0087ff\">Dropout</span>)           │                   │            │                   │\n",
              "├─────────────────────┼───────────────────┼────────────┼───────────────────┤\n",
              "│ fuse (<span style=\"color: #0087ff; text-decoration-color: #0087ff\">Concatenate</span>)  │ (<span style=\"color: #00d7ff; text-decoration-color: #00d7ff\">None</span>, <span style=\"color: #00af00; text-decoration-color: #00af00\">256</span>)       │          <span style=\"color: #00af00; text-decoration-color: #00af00\">0</span> │ drop_static[<span style=\"color: #00af00; text-decoration-color: #00af00\">0</span>][<span style=\"color: #00af00; text-decoration-color: #00af00\">0</span>… │\n",
              "│                     │                   │            │ drop_dynamic[<span style=\"color: #00af00; text-decoration-color: #00af00\">0</span>][<span style=\"color: #00af00; text-decoration-color: #00af00\">…</span> │\n",
              "├─────────────────────┼───────────────────┼────────────┼───────────────────┤\n",
              "│ dense_fused (<span style=\"color: #0087ff; text-decoration-color: #0087ff\">Dense</span>) │ (<span style=\"color: #00d7ff; text-decoration-color: #00d7ff\">None</span>, <span style=\"color: #00af00; text-decoration-color: #00af00\">128</span>)       │     <span style=\"color: #00af00; text-decoration-color: #00af00\">32,896</span> │ fuse[<span style=\"color: #00af00; text-decoration-color: #00af00\">0</span>][<span style=\"color: #00af00; text-decoration-color: #00af00\">0</span>]        │\n",
              "├─────────────────────┼───────────────────┼────────────┼───────────────────┤\n",
              "│ drop_fused          │ (<span style=\"color: #00d7ff; text-decoration-color: #00d7ff\">None</span>, <span style=\"color: #00af00; text-decoration-color: #00af00\">128</span>)       │          <span style=\"color: #00af00; text-decoration-color: #00af00\">0</span> │ dense_fused[<span style=\"color: #00af00; text-decoration-color: #00af00\">0</span>][<span style=\"color: #00af00; text-decoration-color: #00af00\">0</span>] │\n",
              "│ (<span style=\"color: #0087ff; text-decoration-color: #0087ff\">Dropout</span>)           │                   │            │                   │\n",
              "├─────────────────────┼───────────────────┼────────────┼───────────────────┤\n",
              "│ output (<span style=\"color: #0087ff; text-decoration-color: #0087ff\">Dense</span>)      │ (<span style=\"color: #00d7ff; text-decoration-color: #00d7ff\">None</span>, <span style=\"color: #00af00; text-decoration-color: #00af00\">3</span>)         │        <span style=\"color: #00af00; text-decoration-color: #00af00\">387</span> │ drop_fused[<span style=\"color: #00af00; text-decoration-color: #00af00\">0</span>][<span style=\"color: #00af00; text-decoration-color: #00af00\">0</span>]  │\n",
              "└─────────────────────┴───────────────────┴────────────┴───────────────────┘\n",
              "</pre>\n"
            ]
          },
          "metadata": {}
        },
        {
          "output_type": "display_data",
          "data": {
            "text/plain": [
              "\u001b[1m Total params: \u001b[0m\u001b[38;5;34m1,188,547\u001b[0m (4.53 MB)\n"
            ],
            "text/html": [
              "<pre style=\"white-space:pre;overflow-x:auto;line-height:normal;font-family:Menlo,'DejaVu Sans Mono',consolas,'Courier New',monospace\"><span style=\"font-weight: bold\"> Total params: </span><span style=\"color: #00af00; text-decoration-color: #00af00\">1,188,547</span> (4.53 MB)\n",
              "</pre>\n"
            ]
          },
          "metadata": {}
        },
        {
          "output_type": "display_data",
          "data": {
            "text/plain": [
              "\u001b[1m Trainable params: \u001b[0m\u001b[38;5;34m1,188,547\u001b[0m (4.53 MB)\n"
            ],
            "text/html": [
              "<pre style=\"white-space:pre;overflow-x:auto;line-height:normal;font-family:Menlo,'DejaVu Sans Mono',consolas,'Courier New',monospace\"><span style=\"font-weight: bold\"> Trainable params: </span><span style=\"color: #00af00; text-decoration-color: #00af00\">1,188,547</span> (4.53 MB)\n",
              "</pre>\n"
            ]
          },
          "metadata": {}
        },
        {
          "output_type": "display_data",
          "data": {
            "text/plain": [
              "\u001b[1m Non-trainable params: \u001b[0m\u001b[38;5;34m0\u001b[0m (0.00 B)\n"
            ],
            "text/html": [
              "<pre style=\"white-space:pre;overflow-x:auto;line-height:normal;font-family:Menlo,'DejaVu Sans Mono',consolas,'Courier New',monospace\"><span style=\"font-weight: bold\"> Non-trainable params: </span><span style=\"color: #00af00; text-decoration-color: #00af00\">0</span> (0.00 B)\n",
              "</pre>\n"
            ]
          },
          "metadata": {}
        }
      ]
    },
    {
      "cell_type": "markdown",
      "source": [
        "## **Add class weights + learning rate scheduler + early stopping**"
      ],
      "metadata": {
        "id": "kcuqFIboMG7k"
      }
    },
    {
      "cell_type": "code",
      "source": [
        "from tensorflow.keras.callbacks import EarlyStopping, ReduceLROnPlateau\n",
        "import numpy as np\n",
        "\n",
        "# ---- 1) Compute class weights (to balance benign/malware/ransomware) ----\n",
        "classes, counts = np.unique(y_tr, return_counts=True)\n",
        "total = np.sum(counts)\n",
        "class_weights = {cls: total / (len(classes) * count) for cls, count in zip(classes, counts)}\n",
        "print(\"Class weights:\", class_weights)\n",
        "\n",
        "# ---- 2) Callbacks ----\n",
        "early_stop = EarlyStopping(\n",
        "    monitor=\"val_loss\",\n",
        "    patience=3,\n",
        "    restore_best_weights=True\n",
        ")\n",
        "\n",
        "lr_scheduler = ReduceLROnPlateau(\n",
        "    monitor=\"val_accuracy\",\n",
        "    factor=0.5,\n",
        "    patience=2,\n",
        "    min_lr=1e-5,\n",
        "    verbose=1\n",
        ")\n",
        "\n",
        "# ---- 3) Train ----\n",
        "history = model.fit(\n",
        "    [Xst_tr, Xdy_tr], y_tr,\n",
        "    validation_data=([Xst_val, Xdy_val], y_val),\n",
        "    epochs=30,\n",
        "    batch_size=64,\n",
        "    class_weight=class_weights,\n",
        "    callbacks=[early_stop, lr_scheduler],\n",
        "    verbose=1\n",
        ")\n"
      ],
      "metadata": {
        "colab": {
          "base_uri": "https://localhost:8080/"
        },
        "id": "KnujC73gMIdV",
        "outputId": "b5891ff5-969f-4bd0-e936-d528e5b67ab7"
      },
      "execution_count": null,
      "outputs": [
        {
          "output_type": "stream",
          "name": "stdout",
          "text": [
            "Class weights: {np.int64(0): np.float64(2.6619787811497657), np.int64(1): np.float64(0.5884053228621291), np.int64(2): np.float64(1.0812788133894569)}\n",
            "Epoch 1/30\n",
            "\u001b[1m169/169\u001b[0m \u001b[32m━━━━━━━━━━━━━━━━━━━━\u001b[0m\u001b[37m\u001b[0m \u001b[1m20s\u001b[0m 87ms/step - accuracy: 0.7381 - loss: 0.5473 - val_accuracy: 0.9208 - val_loss: 0.3243 - learning_rate: 0.0010\n",
            "Epoch 2/30\n",
            "\u001b[1m169/169\u001b[0m \u001b[32m━━━━━━━━━━━━━━━━━━━━\u001b[0m\u001b[37m\u001b[0m \u001b[1m14s\u001b[0m 84ms/step - accuracy: 0.9856 - loss: 0.0342 - val_accuracy: 0.9200 - val_loss: 0.3410 - learning_rate: 0.0010\n",
            "Epoch 3/30\n",
            "\u001b[1m169/169\u001b[0m \u001b[32m━━━━━━━━━━━━━━━━━━━━\u001b[0m\u001b[37m\u001b[0m \u001b[1m0s\u001b[0m 75ms/step - accuracy: 0.9997 - loss: 0.0022\n",
            "Epoch 3: ReduceLROnPlateau reducing learning rate to 0.0005000000237487257.\n",
            "\u001b[1m169/169\u001b[0m \u001b[32m━━━━━━━━━━━━━━━━━━━━\u001b[0m\u001b[37m\u001b[0m \u001b[1m20s\u001b[0m 83ms/step - accuracy: 0.9997 - loss: 0.0022 - val_accuracy: 0.9204 - val_loss: 0.4894 - learning_rate: 0.0010\n",
            "Epoch 4/30\n",
            "\u001b[1m169/169\u001b[0m \u001b[32m━━━━━━━━━━━━━━━━━━━━\u001b[0m\u001b[37m\u001b[0m \u001b[1m20s\u001b[0m 83ms/step - accuracy: 0.9999 - loss: 7.4781e-04 - val_accuracy: 0.9204 - val_loss: 0.5003 - learning_rate: 5.0000e-04\n"
          ]
        }
      ]
    },
    {
      "cell_type": "markdown",
      "source": [
        "## **Next Step (to push toward 98–99% validation accuracy):**"
      ],
      "metadata": {
        "id": "jqN5ODDqMuxr"
      }
    },
    {
      "cell_type": "code",
      "source": [
        "def build_model(static_vocab, dynamic_vocab, static_len, dynamic_len):\n",
        "    # --- Static branch: CNN ---\n",
        "    static_input = layers.Input(shape=(static_len,), name=\"static_input\")\n",
        "    x1 = layers.Embedding(static_vocab, 64, mask_zero=True, name=\"emb_static\")(static_input)\n",
        "    x1 = layers.Conv1D(128, 5, activation=\"relu\", name=\"conv1\")(x1)\n",
        "    x1 = layers.GlobalMaxPooling1D()(x1)\n",
        "    x1 = layers.Dense(128, activation=\"relu\", name=\"static_fc1\")(x1)\n",
        "    x1 = layers.Dropout(0.6, name=\"drop_static\")(x1)   # 🔥 more dropout\n",
        "\n",
        "    # --- Dynamic branch: BiLSTM ---\n",
        "    dynamic_input = layers.Input(shape=(dynamic_len,), name=\"dynamic_input\")\n",
        "    x2 = layers.Embedding(dynamic_vocab, 64, mask_zero=True, name=\"emb_dynamic\")(dynamic_input)\n",
        "    mask = tf.cast(tf.not_equal(dynamic_input, 0), tf.float32)\n",
        "    mask = tf.expand_dims(mask, -1)\n",
        "    x2 = layers.Multiply()([x2, mask])\n",
        "    x2 = layers.Bidirectional(layers.LSTM(64, return_sequences=False), name=\"bi_lstm\")(x2)\n",
        "    x2 = layers.Dropout(0.6, name=\"drop_dynamic\")(x2)  # 🔥 more dropout\n",
        "\n",
        "    # --- Fusion ---\n",
        "    fused = layers.Concatenate(name=\"fuse\")([x1, x2])\n",
        "    fused = layers.Dense(128, activation=\"relu\", name=\"dense1\")(fused)\n",
        "    fused = layers.Dropout(0.5, name=\"drop1\")(fused)   # 🔥 more dropout\n",
        "    fused = layers.Dense(64, activation=\"relu\", name=\"dense2\")(fused)\n",
        "    fused = layers.Dropout(0.5, name=\"drop2\")(fused)   # 🔥 more dropout\n",
        "\n",
        "    output = layers.Dense(3, activation=\"softmax\", name=\"output\")(fused)\n",
        "\n",
        "    model = models.Model(inputs=[static_input, dynamic_input], outputs=output)\n",
        "\n",
        "    model.compile(\n",
        "        optimizer=tf.keras.optimizers.Adam(learning_rate=1e-3),\n",
        "        loss=\"sparse_categorical_crossentropy\",\n",
        "        metrics=[\"accuracy\"]\n",
        "    )\n",
        "    return model\n"
      ],
      "metadata": {
        "id": "RunyLL91MyIL"
      },
      "execution_count": null,
      "outputs": []
    },
    {
      "cell_type": "code",
      "source": [
        "def build_model_v2(static_vocab, dynamic_vocab, static_len, dynamic_len,\n",
        "                   emb_dim_static=EMB_DIM_STATIC,\n",
        "                   emb_dim_dynamic=EMB_DIM_DYNAMIC,\n",
        "                   l2=L2_WEIGHT,\n",
        "                   drop_static=DROP_STATIC,\n",
        "                   drop_dynamic=DROP_DYNAMIC,\n",
        "                   drop_fused=DROP_FUSED,\n",
        "                   lr=LR_INIT, weight_decay=WD):\n",
        "\n",
        "    kr = regularizers.l2(l2)\n",
        "\n",
        "    # ----- Static branch: CNN over opcode/instruction tokens -----\n",
        "    static_in = layers.Input(shape=(static_len,), name=\"static_in\")\n",
        "    xs = layers.Embedding(static_vocab, emb_dim_static, mask_zero=True, name=\"emb_static\")(static_in)\n",
        "    xs = layers.Conv1D(128, 5, activation=\"relu\", kernel_regularizer=kr, name=\"conv_static\")(xs)\n",
        "    xs = layers.GlobalMaxPooling1D(name=\"gmp_static\")(xs)\n",
        "    xs = layers.Dense(128, activation=\"relu\", kernel_regularizer=kr, name=\"dense_static\")(xs)\n",
        "    xs = layers.Dropout(drop_static, name=\"drop_static\")(xs)\n",
        "\n",
        "    # ----- Dynamic branch: mask-safe BiLSTM over API calls -----\n",
        "    dyn_in = layers.Input(shape=(dynamic_len,), name=\"dynamic_in\")\n",
        "    xd = layers.Embedding(dynamic_vocab, emb_dim_dynamic, mask_zero=True, name=\"emb_dynamic\")(dyn_in)\n",
        "\n",
        "    make_mask   = layers.Lambda(lambda t: tf.cast(tf.not_equal(t, 0), tf.float32), name=\"make_mask\")\n",
        "    expand_mask = layers.Lambda(lambda t: tf.expand_dims(t, -1), name=\"expand_mask\")\n",
        "    mask = expand_mask(make_mask(dyn_in))\n",
        "    xd = layers.Multiply(name=\"apply_mask\")([xd, mask])\n",
        "\n",
        "    xd = layers.Bidirectional(\n",
        "            layers.LSTM(64, return_sequences=False, kernel_regularizer=kr),\n",
        "            name=\"bi_lstm\")(xd)\n",
        "    xd = layers.Dropout(drop_dynamic, name=\"drop_dynamic\")(xd)\n",
        "\n",
        "    # ----- Fusion head -----\n",
        "    x = layers.Concatenate(name=\"fuse\")([xs, xd])\n",
        "    x = layers.Dense(128, activation=\"relu\", kernel_regularizer=kr, name=\"dense_fused_1\")(x)\n",
        "    x = layers.Dropout(drop_fused, name=\"drop_fused_1\")(x)\n",
        "    x = layers.Dense(64, activation=\"relu\", kernel_regularizer=kr, name=\"dense_fused_2\")(x)\n",
        "    x = layers.Dropout(drop_fused, name=\"drop_fused_2\")(x)\n",
        "\n",
        "    out = layers.Dense(3, activation=\"softmax\", name=\"output\")(x)\n",
        "\n",
        "    model = models.Model([static_in, dyn_in], out)\n",
        "\n",
        "    # Optimizer + Loss (no label smoothing here)\n",
        "    opt = tf.keras.optimizers.AdamW(learning_rate=lr, weight_decay=weight_decay, global_clipnorm=1.0)\n",
        "    loss = tf.keras.losses.SparseCategoricalCrossentropy()\n",
        "\n",
        "    model.compile(optimizer=opt, loss=loss, metrics=[\"accuracy\"])\n",
        "    return model\n"
      ],
      "metadata": {
        "id": "z2feLgyaNxt5"
      },
      "execution_count": null,
      "outputs": []
    },
    {
      "cell_type": "code",
      "source": [
        "from tensorflow.keras.preprocessing.text import Tokenizer\n",
        "from tensorflow.keras.preprocessing.sequence import pad_sequences\n",
        "\n",
        "# ----- Tokenize static sequences -----\n",
        "tok_static = Tokenizer(num_words=20000, oov_token=\"<UNK>\")\n",
        "tok_static.fit_on_texts(train_df[\"static_seq\"])\n",
        "\n",
        "Xt_tr = pad_sequences(tok_static.texts_to_sequences(train_df[\"static_seq\"]), maxlen=2000)\n",
        "Xt_val = pad_sequences(tok_static.texts_to_sequences(val_df[\"static_seq\"]), maxlen=2000)\n",
        "Xt_te = pad_sequences(tok_static.texts_to_sequences(test_df[\"static_seq\"]), maxlen=2000)\n",
        "\n",
        "# ----- Tokenize dynamic sequences -----\n",
        "tok_dynamic = Tokenizer(num_words=5000, oov_token=\"<UNK>\")\n",
        "tok_dynamic.fit_on_texts(train_df[\"dynamic_seq\"])\n",
        "\n",
        "Xdy_tr = pad_sequences(tok_dynamic.texts_to_sequences(train_df[\"dynamic_seq\"]), maxlen=800)\n",
        "Xdy_val = pad_sequences(tok_dynamic.texts_to_sequences(val_df[\"dynamic_seq\"]), maxlen=800)\n",
        "Xdy_te = pad_sequences(tok_dynamic.texts_to_sequences(test_df[\"dynamic_seq\"]), maxlen=800)\n",
        "\n",
        "# ----- Labels -----\n",
        "y_tr = train_df[\"label\"].map(label_map).astype(\"int32\").values\n",
        "y_val = val_df[\"label\"].map(label_map).astype(\"int32\").values\n",
        "y_te = test_df[\"label\"].map(label_map).astype(\"int32\").values\n",
        "\n",
        "# Confirm dtype/shape\n",
        "print(Xt_tr.shape, Xt_tr.dtype)\n",
        "print(Xdy_tr.shape, Xdy_tr.dtype)\n",
        "print(y_tr.shape, y_tr.dtype)\n"
      ],
      "metadata": {
        "colab": {
          "base_uri": "https://localhost:8080/"
        },
        "id": "hbZQuWMbQpke",
        "outputId": "545d9299-6245-42b8-8111-eb4578ede8e4"
      },
      "execution_count": null,
      "outputs": [
        {
          "output_type": "stream",
          "name": "stdout",
          "text": [
            "(10789, 2000) int32\n",
            "(10789, 800) int32\n",
            "(10789,) int32\n"
          ]
        }
      ]
    },
    {
      "cell_type": "markdown",
      "source": [
        "## **Build model with the correct vocab + lengths**"
      ],
      "metadata": {
        "id": "LfJqp_jFTA0y"
      }
    },
    {
      "cell_type": "code",
      "source": [
        "# Vocab sizes (from tokenizer.word_index + 1 for OOV)\n",
        "static_vocab = len(tok_static.word_index) + 1\n",
        "dynamic_vocab = len(tok_dynamic.word_index) + 1\n",
        "\n",
        "static_len = Xt_tr.shape[1]   # 2000\n",
        "dynamic_len = Xdy_tr.shape[1] # 800\n",
        "\n",
        "print(\"Static vocab:\", static_vocab, \" Dynamic vocab:\", dynamic_vocab)\n",
        "print(\"Static len:\", static_len, \" Dynamic len:\", dynamic_len)\n"
      ],
      "metadata": {
        "colab": {
          "base_uri": "https://localhost:8080/"
        },
        "id": "StEJw8QGTFDY",
        "outputId": "f75410a0-650e-4c04-905b-88be3e9facae"
      },
      "execution_count": null,
      "outputs": [
        {
          "output_type": "stream",
          "name": "stdout",
          "text": [
            "Static vocab: 1352825  Dynamic vocab: 245\n",
            "Static len: 2000  Dynamic len: 800\n"
          ]
        }
      ]
    },
    {
      "cell_type": "markdown",
      "source": [
        "## **Rebuild the model**"
      ],
      "metadata": {
        "id": "VHTEMR-PTa2P"
      }
    },
    {
      "cell_type": "code",
      "source": [
        "import tensorflow as tf\n",
        "from tensorflow.keras import layers, models, regularizers\n",
        "\n",
        "def build_model_v2(static_vocab, dynamic_vocab, static_len, dynamic_len,\n",
        "                   emb_dim_static=64, emb_dim_dynamic=64,\n",
        "                   l2=1e-4, drop_static=0.5, drop_dynamic=0.5, drop_fused=0.5,\n",
        "                   lr=1e-3, weight_decay=1e-5):\n",
        "\n",
        "    kr = regularizers.l2(l2)\n",
        "\n",
        "    # ---- Static branch: CNN over opcode/instruction tokens ----\n",
        "    static_in = layers.Input(shape=(static_len,), name=\"static_in\")\n",
        "    xs = layers.Embedding(static_vocab, emb_dim_static, mask_zero=True,\n",
        "                          name=\"emb_static\")(static_in)\n",
        "    xs = layers.Conv1D(128, 5, activation=\"relu\", kernel_regularizer=kr,\n",
        "                       name=\"conv_static\")(xs)\n",
        "    xs = layers.GlobalMaxPooling1D(name=\"gmp_static\")(xs)\n",
        "    xs = layers.Dense(128, activation=\"relu\", kernel_regularizer=kr,\n",
        "                      name=\"dense_static\")(xs)\n",
        "    xs = layers.Dropout(drop_static, name=\"drop_static\")(xs)\n",
        "\n",
        "    # ---- Dynamic branch: BiLSTM over API calls ----\n",
        "    dyn_in = layers.Input(shape=(dynamic_len,), name=\"dynamic_in\")\n",
        "    xd = layers.Embedding(dynamic_vocab, emb_dim_dynamic, mask_zero=True,\n",
        "                          name=\"emb_dynamic\")(dyn_in)\n",
        "\n",
        "    # Mask handling\n",
        "    mask = layers.Lambda(lambda t: tf.cast(tf.not_equal(t, 0), tf.float32),\n",
        "                         name=\"make_mask\")(dyn_in)\n",
        "    mask = layers.Lambda(lambda t: tf.expand_dims(t, -1), name=\"expand_mask\")(mask)\n",
        "    xd = layers.Multiply(name=\"apply_mask\")([xd, mask])\n",
        "\n",
        "    xd = layers.Bidirectional(\n",
        "        layers.LSTM(64, return_sequences=False, kernel_regularizer=kr),\n",
        "        name=\"bi_lstm\"\n",
        "    )(xd)\n",
        "    xd = layers.Dropout(drop_dynamic, name=\"drop_dynamic\")(xd)\n",
        "\n",
        "    # ---- Fusion ----\n",
        "    x = layers.Concatenate(name=\"fuse\")([xs, xd])\n",
        "    x = layers.Dense(128, activation=\"relu\", kernel_regularizer=kr,\n",
        "                     name=\"dense_fused_1\")(x)\n",
        "    x = layers.Dropout(drop_fused, name=\"drop_fused_1\")(x)\n",
        "    x = layers.Dense(64, activation=\"relu\", kernel_regularizer=kr,\n",
        "                     name=\"dense_fused_2\")(x)\n",
        "    x = layers.Dropout(drop_fused, name=\"drop_fused_2\")(x)\n",
        "\n",
        "    out = layers.Dense(3, activation=\"softmax\", name=\"output\")(x)\n",
        "\n",
        "    model = models.Model([static_in, dyn_in], out)\n",
        "\n",
        "    # Optimizer + Loss\n",
        "    opt = tf.keras.optimizers.Adam(learning_rate=lr, weight_decay=weight_decay,\n",
        "                                   global_clipnorm=1.0)\n",
        "    loss = tf.keras.losses.SparseCategoricalCrossentropy()\n",
        "\n",
        "    model.compile(optimizer=opt, loss=loss, metrics=[\"accuracy\"])\n",
        "    return model\n",
        "\n",
        "\n",
        "# -------------------- Build + Summary --------------------\n",
        "model = build_model_v2(static_vocab, dynamic_vocab, static_len, dynamic_len)\n",
        "model.summary()\n"
      ],
      "metadata": {
        "colab": {
          "base_uri": "https://localhost:8080/",
          "height": 1000
        },
        "id": "eAB4kFBtTfU3",
        "outputId": "29ffae64-cffb-4a9c-9236-7a9c0327e5c0"
      },
      "execution_count": null,
      "outputs": [
        {
          "output_type": "stream",
          "name": "stderr",
          "text": [
            "/usr/local/lib/python3.12/dist-packages/keras/src/layers/layer.py:965: UserWarning: Layer 'conv_static' (of type Conv1D) was passed an input with a mask attached to it. However, this layer does not support masking and will therefore destroy the mask information. Downstream layers will not see the mask.\n",
            "  warnings.warn(\n"
          ]
        },
        {
          "output_type": "display_data",
          "data": {
            "text/plain": [
              "\u001b[1mModel: \"functional_4\"\u001b[0m\n"
            ],
            "text/html": [
              "<pre style=\"white-space:pre;overflow-x:auto;line-height:normal;font-family:Menlo,'DejaVu Sans Mono',consolas,'Courier New',monospace\"><span style=\"font-weight: bold\">Model: \"functional_4\"</span>\n",
              "</pre>\n"
            ]
          },
          "metadata": {}
        },
        {
          "output_type": "display_data",
          "data": {
            "text/plain": [
              "┏━━━━━━━━━━━━━━━━━━━━━┳━━━━━━━━━━━━━━━━━━━┳━━━━━━━━━━━━┳━━━━━━━━━━━━━━━━━━━┓\n",
              "┃\u001b[1m \u001b[0m\u001b[1mLayer (type)       \u001b[0m\u001b[1m \u001b[0m┃\u001b[1m \u001b[0m\u001b[1mOutput Shape     \u001b[0m\u001b[1m \u001b[0m┃\u001b[1m \u001b[0m\u001b[1m   Param #\u001b[0m\u001b[1m \u001b[0m┃\u001b[1m \u001b[0m\u001b[1mConnected to     \u001b[0m\u001b[1m \u001b[0m┃\n",
              "┡━━━━━━━━━━━━━━━━━━━━━╇━━━━━━━━━━━━━━━━━━━╇━━━━━━━━━━━━╇━━━━━━━━━━━━━━━━━━━┩\n",
              "│ static_in           │ (\u001b[38;5;45mNone\u001b[0m, \u001b[38;5;34m2000\u001b[0m)      │          \u001b[38;5;34m0\u001b[0m │ -                 │\n",
              "│ (\u001b[38;5;33mInputLayer\u001b[0m)        │                   │            │                   │\n",
              "├─────────────────────┼───────────────────┼────────────┼───────────────────┤\n",
              "│ dynamic_in          │ (\u001b[38;5;45mNone\u001b[0m, \u001b[38;5;34m800\u001b[0m)       │          \u001b[38;5;34m0\u001b[0m │ -                 │\n",
              "│ (\u001b[38;5;33mInputLayer\u001b[0m)        │                   │            │                   │\n",
              "├─────────────────────┼───────────────────┼────────────┼───────────────────┤\n",
              "│ emb_static          │ (\u001b[38;5;45mNone\u001b[0m, \u001b[38;5;34m2000\u001b[0m, \u001b[38;5;34m64\u001b[0m)  │ \u001b[38;5;34m86,580,800\u001b[0m │ static_in[\u001b[38;5;34m0\u001b[0m][\u001b[38;5;34m0\u001b[0m]   │\n",
              "│ (\u001b[38;5;33mEmbedding\u001b[0m)         │                   │            │                   │\n",
              "├─────────────────────┼───────────────────┼────────────┼───────────────────┤\n",
              "│ make_mask (\u001b[38;5;33mLambda\u001b[0m)  │ (\u001b[38;5;45mNone\u001b[0m, \u001b[38;5;34m800\u001b[0m)       │          \u001b[38;5;34m0\u001b[0m │ dynamic_in[\u001b[38;5;34m0\u001b[0m][\u001b[38;5;34m0\u001b[0m]  │\n",
              "├─────────────────────┼───────────────────┼────────────┼───────────────────┤\n",
              "│ conv_static         │ (\u001b[38;5;45mNone\u001b[0m, \u001b[38;5;34m1996\u001b[0m, \u001b[38;5;34m128\u001b[0m) │     \u001b[38;5;34m41,088\u001b[0m │ emb_static[\u001b[38;5;34m0\u001b[0m][\u001b[38;5;34m0\u001b[0m]  │\n",
              "│ (\u001b[38;5;33mConv1D\u001b[0m)            │                   │            │                   │\n",
              "├─────────────────────┼───────────────────┼────────────┼───────────────────┤\n",
              "│ emb_dynamic         │ (\u001b[38;5;45mNone\u001b[0m, \u001b[38;5;34m800\u001b[0m, \u001b[38;5;34m64\u001b[0m)   │     \u001b[38;5;34m15,680\u001b[0m │ dynamic_in[\u001b[38;5;34m0\u001b[0m][\u001b[38;5;34m0\u001b[0m]  │\n",
              "│ (\u001b[38;5;33mEmbedding\u001b[0m)         │                   │            │                   │\n",
              "├─────────────────────┼───────────────────┼────────────┼───────────────────┤\n",
              "│ expand_mask         │ (\u001b[38;5;45mNone\u001b[0m, \u001b[38;5;34m800\u001b[0m, \u001b[38;5;34m1\u001b[0m)    │          \u001b[38;5;34m0\u001b[0m │ make_mask[\u001b[38;5;34m0\u001b[0m][\u001b[38;5;34m0\u001b[0m]   │\n",
              "│ (\u001b[38;5;33mLambda\u001b[0m)            │                   │            │                   │\n",
              "├─────────────────────┼───────────────────┼────────────┼───────────────────┤\n",
              "│ gmp_static          │ (\u001b[38;5;45mNone\u001b[0m, \u001b[38;5;34m128\u001b[0m)       │          \u001b[38;5;34m0\u001b[0m │ conv_static[\u001b[38;5;34m0\u001b[0m][\u001b[38;5;34m0\u001b[0m] │\n",
              "│ (\u001b[38;5;33mGlobalMaxPooling1…\u001b[0m │                   │            │                   │\n",
              "├─────────────────────┼───────────────────┼────────────┼───────────────────┤\n",
              "│ apply_mask          │ (\u001b[38;5;45mNone\u001b[0m, \u001b[38;5;34m800\u001b[0m, \u001b[38;5;34m64\u001b[0m)   │          \u001b[38;5;34m0\u001b[0m │ emb_dynamic[\u001b[38;5;34m0\u001b[0m][\u001b[38;5;34m0\u001b[0m… │\n",
              "│ (\u001b[38;5;33mMultiply\u001b[0m)          │                   │            │ expand_mask[\u001b[38;5;34m0\u001b[0m][\u001b[38;5;34m0\u001b[0m] │\n",
              "├─────────────────────┼───────────────────┼────────────┼───────────────────┤\n",
              "│ dense_static        │ (\u001b[38;5;45mNone\u001b[0m, \u001b[38;5;34m128\u001b[0m)       │     \u001b[38;5;34m16,512\u001b[0m │ gmp_static[\u001b[38;5;34m0\u001b[0m][\u001b[38;5;34m0\u001b[0m]  │\n",
              "│ (\u001b[38;5;33mDense\u001b[0m)             │                   │            │                   │\n",
              "├─────────────────────┼───────────────────┼────────────┼───────────────────┤\n",
              "│ bi_lstm             │ (\u001b[38;5;45mNone\u001b[0m, \u001b[38;5;34m128\u001b[0m)       │     \u001b[38;5;34m66,048\u001b[0m │ apply_mask[\u001b[38;5;34m0\u001b[0m][\u001b[38;5;34m0\u001b[0m]  │\n",
              "│ (\u001b[38;5;33mBidirectional\u001b[0m)     │                   │            │                   │\n",
              "├─────────────────────┼───────────────────┼────────────┼───────────────────┤\n",
              "│ drop_static         │ (\u001b[38;5;45mNone\u001b[0m, \u001b[38;5;34m128\u001b[0m)       │          \u001b[38;5;34m0\u001b[0m │ dense_static[\u001b[38;5;34m0\u001b[0m][\u001b[38;5;34m…\u001b[0m │\n",
              "│ (\u001b[38;5;33mDropout\u001b[0m)           │                   │            │                   │\n",
              "├─────────────────────┼───────────────────┼────────────┼───────────────────┤\n",
              "│ drop_dynamic        │ (\u001b[38;5;45mNone\u001b[0m, \u001b[38;5;34m128\u001b[0m)       │          \u001b[38;5;34m0\u001b[0m │ bi_lstm[\u001b[38;5;34m0\u001b[0m][\u001b[38;5;34m0\u001b[0m]     │\n",
              "│ (\u001b[38;5;33mDropout\u001b[0m)           │                   │            │                   │\n",
              "├─────────────────────┼───────────────────┼────────────┼───────────────────┤\n",
              "│ fuse (\u001b[38;5;33mConcatenate\u001b[0m)  │ (\u001b[38;5;45mNone\u001b[0m, \u001b[38;5;34m256\u001b[0m)       │          \u001b[38;5;34m0\u001b[0m │ drop_static[\u001b[38;5;34m0\u001b[0m][\u001b[38;5;34m0\u001b[0m… │\n",
              "│                     │                   │            │ drop_dynamic[\u001b[38;5;34m0\u001b[0m][\u001b[38;5;34m…\u001b[0m │\n",
              "├─────────────────────┼───────────────────┼────────────┼───────────────────┤\n",
              "│ dense_fused_1       │ (\u001b[38;5;45mNone\u001b[0m, \u001b[38;5;34m128\u001b[0m)       │     \u001b[38;5;34m32,896\u001b[0m │ fuse[\u001b[38;5;34m0\u001b[0m][\u001b[38;5;34m0\u001b[0m]        │\n",
              "│ (\u001b[38;5;33mDense\u001b[0m)             │                   │            │                   │\n",
              "├─────────────────────┼───────────────────┼────────────┼───────────────────┤\n",
              "│ drop_fused_1        │ (\u001b[38;5;45mNone\u001b[0m, \u001b[38;5;34m128\u001b[0m)       │          \u001b[38;5;34m0\u001b[0m │ dense_fused_1[\u001b[38;5;34m0\u001b[0m]… │\n",
              "│ (\u001b[38;5;33mDropout\u001b[0m)           │                   │            │                   │\n",
              "├─────────────────────┼───────────────────┼────────────┼───────────────────┤\n",
              "│ dense_fused_2       │ (\u001b[38;5;45mNone\u001b[0m, \u001b[38;5;34m64\u001b[0m)        │      \u001b[38;5;34m8,256\u001b[0m │ drop_fused_1[\u001b[38;5;34m0\u001b[0m][\u001b[38;5;34m…\u001b[0m │\n",
              "│ (\u001b[38;5;33mDense\u001b[0m)             │                   │            │                   │\n",
              "├─────────────────────┼───────────────────┼────────────┼───────────────────┤\n",
              "│ drop_fused_2        │ (\u001b[38;5;45mNone\u001b[0m, \u001b[38;5;34m64\u001b[0m)        │          \u001b[38;5;34m0\u001b[0m │ dense_fused_2[\u001b[38;5;34m0\u001b[0m]… │\n",
              "│ (\u001b[38;5;33mDropout\u001b[0m)           │                   │            │                   │\n",
              "├─────────────────────┼───────────────────┼────────────┼───────────────────┤\n",
              "│ output (\u001b[38;5;33mDense\u001b[0m)      │ (\u001b[38;5;45mNone\u001b[0m, \u001b[38;5;34m3\u001b[0m)         │        \u001b[38;5;34m195\u001b[0m │ drop_fused_2[\u001b[38;5;34m0\u001b[0m][\u001b[38;5;34m…\u001b[0m │\n",
              "└─────────────────────┴───────────────────┴────────────┴───────────────────┘\n"
            ],
            "text/html": [
              "<pre style=\"white-space:pre;overflow-x:auto;line-height:normal;font-family:Menlo,'DejaVu Sans Mono',consolas,'Courier New',monospace\">┏━━━━━━━━━━━━━━━━━━━━━┳━━━━━━━━━━━━━━━━━━━┳━━━━━━━━━━━━┳━━━━━━━━━━━━━━━━━━━┓\n",
              "┃<span style=\"font-weight: bold\"> Layer (type)        </span>┃<span style=\"font-weight: bold\"> Output Shape      </span>┃<span style=\"font-weight: bold\">    Param # </span>┃<span style=\"font-weight: bold\"> Connected to      </span>┃\n",
              "┡━━━━━━━━━━━━━━━━━━━━━╇━━━━━━━━━━━━━━━━━━━╇━━━━━━━━━━━━╇━━━━━━━━━━━━━━━━━━━┩\n",
              "│ static_in           │ (<span style=\"color: #00d7ff; text-decoration-color: #00d7ff\">None</span>, <span style=\"color: #00af00; text-decoration-color: #00af00\">2000</span>)      │          <span style=\"color: #00af00; text-decoration-color: #00af00\">0</span> │ -                 │\n",
              "│ (<span style=\"color: #0087ff; text-decoration-color: #0087ff\">InputLayer</span>)        │                   │            │                   │\n",
              "├─────────────────────┼───────────────────┼────────────┼───────────────────┤\n",
              "│ dynamic_in          │ (<span style=\"color: #00d7ff; text-decoration-color: #00d7ff\">None</span>, <span style=\"color: #00af00; text-decoration-color: #00af00\">800</span>)       │          <span style=\"color: #00af00; text-decoration-color: #00af00\">0</span> │ -                 │\n",
              "│ (<span style=\"color: #0087ff; text-decoration-color: #0087ff\">InputLayer</span>)        │                   │            │                   │\n",
              "├─────────────────────┼───────────────────┼────────────┼───────────────────┤\n",
              "│ emb_static          │ (<span style=\"color: #00d7ff; text-decoration-color: #00d7ff\">None</span>, <span style=\"color: #00af00; text-decoration-color: #00af00\">2000</span>, <span style=\"color: #00af00; text-decoration-color: #00af00\">64</span>)  │ <span style=\"color: #00af00; text-decoration-color: #00af00\">86,580,800</span> │ static_in[<span style=\"color: #00af00; text-decoration-color: #00af00\">0</span>][<span style=\"color: #00af00; text-decoration-color: #00af00\">0</span>]   │\n",
              "│ (<span style=\"color: #0087ff; text-decoration-color: #0087ff\">Embedding</span>)         │                   │            │                   │\n",
              "├─────────────────────┼───────────────────┼────────────┼───────────────────┤\n",
              "│ make_mask (<span style=\"color: #0087ff; text-decoration-color: #0087ff\">Lambda</span>)  │ (<span style=\"color: #00d7ff; text-decoration-color: #00d7ff\">None</span>, <span style=\"color: #00af00; text-decoration-color: #00af00\">800</span>)       │          <span style=\"color: #00af00; text-decoration-color: #00af00\">0</span> │ dynamic_in[<span style=\"color: #00af00; text-decoration-color: #00af00\">0</span>][<span style=\"color: #00af00; text-decoration-color: #00af00\">0</span>]  │\n",
              "├─────────────────────┼───────────────────┼────────────┼───────────────────┤\n",
              "│ conv_static         │ (<span style=\"color: #00d7ff; text-decoration-color: #00d7ff\">None</span>, <span style=\"color: #00af00; text-decoration-color: #00af00\">1996</span>, <span style=\"color: #00af00; text-decoration-color: #00af00\">128</span>) │     <span style=\"color: #00af00; text-decoration-color: #00af00\">41,088</span> │ emb_static[<span style=\"color: #00af00; text-decoration-color: #00af00\">0</span>][<span style=\"color: #00af00; text-decoration-color: #00af00\">0</span>]  │\n",
              "│ (<span style=\"color: #0087ff; text-decoration-color: #0087ff\">Conv1D</span>)            │                   │            │                   │\n",
              "├─────────────────────┼───────────────────┼────────────┼───────────────────┤\n",
              "│ emb_dynamic         │ (<span style=\"color: #00d7ff; text-decoration-color: #00d7ff\">None</span>, <span style=\"color: #00af00; text-decoration-color: #00af00\">800</span>, <span style=\"color: #00af00; text-decoration-color: #00af00\">64</span>)   │     <span style=\"color: #00af00; text-decoration-color: #00af00\">15,680</span> │ dynamic_in[<span style=\"color: #00af00; text-decoration-color: #00af00\">0</span>][<span style=\"color: #00af00; text-decoration-color: #00af00\">0</span>]  │\n",
              "│ (<span style=\"color: #0087ff; text-decoration-color: #0087ff\">Embedding</span>)         │                   │            │                   │\n",
              "├─────────────────────┼───────────────────┼────────────┼───────────────────┤\n",
              "│ expand_mask         │ (<span style=\"color: #00d7ff; text-decoration-color: #00d7ff\">None</span>, <span style=\"color: #00af00; text-decoration-color: #00af00\">800</span>, <span style=\"color: #00af00; text-decoration-color: #00af00\">1</span>)    │          <span style=\"color: #00af00; text-decoration-color: #00af00\">0</span> │ make_mask[<span style=\"color: #00af00; text-decoration-color: #00af00\">0</span>][<span style=\"color: #00af00; text-decoration-color: #00af00\">0</span>]   │\n",
              "│ (<span style=\"color: #0087ff; text-decoration-color: #0087ff\">Lambda</span>)            │                   │            │                   │\n",
              "├─────────────────────┼───────────────────┼────────────┼───────────────────┤\n",
              "│ gmp_static          │ (<span style=\"color: #00d7ff; text-decoration-color: #00d7ff\">None</span>, <span style=\"color: #00af00; text-decoration-color: #00af00\">128</span>)       │          <span style=\"color: #00af00; text-decoration-color: #00af00\">0</span> │ conv_static[<span style=\"color: #00af00; text-decoration-color: #00af00\">0</span>][<span style=\"color: #00af00; text-decoration-color: #00af00\">0</span>] │\n",
              "│ (<span style=\"color: #0087ff; text-decoration-color: #0087ff\">GlobalMaxPooling1…</span> │                   │            │                   │\n",
              "├─────────────────────┼───────────────────┼────────────┼───────────────────┤\n",
              "│ apply_mask          │ (<span style=\"color: #00d7ff; text-decoration-color: #00d7ff\">None</span>, <span style=\"color: #00af00; text-decoration-color: #00af00\">800</span>, <span style=\"color: #00af00; text-decoration-color: #00af00\">64</span>)   │          <span style=\"color: #00af00; text-decoration-color: #00af00\">0</span> │ emb_dynamic[<span style=\"color: #00af00; text-decoration-color: #00af00\">0</span>][<span style=\"color: #00af00; text-decoration-color: #00af00\">0</span>… │\n",
              "│ (<span style=\"color: #0087ff; text-decoration-color: #0087ff\">Multiply</span>)          │                   │            │ expand_mask[<span style=\"color: #00af00; text-decoration-color: #00af00\">0</span>][<span style=\"color: #00af00; text-decoration-color: #00af00\">0</span>] │\n",
              "├─────────────────────┼───────────────────┼────────────┼───────────────────┤\n",
              "│ dense_static        │ (<span style=\"color: #00d7ff; text-decoration-color: #00d7ff\">None</span>, <span style=\"color: #00af00; text-decoration-color: #00af00\">128</span>)       │     <span style=\"color: #00af00; text-decoration-color: #00af00\">16,512</span> │ gmp_static[<span style=\"color: #00af00; text-decoration-color: #00af00\">0</span>][<span style=\"color: #00af00; text-decoration-color: #00af00\">0</span>]  │\n",
              "│ (<span style=\"color: #0087ff; text-decoration-color: #0087ff\">Dense</span>)             │                   │            │                   │\n",
              "├─────────────────────┼───────────────────┼────────────┼───────────────────┤\n",
              "│ bi_lstm             │ (<span style=\"color: #00d7ff; text-decoration-color: #00d7ff\">None</span>, <span style=\"color: #00af00; text-decoration-color: #00af00\">128</span>)       │     <span style=\"color: #00af00; text-decoration-color: #00af00\">66,048</span> │ apply_mask[<span style=\"color: #00af00; text-decoration-color: #00af00\">0</span>][<span style=\"color: #00af00; text-decoration-color: #00af00\">0</span>]  │\n",
              "│ (<span style=\"color: #0087ff; text-decoration-color: #0087ff\">Bidirectional</span>)     │                   │            │                   │\n",
              "├─────────────────────┼───────────────────┼────────────┼───────────────────┤\n",
              "│ drop_static         │ (<span style=\"color: #00d7ff; text-decoration-color: #00d7ff\">None</span>, <span style=\"color: #00af00; text-decoration-color: #00af00\">128</span>)       │          <span style=\"color: #00af00; text-decoration-color: #00af00\">0</span> │ dense_static[<span style=\"color: #00af00; text-decoration-color: #00af00\">0</span>][<span style=\"color: #00af00; text-decoration-color: #00af00\">…</span> │\n",
              "│ (<span style=\"color: #0087ff; text-decoration-color: #0087ff\">Dropout</span>)           │                   │            │                   │\n",
              "├─────────────────────┼───────────────────┼────────────┼───────────────────┤\n",
              "│ drop_dynamic        │ (<span style=\"color: #00d7ff; text-decoration-color: #00d7ff\">None</span>, <span style=\"color: #00af00; text-decoration-color: #00af00\">128</span>)       │          <span style=\"color: #00af00; text-decoration-color: #00af00\">0</span> │ bi_lstm[<span style=\"color: #00af00; text-decoration-color: #00af00\">0</span>][<span style=\"color: #00af00; text-decoration-color: #00af00\">0</span>]     │\n",
              "│ (<span style=\"color: #0087ff; text-decoration-color: #0087ff\">Dropout</span>)           │                   │            │                   │\n",
              "├─────────────────────┼───────────────────┼────────────┼───────────────────┤\n",
              "│ fuse (<span style=\"color: #0087ff; text-decoration-color: #0087ff\">Concatenate</span>)  │ (<span style=\"color: #00d7ff; text-decoration-color: #00d7ff\">None</span>, <span style=\"color: #00af00; text-decoration-color: #00af00\">256</span>)       │          <span style=\"color: #00af00; text-decoration-color: #00af00\">0</span> │ drop_static[<span style=\"color: #00af00; text-decoration-color: #00af00\">0</span>][<span style=\"color: #00af00; text-decoration-color: #00af00\">0</span>… │\n",
              "│                     │                   │            │ drop_dynamic[<span style=\"color: #00af00; text-decoration-color: #00af00\">0</span>][<span style=\"color: #00af00; text-decoration-color: #00af00\">…</span> │\n",
              "├─────────────────────┼───────────────────┼────────────┼───────────────────┤\n",
              "│ dense_fused_1       │ (<span style=\"color: #00d7ff; text-decoration-color: #00d7ff\">None</span>, <span style=\"color: #00af00; text-decoration-color: #00af00\">128</span>)       │     <span style=\"color: #00af00; text-decoration-color: #00af00\">32,896</span> │ fuse[<span style=\"color: #00af00; text-decoration-color: #00af00\">0</span>][<span style=\"color: #00af00; text-decoration-color: #00af00\">0</span>]        │\n",
              "│ (<span style=\"color: #0087ff; text-decoration-color: #0087ff\">Dense</span>)             │                   │            │                   │\n",
              "├─────────────────────┼───────────────────┼────────────┼───────────────────┤\n",
              "│ drop_fused_1        │ (<span style=\"color: #00d7ff; text-decoration-color: #00d7ff\">None</span>, <span style=\"color: #00af00; text-decoration-color: #00af00\">128</span>)       │          <span style=\"color: #00af00; text-decoration-color: #00af00\">0</span> │ dense_fused_1[<span style=\"color: #00af00; text-decoration-color: #00af00\">0</span>]… │\n",
              "│ (<span style=\"color: #0087ff; text-decoration-color: #0087ff\">Dropout</span>)           │                   │            │                   │\n",
              "├─────────────────────┼───────────────────┼────────────┼───────────────────┤\n",
              "│ dense_fused_2       │ (<span style=\"color: #00d7ff; text-decoration-color: #00d7ff\">None</span>, <span style=\"color: #00af00; text-decoration-color: #00af00\">64</span>)        │      <span style=\"color: #00af00; text-decoration-color: #00af00\">8,256</span> │ drop_fused_1[<span style=\"color: #00af00; text-decoration-color: #00af00\">0</span>][<span style=\"color: #00af00; text-decoration-color: #00af00\">…</span> │\n",
              "│ (<span style=\"color: #0087ff; text-decoration-color: #0087ff\">Dense</span>)             │                   │            │                   │\n",
              "├─────────────────────┼───────────────────┼────────────┼───────────────────┤\n",
              "│ drop_fused_2        │ (<span style=\"color: #00d7ff; text-decoration-color: #00d7ff\">None</span>, <span style=\"color: #00af00; text-decoration-color: #00af00\">64</span>)        │          <span style=\"color: #00af00; text-decoration-color: #00af00\">0</span> │ dense_fused_2[<span style=\"color: #00af00; text-decoration-color: #00af00\">0</span>]… │\n",
              "│ (<span style=\"color: #0087ff; text-decoration-color: #0087ff\">Dropout</span>)           │                   │            │                   │\n",
              "├─────────────────────┼───────────────────┼────────────┼───────────────────┤\n",
              "│ output (<span style=\"color: #0087ff; text-decoration-color: #0087ff\">Dense</span>)      │ (<span style=\"color: #00d7ff; text-decoration-color: #00d7ff\">None</span>, <span style=\"color: #00af00; text-decoration-color: #00af00\">3</span>)         │        <span style=\"color: #00af00; text-decoration-color: #00af00\">195</span> │ drop_fused_2[<span style=\"color: #00af00; text-decoration-color: #00af00\">0</span>][<span style=\"color: #00af00; text-decoration-color: #00af00\">…</span> │\n",
              "└─────────────────────┴───────────────────┴────────────┴───────────────────┘\n",
              "</pre>\n"
            ]
          },
          "metadata": {}
        },
        {
          "output_type": "display_data",
          "data": {
            "text/plain": [
              "\u001b[1m Total params: \u001b[0m\u001b[38;5;34m86,761,475\u001b[0m (330.97 MB)\n"
            ],
            "text/html": [
              "<pre style=\"white-space:pre;overflow-x:auto;line-height:normal;font-family:Menlo,'DejaVu Sans Mono',consolas,'Courier New',monospace\"><span style=\"font-weight: bold\"> Total params: </span><span style=\"color: #00af00; text-decoration-color: #00af00\">86,761,475</span> (330.97 MB)\n",
              "</pre>\n"
            ]
          },
          "metadata": {}
        },
        {
          "output_type": "display_data",
          "data": {
            "text/plain": [
              "\u001b[1m Trainable params: \u001b[0m\u001b[38;5;34m86,761,475\u001b[0m (330.97 MB)\n"
            ],
            "text/html": [
              "<pre style=\"white-space:pre;overflow-x:auto;line-height:normal;font-family:Menlo,'DejaVu Sans Mono',consolas,'Courier New',monospace\"><span style=\"font-weight: bold\"> Trainable params: </span><span style=\"color: #00af00; text-decoration-color: #00af00\">86,761,475</span> (330.97 MB)\n",
              "</pre>\n"
            ]
          },
          "metadata": {}
        },
        {
          "output_type": "display_data",
          "data": {
            "text/plain": [
              "\u001b[1m Non-trainable params: \u001b[0m\u001b[38;5;34m0\u001b[0m (0.00 B)\n"
            ],
            "text/html": [
              "<pre style=\"white-space:pre;overflow-x:auto;line-height:normal;font-family:Menlo,'DejaVu Sans Mono',consolas,'Courier New',monospace\"><span style=\"font-weight: bold\"> Non-trainable params: </span><span style=\"color: #00af00; text-decoration-color: #00af00\">0</span> (0.00 B)\n",
              "</pre>\n"
            ]
          },
          "metadata": {}
        }
      ]
    },
    {
      "cell_type": "markdown",
      "source": [
        "## **Step 2: Training Code**"
      ],
      "metadata": {
        "id": "GAOAcCwyTt-_"
      }
    },
    {
      "cell_type": "code",
      "source": [
        "from tensorflow.keras.callbacks import EarlyStopping, ReduceLROnPlateau\n",
        "import numpy as np\n",
        "\n",
        "# ----- Compute class weights (to balance benign / malware / ransomware) -----\n",
        "classes, counts = np.unique(y_tr, return_counts=True)\n",
        "total = np.sum(counts)\n",
        "class_weights = {int(cls): total / (len(classes) * int(count))\n",
        "                 for cls, count in zip(classes, counts)}\n",
        "\n",
        "print(\"Class weights:\", class_weights)\n",
        "\n",
        "# ----- Callbacks -----\n",
        "early_stop = EarlyStopping(\n",
        "    monitor=\"val_loss\",\n",
        "    patience=3,\n",
        "    restore_best_weights=True\n",
        ")\n",
        "\n",
        "lr_scheduler = ReduceLROnPlateau(\n",
        "    monitor=\"val_accuracy\",\n",
        "    factor=0.5,\n",
        "    patience=2,\n",
        "    min_lr=1e-6,\n",
        "    verbose=1\n",
        ")\n",
        "\n",
        "# ----- Train -----\n",
        "history = model.fit(\n",
        "    [Xt_tr, Xdy_tr], y_tr,\n",
        "    validation_data=([Xt_val, Xdy_val], y_val),\n",
        "    epochs=30,\n",
        "    batch_size=64,\n",
        "    class_weight=class_weights,\n",
        "    callbacks=[early_stop, lr_scheduler],\n",
        "    verbose=1\n",
        ")\n"
      ],
      "metadata": {
        "colab": {
          "base_uri": "https://localhost:8080/"
        },
        "id": "ILZ-23kPTv9e",
        "outputId": "a87cccb8-c217-4d8e-f2f2-374388d7de2f"
      },
      "execution_count": null,
      "outputs": [
        {
          "output_type": "stream",
          "name": "stdout",
          "text": [
            "Class weights: {0: np.float64(2.6619787811497657), 1: np.float64(0.5884053228621291), 2: np.float64(1.0812788133894569)}\n",
            "Epoch 1/30\n",
            "\u001b[1m169/169\u001b[0m \u001b[32m━━━━━━━━━━━━━━━━━━━━\u001b[0m\u001b[37m\u001b[0m \u001b[1m56s\u001b[0m 296ms/step - accuracy: 0.6876 - loss: 0.7139 - val_accuracy: 0.9728 - val_loss: 0.1321 - learning_rate: 0.0010\n",
            "Epoch 2/30\n",
            "\u001b[1m169/169\u001b[0m \u001b[32m━━━━━━━━━━━━━━━━━━━━\u001b[0m\u001b[37m\u001b[0m \u001b[1m25s\u001b[0m 149ms/step - accuracy: 0.9671 - loss: 0.1239 - val_accuracy: 0.9810 - val_loss: 0.1131 - learning_rate: 0.0010\n",
            "Epoch 3/30\n",
            "\u001b[1m169/169\u001b[0m \u001b[32m━━━━━━━━━━━━━━━━━━━━\u001b[0m\u001b[37m\u001b[0m \u001b[1m41s\u001b[0m 147ms/step - accuracy: 0.9836 - loss: 0.0819 - val_accuracy: 0.9857 - val_loss: 0.0897 - learning_rate: 0.0010\n",
            "Epoch 4/30\n",
            "\u001b[1m169/169\u001b[0m \u001b[32m━━━━━━━━━━━━━━━━━━━━\u001b[0m\u001b[37m\u001b[0m \u001b[1m41s\u001b[0m 145ms/step - accuracy: 0.9925 - loss: 0.0606 - val_accuracy: 0.9840 - val_loss: 0.1047 - learning_rate: 0.0010\n",
            "Epoch 5/30\n",
            "\u001b[1m169/169\u001b[0m \u001b[32m━━━━━━━━━━━━━━━━━━━━\u001b[0m\u001b[37m\u001b[0m \u001b[1m0s\u001b[0m 135ms/step - accuracy: 0.9956 - loss: 0.0500\n",
            "Epoch 5: ReduceLROnPlateau reducing learning rate to 0.0005000000237487257.\n",
            "\u001b[1m169/169\u001b[0m \u001b[32m━━━━━━━━━━━━━━━━━━━━\u001b[0m\u001b[37m\u001b[0m \u001b[1m43s\u001b[0m 156ms/step - accuracy: 0.9956 - loss: 0.0500 - val_accuracy: 0.9853 - val_loss: 0.0821 - learning_rate: 0.0010\n",
            "Epoch 6/30\n",
            "\u001b[1m169/169\u001b[0m \u001b[32m━━━━━━━━━━━━━━━━━━━━\u001b[0m\u001b[37m\u001b[0m \u001b[1m38s\u001b[0m 142ms/step - accuracy: 0.9956 - loss: 0.0451 - val_accuracy: 0.9853 - val_loss: 0.0871 - learning_rate: 5.0000e-04\n",
            "Epoch 7/30\n",
            "\u001b[1m169/169\u001b[0m \u001b[32m━━━━━━━━━━━━━━━━━━━━\u001b[0m\u001b[37m\u001b[0m \u001b[1m0s\u001b[0m 137ms/step - accuracy: 0.9971 - loss: 0.0399\n",
            "Epoch 7: ReduceLROnPlateau reducing learning rate to 0.0002500000118743628.\n",
            "\u001b[1m169/169\u001b[0m \u001b[32m━━━━━━━━━━━━━━━━━━━━\u001b[0m\u001b[37m\u001b[0m \u001b[1m25s\u001b[0m 145ms/step - accuracy: 0.9971 - loss: 0.0399 - val_accuracy: 0.9853 - val_loss: 0.0858 - learning_rate: 5.0000e-04\n",
            "Epoch 8/30\n",
            "\u001b[1m169/169\u001b[0m \u001b[32m━━━━━━━━━━━━━━━━━━━━\u001b[0m\u001b[37m\u001b[0m \u001b[1m41s\u001b[0m 143ms/step - accuracy: 0.9975 - loss: 0.0371 - val_accuracy: 0.9862 - val_loss: 0.0903 - learning_rate: 2.5000e-04\n"
          ]
        }
      ]
    },
    {
      "cell_type": "markdown",
      "source": [
        "## **Classification report & confusion matrix**"
      ],
      "metadata": {
        "id": "Z6TlkcB9Vofz"
      }
    },
    {
      "cell_type": "code",
      "source": [
        "import matplotlib.pyplot as plt\n",
        "import seaborn as sns\n",
        "from sklearn.metrics import classification_report, confusion_matrix\n",
        "\n",
        "# ---------------- 1) Evaluate on validation or test set ----------------\n",
        "val_loss, val_acc = model.evaluate([Xt_val, Xdy_val], y_val, verbose=1)\n",
        "print(f\"Validation Accuracy: {val_acc:.4f}\")\n",
        "print(f\"Validation Loss: {val_loss:.4f}\")\n",
        "\n",
        "# ---------------- 2) Predictions ----------------\n",
        "y_pred_probs = model.predict([Xt_val, Xdy_val])\n",
        "y_pred = y_pred_probs.argmax(axis=1)   # convert probabilities → class labels\n",
        "\n",
        "# ---------------- 3) Classification report ----------------\n",
        "print(\"\\nClassification Report:\")\n",
        "print(classification_report(y_val, y_pred, target_names=[\"Benign\", \"Malware\", \"Ransomware\"]))\n",
        "\n",
        "# ---------------- 4) Confusion matrix ----------------\n",
        "cm = confusion_matrix(y_val, y_pred)\n",
        "plt.figure(figsize=(6,4))\n",
        "sns.heatmap(cm, annot=True, fmt=\"d\", cmap=\"Blues\",\n",
        "            xticklabels=[\"Benign\", \"Malware\", \"Ransomware\"],\n",
        "            yticklabels=[\"Benign\", \"Malware\", \"Ransomware\"])\n",
        "plt.xlabel(\"Predicted\")\n",
        "plt.ylabel(\"True\")\n",
        "plt.title(\"Confusion Matrix\")\n",
        "plt.show()\n",
        "\n",
        "# ---------------- 5) Training curves ----------------\n",
        "plt.figure(figsize=(12,4))\n",
        "\n",
        "# Accuracy curve\n",
        "plt.subplot(1,2,1)\n",
        "plt.plot(history.history['accuracy'], label='Train Acc')\n",
        "plt.plot(history.history['val_accuracy'], label='Val Acc')\n",
        "plt.xlabel('Epochs')\n",
        "plt.ylabel('Accuracy')\n",
        "plt.title('Accuracy Curve')\n",
        "plt.legend()\n",
        "\n",
        "# Loss curve\n",
        "plt.subplot(1,2,2)\n",
        "plt.plot(history.history['loss'], label='Train Loss')\n",
        "plt.plot(history.history['val_loss'], label='Val Loss')\n",
        "plt.xlabel('Epochs')\n",
        "plt.ylabel('Loss')\n",
        "plt.title('Loss Curve')\n",
        "plt.legend()\n",
        "\n",
        "plt.show()\n"
      ],
      "metadata": {
        "colab": {
          "base_uri": "https://localhost:8080/",
          "height": 1000
        },
        "id": "xGGJUu-GVuTb",
        "outputId": "a99ff7fd-7a58-443d-9dc6-eb13b408ae51"
      },
      "execution_count": null,
      "outputs": [
        {
          "output_type": "stream",
          "name": "stdout",
          "text": [
            "\u001b[1m73/73\u001b[0m \u001b[32m━━━━━━━━━━━━━━━━━━━━\u001b[0m\u001b[37m\u001b[0m \u001b[1m4s\u001b[0m 53ms/step - accuracy: 0.9842 - loss: 0.0871\n",
            "Validation Accuracy: 0.9853\n",
            "Validation Loss: 0.0821\n"
          ]
        },
        {
          "output_type": "stream",
          "name": "stderr",
          "text": [
            "/usr/local/lib/python3.12/dist-packages/keras/src/layers/layer.py:965: UserWarning: Layer 'conv_static' (of type Conv1D) was passed an input with a mask attached to it. However, this layer does not support masking and will therefore destroy the mask information. Downstream layers will not see the mask.\n",
            "  warnings.warn(\n"
          ]
        },
        {
          "output_type": "stream",
          "name": "stdout",
          "text": [
            "\u001b[1m73/73\u001b[0m \u001b[32m━━━━━━━━━━━━━━━━━━━━\u001b[0m\u001b[37m\u001b[0m \u001b[1m2s\u001b[0m 25ms/step\n",
            "\n",
            "Classification Report:\n",
            "              precision    recall  f1-score   support\n",
            "\n",
            "      Benign       1.00      1.00      1.00       289\n",
            "     Malware       0.99      0.99      0.99      1310\n",
            "  Ransomware       0.98      0.98      0.98       713\n",
            "\n",
            "    accuracy                           0.99      2312\n",
            "   macro avg       0.99      0.99      0.99      2312\n",
            "weighted avg       0.99      0.99      0.99      2312\n",
            "\n"
          ]
        },
        {
          "output_type": "display_data",
          "data": {
            "text/plain": [
              "<Figure size 600x400 with 2 Axes>"
            ],
            "image/png": "[encoded data removed]"
          },
          "metadata": {}
        },
        {
          "output_type": "display_data",
          "data": {
            "text/plain": [
              "<Figure size 1200x400 with 2 Axes>"
            ],
            "image/png": "[encoded data removed]"
          },
          "metadata": {}
        }
      ]
    },
    {
      "cell_type": "markdown",
      "source": [
        "## **Test Set Evaluation Block**"
      ],
      "metadata": {
        "id": "lqKpgYPlWXna"
      }
    },
    {
      "cell_type": "markdown",
      "source": [
        "Split Train / Validation / Test"
      ],
      "metadata": {
        "id": "Z5CcGErSWu45"
      }
    },
    {
      "cell_type": "code",
      "source": [
        "print(\"Static features:\", Xt.shape if 'Xt' in locals() else \"Xt not found\")\n",
        "print(\"Dynamic features:\", Xdy.shape if 'Xdy' in locals() else \"Xdy not found\")\n",
        "print(\"Labels:\", y.shape if 'y' in locals() else \"y not found\")\n"
      ],
      "metadata": {
        "colab": {
          "base_uri": "https://localhost:8080/"
        },
        "id": "eT35xXy8Wv2Z",
        "outputId": "0c2efbab-581a-4575-8e1c-67d10158c33a"
      },
      "execution_count": null,
      "outputs": [
        {
          "output_type": "stream",
          "name": "stdout",
          "text": [
            "Static features: Xt not found\n",
            "Dynamic features: Xdy not found\n",
            "Labels: y not found\n"
          ]
        }
      ]
    },
    {
      "cell_type": "code",
      "source": [
        "print(\"Do we still have:\", \"Xt_tr\" in locals(), \"Xdy_tr\" in locals(), \"y_tr\" in locals())\n"
      ],
      "metadata": {
        "colab": {
          "base_uri": "https://localhost:8080/"
        },
        "id": "7Gg7Uae2XQ3Q",
        "outputId": "1b196172-d12d-48f8-9b97-6ff687a8538b"
      },
      "execution_count": null,
      "outputs": [
        {
          "output_type": "stream",
          "name": "stdout",
          "text": [
            "Do we still have: True True True\n"
          ]
        }
      ]
    },
    {
      "cell_type": "code",
      "source": [
        "import numpy as np\n",
        "from sklearn.model_selection import train_test_split\n",
        "\n",
        "# Recombine train + val\n",
        "Xt_full = np.vstack([Xt_tr, Xt_val])\n",
        "Xdy_full = np.vstack([Xdy_tr, Xdy_val])\n",
        "y_full = np.concatenate([y_tr, y_val])\n",
        "\n",
        "print(\"Full dataset:\", Xt_full.shape, Xdy_full.shape, y_full.shape)\n",
        "\n",
        "# New split: Train 70%, Val 15%, Test 15%\n",
        "Xt_train, Xt_temp, Xdy_train, Xdy_temp, y_train, y_temp = train_test_split(\n",
        "    Xt_full, Xdy_full, y_full,\n",
        "    test_size=0.3, random_state=42, stratify=y_full\n",
        ")\n",
        "\n",
        "Xt_val, Xt_test, Xdy_val, Xdy_test, y_val, y_test = train_test_split(\n",
        "    Xt_temp, Xdy_temp, y_temp,\n",
        "    test_size=0.5, random_state=42, stratify=y_temp\n",
        ")\n",
        "\n",
        "print(\"Train:\", Xt_train.shape, Xdy_train.shape, y_train.shape)\n",
        "print(\"Val:\", Xt_val.shape, Xdy_val.shape, y_val.shape)\n",
        "print(\"Test:\", Xt_test.shape, Xdy_test.shape, y_test.shape)\n"
      ],
      "metadata": {
        "colab": {
          "base_uri": "https://localhost:8080/"
        },
        "id": "bgoU9NqdXm4_",
        "outputId": "61e1235b-4728-4c5c-91bf-e386d715e953"
      },
      "execution_count": null,
      "outputs": [
        {
          "output_type": "stream",
          "name": "stdout",
          "text": [
            "Full dataset: (13101, 2000) (13101, 800) (13101,)\n",
            "Train: (9170, 2000) (9170, 800) (9170,)\n",
            "Val: (1965, 2000) (1965, 800) (1965,)\n",
            "Test: (1966, 2000) (1966, 800) (1966,)\n"
          ]
        }
      ]
    },
    {
      "cell_type": "code",
      "source": [
        "from sklearn.metrics import classification_report, confusion_matrix\n",
        "import matplotlib.pyplot as plt\n",
        "import seaborn as sns\n",
        "\n",
        "# ---------------- Evaluate on Test Set ----------------\n",
        "test_loss, test_acc = model.evaluate([Xt_test, Xdy_test], y_test, verbose=1)\n",
        "print(f\"\\nTest Accuracy: {test_acc:.4f}\")\n",
        "print(f\"Test Loss: {test_loss:.4f}\")\n",
        "\n",
        "# ---------------- Predictions ----------------\n",
        "y_test_pred_probs = model.predict([Xt_test, Xdy_test])\n",
        "y_test_pred = y_test_pred_probs.argmax(axis=1)\n",
        "\n",
        "# ---------------- Classification Report ----------------\n",
        "print(\"\\nTest Classification Report:\")\n",
        "print(classification_report(y_test, y_test_pred,\n",
        "                            target_names=[\"Benign\", \"Malware\", \"Ransomware\"]))\n",
        "\n",
        "# ---------------- Confusion Matrix ----------------\n",
        "cm_test = confusion_matrix(y_test, y_test_pred)\n",
        "plt.figure(figsize=(6,4))\n",
        "sns.heatmap(cm_test, annot=True, fmt=\"d\", cmap=\"Blues\",\n",
        "            xticklabels=[\"Benign\", \"Malware\", \"Ransomware\"],\n",
        "            yticklabels=[\"Benign\", \"Malware\", \"Ransomware\"])\n",
        "plt.xlabel(\"Predicted\")\n",
        "plt.ylabel(\"True\")\n",
        "plt.title(\"Confusion Matrix - Test Set\")\n",
        "plt.show()\n"
      ],
      "metadata": {
        "colab": {
          "base_uri": "https://localhost:8080/",
          "height": 705
        },
        "id": "IObBL7TEXxfP",
        "outputId": "0c05ed60-4987-4b09-e827-525708be73c1"
      },
      "execution_count": null,
      "outputs": [
        {
          "output_type": "stream",
          "name": "stdout",
          "text": [
            "\u001b[1m62/62\u001b[0m \u001b[32m━━━━━━━━━━━━━━━━━━━━\u001b[0m\u001b[37m\u001b[0m \u001b[1m2s\u001b[0m 33ms/step - accuracy: 0.9933 - loss: 0.0582\n",
            "\n",
            "Test Accuracy: 0.9954\n",
            "Test Loss: 0.0496\n",
            "\u001b[1m62/62\u001b[0m \u001b[32m━━━━━━━━━━━━━━━━━━━━\u001b[0m\u001b[37m\u001b[0m \u001b[1m1s\u001b[0m 22ms/step\n",
            "\n",
            "Test Classification Report:\n",
            "              precision    recall  f1-score   support\n",
            "\n",
            "      Benign       1.00      1.00      1.00       246\n",
            "     Malware       1.00      0.99      1.00      1114\n",
            "  Ransomware       0.99      1.00      0.99       606\n",
            "\n",
            "    accuracy                           1.00      1966\n",
            "   macro avg       1.00      1.00      1.00      1966\n",
            "weighted avg       1.00      1.00      1.00      1966\n",
            "\n"
          ]
        },
        {
          "output_type": "display_data",
          "data": {
            "text/plain": [
              "<Figure size 600x400 with 2 Axes>"
            ],
            "image/png": "[encoded data removed]"
          },
          "metadata": {}
        }
      ]
    },
    {
      "cell_type": "markdown",
      "source": [
        "## **Code for Performance + Assessment Metrics**"
      ],
      "metadata": {
        "id": "U-_j5EKBZfAN"
      }
    },
    {
      "cell_type": "code",
      "source": [
        "import matplotlib.pyplot as plt\n",
        "from sklearn.metrics import roc_curve, auc, roc_auc_score, confusion_matrix, classification_report, cohen_kappa_score, matthews_corrcoef, brier_score_loss\n",
        "from sklearn.preprocessing import label_binarize\n",
        "import seaborn as sns\n",
        "import numpy as np\n",
        "\n",
        "# -------------------- 1. Performance Evaluation Metrics --------------------\n",
        "\n",
        "# Predict probabilities and labels on test set\n",
        "y_pred_proba = model.predict([Xt_test, Xdy_test])\n",
        "y_pred = np.argmax(y_pred_proba, axis=1)\n",
        "\n",
        "# Classification report & confusion matrix\n",
        "print(classification_report(y_test, y_pred, target_names=[\"Benign\", \"Malware\", \"Ransomware\"]))\n",
        "\n",
        "cm = confusion_matrix(y_test, y_pred)\n",
        "plt.figure(figsize=(6,5))\n",
        "sns.heatmap(cm, annot=True, fmt=\"d\", cmap=\"Blues\",\n",
        "            xticklabels=[\"Benign\", \"Malware\", \"Ransomware\"],\n",
        "            yticklabels=[\"Benign\", \"Malware\", \"Ransomware\"])\n",
        "plt.title(\"Confusion Matrix - Test Set\")\n",
        "plt.xlabel(\"Predicted\")\n",
        "plt.ylabel(\"True\")\n",
        "plt.show()\n",
        "\n",
        "# -------------------- ROC Curve + AUC --------------------\n",
        "# Binarize labels for multi-class ROC\n",
        "y_test_bin = label_binarize(y_test, classes=[0,1,2])\n",
        "n_classes = y_test_bin.shape[1]\n",
        "\n",
        "fpr, tpr, roc_auc = {}, {}, {}\n",
        "for i in range(n_classes):\n",
        "    fpr[i], tpr[i], _ = roc_curve(y_test_bin[:, i], y_pred_proba[:, i])\n",
        "    roc_auc[i] = auc(fpr[i], tpr[i])\n",
        "\n",
        "# Plot ROC curves\n",
        "plt.figure(figsize=(7,6))\n",
        "colors = [\"blue\", \"green\", \"red\"]\n",
        "for i, label in enumerate([\"Benign\", \"Malware\", \"Ransomware\"]):\n",
        "    plt.plot(fpr[i], tpr[i], color=colors[i], lw=2,\n",
        "             label=f\"{label} (AUC = {roc_auc[i]:.2f})\")\n",
        "plt.plot([0,1],[0,1],\"k--\", lw=1)\n",
        "plt.xlim([0.0, 1.0])\n",
        "plt.ylim([0.0, 1.05])\n",
        "plt.xlabel(\"False Positive Rate\")\n",
        "plt.ylabel(\"True Positive Rate\")\n",
        "plt.title(\"ROC Curves - Test Set\")\n",
        "plt.legend(loc=\"lower right\")\n",
        "plt.show()\n",
        "\n",
        "# -------------------- 2. Model Assessment Metrics --------------------\n",
        "print(\"Cohen's Kappa:\", cohen_kappa_score(y_test, y_pred))\n",
        "print(\"Matthews Corrcoef (MCC):\", matthews_corrcoef(y_test, y_pred))\n",
        "print(\"Brier Score (macro):\", brier_score_loss(y_test_bin.ravel(), y_pred_proba.ravel()))\n"
      ],
      "metadata": {
        "colab": {
          "base_uri": "https://localhost:8080/",
          "height": 1000
        },
        "id": "HNPMfP8iZgq-",
        "outputId": "fc966f89-3ad8-4e29-8418-7f4d91b26fe3"
      },
      "execution_count": null,
      "outputs": [
        {
          "output_type": "stream",
          "name": "stdout",
          "text": [
            "\u001b[1m62/62\u001b[0m \u001b[32m━━━━━━━━━━━━━━━━━━━━\u001b[0m\u001b[37m\u001b[0m \u001b[1m2s\u001b[0m 32ms/step\n",
            "              precision    recall  f1-score   support\n",
            "\n",
            "      Benign       1.00      1.00      1.00       246\n",
            "     Malware       1.00      0.99      1.00      1114\n",
            "  Ransomware       0.99      1.00      0.99       606\n",
            "\n",
            "    accuracy                           1.00      1966\n",
            "   macro avg       1.00      1.00      1.00      1966\n",
            "weighted avg       1.00      1.00      1.00      1966\n",
            "\n"
          ]
        },
        {
          "output_type": "display_data",
          "data": {
            "text/plain": [
              "<Figure size 600x500 with 2 Axes>"
            ],
            "image/png": "[encoded data removed]"
          },
          "metadata": {}
        },
        {
          "output_type": "display_data",
          "data": {
            "text/plain": [
              "<Figure size 700x600 with 1 Axes>"
            ],
            "image/png": "[encoded data removed]"
          },
          "metadata": {}
        },
        {
          "output_type": "stream",
          "name": "stdout",
          "text": [
            "Cohen's Kappa: 0.9919497054503961\n",
            "Matthews Corrcoef (MCC): 0.9919540029081789\n",
            "Brier Score (macro): 0.0024638634800053963\n"
          ]
        }
      ]
    },
    {
      "cell_type": "markdown",
      "source": [
        "## **Final Evaluation Block**"
      ],
      "metadata": {
        "id": "cPcz0fIMaGOP"
      }
    },
    {
      "cell_type": "code",
      "source": [
        "# ---------------- Final Evaluation Block ----------------\n",
        "import numpy as np\n",
        "import matplotlib.pyplot as plt\n",
        "import seaborn as sns\n",
        "from sklearn.metrics import (\n",
        "    classification_report, confusion_matrix, roc_curve, auc,\n",
        "    cohen_kappa_score, matthews_corrcoef, brier_score_loss\n",
        ")\n",
        "from sklearn.preprocessing import label_binarize\n",
        "\n",
        "# ----- 1. Evaluate on Test Set -----\n",
        "test_loss, test_acc = model.evaluate([Xt_test, Xdy_test], y_test, verbose=1)\n",
        "print(f\"\\nTest Accuracy: {test_acc:.4f}\")\n",
        "print(f\"Test Loss: {test_loss:.4f}\\n\")\n",
        "\n",
        "# ----- 2. Predictions -----\n",
        "y_prob = model.predict([Xt_test, Xdy_test])  # softmax probabilities\n",
        "y_pred = np.argmax(y_prob, axis=1)\n",
        "\n",
        "# ----- 3. Classification Report -----\n",
        "print(\"Test Classification Report:\\n\")\n",
        "print(classification_report(y_test, y_pred, target_names=[\"Benign\", \"Malware\", \"Ransomware\"]))\n",
        "\n",
        "# ----- 4. Confusion Matrix -----\n",
        "cm = confusion_matrix(y_test, y_pred)\n",
        "plt.figure(figsize=(6,5))\n",
        "sns.heatmap(cm, annot=True, fmt=\"d\", cmap=\"Blues\",\n",
        "            xticklabels=[\"Benign\",\"Malware\",\"Ransomware\"],\n",
        "            yticklabels=[\"Benign\",\"Malware\",\"Ransomware\"])\n",
        "plt.xlabel(\"Predicted\")\n",
        "plt.ylabel(\"True\")\n",
        "plt.title(\"Confusion Matrix - Test Set\")\n",
        "plt.show()\n",
        "\n",
        "# ----- 5. ROC Curves -----\n",
        "n_classes = 3\n",
        "y_test_bin = label_binarize(y_test, classes=[0,1,2])  # one-hot for ROC\n",
        "plt.figure(figsize=(6,5))\n",
        "\n",
        "for i, label in enumerate([\"Benign\",\"Malware\",\"Ransomware\"]):\n",
        "    fpr, tpr, _ = roc_curve(y_test_bin[:, i], y_prob[:, i])\n",
        "    roc_auc = auc(fpr, tpr)\n",
        "    plt.plot(fpr, tpr, lw=2, label=f\"{label} (AUC = {roc_auc:.2f})\")\n",
        "\n",
        "plt.plot([0,1], [0,1], \"k--\")  # diagonal\n",
        "plt.xlim([0.0, 1.0])\n",
        "plt.ylim([0.0, 1.05])\n",
        "plt.xlabel(\"False Positive Rate\")\n",
        "plt.ylabel(\"True Positive Rate\")\n",
        "plt.title(\"ROC Curves - Test Set\")\n",
        "plt.legend(loc=\"lower right\")\n",
        "plt.show()\n",
        "\n",
        "# ----- 6. Extra Metrics -----\n",
        "kappa = cohen_kappa_score(y_test, y_pred)\n",
        "mcc = matthews_corrcoef(y_test, y_pred)\n",
        "brier = brier_score_loss(y_test_bin.ravel(), y_prob.ravel())\n",
        "\n",
        "print(f\"Cohen's Kappa: {kappa:.4f}\")\n",
        "print(f\"Matthews Correlation Coefficient (MCC): {mcc:.4f}\")\n",
        "print(f\"Brier Score (macro): {brier:.6f}\")\n"
      ],
      "metadata": {
        "colab": {
          "base_uri": "https://localhost:8080/",
          "height": 1000
        },
        "id": "NfCxeoXQaI8a",
        "outputId": "51e372d2-2f8a-43bf-aff6-f1af94a54110"
      },
      "execution_count": null,
      "outputs": [
        {
          "output_type": "stream",
          "name": "stdout",
          "text": [
            "\u001b[1m62/62\u001b[0m \u001b[32m━━━━━━━━━━━━━━━━━━━━\u001b[0m\u001b[37m\u001b[0m \u001b[1m2s\u001b[0m 30ms/step - accuracy: 0.9933 - loss: 0.0582\n",
            "\n",
            "Test Accuracy: 0.9954\n",
            "Test Loss: 0.0496\n",
            "\n",
            "\u001b[1m62/62\u001b[0m \u001b[32m━━━━━━━━━━━━━━━━━━━━\u001b[0m\u001b[37m\u001b[0m \u001b[1m2s\u001b[0m 26ms/step\n",
            "Test Classification Report:\n",
            "\n",
            "              precision    recall  f1-score   support\n",
            "\n",
            "      Benign       1.00      1.00      1.00       246\n",
            "     Malware       1.00      0.99      1.00      1114\n",
            "  Ransomware       0.99      1.00      0.99       606\n",
            "\n",
            "    accuracy                           1.00      1966\n",
            "   macro avg       1.00      1.00      1.00      1966\n",
            "weighted avg       1.00      1.00      1.00      1966\n",
            "\n"
          ]
        },
        {
          "output_type": "display_data",
          "data": {
            "text/plain": [
              "<Figure size 600x500 with 2 Axes>"
            ],
            "image/png": "[encoded data removed]"
          },
          "metadata": {}
        },
        {
          "output_type": "display_data",
          "data": {
            "text/plain": [
              "<Figure size 600x500 with 1 Axes>"
            ],
            "image/png": "[encoded data removed]"
          },
          "metadata": {}
        },
        {
          "output_type": "stream",
          "name": "stdout",
          "text": [
            "Cohen's Kappa: 0.9919\n",
            "Matthews Correlation Coefficient (MCC): 0.9920\n",
            "Brier Score (macro): 0.002464\n"
          ]
        }
      ]
    },
    {
      "cell_type": "markdown",
      "source": [
        "## **Stage 1 Trigger Training**"
      ],
      "metadata": {
        "id": "UwdRqZj8wL3G"
      }
    },
    {
      "cell_type": "markdown",
      "source": [
        "**Option 1 – Random Forest Trigger (classical ML, lightweight & fast)**"
      ],
      "metadata": {
        "id": "z_iQ8Bts2Iil"
      }
    },
    {
      "cell_type": "code",
      "source": [
        "import pandas as pd\n",
        "\n",
        "# Load your three datasets\n",
        "benign = pd.read_csv(\"benign.csv\")\n",
        "malware = pd.read_csv(\"malware.csv\")\n",
        "ransomware = pd.read_csv(\"ransomware.csv\")\n",
        "\n",
        "# Add labels\n",
        "benign[\"label\"] = 0\n",
        "malware[\"label\"] = 1\n",
        "ransomware[\"label\"] = 2\n",
        "\n",
        "# Combine into one dataset\n",
        "Xt = pd.concat([benign, malware, ransomware], axis=0).reset_index(drop=True)\n",
        "Xt.to_csv(\"static_features.csv\", index=False)\n",
        "\n",
        "print(\"Dataset created:\", Xt.shape)\n",
        "print(Xt.head())\n"
      ],
      "metadata": {
        "colab": {
          "base_uri": "https://localhost:8080/"
        },
        "id": "DAGKqGYmw8DU",
        "outputId": "422f6f7b-f3e1-43f7-b181-9ca1a4947e67"
      },
      "execution_count": null,
      "outputs": [
        {
          "output_type": "stream",
          "name": "stdout",
          "text": [
            "Dataset created: (15414, 32)\n",
            "  characteristics         compile_time dll_characteristics entry_point error  \\\n",
            "0           0x10e  2007-11-13 03:46:49               0x400      0x5f8e   NaN   \n",
            "1           0x102  2010-03-18 06:02:35              0x8540      0x2aee   NaN   \n",
            "2           0x10e  2002-01-04 23:44:14                 0x0      0x4fbe   NaN   \n",
            "3           0x10e  2004-08-18 12:52:22               0x400      0x2dee   NaN   \n",
            "4           0x102  2012-12-13 13:57:30              0x8540     0x4199e   NaN   \n",
            "\n",
            "  exports  file_size              filename  \\\n",
            "0      []    28672.0  Sourceforge_2200.exe   \n",
            "1      []    11600.0  Sourceforge_4489.exe   \n",
            "2      []    24576.0  Sourceforge_7609.exe   \n",
            "3      []    16384.0  Sourceforge_2616.exe   \n",
            "4      []   289280.0       CNET_257610.exe   \n",
            "\n",
            "                                            filepath image_base  ...  \\\n",
            "0  /home/christopherxu/Desktop/datasets-old/benig...   0x400000  ...   \n",
            "1  /home/christopherxu/Desktop/datasets-old/benig...   0x400000  ...   \n",
            "2  /home/christopherxu/Desktop/datasets-old/benig...   0x450000  ...   \n",
            "3  /home/christopherxu/Desktop/datasets-old/benig...   0x400000  ...   \n",
            "4  /home/christopherxu/Desktop/datasets-old/benig...   0x400000  ...   \n",
            "\n",
            "                                       sha1  \\\n",
            "0  a8399c3cf3d3afab478c821cddc42e44d49ab75e   \n",
            "1  8d0afa78893ae5f04e505db0d76d0d50cf34e7da   \n",
            "2  4b699ba3a3a22866bef1532a4c97b6ea69609547   \n",
            "3  8b72c3e12edf4c99663517f285b468d11eca0753   \n",
            "4  a9b9a74db53948da4e6b576fb4556001f4d3395f   \n",
            "\n",
            "                                              sha256  size_of_image  \\\n",
            "0  d21e03053958a2a3dc2dff527836d9567f1e1e3ed91f75...         0xa000   \n",
            "1  4c9f9b9de2ffeea9ccc6524d05ea5b78a14c1642cecc18...         0x8000   \n",
            "2  08dfd249f3beec89e50f0a07bc10d860bc4f179a93113a...         0xa000   \n",
            "3  6d55506149053784bda6c6ab5a1a2d563848b6c8d494d2...         0x8000   \n",
            "4  25a844b10898bd8ed8fff678ab37499949216b9c5fcfa8...        0x4c000   \n",
            "\n",
            "                                              ssdeep  \\\n",
            "0  384:3s8D8AhN+rp9rLvOWjVlP9KR6e1QZHDj+X3:8tAhN+...   \n",
            "1  192:LzoWn3xB1BfWKnWZQKPnEtObMacxc8hjeyveCf0pnv...   \n",
            "2  384:Xp2kkXeSQbIMCA1/YYlo5g/wp7HmuJcM/8YDi9xmAv...   \n",
            "3  48:6sP7Sr5lzud1kXief8nTsjcnVqq+1TF4XryLPs0SepX...   \n",
            "4  6144:VbzUSBluO88vXJqcg/YE/u9S2xw+4gr//65pmcC2s...   \n",
            "\n",
            "                                             strings  subsystem  label  \\\n",
            "0  [\"\\\"Copyright  2007 Victor Zverovich\", \"#Blob\"...        0x3      0   \n",
            "1  [\"#Blob\", \"#GUID\", \"#Strings\", \"$Microsoft (R)...        0x2      0   \n",
            "2  [\"#Blob\", \"#GUID\", \"#Strings\", \".cctor\", \".cto...        0x3      0   \n",
            "3  [\"#Blob\", \"#GUID\", \"#Strings\", \".cctor\", \".cto...        0x3      0   \n",
            "4  [\" cHRM\", \"#Blob\", \"#GUID\", \"#Strings\", \"$f360...        0x2      0   \n",
            "\n",
            "   instructions  api_calls  json  \n",
            "0           NaN        NaN   NaN  \n",
            "1           NaN        NaN   NaN  \n",
            "2           NaN        NaN   NaN  \n",
            "3           NaN        NaN   NaN  \n",
            "4           NaN        NaN   NaN  \n",
            "\n",
            "[5 rows x 32 columns]\n"
          ]
        }
      ]
    },
    {
      "cell_type": "markdown",
      "source": [
        "## **Step 4 – Select Features**"
      ],
      "metadata": {
        "id": "39d4sY9X3acm"
      }
    },
    {
      "cell_type": "code",
      "source": [
        "import pandas as pd\n",
        "\n",
        "# Load the combined dataset\n",
        "Xt = pd.read_csv(\"static_features.csv\")\n",
        "\n",
        "# Separate labels\n",
        "y = Xt.pop(\"label\")\n",
        "\n",
        "# Drop non-numeric columns (IDs, hashes, paths, filenames, etc.)\n",
        "Xt = Xt.drop(columns=[\n",
        "    \"filename\", \"filepath\", \"sha1\", \"sha256\", \"ssdeep\", \"exports\", \"imports\", \"api_calls\"\n",
        "], errors=\"ignore\")\n",
        "\n",
        "print(\"Final feature set:\", Xt.shape)\n",
        "print(Xt.head())\n"
      ],
      "metadata": {
        "colab": {
          "base_uri": "https://localhost:8080/"
        },
        "id": "WLckMCWk3dlb",
        "outputId": "3c8489c8-227e-4a35-e3e0-f1acdaf1fe8e"
      },
      "execution_count": null,
      "outputs": [
        {
          "output_type": "stream",
          "name": "stdout",
          "text": [
            "Final feature set: (15414, 23)\n",
            "  characteristics         compile_time dll_characteristics entry_point error  \\\n",
            "0           0x10e  2007-11-13 03:46:49               0x400      0x5f8e   NaN   \n",
            "1           0x102  2010-03-18 06:02:35              0x8540      0x2aee   NaN   \n",
            "2           0x10e  2002-01-04 23:44:14                 0x0      0x4fbe   NaN   \n",
            "3           0x10e  2004-08-18 12:52:22               0x400      0x2dee   NaN   \n",
            "4           0x102  2012-12-13 13:57:30              0x8540     0x4199e   NaN   \n",
            "\n",
            "   file_size image_base is_pe  linker_version machine_type  ... num_resources  \\\n",
            "0    28672.0   0x400000  True             8.0        0x14c  ...           1.0   \n",
            "1    11600.0   0x400000  True             8.0        0x14c  ...           1.0   \n",
            "2    24576.0   0x450000  True             6.0        0x14c  ...           1.0   \n",
            "3    16384.0   0x400000  True             6.0        0x14c  ...           4.0   \n",
            "4   289280.0   0x400000  True             8.0        0x14c  ...           7.0   \n",
            "\n",
            "   num_strings  number_of_sections  \\\n",
            "0        241.0                 3.0   \n",
            "1         60.0                 3.0   \n",
            "2        139.0                 3.0   \n",
            "3         68.0                 3.0   \n",
            "4       1574.0                 3.0   \n",
            "\n",
            "                                           resources  \\\n",
            "0  [{\"type\": \"RT_VERSION\", \"id\": 1, \"language\": \"...   \n",
            "1  [{\"type\": \"RT_VERSION\", \"id\": 1, \"language\": \"...   \n",
            "2  [{\"type\": \"RT_VERSION\", \"id\": 1, \"language\": \"...   \n",
            "3  [{\"type\": \"RT_ICON\", \"id\": 2, \"language\": \"LAN...   \n",
            "4  [{\"type\": \"RT_ICON\", \"id\": 2, \"language\": \"LAN...   \n",
            "\n",
            "                                            sections  size_of_image  \\\n",
            "0  [{\"name\": \".text\", \"virtual_size\": \"0x3f94\", \"...         0xa000   \n",
            "1  [{\"name\": \".text\", \"virtual_size\": \"0xaf4\", \"v...         0x8000   \n",
            "2  [{\"name\": \".text\", \"virtual_size\": \"0x2fc4\", \"...         0xa000   \n",
            "3  [{\"name\": \".text\", \"virtual_size\": \"0xdf4\", \"v...         0x8000   \n",
            "4  [{\"name\": \".text\", \"virtual_size\": \"0x3f9a4\", ...        0x4c000   \n",
            "\n",
            "                                             strings subsystem instructions  \\\n",
            "0  [\"\\\"Copyright  2007 Victor Zverovich\", \"#Blob\"...       0x3          NaN   \n",
            "1  [\"#Blob\", \"#GUID\", \"#Strings\", \"$Microsoft (R)...       0x2          NaN   \n",
            "2  [\"#Blob\", \"#GUID\", \"#Strings\", \".cctor\", \".cto...       0x3          NaN   \n",
            "3  [\"#Blob\", \"#GUID\", \"#Strings\", \".cctor\", \".cto...       0x3          NaN   \n",
            "4  [\" cHRM\", \"#Blob\", \"#GUID\", \"#Strings\", \"$f360...       0x2          NaN   \n",
            "\n",
            "  json  \n",
            "0  NaN  \n",
            "1  NaN  \n",
            "2  NaN  \n",
            "3  NaN  \n",
            "4  NaN  \n",
            "\n",
            "[5 rows x 23 columns]\n"
          ]
        }
      ]
    },
    {
      "cell_type": "markdown",
      "source": [
        "**Full Preprocessing Block**"
      ],
      "metadata": {
        "id": "GYYbhu9C4I18"
      }
    },
    {
      "cell_type": "code",
      "source": [
        "import pandas as pd\n",
        "\n",
        "# Load dataset\n",
        "Xt = pd.read_csv(\"static_features.csv\")\n",
        "\n",
        "# Separate labels\n",
        "y = Xt.pop(\"label\")\n",
        "\n",
        "# Drop clearly non-numeric / text-heavy columns\n",
        "drop_cols = [\"filename\", \"filepath\", \"sha1\", \"sha256\", \"ssdeep\", \"exports\", \"imports\", \"api_calls\"]\n",
        "Xt = Xt.drop(columns=drop_cols, errors=\"ignore\")\n",
        "\n",
        "# Convert hex-like strings to integers\n",
        "for col in Xt.columns:\n",
        "    if Xt[col].dtype == object:\n",
        "        Xt[col] = Xt[col].apply(lambda x: int(x, 16) if isinstance(x, str) and str(x).startswith(\"0x\") else x)\n",
        "\n",
        "# Convert compile_time to numeric (UNIX timestamp)\n",
        "if \"compile_time\" in Xt.columns:\n",
        "    Xt[\"compile_time\"] = pd.to_datetime(Xt[\"compile_time\"], errors=\"coerce\").astype(\"int64\") // 10**9\n",
        "\n",
        "# Ensure all remaining object columns are removed (drop leftover text)\n",
        "Xt = Xt.apply(pd.to_numeric, errors=\"coerce\")\n",
        "Xt = Xt.fillna(0)  # replace NaNs with 0\n",
        "\n",
        "print(\"Final feature set:\", Xt.shape)\n",
        "print(Xt.head())\n"
      ],
      "metadata": {
        "colab": {
          "base_uri": "https://localhost:8080/"
        },
        "id": "pM_VMc4e4QD0",
        "outputId": "4bd325c7-4408-4836-bd65-65bda7ae1955"
      },
      "execution_count": null,
      "outputs": [
        {
          "output_type": "stream",
          "name": "stdout",
          "text": [
            "Final feature set: (15414, 23)\n",
            "   characteristics  compile_time  dll_characteristics  entry_point  error  \\\n",
            "0            270.0    1194925609               1024.0      24462.0    0.0   \n",
            "1            258.0    1268892155              34112.0      10990.0    0.0   \n",
            "2            270.0    1010187854                  0.0      20414.0    0.0   \n",
            "3            270.0    1092833542               1024.0      11758.0    0.0   \n",
            "4            258.0    1355407050              34112.0     268702.0    0.0   \n",
            "\n",
            "   file_size  image_base  is_pe  linker_version  machine_type  ...  \\\n",
            "0    28672.0   4194304.0    1.0             8.0         332.0  ...   \n",
            "1    11600.0   4194304.0    1.0             8.0         332.0  ...   \n",
            "2    24576.0   4521984.0    1.0             6.0         332.0  ...   \n",
            "3    16384.0   4194304.0    1.0             6.0         332.0  ...   \n",
            "4   289280.0   4194304.0    1.0             8.0         332.0  ...   \n",
            "\n",
            "   num_resources  num_strings  number_of_sections  resources  sections  \\\n",
            "0            1.0        241.0                 3.0        0.0       0.0   \n",
            "1            1.0         60.0                 3.0        0.0       0.0   \n",
            "2            1.0        139.0                 3.0        0.0       0.0   \n",
            "3            4.0         68.0                 3.0        0.0       0.0   \n",
            "4            7.0       1574.0                 3.0        0.0       0.0   \n",
            "\n",
            "   size_of_image  strings  subsystem  instructions  json  \n",
            "0        40960.0      0.0        3.0           0.0   0.0  \n",
            "1        32768.0      0.0        2.0           0.0   0.0  \n",
            "2        40960.0      0.0        3.0           0.0   0.0  \n",
            "3        32768.0      0.0        3.0           0.0   0.0  \n",
            "4       311296.0      0.0        2.0           0.0   0.0  \n",
            "\n",
            "[5 rows x 23 columns]\n"
          ]
        }
      ]
    },
    {
      "cell_type": "markdown",
      "source": [
        "## **Stage 1 Trigger- RandomForest**"
      ],
      "metadata": {
        "id": "wWuCHjCt3yj1"
      }
    },
    {
      "cell_type": "code",
      "source": [
        "from sklearn.model_selection import train_test_split\n",
        "from sklearn.ensemble import RandomForestClassifier\n",
        "from sklearn.metrics import classification_report, confusion_matrix\n",
        "\n",
        "# Re-label: Benign=0, Malware=1, Ransomware=1 (merge both as \"malicious\")\n",
        "y_binary = y.copy()\n",
        "y_binary = y_binary.replace({1:1, 2:1})\n",
        "\n",
        "# Split data\n",
        "X_train, X_val, y_train, y_val = train_test_split(\n",
        "    Xt, y_binary, test_size=0.2, stratify=y_binary, random_state=42\n",
        ")\n",
        "\n",
        "# Random Forest Binary Trigger\n",
        "rf_trigger = RandomForestClassifier(\n",
        "    n_estimators=500,\n",
        "    class_weight=\"balanced\",\n",
        "    random_state=42,\n",
        "    n_jobs=-1\n",
        ")\n",
        "\n",
        "# Train\n",
        "rf_trigger.fit(X_train, y_train)\n",
        "\n",
        "# Evaluate\n",
        "y_pred = rf_trigger.predict(X_val)\n",
        "\n",
        "print(\"Confusion Matrix (Binary):\")\n",
        "print(confusion_matrix(y_val, y_pred))\n",
        "print(\"\\nClassification Report (Binary):\")\n",
        "print(classification_report(y_val, y_pred, digits=4))\n"
      ],
      "metadata": {
        "colab": {
          "base_uri": "https://localhost:8080/"
        },
        "id": "6wHRfGDh31s8",
        "outputId": "82e78132-0fe3-47d3-f1f2-ee28200e21ed"
      },
      "execution_count": null,
      "outputs": [
        {
          "output_type": "stream",
          "name": "stdout",
          "text": [
            "Confusion Matrix (Binary):\n",
            "[[ 385    1]\n",
            " [   0 2697]]\n",
            "\n",
            "Classification Report (Binary):\n",
            "              precision    recall  f1-score   support\n",
            "\n",
            "           0     1.0000    0.9974    0.9987       386\n",
            "           1     0.9996    1.0000    0.9998      2697\n",
            "\n",
            "    accuracy                         0.9997      3083\n",
            "   macro avg     0.9998    0.9987    0.9993      3083\n",
            "weighted avg     0.9997    0.9997    0.9997      3083\n",
            "\n"
          ]
        }
      ]
    },
    {
      "cell_type": "code",
      "source": [],
      "metadata": {
        "id": "8lm1hGnwd4VJ"
      },
      "execution_count": null,
      "outputs": []
    },
    {
      "cell_type": "code",
      "source": [],
      "metadata": {
        "id": "D_8CNiMyEp2W"
      },
      "execution_count": null,
      "outputs": []
    },
    {
      "cell_type": "markdown",
      "source": [
        "## **Connect Stage 1 → Stage 2**"
      ],
      "metadata": {
        "id": "2zqOLWeZ6zaI"
      }
    },
    {
      "cell_type": "code",
      "source": [
        "def malfusion_pipeline(file_features):\n",
        "    \"\"\"\n",
        "    file_features: 1 sample of static features (same format as Xt row)\n",
        "    \"\"\"\n",
        "    # Stage 1 Trigger\n",
        "    stage1_pred = rf_trigger.predict([file_features])[0]\n",
        "\n",
        "    if stage1_pred == 0:\n",
        "        return \"Benign\"  # Stop here\n",
        "    else:\n",
        "        # Stage 2 Fusion (CNN+BiLSTM you already trained)\n",
        "        stage2_pred = fusion_model.predict(file_features_dynamic)  # your dynamic API call sequence\n",
        "        return stage2_pred\n"
      ],
      "metadata": {
        "id": "sScn39Gp6714"
      },
      "execution_count": null,
      "outputs": []
    },
    {
      "cell_type": "markdown",
      "source": [
        "## **Stage 2 feature preparation**"
      ],
      "metadata": {
        "id": "VCzpD_a67WHP"
      }
    },
    {
      "cell_type": "code",
      "source": [
        "import numpy as np\n",
        "\n",
        "def malfusion_pipeline(static_features, dynamic_sequence):\n",
        "    \"\"\"\n",
        "    static_features: 1 sample of static features (same format as Xt row)\n",
        "    dynamic_sequence: API call/opcode sequence (preprocessed for fusion model)\n",
        "    \"\"\"\n",
        "    # -------- Stage 1: Trigger (Random Forest) --------\n",
        "    stage1_pred = rf_trigger.predict([static_features])[0]\n",
        "\n",
        "    if stage1_pred == 0:\n",
        "        return \"Benign\"   # Stop here (fast exit)\n",
        "\n",
        "    # -------- Stage 2: Fusion (CNN + BiLSTM) --------\n",
        "    # Add batch dimension for model input\n",
        "    dynamic_sequence = np.expand_dims(dynamic_sequence, axis=0)\n",
        "\n",
        "    stage2_pred = fusion_model.predict(dynamic_sequence)\n",
        "    stage2_class = np.argmax(stage2_pred, axis=1)[0]\n",
        "\n",
        "    if stage2_class == 1:\n",
        "        return \"Malware\"\n",
        "    elif stage2_class == 2:\n",
        "        return \"Ransomware\"\n",
        "    else:\n",
        "        return \"Benign\"   # safety fallback\n"
      ],
      "metadata": {
        "id": "Sq_Rn_Qy7YFv"
      },
      "execution_count": null,
      "outputs": []
    },
    {
      "cell_type": "code",
      "source": [
        "import os\n",
        "\n",
        "# List all files in the current directory\n",
        "for f in os.listdir():\n",
        "    print(f)\n"
      ],
      "metadata": {
        "colab": {
          "base_uri": "https://localhost:8080/"
        },
        "id": "xk2aG9jn82SE",
        "outputId": "a34597e8-fbf7-4ded-9125-850639ead4e8"
      },
      "execution_count": null,
      "outputs": [
        {
          "output_type": "stream",
          "name": "stdout",
          "text": [
            ".config\n",
            "static_features.csv\n",
            "benign.csv\n",
            "ransomware.csv\n",
            "malware.csv\n",
            "sample_data\n"
          ]
        }
      ]
    },
    {
      "cell_type": "code",
      "source": [
        "import json\n",
        "\n",
        "# Load one uploaded JSON file\n",
        "with open(\"report_360.json\", \"r\") as f:\n",
        "    data = json.load(f)\n",
        "\n",
        "# Show the top-level keys\n",
        "print(\"Top-level keys:\", data.keys())\n",
        "\n",
        "# Peek into behavior if it exists\n",
        "if \"behavior\" in data:\n",
        "    print(\"\\nBehavior keys:\", data[\"behavior\"].keys())\n",
        "\n",
        "    if \"apistats\" in data[\"behavior\"]:\n",
        "        # apistats usually maps PIDs → API calls\n",
        "        print(\"\\nSample from apistats:\")\n",
        "        first_key = list(data[\"behavior\"][\"apistats\"].keys())[0]\n",
        "        print(\"PID:\", first_key)\n",
        "        print(\"API calls:\", list(data[\"behavior\"][\"apistats\"][first_key].items())[:10])\n"
      ],
      "metadata": {
        "colab": {
          "base_uri": "https://localhost:8080/"
        },
        "id": "fyUysSJuAG7P",
        "outputId": "c5175d9d-81b0-4f95-e89c-1a05ff45b5f5"
      },
      "execution_count": null,
      "outputs": [
        {
          "output_type": "stream",
          "name": "stdout",
          "text": [
            "Top-level keys: dict_keys(['info', 'signatures', 'target', 'network', 'static', 'dropped', 'behavior', 'debug', 'strings', 'metadata'])\n",
            "\n",
            "Behavior keys: dict_keys(['generic', 'apistats', 'processes', 'processtree', 'summary'])\n",
            "\n",
            "Sample from apistats:\n",
            "PID: 508\n",
            "API calls: [('NtReadFile', 5232), ('CreateThread', 1), ('SetFilePointer', 8490), ('NtQueryDirectoryFile', 97), ('NtDelayExecution', 1), ('SetUnhandledExceptionFilter', 1), ('NtCreateFile', 5661), ('GetFileType', 2863), ('NtAllocateVirtualMemory', 3254), ('NtWriteFile', 110)]\n"
          ]
        }
      ]
    },
    {
      "cell_type": "markdown",
      "source": [
        "## **Extract API Calls From All JSONs**"
      ],
      "metadata": {
        "id": "a1Dnoi51AWPF"
      }
    },
    {
      "cell_type": "code",
      "source": [
        "import json\n",
        "import os\n",
        "import pandas as pd\n",
        "\n",
        "def extract_api_calls(json_file):\n",
        "    \"\"\"Extract API call sequence from one Cuckoo JSON report.\"\"\"\n",
        "    with open(json_file, \"r\") as f:\n",
        "        data = json.load(f)\n",
        "\n",
        "    api_sequence = []\n",
        "    if \"behavior\" in data and \"apistats\" in data[\"behavior\"]:\n",
        "        apistats = data[\"behavior\"][\"apistats\"]\n",
        "        for pid, calls in apistats.items():\n",
        "            for api_name, count in calls.items():\n",
        "                api_sequence.extend([api_name] * count)\n",
        "\n",
        "    return \" \".join(api_sequence)\n",
        "\n",
        "# Path to folder with JSONs\n",
        "inner_folder = os.path.join(\"ransomware_92_json\", \"ransomware 92 json\")\n",
        "\n",
        "rows = []\n",
        "for fname in os.listdir(inner_folder):\n",
        "    if fname.endswith(\".json\"):\n",
        "        path = os.path.join(inner_folder, fname)\n",
        "        seq = extract_api_calls(path)\n",
        "        rows.append({\"filename\": fname, \"api_calls\": seq})\n",
        "\n",
        "# Save to CSV\n",
        "df_api = pd.DataFrame(rows)\n",
        "df_api.to_csv(\"ransomware_api_calls.csv\", index=False)\n",
        "\n",
        "print(\"Saved ransomware_api_calls.csv with\", len(df_api), \"samples\")\n",
        "print(df_api.head())\n"
      ],
      "metadata": {
        "colab": {
          "base_uri": "https://localhost:8080/"
        },
        "id": "HLvBCzMYAXPt",
        "outputId": "ba89c1dd-26a5-4b53-bc45-6eb500336c6d"
      },
      "execution_count": null,
      "outputs": [
        {
          "output_type": "stream",
          "name": "stdout",
          "text": [
            "Saved ransomware_api_calls.csv with 92 samples\n",
            "          filename                                          api_calls\n",
            "0  report_423.json  LdrUnloadDll RegCloseKey RegCloseKey RegCloseK...\n",
            "1  report_438.json  NtReadFile NtReadFile NtReadFile NtReadFile Nt...\n",
            "2  report_376.json  LdrUnloadDll LdrUnloadDll LdrUnloadDll LdrUnlo...\n",
            "3  report_375.json  NtReadFile NtReadFile NtReadFile NtReadFile Nt...\n",
            "4  report_468.json  LdrUnloadDll RegCloseKey RegCloseKey RegCloseK...\n"
          ]
        }
      ]
    },
    {
      "cell_type": "markdown",
      "source": [
        "**Tokenize & Pad API Calls**"
      ],
      "metadata": {
        "id": "1IKoQjB_DiBz"
      }
    },
    {
      "cell_type": "code",
      "source": [
        "from tensorflow.keras.preprocessing.text import Tokenizer\n",
        "from tensorflow.keras.preprocessing.sequence import pad_sequences\n",
        "\n",
        "# Load the new ransomware API CSV\n",
        "import pandas as pd\n",
        "df_api = pd.read_csv(\"ransomware_api_calls.csv\")\n",
        "\n",
        "# Tokenizer for API calls\n",
        "tokenizer = Tokenizer(filters='', lower=False, split=' ')\n",
        "tokenizer.fit_on_texts(df_api[\"api_calls\"])\n",
        "\n",
        "# Convert to integer sequences\n",
        "sequences = tokenizer.texts_to_sequences(df_api[\"api_calls\"])\n",
        "\n",
        "# Pad sequences to same length\n",
        "max_len = 400   # adjust later if needed\n",
        "Xt_dynamic = pad_sequences(sequences, maxlen=max_len, padding=\"post\")\n",
        "\n",
        "print(\"Xt_dynamic shape:\", Xt_dynamic.shape)\n",
        "print(\"Example sequence:\", Xt_dynamic[0][:50])  # first 50 tokens of first sample\n"
      ],
      "metadata": {
        "colab": {
          "base_uri": "https://localhost:8080/"
        },
        "id": "4fdALi_XDjjA",
        "outputId": "deafe327-3598-46e5-d8ba-58f6ba116202"
      },
      "execution_count": null,
      "outputs": [
        {
          "output_type": "stream",
          "name": "stdout",
          "text": [
            "Xt_dynamic shape: (92, 400)\n",
            "Example sequence: [47 24 24 24 32 22 57 38 38 38 46  3  3  5  5  5  5  5  5  5  5  5  5 42\n",
            " 42 42 36 36 36 67  9 43  0  0  0  0  0  0  0  0  0  0  0  0  0  0  0  0\n",
            "  0  0]\n"
          ]
        }
      ]
    },
    {
      "cell_type": "code",
      "source": [
        "# Load static features\n",
        "df_static = pd.read_csv(\"static_features.csv\")\n",
        "\n",
        "# Load ransomware api_calls\n",
        "df_api = pd.read_csv(\"ransomware_api_calls.csv\")\n",
        "\n",
        "# Merge them on filename (keep only rows that exist in both)\n",
        "df_merged = df_static.merge(df_api, on=\"filename\", how=\"inner\")\n",
        "\n",
        "print(\"Merged dataset:\", df_merged.shape)\n",
        "print(df_merged.head())\n"
      ],
      "metadata": {
        "colab": {
          "base_uri": "https://localhost:8080/"
        },
        "id": "hiDoySYRDwo_",
        "outputId": "f2a6f4ff-f50c-40ec-8df1-e28d154b0264"
      },
      "execution_count": null,
      "outputs": [
        {
          "output_type": "stream",
          "name": "stdout",
          "text": [
            "Merged dataset: (0, 33)\n",
            "Empty DataFrame\n",
            "Columns: [characteristics, compile_time, dll_characteristics, entry_point, error, exports, file_size, filename, filepath, image_base, imports, is_pe, linker_version, machine_type, md5, num_exports, num_imports, num_resources, num_strings, number_of_sections, resources, sections, sha1, sha256, size_of_image, ssdeep, strings, subsystem, label, instructions, api_calls_x, json, api_calls_y]\n",
            "Index: []\n",
            "\n",
            "[0 rows x 33 columns]\n"
          ]
        }
      ]
    },
    {
      "cell_type": "code",
      "source": [
        "import pandas as pd\n",
        "\n",
        "df_static = pd.read_csv(\"static_features.csv\")\n",
        "print(df_static.columns[:20])   # show first 20 columns\n",
        "print(df_static[[\"filename\", \"md5\", \"sha1\", \"sha256\"]].head())\n"
      ],
      "metadata": {
        "colab": {
          "base_uri": "https://localhost:8080/"
        },
        "id": "XuyTBjIOEFnX",
        "outputId": "20d3d808-dc2d-4575-aec4-6e7ed2ee1b7c"
      },
      "execution_count": null,
      "outputs": [
        {
          "output_type": "stream",
          "name": "stdout",
          "text": [
            "Index(['characteristics', 'compile_time', 'dll_characteristics', 'entry_point',\n",
            "       'error', 'exports', 'file_size', 'filename', 'filepath', 'image_base',\n",
            "       'imports', 'is_pe', 'linker_version', 'machine_type', 'md5',\n",
            "       'num_exports', 'num_imports', 'num_resources', 'num_strings',\n",
            "       'number_of_sections'],\n",
            "      dtype='object')\n",
            "               filename                               md5  \\\n",
            "0  Sourceforge_2200.exe  e1bddf96c9931239f208e7ee8359cf4e   \n",
            "1  Sourceforge_4489.exe  02be6d33b1edbc61c79882d3f556bd8a   \n",
            "2  Sourceforge_7609.exe  1ab41a0b068c2dccca6a9e81d2e3733d   \n",
            "3  Sourceforge_2616.exe  e3b73ba72989e9c5d8ea7a89649546f9   \n",
            "4       CNET_257610.exe  3c50a665ca289ee13eb3647af87ce8e6   \n",
            "\n",
            "                                       sha1  \\\n",
            "0  a8399c3cf3d3afab478c821cddc42e44d49ab75e   \n",
            "1  8d0afa78893ae5f04e505db0d76d0d50cf34e7da   \n",
            "2  4b699ba3a3a22866bef1532a4c97b6ea69609547   \n",
            "3  8b72c3e12edf4c99663517f285b468d11eca0753   \n",
            "4  a9b9a74db53948da4e6b576fb4556001f4d3395f   \n",
            "\n",
            "                                              sha256  \n",
            "0  d21e03053958a2a3dc2dff527836d9567f1e1e3ed91f75...  \n",
            "1  4c9f9b9de2ffeea9ccc6524d05ea5b78a14c1642cecc18...  \n",
            "2  08dfd249f3beec89e50f0a07bc10d860bc4f179a93113a...  \n",
            "3  6d55506149053784bda6c6ab5a1a2d563848b6c8d494d2...  \n",
            "4  25a844b10898bd8ed8fff678ab37499949216b9c5fcfa8...  \n"
          ]
        }
      ]
    },
    {
      "cell_type": "markdown",
      "source": [
        "**Inspect One JSON for Hashes**"
      ],
      "metadata": {
        "id": "TDfcBAUwEaGu"
      }
    },
    {
      "cell_type": "code",
      "source": [
        "import json\n",
        "\n",
        "json_path = os.path.join(\"ransomware_92_json\", \"ransomware 92 json\", \"report_423.json\")\n",
        "\n",
        "with open(json_path, \"r\") as f:\n",
        "    data = json.load(f)\n",
        "\n",
        "# Print available top-level keys\n",
        "print(\"Top-level keys:\", data.keys())\n",
        "\n",
        "# Look inside 'target' and 'file' info (Cuckoo usually stores hashes here)\n",
        "if \"target\" in data:\n",
        "    print(\"\\nTarget keys:\", data[\"target\"].keys())\n",
        "    if \"file\" in data[\"target\"]:\n",
        "        print(\"\\nFile keys:\", data[\"target\"][\"file\"].keys())\n",
        "        print(\"File info:\", data[\"target\"][\"file\"])\n"
      ],
      "metadata": {
        "colab": {
          "base_uri": "https://localhost:8080/"
        },
        "id": "dLp0TiqjEbAu",
        "outputId": "3e4161aa-afc9-4022-d363-a903095fce40"
      },
      "execution_count": null,
      "outputs": [
        {
          "output_type": "stream",
          "name": "stdout",
          "text": [
            "Top-level keys: dict_keys(['info', 'signatures', 'target', 'network', 'static', 'behavior', 'debug', 'strings', 'metadata'])\n",
            "\n",
            "Target keys: dict_keys(['category', 'file'])\n",
            "\n",
            "File keys: dict_keys(['yara', 'sha1', 'name', 'type', 'sha256', 'urls', 'crc32', 'path', 'ssdeep', 'size', 'sha512', 'md5'])\n",
            "File info: {'yara': [], 'sha1': '1cb33ca72dfc41963c1e66e6dea77af66385cf79', 'name': '1acf86d8d8f885d9e0aa80cff7fedba3809069229b675fca0fcb77bc755161ed', 'type': 'PE32 executable (GUI) Intel 80386, for MS Windows, 5 sections', 'sha256': '1acf86d8d8f885d9e0aa80cff7fedba3809069229b675fca0fcb77bc755161ed', 'urls': [], 'crc32': 'F28D8065', 'path': '/media/reu/1b8e3f03-5641-4a07-ab18-eae8e8bd28f0/.cuckoo/storage/binaries/1acf86d8d8f885d9e0aa80cff7fedba3809069229b675fca0fcb77bc755161ed', 'ssdeep': None, 'size': 745472, 'sha512': 'a3308e58f7b515b6106b4fc15e0ae7d5a1ebd70e8d1e47b93d0530a9decedf0724cb98f8484f8d448b7679bb3a5c42dfcc9faeffd7b30c342fb7373e51d51c0a', 'md5': '31dfac1de3d95db296f99d2bf0e31294'}\n"
          ]
        }
      ]
    },
    {
      "cell_type": "markdown",
      "source": [
        "## **Extract API Calls + Hash**"
      ],
      "metadata": {
        "id": "J8USaV3WEnZG"
      }
    },
    {
      "cell_type": "code",
      "source": [
        "import json\n",
        "import os\n",
        "import pandas as pd\n",
        "\n",
        "def extract_api_calls_and_hash(json_file):\n",
        "    with open(json_file, \"r\") as f:\n",
        "        data = json.load(f)\n",
        "\n",
        "    api_sequence = []\n",
        "    if \"behavior\" in data and \"apistats\" in data[\"behavior\"]:\n",
        "        apistats = data[\"behavior\"][\"apistats\"]\n",
        "        for pid, calls in apistats.items():\n",
        "            for api_name, count in calls.items():\n",
        "                api_sequence.extend([api_name] * count)\n",
        "\n",
        "    # Get hashes\n",
        "    md5 = sha1 = sha256 = None\n",
        "    if \"target\" in data and \"file\" in data[\"target\"]:\n",
        "        fileinfo = data[\"target\"][\"file\"]\n",
        "        md5 = fileinfo.get(\"md5\")\n",
        "        sha1 = fileinfo.get(\"sha1\")\n",
        "        sha256 = fileinfo.get(\"sha256\")\n",
        "\n",
        "    return {\n",
        "        \"filename\": os.path.basename(json_file),\n",
        "        \"md5\": md5,\n",
        "        \"sha1\": sha1,\n",
        "        \"sha256\": sha256,\n",
        "        \"api_calls\": \" \".join(api_sequence)\n",
        "    }\n",
        "\n",
        "# Process all JSONs in the ransomware folder\n",
        "inner_folder = os.path.join(\"ransomware_92_json\", \"ransomware 92 json\")\n",
        "rows = []\n",
        "\n",
        "for fname in os.listdir(inner_folder):\n",
        "    if fname.endswith(\".json\"):\n",
        "        path = os.path.join(inner_folder, fname)\n",
        "        rows.append(extract_api_calls_and_hash(path))\n",
        "\n",
        "df_api = pd.DataFrame(rows)\n",
        "df_api.to_csv(\"ransomware_api_calls_with_hash.csv\", index=False)\n",
        "\n",
        "print(\"Saved ransomware_api_calls_with_hash.csv with\", len(df_api), \"samples\")\n",
        "print(df_api.head())\n"
      ],
      "metadata": {
        "colab": {
          "base_uri": "https://localhost:8080/"
        },
        "id": "U2FznVSEEqZl",
        "outputId": "3756f820-01d9-42a2-ba34-272cae83dde1"
      },
      "execution_count": null,
      "outputs": [
        {
          "output_type": "stream",
          "name": "stdout",
          "text": [
            "Saved ransomware_api_calls_with_hash.csv with 92 samples\n",
            "          filename                               md5  \\\n",
            "0  report_423.json  31dfac1de3d95db296f99d2bf0e31294   \n",
            "1  report_438.json  4bb3325d29ffa46c408c8d5213159199   \n",
            "2  report_376.json  0dcd0afc1c7bd55993a3c54725861384   \n",
            "3  report_375.json  cef906f87891aff1973adbdc0c5a80bc   \n",
            "4  report_468.json  3c57c6fb9e81f491632590a2b96b3774   \n",
            "\n",
            "                                       sha1  \\\n",
            "0  1cb33ca72dfc41963c1e66e6dea77af66385cf79   \n",
            "1  f0ddf076a3e6edb3152fa70daccfe8d98346d1db   \n",
            "2  a17d6796674978b8a002292f6be3d89709818b0c   \n",
            "3  dc9adf41a0edd43d7823f3cdbad8287d140a5994   \n",
            "4  af358028d0ba49544aebb9b359b2468b5d0a2154   \n",
            "\n",
            "                                              sha256  \\\n",
            "0  1acf86d8d8f885d9e0aa80cff7fedba3809069229b675f...   \n",
            "1  1b5d67c86721b35c1f95e728e7d8562bc68c6dc542cf67...   \n",
            "2  190805b6c316496fa034cd7980eff4fae756538fb1e32a...   \n",
            "3  18ff4ccbbfd687bcf39396e9c3f7d56c4ee7e9efda686c...   \n",
            "4  1c5d874c094db130895f7e29bf35563b49c7163a4b1f54...   \n",
            "\n",
            "                                           api_calls  \n",
            "0  LdrUnloadDll RegCloseKey RegCloseKey RegCloseK...  \n",
            "1  NtReadFile NtReadFile NtReadFile NtReadFile Nt...  \n",
            "2  LdrUnloadDll LdrUnloadDll LdrUnloadDll LdrUnlo...  \n",
            "3  NtReadFile NtReadFile NtReadFile NtReadFile Nt...  \n",
            "4  LdrUnloadDll RegCloseKey RegCloseKey RegCloseK...  \n"
          ]
        }
      ]
    },
    {
      "cell_type": "markdown",
      "source": [
        "**Merge Static + Dynamic on sha1**"
      ],
      "metadata": {
        "id": "_jC0AzTJE4IN"
      }
    },
    {
      "cell_type": "code",
      "source": [
        "import pandas as pd\n",
        "\n",
        "# Load static + dynamic\n",
        "df_static = pd.read_csv(\"static_features.csv\")\n",
        "df_api = pd.read_csv(\"ransomware_api_calls_with_hash.csv\")\n",
        "\n",
        "# Merge on sha1\n",
        "df_merged = df_static.merge(df_api, on=\"sha1\", how=\"inner\")\n",
        "\n",
        "print(\"Merged dataset:\", df_merged.shape)\n",
        "print(df_merged[[\"filename_x\", \"filename_y\", \"label\", \"sha1\"]].head())\n"
      ],
      "metadata": {
        "colab": {
          "base_uri": "https://localhost:8080/"
        },
        "id": "uwPnJhBCE5D9",
        "outputId": "be7e8f79-00d2-479f-ac60-af441d3f19c2"
      },
      "execution_count": null,
      "outputs": [
        {
          "output_type": "stream",
          "name": "stdout",
          "text": [
            "Merged dataset: (0, 36)\n",
            "Empty DataFrame\n",
            "Columns: [filename_x, filename_y, label, sha1]\n",
            "Index: []\n"
          ]
        }
      ]
    },
    {
      "cell_type": "markdown",
      "source": [
        "**save datasets permanently in Colab**"
      ],
      "metadata": {
        "id": "bjISKyzl99Pb"
      }
    },
    {
      "cell_type": "code",
      "source": [
        "from google.colab import drive\n",
        "drive.mount('/content/drive')\n"
      ],
      "metadata": {
        "colab": {
          "base_uri": "https://localhost:8080/"
        },
        "id": "O9JHxhfl98Ej",
        "outputId": "25a6f284-4f6a-4ad5-a179-080c9fdc3c7d"
      },
      "execution_count": 1,
      "outputs": [
        {
          "output_type": "stream",
          "name": "stdout",
          "text": [
            "Mounted at /content/drive\n"
          ]
        }
      ]
    },
    {
      "cell_type": "code",
      "source": [
        "import pandas as pd\n",
        "\n",
        "path = \"/content/drive/MyDrive/CyberFusionData/\"\n",
        "\n",
        "benign = pd.read_csv(path + \"benign.csv\")\n",
        "malware = pd.read_csv(path + \"malware.csv\")\n",
        "ransomware = pd.read_csv(path + \"ransomware.csv\")\n"
      ],
      "metadata": {
        "id": "x1kTAs6g-N6y"
      },
      "execution_count": 3,
      "outputs": []
    },
    {
      "cell_type": "markdown",
      "source": [
        "## **Confusion Matrix – Static Random Forest Trigger**"
      ],
      "metadata": {
        "id": "lWBzLQ0iDNec"
      }
    },
    {
      "cell_type": "code",
      "source": [
        "import matplotlib.pyplot as plt\n",
        "import numpy as np\n",
        "\n",
        "# Manually input the confusion matrix results\n",
        "cm = np.array([[385, 1],\n",
        "               [0, 2697]])\n",
        "\n",
        "classes = [\"Benign\", \"Malicious\"]\n",
        "\n",
        "fig, ax = plt.subplots(figsize=(6, 6))\n",
        "im = ax.imshow(cm, interpolation=\"nearest\", cmap=\"Blues\")\n",
        "\n",
        "# Add colorbar\n",
        "plt.colorbar(im, ax=ax)\n",
        "\n",
        "# Labels\n",
        "ax.set(\n",
        "    xticks=np.arange(len(classes)),\n",
        "    yticks=np.arange(len(classes)),\n",
        "    xticklabels=classes,\n",
        "    yticklabels=classes,\n",
        "    ylabel=\"True label\",\n",
        "    xlabel=\"Predicted label\",\n",
        "    title=\"Confusion Matrix: Static Random Forest Trigger\"\n",
        ")\n",
        "\n",
        "# Rotate tick labels\n",
        "plt.setp(ax.get_xticklabels(), rotation=45, ha=\"right\",\n",
        "         rotation_mode=\"anchor\")\n",
        "\n",
        "# Write numbers inside the boxes\n",
        "thresh = cm.max() / 2.\n",
        "for i in range(cm.shape[0]):\n",
        "    for j in range(cm.shape[1]):\n",
        "        ax.text(j, i, format(cm[i, j], \"d\"),\n",
        "                ha=\"center\", va=\"center\",\n",
        "                color=\"white\" if cm[i, j] > thresh else \"black\")\n",
        "\n",
        "plt.tight_layout()\n",
        "plt.show()\n"
      ],
      "metadata": {
        "colab": {
          "base_uri": "https://localhost:8080/",
          "height": 577
        },
        "id": "6087hzppDKWx",
        "outputId": "a41aac86-3bd9-491a-a73d-e0d08ba05967"
      },
      "execution_count": 7,
      "outputs": [
        {
          "output_type": "display_data",
          "data": {
            "text/plain": [
              "<Figure size 600x600 with 2 Axes>"
            ],
            "image/png": "[encoded data removed]"
          },
          "metadata": {}
        }
      ]
    }
  ]
}